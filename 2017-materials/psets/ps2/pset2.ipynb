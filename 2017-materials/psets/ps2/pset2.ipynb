{
 "cells": [
  {
   "cell_type": "markdown",
   "metadata": {},
   "source": [
    "Problem set 2: Viterbi Sequence Labeling\n",
    "=====================\n",
    "\n",
    "- This project focuses on sequence labeling with Hidden Markov models and implementing the Viterbi algorithm.\n",
    "- The target domain is part-of-speech tagging on the Universal Dependencies dataset"
   ]
  },
  {
   "cell_type": "code",
   "execution_count": 1,
   "metadata": {
    "collapsed": false
   },
   "outputs": [
    {
     "name": "stderr",
     "output_type": "stream",
     "text": [
      "/Users/sylviachan/anaconda/lib/python2.7/site-packages/matplotlib/font_manager.py:273: UserWarning: Matplotlib is building the font cache using fc-list. This may take a moment.\n",
      "  warnings.warn('Matplotlib is building the font cache using fc-list. This may take a moment.')\n"
     ]
    }
   ],
   "source": [
    "import numpy as np\n",
    "from collections import defaultdict, Counter\n",
    "\n",
    "from gtnlplib import preproc, viterbi, most_common, clf_base\n",
    "from gtnlplib import naive_bayes, scorer, constants, tagger_base, hmm\n",
    "\n",
    "import matplotlib.pyplot as plt\n",
    "# this enables you to create inline plots in the notebook \n",
    "%matplotlib inline"
   ]
  },
  {
   "cell_type": "markdown",
   "metadata": {},
   "source": [
    "# 1. Data Processing\n",
    "\n",
    "The test data will be released around 48 hours before the deadline.\n",
    "The part-of-speech tags are defined on the [universal dependencies website](http://universaldependencies.org/en/pos/index.html)."
   ]
  },
  {
   "cell_type": "code",
   "execution_count": 2,
   "metadata": {
    "collapsed": false
   },
   "outputs": [],
   "source": [
    "## Define the file names\n",
    "TRAIN_FILE = constants.TRAIN_FILE\n",
    "DEV_FILE = constants.DEV_FILE\n",
    "TEST_FILE = constants.TEST_FILE # You do not have this for now"
   ]
  },
  {
   "cell_type": "markdown",
   "metadata": {},
   "source": [
    "Here is demo code for using the function `conll_seq_generator()`"
   ]
  },
  {
   "cell_type": "code",
   "execution_count": 3,
   "metadata": {
    "collapsed": false
   },
   "outputs": [
    {
     "name": "stdout",
     "output_type": "stream",
     "text": [
      "set([u'ADV', u'NOUN', u'NUM', u'ADP', u'PRON', u'SCONJ', u'PROPN', u'DET', u'SYM', u'INTJ', u'PART', u'PUNCT', u'VERB', u'X', u'AUX', u'CONJ', u'ADJ'])\n"
     ]
    }
   ],
   "source": [
    "## Demo\n",
    "all_tags = set()\n",
    "for i,(words, tags) in enumerate(preproc.conll_seq_generator(TRAIN_FILE,max_insts=100000)):\n",
    "    for tag in tags:\n",
    "        all_tags.add(tag)\n",
    "print all_tags"
   ]
  },
  {
   "cell_type": "markdown",
   "metadata": {},
   "source": [
    "**Deliverable 1.1**: Counting words per tag. (* 0.5 points *)\n",
    "\n",
    "Implement `get_tag_word_counts` in `most_common.py`\n",
    "\n",
    "- **Input**: filename for data file, to be passed as argument to `preproc.conll_seq_generation`\n",
    "- **Output**: dict of counters, where keys are tags"
   ]
  },
  {
   "cell_type": "code",
   "execution_count": 4,
   "metadata": {
    "collapsed": false
   },
   "outputs": [],
   "source": [
    "reload(most_common);"
   ]
  },
  {
   "cell_type": "code",
   "execution_count": 5,
   "metadata": {
    "collapsed": false
   },
   "outputs": [
    {
     "name": "stdout",
     "output_type": "stream",
     "text": [
      "ADV [(u'so', 371), (u'just', 353), (u'when', 306)]\n",
      "NOUN [(u'time', 385), (u'people', 233), (u'way', 187)]\n",
      "NUM [(u'one', 332), (u'two', 157), (u'2', 129)]\n",
      "ADP [(u'of', 3424), (u'in', 2705), (u'to', 1783)]\n",
      "PRON [(u'I', 3121), (u'you', 1920), (u'it', 1468)]\n",
      "SCONJ [(u'that', 982), (u'if', 450), (u'as', 312)]\n",
      "PROPN [(u'Bush', 211), (u'US', 162), (u'Iraq', 119)]\n",
      "DET [(u'the', 8142), (u'a', 3588), (u'The', 884)]\n",
      "SYM [(u'$', 251), (u'-', 101), (u':)', 34)]\n",
      "INTJ [(u'Please', 141), (u'please', 111), (u'Yes', 34)]\n",
      "PART [(u'to', 3221), (u'not', 805), (u\"n't\", 655)]\n",
      "PUNCT [(u'.', 8645), (u',', 7021), (u'\"', 1352)]\n",
      "VERB [(u'is', 1738), (u'was', 808), (u'have', 748)]\n",
      "X [(u'etc', 39), (u'1', 29), (u'2', 29)]\n",
      "AUX [(u'will', 811), (u'would', 578), (u'can', 578)]\n",
      "CONJ [(u'and', 4843), (u'or', 697), (u'but', 602)]\n",
      "ADJ [(u'other', 268), (u'good', 251), (u'new', 195)]\n"
     ]
    }
   ],
   "source": [
    "# this block uses your code to find the most common words per tag\n",
    "counters = most_common.get_tag_word_counts(TRAIN_FILE)\n",
    "for tag,tag_ctr in counters.iteritems():\n",
    "    print tag,tag_ctr.most_common(3)"
   ]
  },
  {
   "cell_type": "markdown",
   "metadata": {},
   "source": [
    "# 2. Tagging as classification \n",
    "\n",
    "Now you will implement part-of-speech tagging via classification.\n",
    "\n",
    "Tagging quality is evaluated using evalTagger, which takes three arguments:\n",
    "- a tagger, which is a **function** taking a list of words and a tagset as arguments\n",
    "- an output filename\n",
    "- a test file\n",
    "\n",
    "You will want to use lambda expressions to create the first argument for this function, as shown below.\n",
    "Here's how it works. I provide a tagger that labels everything as a noun."
   ]
  },
  {
   "cell_type": "code",
   "execution_count": 6,
   "metadata": {
    "collapsed": false
   },
   "outputs": [],
   "source": [
    "reload(tagger_base);"
   ]
  },
  {
   "cell_type": "code",
   "execution_count": 7,
   "metadata": {
    "collapsed": false
   },
   "outputs": [
    {
     "name": "stdout",
     "output_type": "stream",
     "text": [
      "0.166891999364\n"
     ]
    }
   ],
   "source": [
    "# here is a tagger that just tags everything as a noun\n",
    "noun_tagger = lambda words, alltags : ['NOUN' for word in words]\n",
    "confusion = tagger_base.eval_tagger(noun_tagger,'nouns',all_tags=all_tags)\n",
    "print scorer.accuracy(confusion)"
   ]
  },
  {
   "cell_type": "markdown",
   "metadata": {},
   "source": [
    "** Deliverable 2.1 ** Classification-based tagging. (* 0.5 points *)\n",
    "\n",
    "Now do the same thing, but building your tagger *as a classifier.* To do this, implement `make_classifier_tagger` in `tagger_base.py`. \n",
    "\n",
    "- **Input**: defaultdict of weights\n",
    "- **Output**: function from (list of word tokens, list of all possible tags) --> tags for each word\n",
    "\n",
    "The function that you output should use your predict() function from pset 1. You are free to edit this function if you don't think you got it right in pset 1."
   ]
  },
  {
   "cell_type": "code",
   "execution_count": 8,
   "metadata": {
    "collapsed": false
   },
   "outputs": [
    {
     "data": {
      "text/plain": [
       "<module 'gtnlplib.clf_base' from 'gtnlplib/clf_base.pyc'>"
      ]
     },
     "execution_count": 8,
     "metadata": {},
     "output_type": "execute_result"
    }
   ],
   "source": [
    "reload(tagger_base);\n",
    "reload(clf_base)"
   ]
  },
  {
   "cell_type": "code",
   "execution_count": 9,
   "metadata": {
    "collapsed": false
   },
   "outputs": [
    {
     "name": "stdout",
     "output_type": "stream",
     "text": [
      "defaultdict(<type 'float'>, {('NOUN', '**OFFSET**'): 1.0})\n"
     ]
    }
   ],
   "source": [
    "classifier_noun_tagger = tagger_base.make_classifier_tagger(most_common.get_noun_weights())"
   ]
  },
  {
   "cell_type": "code",
   "execution_count": 10,
   "metadata": {
    "collapsed": false
   },
   "outputs": [
    {
     "name": "stdout",
     "output_type": "stream",
     "text": [
      "0.166891999364\n"
     ]
    }
   ],
   "source": [
    "confusion = tagger_base.eval_tagger(classifier_noun_tagger,'all-nouns.preds',all_tags=all_tags)\n",
    "print scorer.accuracy(confusion)"
   ]
  },
  {
   "cell_type": "markdown",
   "metadata": {},
   "source": [
    "**Deliverable 2.2** Tagging words by their most common tag. (* 0.5 points *)\n",
    "\n",
    "Now build a classifier tagger that tags each word with its most common tag in the training set. To do this, implement `get_most_common_word_weights` in `most_common.py`.\n",
    "\n",
    "Inputs:\n",
    "\n",
    "- training file\n",
    "\n",
    "Outputs:\n",
    "\n",
    "- defaultdict of weights\n",
    "\n",
    "Each word should get the tag that is most frequently associated with it in the training data. If the word does not appear in the training data, the weights should be set so that the tagger outputs 'NOUN'."
   ]
  },
  {
   "cell_type": "code",
   "execution_count": 11,
   "metadata": {
    "collapsed": false
   },
   "outputs": [
    {
     "data": {
      "text/plain": [
       "<module 'gtnlplib.clf_base' from 'gtnlplib/clf_base.pyc'>"
      ]
     },
     "execution_count": 11,
     "metadata": {},
     "output_type": "execute_result"
    }
   ],
   "source": [
    "reload(most_common);\n",
    "reload(tagger_base)\n",
    "reload(clf_base)"
   ]
  },
  {
   "cell_type": "code",
   "execution_count": 12,
   "metadata": {
    "collapsed": false
   },
   "outputs": [
    {
     "name": "stdout",
     "output_type": "stream",
     "text": [
      "defaultdict(<type 'float'>, {('NOUN', '**OFFSET**'): 1.0})\n",
      "defaultdict(<type 'float'>, {('NOUN', '**OFFSET**'): 1.0})\n",
      "0.0\n"
     ]
    }
   ],
   "source": [
    "theta_mc = most_common.get_most_common_word_weights(constants.TRAIN_FILE)\n",
    "print theta_mc[\"They\"]\n",
    "\n"
   ]
  },
  {
   "cell_type": "code",
   "execution_count": 13,
   "metadata": {
    "collapsed": false
   },
   "outputs": [
    {
     "name": "stdout",
     "output_type": "stream",
     "text": [
      "ADV :  0.0\n",
      "NOUN :  20\n",
      "NUM :  0.0\n",
      "ADP :  0.0\n",
      "PRON :  0.0\n",
      "SCONJ :  0.0\n",
      "PROPN :  0.0\n",
      "DET :  0.0\n",
      "SYM :  0.0\n",
      "INTJ :  0.0\n",
      "PART :  0.0\n",
      "PUNCT :  0.0\n",
      "VERB :  0.0\n",
      "X :  0.0\n",
      "AUX :  0.0\n",
      "CONJ :  0.0\n",
      "ADJ :  3\n"
     ]
    }
   ],
   "source": [
    "for x in all_tags:\n",
    "    print x, \": \", theta_mc[x,\"fish\"]\n",
    "#     print x"
   ]
  },
  {
   "cell_type": "code",
   "execution_count": 14,
   "metadata": {
    "collapsed": false
   },
   "outputs": [
    {
     "name": "stdout",
     "output_type": "stream",
     "text": [
      "<function classify at 0x10bbf6aa0>\n"
     ]
    }
   ],
   "source": [
    "tagger_mc = tagger_base.make_classifier_tagger(theta_mc)\n",
    "print tagger_mc"
   ]
  },
  {
   "cell_type": "code",
   "execution_count": 15,
   "metadata": {
    "collapsed": false
   },
   "outputs": [
    {
     "name": "stdout",
     "output_type": "stream",
     "text": [
      "[u'PRON', u'AUX', u'AUX', u'NOUN']\n"
     ]
    }
   ],
   "source": [
    "tags = tagger_mc(['They','can','can','fish'],all_tags)\n",
    "# print all_tags\n",
    "print tags"
   ]
  },
  {
   "cell_type": "code",
   "execution_count": 16,
   "metadata": {
    "collapsed": false
   },
   "outputs": [
    {
     "name": "stdout",
     "output_type": "stream",
     "text": [
      "[u'DET', u'ADJ', u'NOUN', u'DET', u'NOUN', u'PUNCT']\n"
     ]
    }
   ],
   "source": [
    "tags = tagger_mc(['The','old','man','the','boat','.'],all_tags)\n",
    "print tags"
   ]
  },
  {
   "cell_type": "markdown",
   "metadata": {},
   "source": [
    "Now let's run your tagger on the dev data."
   ]
  },
  {
   "cell_type": "code",
   "execution_count": 17,
   "metadata": {
    "collapsed": false
   },
   "outputs": [
    {
     "name": "stdout",
     "output_type": "stream",
     "text": [
      "0.848377604581\n"
     ]
    }
   ],
   "source": [
    "confusion = tagger_base.eval_tagger(tagger_mc,'most-common.preds',all_tags=all_tags)\n",
    "print scorer.accuracy(confusion)"
   ]
  },
  {
   "cell_type": "markdown",
   "metadata": {},
   "source": [
    "**Deliverable 2.3** Naive Bayes as a tagger. (* 0.5 points *)\n",
    "\n",
    "Now use a Naive Bayes approach to setting the weights for the classifier tagger. For this, you can copy in your ```naive_bayes.py``` from pset1. If you don't think you got it right, you are free to change it now. "
   ]
  },
  {
   "cell_type": "code",
   "execution_count": 18,
   "metadata": {
    "collapsed": false
   },
   "outputs": [
    {
     "name": "stdout",
     "output_type": "stream",
     "text": [
      "ADJ ADP ADV AUX CONJ DET INTJ NOUN NUM PART PRON PROPN PUNCT SCONJ SYM VERB X\n"
     ]
    }
   ],
   "source": [
    "sorted_tags = sorted(counters.keys())\n",
    "print ' '.join(sorted_tags)"
   ]
  },
  {
   "cell_type": "code",
   "execution_count": 19,
   "metadata": {
    "collapsed": true
   },
   "outputs": [],
   "source": [
    "reload(naive_bayes);"
   ]
  },
  {
   "cell_type": "raw",
   "metadata": {},
   "source": []
  },
  {
   "cell_type": "code",
   "execution_count": 20,
   "metadata": {
    "collapsed": false
   },
   "outputs": [],
   "source": [
    "nb_weights = naive_bayes.estimate_nb([counters[tag] for tag in sorted_tags],\n",
    "                                     sorted_tags,\n",
    "                                     .01)"
   ]
  },
  {
   "cell_type": "markdown",
   "metadata": {},
   "source": [
    "This gives weights for each tag-word pair that represent $\\log P(word \\mid tag)$"
   ]
  },
  {
   "cell_type": "code",
   "execution_count": 21,
   "metadata": {
    "collapsed": false
   },
   "outputs": [
    {
     "name": "stdout",
     "output_type": "stream",
     "text": [
      "-5.38657494998 -3.92169758048\n",
      "-3.11635765265 -4.29498560641 -14.4453722986\n",
      "-14.4453722986 -15.0676307485 -1.01587097152\n"
     ]
    }
   ],
   "source": [
    "print nb_weights[('ADJ','bad')], nb_weights[(u'ADJ',u'good')]\n",
    "print nb_weights[(u'PRON',u'they')], nb_weights[(u'PRON',u'They')], nb_weights[(u'PRON',u'good')]\n",
    "print nb_weights[(u'PRON',u'.')], nb_weights[(u'NOUN',u'.')], nb_weights[(u'PUNCT',u'.')]"
   ]
  },
  {
   "cell_type": "markdown",
   "metadata": {},
   "source": [
    "These weights should correspond to probabilities that sum to one for each tag."
   ]
  },
  {
   "cell_type": "code",
   "execution_count": 22,
   "metadata": {
    "collapsed": true
   },
   "outputs": [],
   "source": [
    "vocab = set([word for tag,word in nb_weights.keys() if word is not constants.OFFSET])"
   ]
  },
  {
   "cell_type": "code",
   "execution_count": 23,
   "metadata": {
    "collapsed": false
   },
   "outputs": [
    {
     "name": "stdout",
     "output_type": "stream",
     "text": [
      "1.0\n",
      "1.0\n",
      "1.0\n"
     ]
    }
   ],
   "source": [
    "print sum(np.exp(nb_weights[('ADJ',word)]) for word in vocab)\n",
    "print sum(np.exp(nb_weights[('DET',word)]) for word in vocab)\n",
    "print sum(np.exp(nb_weights[('PUNCT',word)]) for word in vocab)"
   ]
  },
  {
   "cell_type": "markdown",
   "metadata": {},
   "source": [
    "We have zero weights for OOV terms -- more on this later."
   ]
  },
  {
   "cell_type": "code",
   "execution_count": 24,
   "metadata": {
    "collapsed": false
   },
   "outputs": [
    {
     "name": "stdout",
     "output_type": "stream",
     "text": [
      "0.0\n"
     ]
    }
   ],
   "source": [
    "print nb_weights[('ADJ','baaaaaaaaad')]"
   ]
  },
  {
   "cell_type": "markdown",
   "metadata": {},
   "source": [
    "As constructed here, the Naive Bayes tagger also does not correctly estimate weights for the offset, $\\log P(tag)$"
   ]
  },
  {
   "cell_type": "code",
   "execution_count": 25,
   "metadata": {
    "collapsed": false
   },
   "outputs": [
    {
     "name": "stdout",
     "output_type": "stream",
     "text": [
      "-2.83321334406\n",
      "-2.83321334406\n",
      "-2.83321334406\n"
     ]
    }
   ],
   "source": [
    "print nb_weights[('VERB'),constants.OFFSET]\n",
    "print nb_weights[('ADV'),constants.OFFSET]\n",
    "print nb_weights[('PRON'),constants.OFFSET]"
   ]
  },
  {
   "cell_type": "markdown",
   "metadata": {},
   "source": [
    "As a result, the accuracy is not as good as the most-common-tag tagger from above."
   ]
  },
  {
   "cell_type": "code",
   "execution_count": 26,
   "metadata": {
    "collapsed": false
   },
   "outputs": [
    {
     "name": "stdout",
     "output_type": "stream",
     "text": [
      "0.807181485605\n"
     ]
    }
   ],
   "source": [
    "confusion = tagger_base.eval_tagger(tagger_base.make_classifier_tagger(nb_weights),'nb-simple.preds')\n",
    "dev_acc = scorer.accuracy(confusion)\n",
    "print dev_acc"
   ]
  },
  {
   "cell_type": "markdown",
   "metadata": {},
   "source": [
    "**Deliverable 2.4** Fixing the Naive Bayes tagger (* 0.5 points *)\n",
    "\n",
    "Implement ```naive_bayes.estimate_nb_tagger```, which should take two arguments:\n",
    "\n",
    "- A list of word counters for each tag\n",
    "- A smoothing value\n",
    "\n",
    "It should return weights so that \n",
    "\n",
    "- $\\theta[(tag,word)] = \\log P(word \\mid tag)$. If your naive_bayes is correct, it already does this.\n",
    "- $\\theta[(tag,offset)] = \\log P(tag)$. You will need to add some code to make this happen.\n",
    "\n",
    "All probabilities should be smoothed relative frequency estimates. \n",
    "\n",
    "Your implementation should call ```naive_bayes.estimate_nb```."
   ]
  },
  {
   "cell_type": "code",
   "execution_count": 27,
   "metadata": {
    "collapsed": false
   },
   "outputs": [],
   "source": [
    "reload(naive_bayes);\n",
    "reload(clf_base);\n",
    "reload(tagger_base);\n"
   ]
  },
  {
   "cell_type": "raw",
   "metadata": {},
   "source": []
  },
  {
   "cell_type": "code",
   "execution_count": null,
   "metadata": {
    "collapsed": false
   },
   "outputs": [],
   "source": []
  },
  {
   "cell_type": "code",
   "execution_count": 28,
   "metadata": {
    "collapsed": false
   },
   "outputs": [
    {
     "name": "stdout",
     "output_type": "stream",
     "text": [
      "defaultdict(<function <lambda> at 0x10bbf6050>, {u'ADV': Counter({u'so': 371, u'just': 353, u'when': 306, u'very': 298, u'also': 282, u'only': 203, u'even': 202, u'there': 202, u'now': 195, u'then': 188, u'as': 183, u'how': 179, u'back': 171, u'well': 155, u'really': 141, u'still': 138, u'not': 137, u'more': 135, u'here': 132, u'never': 129, u'out': 115, u'too': 112, u'again': 112, u'in': 105, u'always': 97, u'where': 95, u'all': 90, u'So': 90, u'already': 86, u'When': 84, u'most': 84, u'much': 84, u'at': 84, u'about': 83, u'ever': 78, u'away': 68, u'How': 68, u'up': 62, u'actually': 61, u'probably': 59, u'far': 59, u'least': 57, u'Also': 56, u'around': 54, u'right': 52, u'soon': 50, u'first': 50, u'on': 50, u'later': 50, u'However': 49, u'long': 48, u'down': 48, u'why': 47, u'pretty': 47, u'over': 46, u'highly': 45, u'together': 44, u'ago': 44, u'once': 44, u'however': 41, u'almost': 41, u'Here': 40, u'below': 40, u'Now': 38, u'yet': 38, u'that': 37, u'Then': 37, u'especially': 37, u'forward': 35, u'Just': 33, u'often': 33, u'extremely': 32, u'quite': 31, u'though': 31, u'definitely': 31, u'home': 31, u'instead': 30, u'before': 30, u'recently': 30, u'usually': 29, u'currently': 29, u'of': 29, u'quickly': 28, u'maybe': 26, u'Even': 26, u'simply': 26, u'better': 25, u'earlier': 24, u'finally': 23, u'enough': 23, u'no': 23, u'less': 22, u'nearly': 22, u'Not': 21, u'longer': 21, u'further': 20, u'course': 20, u'hard': 20, u'completely': 20, u'sometimes': 20, u'twice': 20, u'perhaps': 20, u'fully': 20, u'certainly': 19, u'rather': 19, u'exactly': 19, u'outside': 19, u'immediately': 19, u'likely': 18, u'along': 18, u'clearly': 18, u'properly': 18, u'mostly': 17, u'Maybe': 17, u'alone': 16, u'Very': 16, u'absolutely': 16, u'anywhere': 15, u'somewhere': 15, u'Where': 15, u'else': 15, u'off': 15, u'easily': 15, u'above': 14, u'ahead': 14, u'Why': 14, u'best': 14, u'early': 14, u'way': 14, u'inside': 14, u'seriously': 13, u'anyway': 13, u'personally': 13, u'obviously': 13, u'NEVER': 12, u'whenever': 12, u'directly': 12, u'particularly': 12, u'Unfortunately': 12, u'fairly': 12, u'First': 12, u'basically': 11, u'somewhat': 11, u'apparently': 11, u'VERY': 11, u'Finally': 11, u'late': 11, u'eventually': 11, u'possibly': 11, u'either': 11, u'entirely': 10, u'perfectly': 10, u'kind': 10, u'truly': 10, u'closely': 10, u'both': 10, u'barely': 10, u'otherwise': 10, u'totally': 10, u'slightly': 10, u'constantly': 10, u'reportedly': 10, u'As': 10, u'merely': 9, u'therefore': 9, u'originally': 9, u'through': 9, u'newly': 9, u'forever': 9, u'FYI': 9, u'ASAP': 9, u'Never': 9, u'super': 8, u'mainly': 8, u'largely': 8, u'thus': 8, u'any': 8, u'Again': 8, u'abroad': 8, u'greatly': 8, u'elsewhere': 8, u'repeatedly': 8, u'normally': 8, u'Actually': 7, u'Overall': 7, u'next': 7, u'SO': 7, u'EVER': 7, u'More': 7, u'after': 7, u'carefully': 7, u'Anyway': 7, u'correctly': 7, u'by': 7, u'Otherwise': 7, u'specifically': 7, u'somehow': 7, u'Perhaps': 7, u'sometime': 7, u'At': 7, u'to': 6, u'WHEN': 6, u'approximately': 6, u'deeply': 6, u'Too': 6, u'rarely': 6, u'significantly': 6, u'forth': 6, u'Sometimes': 6, u'little': 6, u'necessarily': 6, u'second': 6, u'relatively': 6, u'honestly': 6, u'HERE': 6, u'typically': 6, u'regularly': 6, u'close': 6, u'hopefully': 6, u'initially': 6, u'Recently': 6, u'publicly': 6, u'anymore': 6, u'virtually': 6, u'Of': 6, u'incredibly': 6, u'Highly': 6, u'literally': 6, u'previously': 6, u'accordingly': 6, u'everywhere': 5, u'ONLY': 5, u'quick': 5, u'simultaneously': 5, u'Absolutely': 5, u'this': 5, u'aboard': 5, u'a': 5, u'indeed': 5, u'substantially': 5, u'since': 5, u'south': 5, u'precisely': 5, u'Ever': 5, u'shortly': 5, u'Instead': 5, u'allegedly': 5, u'aside': 5, u'online': 5, u'worldwide': 5, u'fine': 5, u'Meanwhile': 5, u'REALLY': 5, u'essentially': 5, u'west': 5, u'surprisingly': 5, u'Usually': 5, u'Almost': 5, u'ALWAYS': 5, u'Sincerely': 5, u'openly': 5, u'Ironically': 5, u'apart': 5, u'Therefore': 5, u'No': 5, u'primarily': 5, u'Well': 5, u'strongly': 5, u'Only': 5, u'generally': 5, u'daily': 5, u'regardless': 4, u'THERE': 4, u'WHY': 4, u'high': 4, u'effectively': 4, u'firmly': 4, u'badly': 4, u'wrong': 4, u'anytime': 4, u'sooner': 4, u'beyond': 4, u'ultimately': 4, u'inevitably': 4, u'hence': 4, u'straight': 4, u'unfortunately': 4, u'were': 4, u'sure': 4, u'importantly': 4, u'equally': 4, u'Right': 4, u'officially': 4, u'anyways': 4, u'Hopefully': 4, u'matter': 4, u'THEN': 4, u'locally': 4, u'indefinitely': 4, u'Pretty': 4, u'frequently': 4, u'roughly': 4, u'heavily': 4, u'increasingly': 4, u'deliberately': 4, u'Apart': 4, u'fyi': 4, u'successfully': 4, u'JUST': 4, u'Really': 4, u'kinda': 4, u'slowly': 4, u'likewise': 4, u'Thus': 4, u'overseas': 4, u'Additionally': 3, u'every': 3, u'accidentally': 3, u'Currently': 3, u'consistently': 3, u'loose': 3, u'supposedly': 3, u'Obviously': 3, u'round': 3, u'NOW': 3, u'uniquely': 3, u'suddenly': 3, u'sort': 3, u'ALL': 3, u'Secondly': 3, u'efficiently': 3, u'occasionally': 3, u'thereby': 3, u'Indeed': 3, u'Simply': 3, u'seldom': 3, u'individually': 3, u'Next': 3, u'technically': 3, u'solely': 3, u'gently': 3, u'comfortably': 3, u'predominantly': 3, u'incomplete': 3, u'overall': 3, u'onboard': 3, u'WHERE': 3, u'bad': 3, u'btw': 3, u'across': 3, u'Certainly': 3, u'damn': 3, u'professionally': 3, u'near': 3, u'Back': 3, u'AWAY': 3, u'potentially': 3, u'widely': 3, u'definately': 3, u'pleasantly': 3, u'Far': 3, u'Below': 3, u'separately': 3, u'smoothly': 3, u'abundantly': 3, u'nowhere': 3, u'ok': 3, u'automatically': 3, u'quietly': 3, u'fast': 3, u'strictly': 3, u'north': 3, u'line': 3, u'with': 3, u'neatly': 3, u'politically': 3, u'deep': 3, u'Especially': 3, u'willingly': 3, u'Personally': 3, u'Later': 3, u'AT': 3, u'overly': 2, u'poorly': 2, u'dramatically': 2, u'EVEN': 2, u'presently': 2, u'exact': 2, u'aggressively': 2, u'Evidently': 2, u'onshore': 2, u'Long': 2, u'afterward': 2, u'respectively': 2, u'categorically': 2, u'promptly': 2, u'exceptionally': 2, u'appropriately': 2, u'indoors': 2, u'NOT': 2, u'manually': 2, u'wonderfully': 2, u'whatsoever': 2, u'hereby': 2, u'Down': 2, u'bravely': 2, u'sudden': 2, u'HOWEVER': 2, u'everyday': 2, u'such': 2, u'OVERALL': 2, u'Best': 2, u'worst': 2, u'environmentally': 2, u'some': 2, u'rapidly': 2, u'them': 2, u'underneath': 2, u'half': 2, u'desperately': 2, u'reasonably': 2, u'sufficiently': 2, u'outrageously': 2, u'Respectfully': 2, u'adequately': 2, u'secretly': 2, u'wholly': 2, u'red': 2, u'surely': 2, u'Firstly': 2, u'economically': 2, u'exponentially': 2, u'loud': 2, u'rudely': 2, u'thereafter': 2, u'Probably': 2, u'immensely': 2, u'their': 2, u'legally': 2, u'warmly': 2, u'happily': 2, u'IMO': 2, u'wide': 2, u'frankly': 2, u'ethnically': 2, u'traditionally': 2, u'After': 2, u'RIGHT': 2, u'cognitively': 2, u'pursuant': 2, u'respectfully': 2, u'cheaply': 2, u'unanimously': 2, u'upstairs': 2, u'Nevertheless': 2, u'between': 2, u'SUPER': 2, u'bareback': 2, u'altogether': 2, u'Once': 2, u'nicely': 2, u'Over': 2, u'financially': 2, u'actively': 2, u'closer': 2, u'continually': 2, u'electronically': 2, u'outdoors': 2, u'jointly': 2, u'harshly': 2, u'abruptly': 2, u'freely': 2, u'alot': 2, u'faithfully': 2, u'hardly': 2, u'preferably': 2, u'partly': 2, u'ABSOLUTELY': 2, u'overwhelmingly': 2, u'Furthermore': 2, u'incorrectly': 2, u'higher': 2, u'About': 2, u'Third': 2, u'FINALLY': 2, u'truely': 2, u'the': 2, u'nearby': 2, u'routinely': 2, u'behind': 2, u'halfway': 2, u'thankfully': 2, u'versa': 2, u'Definitely': 2, u'politely': 2, u'Further': 2, u'rhythmically': 2, u'completly': 2, u'ALSO': 2, u'mutually': 2, u'Still': 2, u'nowadays': 2, u'downhill': 2, u'militarily': 2, u'amazingly': 2, u'low': 2, u'brand': 2, u'but': 2, u'ling': 2, u'historically': 2, u'awhile': 2, u'Second': 2, u'lately': 2, u'onwards': 2, u'Extremely': 2, u'HOW': 2, u'SERIOUSLY': 2, u'utterly': 2, u'fresh': 2, u'vigorously': 2, u'EXACTLY': 1, u'LATER': 1, u'Holly': 1, u'absoulutely': 1, u'onpeak': 1, u'young': 1, u'MUCH': 1, u'permanently': 1, u'inwards': 1, u'Partially': 1, u'patently': 1, u'ANYWAY': 1, u'seemingly': 1, u'smack': 1, u'vastly': 1, u'expertly': 1, u'offline': 1, u'securely': 1, u'cool': 1, u'internally': 1, u'serenely': 1, u'Super': 1, u'Remarkably': 1, u'NEEEEEEEEEVERRRR': 1, u'slower': 1, u'Fortunately': 1, u'inland': 1, u'customarily': 1, u'hourly': 1, u'Incredibly': 1, u'Initially': 1, u'bluntly': 1, u'full': 1, u'FTW': 1, u'fineally': 1, u'slow': 1, u'let': 1, u'great': 1, u'impatiently': 1, u'Likewise': 1, u'WELL': 1, u'unwittingly': 1, u'fulltime': 1, u'waaaaaaaaaaaaay': 1, u'conveniently': 1, u'Absolute': 1, u'Fyi': 1, u'family': 1, u'appartently': 1, u'excellently': 1, u'HOME': 1, u'unpleasantly': 1, u'mechanicly': 1, u'likley': 1, u'doubt': 1, u'AMAZINGLY': 1, u'disgustingly': 1, u'flat': 1, u'formally': 1, u'handsomely': 1, u'Stronger': 1, u'SUPPOSEDLY': 1, u'wildly': 1, u'herein': 1, u'downtown': 1, u'informally': 1, u'actualy': 1, u'gladly': 1, u'town': 1, u'royally': 1, u'Particularly': 1, u'thematically': 1, u'centrally': 1, u'def': 1, u'Virtually': 1, u'e.g.': 1, u'Whereas': 1, u'beautifully': 1, u'career-wise': 1, u'TOO': 1, u'sharp': 1, u'imposingly': 1, u'longest': 1, u'narrowly': 1, u'stil': 1, u'terribly': 1, u'tilt': 1, u'strikingly': 1, u'unquestionably': 1, u'freshly': 1, u'A': 1, u'Essentially': 1, u'spot': 1, u'LEAST': 1, u'Hence': 1, u'Aka': 1, u'ordinarily': 1, u'like': 1, u'Understandably': 1, u'orally': 1, u'subsequently': 1, u'rrly': 1, u'a.k.a.': 1, u'sarcastically': 1, u'Unfortunalty': 1, u'compeltly': 1, u'Somewhere': 1, u'differently': 1, u'easier': 1, u'ally': 1, u'instantly': 1, u'popularly': 1, u'severely': 1, u'socially': 1, u'soo': 1, u'bigger': 1, u'institutionally': 1, u'Approx': 1, u'privatly': 1, u'good': 1, u'expectedly': 1, u'Regardless': 1, u'Aside': 1, u'Figuratively': 1, u'sexually': 1, u'prolly': 1, u'post-call': 1, u'Local': 1, u'wholeheartedly': 1, u'superbly': 1, u'Nearly': 1, u'chemically': 1, u'AROUND': 1, u'enroute': 1, u'Originally': 1, u'universally': 1, u'BTW': 1, u'Already': 1, u'atm': 1, u'vehemently': 1, u'TBH': 1, u'Basically': 1, u'delicately': 1, u'intuitively': 1, u'Accordingly': 1, u'quicker': 1, u'DEFINITELY': 1, u'theraphy': 1, u'Widely': 1, u'dogs': 1, u'actully': 1, u'accurately': 1, u'Twice': 1, u'sporadically': 1, u'blindly': 1, u'undoubtedly': 1, u'than': 1, u'STILL': 1, u'double': 1, u'non-stop': 1, u'succinctly': 1, u'naturally': 1, u'dutifully': 1, u'fcking': 1, u'urgently': 1, u'Generally': 1, u'overnight': 1, u'randomly': 1, u'esp.': 1, u'thoroughly': 1, u'realy': 1, u'genetically': 1, u'elsewise': 1, u'ironically': 1, u'Off': 1, u'extraordinarily': 1, u'swiftly': 1, u'Compositionally': 1, u'visa': 1, u'BACK': 1, u'knowingly': 1, u'immaculately': 1, u'clear': 1, u'OUT': 1, u'persistently': 1, u'professional': 1, u'gain': 1, u'HIGHLY': 1, u'blatantly': 1, u'purely': 1, u'surgically': 1, u'rough': 1, u'marvelously': 1, u'periodically': 1, u'Simultaneously': 1, u'Worse': 1, u'Nationwide': 1, u'downstairs': 1, u'NEXT': 1, u'FIRST': 1, u'explicitly': 1, u'Def': 1, u'local': 1, u'emphatically': 1, u'meanwhile': 1, u'sooo': 1, u'REALY': 1, u'during': 1, u'Politically': 1, u'is': 1, u'personaly': 1, u'keenly': 1, u'Than': 1, u'etter': 1, u'Clearly': 1, u'silently': 1, u'hill': 1, u'temporarily': 1, u'physically': 1, u'Specifically': 1, u'relative': 1, u'collectively': 1, u'geometrically': 1, u'cleverly': 1, u'decidely': 1, u'it': 1, u'July': 1, u'weekly': 1, u'acutely': 1, u'inappropriately': 1, u'notoriously': 1, u'Faster': 1, u'Consistantly': 1, u'gratefully': 1, u'densely': 1, u'indiscriminately': 1, u'Heavily': 1, u'ill': 1, u'according': 1, u'moreso': 1, u'loudly': 1, u'guy': 1, u'atleast': 1, u'reluctantly': 1, u'ALONG': 1, u'whole': 1, u'peacefully': 1, u'afterwards': 1, u'ambitiously': 1, u'THAT': 1, u'unexpectedly': 1, u'usally': 1, u'indescriminately': 1, u'moreover': 1, u'Transatlantic': 1, u'deffly': 1, u'Sure': 1, u'bureaucratically': 1, u'markedly': 1, u'Most': 1, u'wherein': 1, u'unarguable': 1, u'Somehow': 1, u'religiously': 1, u'Although': 1, u'deliciously': 1, u'Honestly': 1, u'WAY': 1, u'last': 1, u'Subsequently': 1, u'Consequently': 1, u'$ometime$': 1, u'succintly': 1, u'Cordially': 1, u'Outside': 1, u'intimately': 1, u'Other': 1, u'confidently': 1, u'irrespective': 1, u'alike': 1, u'wherever': 1, u'itself': 1, u'purportedly': 1, u'decisively': 1, u'northward': 1, u'dab': 1, u'evenly': 1, u'underground': 1, u'ALONE': 1, u'Similarly': 1, u'nationally': 1, u'principally': 1, u'spitting': 1, u'IN': 1, u'mentally': 1, u'enthusiastically': 1, u'Esp.': 1, u'herewith': 1, u'nonetheless': 1, u'summarily': 1, u'y': 1, u'grossly': 1, u'yearly': 1, u'OVER': 1, u'Horribly': 1, u'presumably': 1, u'profoundly': 1, u'front': 1, u'functionally': 1, u'spaciously': 1, u'downright': 1, u'tight': 1, u'exclusively': 1, u'other': 1, u'Thoroughly': 1, u'east': 1, u'By': 1, u'Unbelievably': 1, u'real': 1, u'independently': 1, u'eternally': 1, u'fabulously': 1, u'Wherever': 1, u'REAL': 1, u'objectively': 1, u'ON': 1, u'incompletely': 1, u'Short': 1, u'sincerely': 1, u'admittedly': 1, u'voluntarily': 1, u'REAAAALLY': 1, u'deed': 1, u'wider': 1, u'Seriously': 1, u'proper': 1, u'sternly': 1, u'gradually': 1, u'for': 1, u'esp': 1, u'Earlier': 1, u'literaly': 1, u'feverishly': 1, u'noise': 1, u'Kindly': 1, u'asap': 1, u'Beautifully': 1, u'notably': 1, u'genuinely': 1, u'Moreover': 1, u'squarely': 1, u'Typically': 1, u'oh': 1, u'instantaneously': 1, u'AS': 1, u'Financially': 1, u'plus': 1, u'steadily': 1, u'arrogantly': 1, u'Little': 1, u'Least': 1, u'eather': 1, u'Ideally': 1, u'conceivably': 1, u'restfully': 1, u'deffenitly': 1, u'Luckily': 1, u'overtime': 1, u'purposely': 1, u'simplistically': 1, u'considerably': 1, u'understandably': 1, u'Ordinarily': 1, u'highest': 1, u'Eventually': 1, u'faster': 1, u'handily': 1, u'FAR': 1, u'wise': 1, u'Significantly': 1, u'Increasingly': 1, u'practically': 1, u'quantitatively': 1, u'continuously': 1, u'prematurely': 1, u'Supposedly': 1, u'Onward': 1, u'paradoxically': 1, u'Above': 1, u'mysteriously': 1, u'worse': 1, u'dimly': 1, u'lo9nger': 1, u'Thirdly': 1, u'FUCKING': 1, u'democratically': 1, u'Besides': 1, u'nice': 1, u'briefly': 1, u'important': 1, u'BEFORE': 1, u'alcohol': 1, u'unspeakably': 1, u'E.g.': 1, u'vice': 1, u'radiantly': 1, u'serious': 1, u'backward': 1, u'Apparently': 1, u'indirectly': 1}), u'NOUN': Counter({u'time': 385, u'people': 233, u'way': 187, u'place': 178, u'year': 168, u'day': 165, u'Thanks': 159, u'service': 157, u'food': 157, u'years': 148, u'world': 113, u'PM': 112, u'work': 109, u'number': 102, u'price': 102, u'days': 102, u'car': 98, u'business': 91, u'week': 90, u'lot': 87, u'money': 87, u'one': 86, u'family': 85, u'name': 85, u'things': 81, u'experience': 81, u'night': 81, u'AM': 80, u'thing': 79, u'life': 78, u'call': 77, u'room': 76, u'job': 76, u'Number': 75, u'office': 75, u'staff': 75, u'company': 74, u'problem': 73, u'water': 73, u'questions': 73, u'end': 70, u'point': 69, u'person': 68, u'power': 66, u'country': 63, u'times': 63, u'today': 63, u'information': 61, u'group': 61, u'part': 61, u'months': 59, u'oil': 59, u'area': 58, u'horse': 58, u'Percentage': 58, u'meeting': 58, u'home': 57, u'month': 54, u'bit': 54, u'case': 54, u'list': 54, u'fact': 53, u'letter': 51, u'hours': 51, u'war': 51, u'couple': 50, u'line': 50, u'government': 50, u'order': 50, u'places': 49, u'state': 49, u'date': 48, u'customer': 48, u'deal': 48, u'change': 48, u'friend': 48, u'email': 48, u'friends': 48, u'phone': 48, u'system': 47, u'process': 46, u'space': 46, u'message': 46, u'Amount': 46, u'issue': 46, u'children': 46, u'report': 46, u'problems': 46, u'care': 45, u'guys': 45, u'help': 44, u'house': 44, u'hand': 43, u'others': 43, u'minutes': 43, u'store': 43, u'issues': 43, u'cat': 42, u'weeks': 42, u'restaurant': 42, u'members': 42, u'question': 42, u'agreement': 41, u'comments': 41, u'morning': 41, u'town': 41, u'gas': 41, u'security': 40, u'mind': 40, u'dog': 40, u'hair': 40, u'school': 40, u'cost': 39, u'death': 39, u'reason': 39, u'program': 39, u'hotel': 39, u'draft': 38, u'tank': 38, u'anthrax': 38, u'prices': 38, u'#': 37, u'market': 37, u'peace': 37, u'quality': 36, u'level': 36, u'cage': 35, u'word': 35, u'guy': 35, u'form': 35, u'man': 35, u'language': 35, u'kids': 35, u'changes': 35, u'countries': 35, u'ones': 35, u'weapons': 35, u'options': 35, u'pm': 35, u'door': 34, u'customers': 34, u'test': 34, u'services': 34, u'back': 34, u'rate': 34, u'law': 33, u'vet': 33, u'position': 33, u'campaign': 33, u'points': 33, u'leaders': 33, u'head': 33, u'elections': 32, u'review': 32, u'team': 31, u'situation': 31, u'thanks': 31, u'doctor': 31, u'idea': 31, u'eggs': 31, u'trip': 31, u'am': 30, u'project': 30, u'site': 30, u'forces': 30, u'credit': 30, u'girl': 30, u'response': 30, u'energy': 30, u'officials': 30, u'request': 30, u'news': 30, u'lots': 29, u'parents': 29, u'animals': 29, u'owner': 29, u'tomorrow': 29, u'e-mail': 29, u'side': 29, u'weekend': 29, u'metal': 29, u'region': 29, u'period': 29, u'wife': 29, u'pet': 28, u'baby': 28, u'cats': 28, u'piece': 28, u'reviews': 28, u'administration': 28, u'health': 28, u'light': 28, u'Fax': 28, u'dollars': 27, u'game': 27, u'front': 27, u'answer': 27, u'lunch': 27, u'Regards': 27, u'activities': 27, u'kind': 27, u'example': 26, u'chance': 26, u'media': 26, u'cruise': 26, u'website': 26, u'manager': 26, u'suicide': 26, u'contract': 26, u'option': 26, u'member': 26, u'Agreement': 25, u'history': 25, u'type': 25, u'areas': 25, u'dinner': 25, u'threat': 25, u'air': 24, u'afternoon': 24, u'support': 24, u'Service': 24, u'amount': 24, u'management': 24, u'attack': 24, u'policy': 24, u'fun': 24, u'body': 24, u'value': 24, u'file': 24, u'bus': 24, u'groups': 24, u'tax': 24, u'reports': 23, u'snake': 23, u'info': 23, u'basis': 23, u'interest': 23, u'yesterday': 23, u'population': 23, u'version': 23, u'attention': 23, u'press': 23, u'leader': 23, u'menu': 22, u'result': 22, u'city': 22, u'rest': 22, u'action': 22, u'budget': 22, u'Phone': 22, u'desk': 22, u'treatment': 22, u'species': 22, u'application': 22, u'arms': 22, u'risk': 22, u'top': 22, u'conference': 22, u'term': 22, u'intelligence': 22, u'book': 22, u'right': 21, u'address': 21, u'summer': 21, u'paper': 21, u'connection': 21, u'location': 21, u'delivery': 21, u'employees': 21, u'families': 21, u'territory': 21, u'computer': 21, u'army': 21, u'rights': 21, u'numbers': 21, u'access': 21, u'lack': 21, u'return': 21, u'military': 20, u'birth': 20, u'plan': 20, u'stuff': 20, u'items': 20, u'pizza': 20, u'dogs': 20, u'product': 20, u'circle': 20, u'effort': 20, u'difference': 20, u'advice': 20, u'copy': 20, u'fish': 20, u'parts': 20, u'choice': 19, u'future': 19, u'sense': 19, u'up': 19, u'age': 19, u'bird': 19, u'board': 19, u'concern': 19, u'EPM': 19, u'sales': 19, u'Counterparty': 19, u'control': 19, u'hands': 19, u'solution': 19, u'meat': 19, u'luck': 19, u'father': 19, u'range': 19, u'hour': 19, u'blood': 19, u'source': 19, u'attacks': 19, u'heat': 19, u'actions': 19, u'use': 19, u'women': 19, u'love': 18, u'plans': 18, u'girls': 18, u'marriage': 18, u'child': 18, u'rates': 18, u'terror': 18, u'evening': 18, u'event': 18, u'station': 18, u'pictures': 18, u'education': 18, u'lives': 18, u'shop': 18, u'stock': 18, u'lines': 18, u'horses': 18, u'feet': 18, u'thousands': 18, u'record': 18, u'son': 17, u'wolves': 17, u'training': 17, u'look': 17, u'appointment': 17, u'emergency': 17, u'face': 17, u'Game': 17, u'band': 17, u'husband': 17, u'article': 17, u'while': 17, u'department': 17, u'party': 17, u'page': 17, u'force': 17, u'operations': 17, u'road': 17, u'needs': 17, u'names': 17, u'street': 17, u'hospital': 17, u'plenty': 17, u'cash': 17, u'events': 17, u'defense': 17, u'Email': 17, u'unit': 16, u'music': 16, u'legs': 16, u'nation': 16, u'internet': 16, u'surgery': 16, u'industry': 16, u'meal': 16, u'research': 16, u'sea': 16, u'rules': 16, u'link': 16, u'results': 16, u'opinion': 16, u'visa': 16, u'atmosphere': 16, u'increase': 16, u'size': 16, u'faith': 16, u'products': 16, u'companies': 16, u'attempt': 16, u'folks': 16, u'box': 16, u'visit': 16, u'pain': 16, u'dad': 16, u'charge': 16, u'story': 16, u'flight': 16, u'minute': 15, u'note': 15, u'pieces': 15, u'animal': 15, u'rooms': 15, u'society': 15, u'details': 15, u'contact': 15, u'evidence': 15, u'card': 15, u'wolf': 15, u'building': 15, u'answers': 15, u'File': 15, u'balance': 15, u'quote': 15, u'adults': 15, u'soldiers': 15, u'trading': 15, u'opportunity': 15, u'troops': 15, u'film': 15, u'decision': 15, u'bear': 15, u'murder': 15, u'wedding': 15, u'standards': 15, u'male': 15, u'tire': 15, u'requirements': 15, u'Date': 15, u'parking': 15, u'ability': 15, u'model': 15, u'woman': 15, u'reasons': 15, u'capital': 15, u'sort': 15, u'class': 15, u'disaster': 14, u'steps': 14, u'chair': 14, u'data': 14, u'jobs': 14, u'screen': 14, u'vacation': 14, u'parties': 14, u'suggestions': 14, u'OBSF': 14, u'repair': 14, u'leg': 14, u'drug': 14, u'terrorism': 14, u'web': 14, u'coffee': 14, u'islamists': 14, u'half': 14, u'ground': 14, u'ship': 14, u'course': 14, u'addition': 14, u'subject': 14, u'mail': 14, u'pair': 14, u'island': 14, u'statement': 14, u'generators': 14, u'bill': 14, u'moment': 14, u'organization': 14, u'chicken': 14, u'rat': 14, u'bathroom': 14, u'regime': 14, u'environment': 14, u'ideas': 14, u'cities': 14, u'table': 14, u'design': 14, u'instructions': 14, u'leash': 14, u'art': 14, u'rabbit': 14, u'settlement': 14, u'fear': 14, u'words': 14, u'view': 14, u'warming': 14, u'Section': 14, u'weather': 14, u'values': 13, u'winter': 13, u'laws': 13, u'act': 13, u'status': 13, u'owners': 13, u'self': 13, u'agents': 13, u'firm': 13, u'fund': 13, u'certificate': 13, u'documents': 13, u'letters': 13, u'salon': 13, u'climate': 13, u'window': 13, u'sheet': 13, u'border': 13, u'career': 13, u'facilities': 13, u'men': 13, u'coup': 13, u'coast': 13, u'dates': 13, u'tour': 13, u'search': 13, u'insurance': 13, u'concerns': 13, u'payment': 13, u'knowledge': 13, u'progress': 13, u'weapon': 13, u'nail': 13, u'theory': 13, u'style': 13, u'weight': 13, u'plants': 13, u'behavior': 13, u'heart': 13, u'electricity': 12, u'wine': 12, u'snakes': 12, u'transactions': 12, u'statements': 12, u'strain': 12, u'truck': 12, u'.doc': 12, u'bombs': 12, u'treatments': 12, u'signs': 12, u'community': 12, u'dating': 12, u'code': 12, u'moon': 12, u'truth': 12, u'audit': 12, u'pressure': 12, u'circles': 12, u'wheel': 12, u'post': 12, u'trouble': 12, u'assistance': 12, u'discussion': 12, u'start': 12, u'base': 12, u'conflict': 12, u'gender': 12, u'camera': 12, u'police': 12, u'transaction': 12, u'portion': 12, u'skills': 12, u'matter': 12, u'chess': 12, u'contracts': 12, u'neck': 12, u'entity': 12, u'show': 12, u'TV': 12, u'none': 12, u'majority': 12, u'restaurants': 12, u'development': 12, u'task': 12, u'pricing': 12, u'train': 12, u'copies': 12, u'guidelines': 12, u'offices': 12, u'birthday': 12, u'season': 12, u'wood': 12, u'college': 12, u'ways': 12, u'color': 12, u'approval': 12, u'Master': 12, u'apartment': 12, u'sun': 12, u'analysis': 12, u'cases': 12, u'deals': 12, u'ships': 12, u'Currency': 12, u'regards': 12, u'agency': 12, u'stories': 12, u'student': 12, u'babies': 11, u'offer': 11, u'role': 11, u'sign': 11, u'understanding': 11, u'spot': 11, u'sites': 11, u'hamster': 11, u'interconnect': 11, u'church': 11, u'fire': 11, u'terrorists': 11, u'video': 11, u'decade': 11, u'variety': 11, u'teacher': 11, u'cap': 11, u'shows': 11, u'Settlement': 11, u'document': 11, u'committee': 11, u'systems': 11, u'officers': 11, u'experiences': 11, u'culture': 11, u'cent': 11, u'sources': 11, u'star': 11, u'spokesman': 11, u'president': 11, u'm': 11, u'murders': 11, u'mouse': 11, u'thoughts': 11, u'authorities': 11, u'transportation': 11, u'hotels': 11, u'positions': 11, u'century': 11, u'account': 11, u'reserves': 11, u'democracy': 11, u'text': 11, u'comment': 11, u'practice': 11, u'students': 11, u'panel': 11, u'conversation': 11, u'tourist': 11, u'GCP': 11, u'filter': 11, u'tool': 11, u'client': 11, u'games': 11, u'efforts': 11, u'presence': 11, u'pilot': 11, u'driver': 11, u'fax': 11, u'guns': 11, u'activity': 11, u'strategy': 11, u'workers': 11, u'pipeline': 11, u'damage': 10, u'A': 10, u'series': 10, u'shower': 10, u'meetings': 10, u'nature': 10, u'bottom': 10, u'floor': 10, u'recipient': 10, u'decades': 10, u'technology': 10, u'image': 10, u'condition': 10, u'investment': 10, u'states': 10, u'dress': 10, u'cover': 10, u'sides': 10, u'confidence': 10, u'tonight': 10, u'means': 10, u'laser': 10, u'arrest': 10, u'schedule': 10, u'interview': 10, u'network': 10, u'requests': 10, u'dance': 10, u'kitten': 10, u'clothing': 10, u'benefit': 10, u'Government': 10, u'comparison': 10, u'pool': 10, u'documentation': 10, u'foot': 10, u'conditions': 10, u'run': 10, u'authority': 10, u'links': 10, u'need': 10, u'foods': 10, u'crew': 10, u'bag': 10, u'pets': 10, u'candidate': 10, u'islands': 10, u'targets': 10, u'sake': 10, u'finance': 10, u'corner': 10, u'mom': 10, u'girlfriend': 10, u'beginning': 10, u'responses': 10, u'Gulf': 10, u'reconciliation': 10, u'hundreds': 10, u'expectations': 10, u'drugs': 10, u'procedure': 10, u'mother': 10, u'gift': 10, u'picture': 10, u'crime': 10, u'engine': 10, u'IT': 10, u'furniture': 10, u'update': 10, u'regard': 10, u'calls': 10, u'fan': 10, u'directions': 10, u'generation': 10, u'heads': 10, u'interviews': 10, u'notch': 10, u'chickens': 10, u'degree': 10, u'economy': 10, u'Subject': 10, u'wall': 10, u'Credit': 10, u'radiation': 10, u'cake': 10, u'percent': 10, u'mailings': 9, u'cages': 9, u'paperwork': 9, u'travel': 9, u'types': 9, u'mouth': 9, u'morality': 9, u'facility': 9, u'dealer': 9, u'pages': 9, u'missiles': 9, u'costs': 9, u'land': 9, u'graduate': 9, u'petroleum': 9, u'director': 9, u'Food': 9, u'play': 9, u'occupation': 9, u'spring': 9, u'parakeet': 9, u'elements': 9, u'blocks': 9, u'hope': 9, u'move': 9, u'exposure': 9, u'daughter': 9, u'production': 9, u'Q1': 9, u'Commission': 9, u'trial': 9, u'forms': 9, u'invitation': 9, u'flowers': 9, u'equipment': 9, u'touch': 9, u'speed': 9, u'Analyst': 9, u'UVB': 9, u'step': 9, u'bed': 9, u'humans': 9, u'ROW': 9, u'freedom': 9, u'Orders': 9, u'guests': 9, u'supporters': 9, u'feathers': 9, u'materials': 9, u'assassination': 9, u'wait': 9, u'rays': 9, u'stability': 9, u'developments': 9, u'cheese': 9, u'eyes': 9, u'Services': 9, u'mark': 9, u'middle': 9, u'server': 9, u'assets': 9, u'fall': 9, u'eye': 9, u'responsibility': 9, u'orders': 9, u'purpose': 9, u'per': 9, u'AS400': 9, u'south': 9, u'curves': 9, u'selection': 9, u'center': 9, u'muscle': 9, u'female': 9, u'detail': 9, u'hearing': 9, u'HR': 9, u'focus': 9, u'port': 9, u'dining': 9, u'duty': 9, u'shops': 9, u'producers': 9, u'traffic': 9, u'communication': 9, u'kittens': 9, u'politics': 9, u'presentation': 9, u'song': 9, u'mission': 9, u'temperature': 9, u'windows': 9, u'holiday': 9, u'hearings': 9, u'favor': 9, u'happiness': 9, u'kinds': 9, u'machine': 8, u'effects': 8, u'nations': 8, u'feeling': 8, u'accident': 8, u'funding': 8, u'investigation': 8, u'package': 8, u'tv': 8, u'past': 8, u'trade': 8, u'courses': 8, u'enemy': 8, u'set': 8, u'towns': 8, u'levels': 8, u'projects': 8, u'custom': 8, u'GDP': 8, u'fighter': 8, u'poverty': 8, u'doubt': 8, u'Payment': 8, u'interests': 8, u'enforcement': 8, u'waste': 8, u'garage': 8, u'liquidation': 8, u'rule': 8, u'blanket': 8, u'tickets': 8, u'protection': 8, u'crimes': 8, u'Cell': 8, u'manner': 8, u'terms': 8, u'aid': 8, u'counterparty': 8, u'Gas': 8, u'reality': 8, u'EOL': 8, u'birds': 8, u'challenges': 8, u'cars': 8, u'failure': 8, u'notice': 8, u'execution': 8, u'SJ': 8, u'terrorist': 8, u'hell': 8, u'capability': 8, u'safety': 8, u'pub': 8, u'wealth': 8, u'structure': 8, u'addresses': 8, u'missile': 8, u'ride': 8, u'helicopters': 8, u'CEO': 8, u'Development': 8, u'key': 8, u'effect': 8, u'disability': 8, u'resume': 8, u'signature': 8, u'argument': 8, u'in': 8, u'programs': 8, u'claims': 8, u'background': 8, u'mile': 8, u'item': 8, u'suggestion': 8, u'agent': 8, u'views': 8, u'shot': 8, u'miles': 8, u'FOOD': 8, u'sound': 8, u'Year': 8, u'dollar': 8, u'worms': 8, u'premium': 8, u'movement': 8, u'operating': 8, u'minimum': 8, u'difficulty': 8, u'mama': 8, u'dentist': 8, u'contacts': 8, u'patient': 8, u'lesson': 8, u'Mom': 8, u'works': 8, u'rabbits': 8, u'ISDA': 8, u'sleep': 8, u'plaster': 8, u'colors': 8, u'earth': 8, u'capacity': 8, u'experts': 8, u'officer': 8, u'incitement': 8, u'reply': 8, u'bowl': 8, u'check': 8, u'nest': 8, u'blog': 8, u'inflation': 8, u'slice': 8, u'taste': 8, u'dish': 8, u'toes': 8, u'communities': 8, u'emails': 8, u'farrier': 8, u'Bondad': 8, u'files': 8, u'State': 8, u'fee': 8, u'traders': 8, u'out': 8, u'goals': 8, u'planning': 8, u'respect': 8, u'tires': 7, u'reporter': 7, u'release': 7, u'carbon': 7, u'attorney': 7, u'citizens': 7, u'studies': 7, u'records': 7, u'locations': 7, u'signoff': 7, u'inspection': 7, u'photos': 7, u'sump': 7, u'noon': 7, u'yoga': 7, u'tours': 7, u'method': 7, u'STEP': 7, u'gallon': 7, u'Peoples': 7, u'operation': 7, u'Website': 7, u'relationship': 7, u'cruises': 7, u'session': 7, u'Base': 7, u'homeland': 7, u'format': 7, u'influence': 7, u'trail': 7, u'resources': 7, u'counter': 7, u'degrees': 7, u\"'\": 7, u'stars': 7, u'bombings': 7, u'riding': 7, u'taxes': 7, u'error': 7, u'ball': 7, u'Company': 7, u'replacement': 7, u'official': 7, u'distribution': 7, u'neighbours': 7, u'phones': 7, u'beach': 7, u'Transaction': 7, u'phase': 7, u'Prices': 7, u'mistake': 7, u'organizations': 7, u'breakfast': 7, u'soil': 7, u'figures': 7, u'lady': 7, u'dealership': 7, u'toys': 7, u'invasion': 7, u'occasions': 7, u'Price': 7, u'maintenance': 7, u'Committee': 7, u'rats': 7, u'visits': 7, u'crap': 7, u'vehicle': 7, u'females': 7, u'voice': 7, u'cause': 7, u'route': 7, u'tourists': 7, u'affair': 7, u'partners': 7, u'fuel': 7, u'surface': 7, u'destruction': 7, u'loss': 7, u'receipt': 7, u'stay': 7, u'net': 7, u'movies': 7, u'purchase': 7, u'lawyers': 7, u'content': 7, u'messages': 7, u'bar': 7, u'reference': 7, u'path': 7, u'exception': 7, u'invoice': 7, u'claim': 7, u'cuts': 7, u'advance': 7, u'adjustments': 7, u'violence': 7, u'neighborhood': 7, u'airport': 7, u'Constitution': 7, u'acts': 7, u'pleasure': 7, u'good': 7, u'muscles': 7, u'businesses': 7, u'expert': 7, u'foreigners': 7, u'Declaration': 7, u'responsibilities': 7, u'Schedule': 7, u'bulb': 7, u'divisions': 7, u'Product': 7, u'Spring': 7, u'stores': 7, u'tests': 7, u'puppy': 7, u'success': 7, u'noise': 7, u'deaths': 7, u'supplies': 7, u'finger': 7, u'approach': 7, u'bet': 7, u'trust': 7, u'judge': 7, u'election': 7, u'ice': 7, u'differences': 7, u'papers': 7, u'crate': 7, u'brother': 7, u'drinks': 7, u'crisis': 7, u'memory': 7, u'Time': 7, u'cards': 7, u'visitors': 7, u'minister': 7, u'author': 7, u'bodies': 7, u'competition': 7, u'accounts': 7, u'valley': 7, u'opportunities': 7, u'Today': 7, u'markets': 7, u'goal': 7, u'mountains': 7, u'income': 7, u'requirement': 7, u'Non-Bondad': 7, u'lead': 7, u'doors': 6, u'pocket': 6, u'score': 6, u'LOT': 6, u'beings': 6, u'examples': 6, u'models': 6, u'confidentiality': 6, u'printing': 6, u'possibility': 6, u'take': 6, u'newspaper': 6, u'aspects': 6, u'leadership': 6, u'favorite': 6, u'plane': 6, u'belief': 6, u'ENRON.XLS': 6, u'crop': 6, u'M': 6, u'modem': 6, u'impact': 6, u'incident': 6, u'load': 6, u'representative': 6, u'decor': 6, u'individuals': 6, u'religion': 6, u'suit': 6, u'revision': 6, u'Notice': 6, u'Union': 6, u'magic': 6, u'race': 6, u'consideration': 6, u'Staff': 6, u'mice': 6, u'drill': 6, u'establishment': 6, u'operative': 6, u'attachment': 6, u'waters': 6, u'colleagues': 6, u'bedroom': 6, u'identity': 6, u'command': 6, u'habitat': 6, u'software': 6, u'alliance': 6, u'books': 6, u'total': 6, u'plot': 6, u'player': 6, u'lab': 6, u'bombing': 6, u'Judge': 6, u'standard': 6, u'strength': 6, u'implementation': 6, u'personality': 6, u'kitchen': 6, u'scenario': 6, u'caps': 6, u'participation': 6, u'Application': 6, u'enrongss.xls': 6, u'filing': 6, u'title': 6, u'charges': 6, u'EPC': 6, u'Manager': 6, u'involvement': 6, u'hospitals': 6, u'storage': 6, u'chain': 6, u'Fall': 6, u'banks': 6, u'predators': 6, u'spray': 6, u'litter': 6, u'Consciousness': 6, u'kidney': 6, u'amounts': 6, u'AA': 6, u'wave': 6, u'No.': 6, u'salad': 6, u'lists': 6, u'instance': 6, u'procedures': 6, u'tens': 6, u'tent': 6, u'decline': 6, u'expansion': 6, u'rescue': 6, u'clothes': 6, u'surprise': 6, u'cheek': 6, u'mins': 6, u'attempts': 6, u'stop': 6, u'initiative': 6, u'facts': 6, u'lies': 6, u'murderers': 6, u'teeth': 6, u'boy': 6, u'Specialist': 6, u'tile': 6, u'chef': 6, u'deposit': 6, u'living': 6, u'Rights': 6, u'little': 6, u'venture': 6, u'track': 6, u'summary': 6, u'trader': 6, u'shopping': 6, u'conferences': 6, u'aspect': 6, u'images': 6, u'knife': 6, u'emissions': 6, u'field': 6, u'talks': 6, u'lawyer': 6, u'buses': 6, u'movements': 6, u'Silkies': 6, u'benefits': 6, u'B': 6, u'rebels': 6, u'shape': 6, u'cut': 6, u'planet': 6, u'surgeon': 6, u'Period': 6, u'collection': 6, u'bunch': 6, u'Director': 6, u'allies': 6, u'cabin': 6, u'explanation': 6, u'timing': 6, u'nails': 6, u'shuttle': 6, u'thought': 6, u'seats': 6, u'recommendation': 6, u'category': 6, u'periods': 6, u'patience': 6, u'salsa': 6, u'victory': 6, u'rain': 6, u'bears': 6, u'Hotline': 6, u'compressor': 6, u'lbs': 6, u'reputation': 6, u'fault': 6, u'expense': 6, u'laptop': 6, u'discount': 6, u'neighbors': 6, u'conversations': 6, u'Comments': 6, u'commitments': 6, u'direction': 6, u'tribe': 6, u'treat': 6, u'brass': 6, u'lighting': 6, u'feed': 6, u'storm': 6, u'king': 6, u'Plan': 6, u'demand': 6, u'complaint': 6, u'vendors': 6, u'users': 6, u'NOTE': 6, u'abuse': 6, u'material': 6, u'funds': 6, u'chances': 6, u'grounds': 6, u'walk': 6, u'fighting': 6, u'promise': 6, u'transfer': 6, u'jihad': 5, u'k': 5, u'marketers': 5, u'passport': 5, u'currency': 5, u'headquarters': 5, u'schools': 5, u'millions': 5, u'estimate': 5, u'1970s': 5, u'extent': 5, u'debt': 5, u'30th': 5, u'LOI': 5, u'workforce': 5, u'mosques': 5, u'p.m.': 5, u'accounting': 5, u'roll': 5, u'hole': 5, u'allegations': 5, u'Hamster': 5, u'clause': 5, u'vote': 5, u'boyfriend': 5, u'WASTE': 5, u'planes': 5, u'boat': 5, u'policies': 5, u'being': 5, u'clan': 5, u'lobster': 5, u'23rd': 5, u'neighbor': 5, u'Password': 5, u'sender': 5, u'Associate': 5, u'sight': 5, u'spending': 5, u'astronauts': 5, u'warfare': 5, u'receptionist': 5, u'dishes': 5, u'mechanism': 5, u'entities': 5, u'PS': 5, u'restrictions': 5, u'Guinea': 5, u'circularisation': 5, u'bedding': 5, u'stage': 5, u'sister': 5, u'housing': 5, u'spots': 5, u'construction': 5, u'decisions': 5, u'toll': 5, u'award': 5, u'mechanic': 5, u'lap': 5, u'bank': 5, u'bread': 5, u'target': 5, u'contents': 5, u'practices': 5, u'insurgents': 5, u'steak': 5, u'cooperation': 5, u'tons': 5, u'Board': 5, u'warmth': 5, u'property': 5, u'expertise': 5, u'reception': 5, u'diplomacy': 5, u'division': 5, u'professionalism': 5, u'club': 5, u'can': 5, u'haircut': 5, u'spreadsheet': 5, u'brain': 5, u'hall': 5, u'obligation': 5, u'Web': 5, u'taxi': 5, u'PLACE': 5, u'testimony': 5, u'operator': 5, u'Experience': 5, u'default': 5, u'coverage': 5, u'homes': 5, u'fence': 5, u'conviction': 5, u'injury': 5, u'SS': 5, u'coalition': 5, u'ft': 5, u'a': 5, u'urine': 5, u'barrels': 5, u'x': 5, u'close': 5, u'governor': 5, u'creation': 5, u'reservation': 5, u'button': 5, u'Silkie': 5, u'gene': 5, u'danger': 5, u'pinkies': 5, u'university': 5, u'measure': 5, u'entertainment': 5, u'recommendations': 5, u'relations': 5, u'p.m': 5, u'consequences': 5, u'freeze': 5, u'skill': 5, u'north': 5, u'cells': 5, u'penny': 5, u'updates': 5, u'lights': 5, u'roof': 5, u'navy': 5, u'gym': 5, u'palace': 5, u'chest': 5, u'Question': 5, u'lyrics': 5, u'weekends': 5, u'puts': 5, u'commission': 5, u'study': 5, u'shoulder': 5, u'notification': 5, u'sale': 5, u'milk': 5, u'making': 5, u'designer': 5, u'attorneys': 5, u'rock': 5, u'waiter': 5, u'shoe': 5, u'Instructor': 5, u'honesty': 5, u'parent': 5, u'cancer': 5, u'borders': 5, u'speech': 5, u'grip': 5, u'Customer': 5, u'manufacturer': 5, u'general': 5, u'lifetime': 5, u'founder': 5, u'destination': 5, u'entry': 5, u'participants': 5, u'lease': 5, u'b': 5, u'confirms': 5, u'Power': 5, u'sector': 5, u'permission': 5, u'individual': 5, u'Checks': 5, u'alternative': 5, u'matters': 5, u'goods': 5, u'boys': 5, u'proposal': 5, u'vehicles': 5, u'charcoal': 5, u'regions': 5, u'chief': 5, u'rep': 5, u'Sussex': 5, u'teams': 5, u'billions': 5, u'analyst': 5, u'enovate': 5, u'dresses': 5, u'feeding': 5, u'studio': 5, u'tail': 5, u'Admissions': 5, u'correlation': 5, u'guidance': 5, u'writing': 5, u'signing': 5, u'revisions': 5, u'availability': 5, u'spite': 5, u'photo': 5, u'complex': 5, u'Birds': 5, u'tip': 5, u'football': 5, u'alternatives': 5, u'T.V.': 5, u'beers': 5, u'stream': 5, u'ideation': 5, u'corners': 5, u'possibilities': 5, u'tensions': 5, u'Client': 5, u'Congratulations': 5, u'trot': 5, u'reaction': 5, u'spirit': 5, u'Division': 5, u'reminder': 5, u'trash': 5, u'ticket': 5, u'programme': 5, u'sandwich': 5, u'adventure': 5, u'inquiries': 5, u'units': 5, u'guest': 5, u'People': 5, u'sympathy': 5, u'fees': 5, u'gains': 5, u'barn': 5, u'threats': 5, u'bronze': 5, u'c': 5, u'mountain': 5, u'holidays': 5, u'fries': 5, u'coordinator': 5, u'Audit': 5, u'chiro': 5, u'meaning': 5, u'ammunition': 5, u'Party': 5, u'centre': 5, u'debate': 5, u'exam': 5, u'appropriations': 5, u'cross': 5, u'unity': 5, u'ingredients': 5, u'employment': 5, u'registration': 5, u'Kaoshikii': 4, u'CIAC': 4, u'fingers': 4, u'glass': 4, u'hold': 4, u'circumstances': 4, u'household': 4, u'wing': 4, u'feedback': 4, u'reintroduction': 4, u'ring': 4, u'substantiation': 4, u'ups': 4, u'musicians': 4, u'master': 4, u'rewards': 4, u'dozen': 4, u'lessons': 4, u'rice': 4, u'tips': 4, u'heating': 4, u'billing': 4, u'fry': 4, u'opinions': 4, u'System': 4, u'width': 4, u'extremist': 4, u'inside': 4, u'reviewers': 4, u'jerk': 4, u'Tax': 4, u'funeral': 4, u'working': 4, u'behalf': 4, u'laundry': 4, u'insurgency': 4, u'suspicion': 4, u'neighbourhood': 4, u'container': 4, u'Job': 4, u'grandma': 4, u'drive': 4, u'merit': 4, u'assistant': 4, u'Room': 4, u'priest': 4, u'worries': 4, u'expression': 4, u'breath': 4, u'Analysts': 4, u'surveillance': 4, u'scholarship': 4, u'gda': 4, u'ld2d-#69345-1.DOC': 4, u'Note': 4, u'clay': 4, u'origins': 4, u'meals': 4, u'House': 4, u'welfare': 4, u'section': 4, u'civilians': 4, u'marriages': 4, u'rudeness': 4, u'objections': 4, u'interviewers': 4, u'couples': 4, u'science': 4, u'countryside': 4, u'sauce': 4, u'critters': 4, u'Picture': 4, u'wording': 4, u'factor': 4, u'movie': 4, u'15th': 4, u'loan': 4, u'belt': 4, u'hardness': 4, u'Market': 4, u'victims': 4, u'wives': 4, u'POA': 4, u'poster': 4, u'prosecution': 4, u'minerals': 4, u'transmission': 4, u'firms': 4, u'lifeboats': 4, u'clients': 4, u'lock': 4, u'Copies': 4, u'delay': 4, u'surgeons': 4, u'meantime': 4, u'metering': 4, u'jar': 4, u'extremists': 4, u'cm': 4, u'cc': 4, u'migrant': 4, u'tattoo': 4, u'off': 4, u'counties': 4, u'commitment': 4, u'integrity': 4, u'relationships': 4, u'votes': 4, u'bike': 4, u'Rgds': 4, u'pursuit': 4, u'Home': 4, u'tariff': 4, u'break': 4, u'Type': 4, u'medicine': 4, u'vets': 4, u'stalls': 4, u'voting': 4, u'anniversary': 4, u'religions': 4, u'discussions': 4, u'Vice': 4, u'evil': 4, u'School': 4, u'marketing': 4, u'balances': 4, u'fight': 4, u'peninsula': 4, u'mold': 4, u'antibiotics': 4, u'concept': 4, u'gun': 4, u'p': 4, u'cargo': 4, u'co-workers': 4, u'correspondence': 4, u'provision': 4, u'Response': 4, u'anger': 4, u'deterioration': 4, u'wire': 4, u'spore': 4, u'stages': 4, u'voicemail': 4, u'overview': 4, u'commander': 4, u'hens': 4, u'finish': 4, u'martyrs': 4, u'pounds': 4, u'EDIT': 4, u'apartments': 4, u'heater': 4, u'Meeting': 4, u'streets': 4, u'hurry': 4, u'pho': 4, u'dirt': 4, u'houses': 4, u'pup': 4, u'Order': 4, u'juice': 4, u'liq': 4, u'sheik': 4, u'justice': 4, u'trees': 4, u'manners': 4, u'guide': 4, u'sandwiches': 4, u'block': 4, u'rolls': 4, u'accessibility': 4, u'regulations': 4, u'orbit': 4, u'megawatt': 4, u'Civet': 4, u'suite': 4, u'P&L': 4, u'boots': 4, u'providers': 4, u'entree': 4, u'spelling': 4, u'agenda': 4, u'interceptor': 4, u'auto': 4, u'beard': 4, u'purposes': 4, u'Information': 4, u'nightmare': 4, u'diplomats': 4, u'guerrillas': 4, u'World': 4, u'bucks': 4, u'EEI': 4, u'reptile': 4, u'artists': 4, u'utility': 4, u'balcony': 4, u'pools': 4, u'swap': 4, u'l/c': 4, u'adult': 4, u'Money': 4, u'struggle': 4, u'recruiting': 4, u'BBQ': 4, u'boarding': 4, u'preparation': 4, u'Instructions': 4, u'principle': 4, u'consumer': 4, u'poison': 4, u'distinction': 4, u'height': 4, u'Attachment': 4, u'CA': 4, u'shame': 4, u'id': 4, u'belly': 4, u'President': 4, u'kid': 4, u'left': 4, u'sentence': 4, u'Branch': 4, u'performance': 4, u'manual': 4, u'assault': 4, u'managers': 4, u'factions': 4, u'warehouse': 4, u'utilities': 4, u'skin': 4, u'sovereignty': 4, u'round': 4, u'downtown': 4, u'veggies': 4, u'sample': 4, u'map': 4, u'membership': 4, u'talk': 4, u'interference': 4, u'dioxide': 4, u'memo': 4, u'potential': 4, u'rating': 4, u'killers': 4, u'seat': 4, u'calendar': 4, u'cleaning': 4, u'checks': 4, u'coupons': 4, u'diseases': 4, u'bags': 4, u'sights': 4, u'flavor': 4, u'homosexuality': 4, u'audience': 4, u'seconds': 4, u'ld2d-#69366-1.DOC': 4, u'USD': 4, u'videos': 4, u'shelter': 4, u'20th': 4, u'titles': 4, u'public': 4, u'strategies': 4, u'sect': 4, u'males': 4, u'ports': 4, u'evaluation': 4, u'regulation': 4, u'doctors': 4, u'youth': 4, u'couch': 4, u'spikes': 4, u'envelopes': 4, u'dividends': 4, u'injuries': 4, u'biz': 4, u'Management': 4, u'exploration': 4, u'FX': 4, u'establishments': 4, u'compensation': 4, u'supporter': 4, u'perfection': 4, u'pattern': 4, u'boss': 4, u'joke': 4, u'partner': 4, u'MBA': 4, u'Summer': 4, u'Calculation': 4, u'heel': 4, u'globe': 4, u'pie': 4, u'pig': 4, u'campus': 4, u'appetite': 4, u'GA': 4, u'liberty': 4, u'supplier': 4, u'ambulances': 4, u'Group': 4, u'Support': 4, u'casualties': 4, u'gate': 4, u'description': 4, u'mess': 4, u'SAP': 4, u'motel': 4, u'associate': 4, u'TIME': 4, u'rank': 4, u'priority': 4, u'ton': 4, u'ceiling': 4, u'immigrants': 4, u'classes': 4, u'fashion': 4, u'talking': 4, u'screws': 4, u'explosives': 4, u'shots': 4, u'Performance': 4, u'players': 4, u'beer': 4, u'expenses': 4, u'inventory': 4, u'Lots': 4, u'elk': 4, u'humanity': 4, u'breaks': 4, u'core': 4, u'chapter': 4, u'SERVICE': 4, u'rounds': 4, u'medium': 4, u'pipe': 4, u'advantage': 4, u'tanks': 4, u'hospitality': 4, u'sports': 4, u'chocolate': 4, u'Family': 4, u'branches': 4, u'refund': 4, u'processes': 4, u'Security': 4, u'PDT': 4, u'outcome': 4, u'dragon': 4, u'falls': 4, u'connections': 4, u'Turbine': 4, u'mezza': 4, u'Balances': 4, u'cast': 4, u'IP': 4, u'changing': 4, u'flakes': 4, u'relief': 4, u'Rock': 4, u'cabinet': 4, u'immunity': 4, u'PRICE': 4, u'websites': 4, u'parakeets': 4, u'spacecraft': 4, u'sons': 4, u'tea': 4, u'reins': 4, u'sum': 4, u'ER': 4, u'offspring': 4, u'court': 4, u'pilots': 4, u'essence': 4, u'\"': 4, u'lobby': 4, u'risks': 4, u'uniforms': 4, u'nights': 4, u'chairman': 4, u'measures': 4, u'Suite': 4, u'bars': 4, u'instructor': 4, u'daughters': 4, u'pros': 4, u'bulbs': 4, u'sections': 4, u'declarations': 4, u'warning': 4, u'gang': 4, u'notes': 4, u'comp.sources.unix': 4, u'1980s': 4, u'proof': 4, u'rape': 4, u'discomfort': 4, u'edit': 4, u'chaos': 4, u'river': 4, u'patients': 4, u'angle': 4, u'combat': 4, u'candidates': 4, u'puppets': 4, u'crude': 4, u'opening': 4, u'grain': 4, u'choices': 4, u'inch': 4, u'sky': 4, u'capabilities': 4, u'hosts': 4, u'murderer': 4, u'acronym': 4, u'analyses': 4, u'warranty': 4, u'jury': 4, u'conclusion': 4, u'volumes': 4, u'sinking': 3, u'propane': 3, u'cashout': 3, u'guardsmen': 3, u'Guerrillas': 3, u'specialist': 3, u'wobblers': 3, u'strike': 3, u'midst': 3, u'DPR': 3, u'counseling': 3, u'chase': 3, u'beauty': 3, u'prize': 3, u'olds': 3, u'engagement': 3, u'Recruiting': 3, u'pigs': 3, u'affairs': 3, u'insects': 3, u'reversal': 3, u'midterms': 3, u'counsel': 3, u'logic': 3, u'holdings': 3, u'stadium': 3, u'worker': 3, u'doubts': 3, u'spin': 3, u'flooding': 3, u'LOC': 3, u'ownership': 3, u'tuna': 3, u'ease': 3, u'desire': 3, u'old': 3, u'crowd': 3, u'Device': 3, u'posting': 3, u'flood': 3, u'banners': 3, u'gown': 3, u'Lighting': 3, u'UVA': 3, u'upgrade': 3, u'Associates': 3, u'cure': 3, u'wang': 3, u'fps': 3, u'professors': 3, u'drilling': 3, u'salads': 3, u'Shepherd': 3, u'trauma': 3, u'remainder': 3, u'workmanship': 3, u'grinder': 3, u'specialists': 3, u'prospect': 3, u'zoo': 3, u'roadside': 3, u'butterfly': 3, u'remarks': 3, u'infections': 3, u'jets': 3, u'83N': 3, u'stretch': 3, u'incubation': 3, u'cafes': 3, u'pinky': 3, u'parliament': 3, u'allocation': 3, u'overthrow': 3, u'jeans': 3, u'bravery': 3, u'stranger': 3, u'stone': 3, u'tumor': 3, u'technologies': 3, u'trips': 3, u'drafts': 3, u'gifts': 3, u'tricks': 3, u'clock': 3, u'Conference': 3, u'scam': 3, u'impacts': 3, u'plant': 3, u'attitude': 3, u'symptoms': 3, u'accommodation': 3, u'armaments': 3, u'Report': 3, u'definition': 3, u'submarines': 3, u'stairs': 3, u'gtee': 3, u'distance': 3, u'reporters': 3, u'Help': 3, u'sex': 3, u'acceptance': 3, u'Change': 3, u'jihadis': 3, u'concrete': 3, u'input': 3, u'spine': 3, u'communications': 3, u'methods': 3, u'resolutions': 3, u'User': 3, u'Office': 3, u'alarm': 3, u'Energy': 3, u'tools': 3, u'standing': 3, u'charity': 3, u'Policy': 3, u'ties': 3, u'22nd': 3, u'checkerspot': 3, u'hijackers': 3, u'python': 3, u'betta': 3, u'beginner': 3, u'scent': 3, u'stomach': 3, u'haven': 3, u'steel': 3, u'THING': 3, u'sorts': 3, u'injustice': 3, u'COMPANY': 3, u'extradition': 3, u'skimmer': 3, u'budgie': 3, u'atrophy': 3, u'chairs': 3, u'amendment': 3, u'luna': 3, u'function': 3, u'valuation': 3, u'count': 3, u'salesman': 3, u'outlets': 3, u'x3-9890': 3, u'compassion': 3, u'Military': 3, u'machines': 3, u'envoy': 3, u'smoke': 3, u'negative': 3, u'insult': 3, u'recovery': 3, u'farce': 3, u'V02': 3, u'customs': 3, u'waitress': 3, u'scene': 3, u'giraffe': 3, u'rocks': 3, u'logo': 3, u'nano': 3, u'nephew': 3, u'techniques': 3, u'handful': 3, u'packages': 3, u'cop': 3, u'Groups': 3, u'Night': 3, u'aim': 3, u'rail': 3, u'victim': 3, u'poses': 3, u'flooring': 3, u'spread': 3, u'boxes': 3, u'hassle': 3, u'wangs': 3, u'Place': 3, u'properties': 3, u'newspapers': 3, u'prisoners': 3, u'medal': 3, u'researchers': 3, u'moors': 3, u'volatilities': 3, u'Edit': 3, u'notepad': 3, u'songs': 3, u'battle': 3, u'layers': 3, u'temples': 3, u'shares': 3, u'uniform': 3, u'collateral': 3, u'Deal': 3, u'heaven': 3, u'territories': 3, u'p&l': 3, u'serving': 3, u'willow': 3, u'inversion': 3, u'Skin': 3, u'domain': 3, u'transition': 3, u'breed': 3, u'gastroenteritis': 3, u'television': 3, u'Call': 3, u'Pho': 3, u'egg': 3, u'snack': 3, u'concert': 3, u'burst': 3, u'Team': 3, u'propaganda': 3, u'wheels': 3, u'wounds': 3, u'observers': 3, u'CO2': 3, u'heels': 3, u'enjoyment': 3, u'fruit': 3, u'theater': 3, u'dancers': 3, u'greetings': 3, u'thinking': 3, u'duration': 3, u'chefs': 3, u'processor': 3, u'aftershocks': 3, u'Country': 3, u'Entry': 3, u'deadline': 3, u'clerics': 3, u'horror': 3, u'squadrons': 3, u'arena': 3, u'soldier': 3, u'trainer': 3, u'authorization': 3, u'excuse': 3, u'Quantity': 3, u'grill': 3, u'bugs': 3, u'ego': 3, u'Derivatives': 3, u'absence': 3, u'None': 3, u'launch': 3, u'elder': 3, u'concentration': 3, u'popularity': 3, u'flights': 3, u'mantra': 3, u'War': 3, u'pact': 3, u'pack': 3, u'hoax': 3, u'rulers': 3, u'payers': 3, u'grant': 3, u'Dinner': 3, u'Internet': 3, u'reviewer': 3, u'$': 3, u'ecosystems': 3, u'vests': 3, u'viewpoints': 3, u'transport': 3, u'militants': 3, u'e': 3, u'go': 3, u'Parent': 3, u'topic': 3, u'kitty': 3, u'radicals': 3, u'stabilization': 3, u'crab': 3, u'fare': 3, u'pixel': 3, u'kilometres': 3, u'overcharges': 3, u'magnitude': 3, u'attachments': 3, u'islamist': 3, u'equity': 3, u'relatives': 3, u'proceedings': 3, u'winner': 3, u'fallout': 3, u'evolution': 3, u'efficiency': 3, u'a.m.': 3, u'quiz': 3, u'diversity': 3, u'speaker': 3, u'Chairman': 3, u'BS': 3, u'controllers': 3, u'payments': 3, u'LLC': 3, u'hh': 3, u'overflow': 3, u'mechanics': 3, u'functions': 3, u'Article': 3, u'enchiladas': 3, u'deposition': 3, u'permit': 3, u'Privacy': 3, u'county': 3, u'wars': 3, u'root': 3, u'bonus': 3, u'passcode': 3, u'lettuce': 3, u'P.S.': 3, u'seed': 3, u'ONLINE': 3, u'hide': 3, u'judges': 3, u'Days': 3, u'fields': 3, u'Dispatch': 3, u'testing': 3, u'tables': 3, u'cousin': 3, u'deregulation': 3, u'springs': 3, u'dusting': 3, u'CP': 3, u'vegetable': 3, u'Half': 3, u'magazine': 3, u'down': 3, u'atrocities': 3, u'shit': 3, u'Description': 3, u'journey': 3, u'militias': 3, u'potato': 3, u'souls': 3, u'technique': 3, u'governments': 3, u'eating': 3, u'suspect': 3, u'DSL': 3, u'parks': 3, u'SUSHI': 3, u'mankind': 3, u'switch': 3, u'sensor': 3, u'sounds': 3, u'subpoenas': 3, u'butt': 3, u'specials': 3, u'Court': 3, u'refunds': 3, u'cloth': 3, u'therapist': 3, u'gem': 3, u'whereabouts': 3, u'reading': 3, u'infrastructure': 3, u'disappointment': 3, u'acupuncture': 3, u'protein': 3, u'lamp': 3, u'bottle': 3, u'politicians': 3, u'mop': 3, u'grid': 3, u'nose': 3, u'confirm': 3, u'fluids': 3, u'broker': 3, u'airline': 3, u'harness': 3, u'lions': 3, u'USB': 3, u'imagination': 3, u'wake': 3, u'zinc': 3, u'fixtures': 3, u'dictatorship': 3, u'mothers': 3, u'dongle': 3, u'perspective': 3, u'defence': 3, u'prosecutors': 3, u'recall': 3, u'guards': 3, u'soda': 3, u'List': 3, u'coal': 3, u'existence': 3, u'20': 3, u'Amendment': 3, u'pot': 3, u'paint': 3, u'park': 3, u'networks': 3, u'waiting': 3, u'idiots': 3, u'breast': 3, u'repairs': 3, u'fans': 3, u'aircraft': 3, u'fundamentalists': 3, u'bid': 3, u'indication': 3, u'duck': 3, u'Box': 3, u'consumption': 3, u'drama': 3, u'bankruptcy': 3, u'hopes': 3, u'treats': 3, u'rejection': 3, u'curb': 3, u'pasture': 3, u'cafe': 3, u'functionality': 3, u'Business': 3, u'justification': 3, u'debtors': 3, u'hints': 3, u'closing': 3, u'invoices': 3, u'meter': 3, u'retail': 3, u'Developer': 3, u'Administration': 3, u'throat': 3, u'pedicure': 3, u'disease': 3, u'occasion': 3, u'beat': 3, u'photography': 3, u'beak': 3, u'Popup': 3, u'difficulties': 3, u'routine': 3, u'appearance': 3, u'Bitmap': 3, u'inspector': 3, u'eCommerce': 3, u'clinic': 3, u'civet': 3, u'Electricity': 3, u'match': 3, u'journalist': 3, u'lieutenant': 3, u'host': 3, u'guard': 3, u'brand': 3, u'dresser': 3, u'bladder': 3, u'starting': 3, u'merchant': 3, u'rise': 3, u'estimates': 3, u'aftermath': 3, u'forum': 3, u'analysts': 3, u'asset': 3, u'assessment': 3, u'hutch': 3, u'mm': 3, u'Kids': 3, u'tourism': 3, u'driving': 3, u'toe': 3, u'curtains': 3, u'fabrications': 3, u'treaty': 3, u'labels': 3, u'solutions': 3, u'STEAK': 3, u'situations': 3, u'grandmother': 3, u'discovery': 3, u'confusion': 3, u'cropdusters': 3, u'submarine': 3, u'craft': 3, u'accessories': 3, u'characters': 3, u'grades': 3, u'penines': 3, u'Wine': 3, u'D': 3, u'sussex': 3, u'melting': 3, u'hunt': 3, u'corn': 3, u'versions': 3, u'Day': 3, u'congregation': 3, u'pork': 3, u'preorder': 3, u'x33907': 3, u'1st': 3, u'sheds': 3, u'Trustee': 3, u'Media': 3, u'commodity': 3, u'Accord': 3, u'appetizers': 3, u'equality': 3, u'gaps': 3, u'tempura': 3, u'motion': 3, u'swing': 3, u'revenue': 3, u'convention': 3, u'20.doc': 3, u'quantity': 3, u'pants': 3, u'filters': 3, u'arrival': 3, u'guitar': 3, u'surplus': 3, u'sampling': 3, u'satisfaction': 3, u'discrepancy': 3, u'Commodity': 3, u'IV': 3, u'ID': 3, u'Confidentiality': 3, u'inability': 3, u'reward': 3, u'announcement': 3, u'donations': 3, u'Terror': 3, u'provider': 3, u'ladies': 3, u'racism': 3, u'cultures': 3, u'cinema': 3, u'diarrhea': 3, u'mmbtu': 3, u'follow': 3, u'removal': 3, u'entourage': 3, u'optionality': 3, u'will': 3, u'behaviour': 3, u'Yoga': 3, u'texts': 3, u'pairs': 3, u'appointees': 3, u'alcohol': 3, u'shipment': 3, u'paradise': 3, u'thread': 3, u'CURSE': 3, u'feel': 3, u'traveler': 3, u'finances': 3, u'cleaner': 3, u'penalty': 3, u'lineatus': 3, u'recording': 3, u'license': 3, u'context': 3, u'bond': 3, u'contractors': 3, u'edge': 3, u'contractor': 3, u'Hands': 3, u'commanders': 3, u'ecology': 3, u'hatred': 3, u'acupuncturist': 3, u'fisheries': 3, u'WINGS': 3, u'posters': 3, u'adjustment': 3, u'contributions': 3, u'confirmation': 3, u'P': 3, u'spoon': 3, u'relation': 3, u'motor': 3, u'spa': 3, u'tension': 3, u'lesion': 3, u'daycare': 3, u'Salary': 3, u'articles': 3, u'trap': 3, u'conflicts': 3, u'destinations': 3, u'publication': 3, u'guinea': 3, u'Paragraph': 3, u'tactics': 3, u'differential': 3, u'generations': 3, u'embarrassment': 3, u'agreements': 3, u'tap': 3, u'cursor': 3, u'wild': 3, u'layer': 3, u'rocket': 3, u'earthquakes': 3, u'branch': 3, u'provisions': 3, u'growth': 3, u'saddle': 3, u'surge': 3, u'Ball': 3, u'breeding': 3, u'volume': 3, u'Tel': 3, u'isda': 3, u'sympathizers': 3, u'Chandeliers': 3, u'Seller': 2, u'millet': 2, u'second': 2, u'errors': 2, u'Church': 2, u'Kevalam': 2, u'herd': 2, u'cult': 2, u'substance': 2, u'unwillingness': 2, u'Sheikhs': 2, u'criticism': 2, u'derivatives': 2, u'Rule': 2, u'accomplishment': 2, u'ld2d-#69334-1.DOC': 2, u'temperatures': 2, u'revenues': 2, u'NOTICE': 2, u'artillery': 2, u'drying': 2, u'comedians': 2, u'wind': 2, u'fit': 2, u'silver': 2, u'Mechanics': 2, u'whim': 2, u'misfortune': 2, u'smirk': 2, u'shelves': 2, u'wasp': 2, u'channels': 2, u'collapse': 2, u'wisdom': 2, u'Repair': 2, u'Code': 2, u'17H': 2, u'willingness': 2, u'object': 2, u'episode': 2, u'professor': 2, u'camp': 2, u'advisors': 2, u'cabins': 2, u'theme': 2, u'plate': 2, u'Account': 2, u'chromatograph': 2, u'sensitivity': 2, u'hammer': 2, u'Risk': 2, u'Cage': 2, u'claws': 2, u'2nd': 2, u'pregnancy': 2, u'dry': 2, u\"#'s\": 2, u'TDS': 2, u'campaigning': 2, u'demands': 2, u'harmony': 2, u'qualifications': 2, u'burgers': 2, u'MOVE': 2, u'Thanx': 2, u'ham': 2, u'advancement': 2, u'hay': 2, u'east': 2, u'shadow': 2, u'stylist': 2, u'enemies': 2, u'Redwood': 2, u'flopping': 2, u'polluter': 2, u'brigades': 2, u'hardliners': 2, u'opossums': 2, u'despair': 2, u'flatbread': 2, u'Fee': 2, u'appropriators': 2, u'Preseason': 2, u'altitude': 2, u'launching': 2, u'devices': 2, u'complications': 2, u'disgrace': 2, u'tournament': 2, u'LOGIN': 2, u'negotiations': 2, u'scale': 2, u'intent': 2, u'push': 2, u'corps': 2, u'veterans': 2, u'WEEK': 2, u'icing': 2, u'launchers': 2, u'leave': 2, u'spaces': 2, u'findings': 2, u'collage': 2, u'junk': 2, u'Ma': 2, u'locks': 2, u'applications': 2, u'stress': 2, u'applicant': 2, u'definitions': 2, u'webpage': 2, u'limbs': 2, u'attraction': 2, u'jiu': 2, u'Jack': 2, u'Coordinator': 2, u'instability': 2, u'disasters': 2, u'siege': 2, u'patronage': 2, u'backside': 2, u'programming': 2, u'routes': 2, u'habitation': 2, u'boulevard': 2, u'bite': 2, u'picketing': 2, u'knee': 2, u'pager': 2, u'average': 2, u'Decisions': 2, u'walking': 2, u'reconciling': 2, u'dispute': 2, u'suitcases': 2, u'4_28_00.doc': 2, u'Products': 2, u'outlet': 2, u'where': 2, u'vision': 2, u'sponsorship': 2, u'residence': 2, u's': 2, u'fi': 2, u'ants': 2, u'twin': 2, u'motives': 2, u'resturant': 2, u'purse': 2, u'fame': 2, u'climber': 2, u'wires': 2, u'sickness': 2, u'UTH': 2, u'edges': 2, u'tracking': 2, u'NAM': 2, u'CHESS': 2, u'Advice': 2, u'Gelceuticals': 2, u'preference': 2, u'tsunami': 2, u'bankruptcies': 2, u'seating': 2, u'memories': 2, u'hookers': 2, u'buying': 2, u'pull': 2, u'regimes': 2, u'ad': 2, u'kaoshikii': 2, u'congress': 2, u'slang': 2, u'neuter': 2, u'omnibus': 2, u'Hens': 2, u'to': 2, u'sand': 2, u'penalties': 2, u'pass': 2, u'scientists': 2, u'contrast': 2, u'OWNER': 2, u'compliance': 2, u'pics': 2, u'objectives': 2, u'teen': 2, u'substances': 2, u'AK47s': 2, u'ingredient': 2, u'hugs': 2, u'followers': 2, u'travelling': 2, u'ally': 2, u'BUNCH': 2, u'highway': 2, u'1920s': 2, u'bedlam': 2, u'Years': 2, u'feeder': 2, u'ADSL': 2, u'guess': 2, u'leverage': 2, u'cartoon': 2, u'B&B': 2, u'fights': 2, u'organisations': 2, u'ballerina': 2, u'brack': 2, u'singles': 2, u'virus': 2, u'directive': 2, u'barrel': 2, u'bulletin': 2, u'golf': 2, u'accommodations': 2, u'freight': 2, u'writer': 2, u'Rabbits': 2, u'Entities': 2, u'demons': 2, u'premises': 2, u'Server': 2, u'legislature': 2, u'suburbs': 2, u'Care': 2, u'E-mail': 2, u'Stock': 2, u'cuisine': 2, u'forgiveness': 2, u'epithet': 2, u'alert': 2, u'conclusions': 2, u'surprises': 2, u'Requests': 2, u'Pin': 2, u'consensus': 2, u'fabric': 2, u'be': 2, u'tankers': 2, u'crooks': 2, u'lover': 2, u'wildlife': 2, u'wrinkles': 2, u'pipefitters': 2, u'NET': 2, u'tasting': 2, u'Approval': 2, u'pastor': 2, u'supervisor': 2, u'e-mails': 2, u'freighter': 2, u'holes': 2, u'prizes': 2, u'CPI': 2, u'totes': 2, u'stops': 2, u'postings': 2, u'categories': 2, u'recruitment': 2, u'index': 2, u'survey': 2, u'residents': 2, u'extinctions': 2, u'pencil': 2, u\"1590's\": 2, u'balls': 2, u'challenge': 2, u'publications': 2, u'worksheet': 2, u'Police': 2, u'Cats': 2, u'slip': 2, u'element': 2, u'intellectuals': 2, u'insight': 2, u'passion': 2, u'thieves': 2, u'repercussions': 2, u'rotation': 2, u'glasses': 2, u'frequency': 2, u'ld2d-#69397-1.DOC': 2, u'craving': 2, u'length': 2, u'scammer': 2, u'Program': 2, u'collages': 2, u'ordering': 2, u'prostitute': 2, u'partnership': 2, u'abomination': 2, u'courtesy': 2, u'device': 2, u'painting': 2, u'greenhouse': 2, u'jaw': 2, u'tape': 2, u'secretaries': 2, u'capsules': 2, u'basking': 2, u'rein': 2, u'frame': 2, u'bidders': 2, u'PR': 2, u'destiny': 2, u'ends': 2, u'historians': 2, u'streams': 2, u'Campus': 2, u'crafter': 2, u'conflagration': 2, u'modeling': 2, u'graphics': 2, u'Chess': 2, u'Fuel': 2, u'denial': 2, u'drink': 2, u'forecasts': 2, u'uni': 2, u'DEAL': 2, u'flesh': 2, u'moments': 2, u'increases': 2, u'password': 2, u'I/C': 2, u'dove': 2, u'guaranty': 2, u'thief': 2, u'recognition': 2, u'payout': 2, u'lifestyle': 2, u'yrs': 2, u'Balance': 2, u'dissemination': 2, u'torch': 2, u'Yesterday': 2, u'DAY': 2, u'Loss': 2, u'Page': 2, u'chili': 2, u'worth': 2, u'Subscription': 2, u'chapel': 2, u'preacher': 2, u'7th': 2, u'counters': 2, u'bombast': 2, u'passenger': 2, u'era': 2, u'killies': 2, u'Swap': 2, u'fever': 2, u'mayor': 2, u'Review': 2, u'bang': 2, u'Downtown': 2, u'appointments': 2, u'maniac': 2, u'ex-members': 2, u'grandchildren': 2, u'luncheon': 2, u'scenes': 2, u'invention': 2, u'powers': 2, u'high': 2, u'gravy': 2, u'grave': 2, u'Bond': 2, u'neighborhoods': 2, u'nostrils': 2, u'aunt': 2, u'notion': 2, u'reserve': 2, u'do': 2, u'leisure': 2, u'trios': 2, u'steam': 2, u'secretary': 2, u'human': 2, u'cattle': 2, u'gentleman': 2, u'travellers': 2, u'liabilities': 2, u'hummus': 2, u'receiver': 2, u'negotiation': 2, u'ETS': 2, u'dozens': 2, u'duties': 2, u'cons': 2, u'sticker': 2, u'ld2d-#69336-1.XLS': 2, u'plates': 2, u'convictions': 2, u'fuss': 2, u'liberties': 2, u'Mind': 2, u'centres': 2, u'J.doc': 2, u'impression': 2, u'traditions': 2, u'quotes': 2, u'guacamole': 2, u'thyroid': 2, u'hills': 2, u'27th': 2, u'Hundreds': 2, u'openings': 2, u'audiotape': 2, u'bpd': 2, u'D7000': 2, u'Garage': 2, u'Patience': 2, u'medication': 2, u'prayer': 2, u'archive': 2, u'saplings': 2, u'beds': 2, u'Chicken': 2, u'zone': 2, u'liability': 2, u'12th': 2, u'revolution': 2, u'curse': 2, u'genes': 2, u'blackmail': 2, u'CHICK': 2, u'buck': 2, u'plotter': 2, u'pillow': 2, u'entrance': 2, u'F': 2, u'clue': 2, u'misconception': 2, u'migrants': 2, u'handle': 2, u'flank': 2, u'dominance': 2, u'nomination': 2, u'grandson': 2, u'embassies': 2, u'consulting': 2, u'tablets': 2, u'servant': 2, u'drop': 2, u'fires': 2, u'amusement': 2, u'showroom': 2, u'rebel': 2, u'selections': 2, u'promotion': 2, u'Suicide': 2, u'flipping': 2, u'sheep': 2, u'Tradename': 2, u'professionals': 2, u'vocals': 2, u'fruits': 2, u'photographer': 2, u'angel': 2, u'correction': 2, u'PhD': 2, u'veteran': 2, u'Phy': 2, u'implications': 2, u'slaves': 2, u'chicks': 2, u'tonnage': 2, u'proportion': 2, u'stain': 2, u'alcoholism': 2, u'leather': 2, u'Location': 2, u'blame': 2, u'setoff': 2, u'jerks': 2, u'dangers': 2, u'trick': 2, u'beaver': 2, u'worry': 2, u'gentlemen': 2, u'inquiry': 2, u'centuries': 2, u'favorites': 2, u'tradition': 2, u'breeze': 2, u'blackworms': 2, u'calendars': 2, u'symbolism': 2, u'greeting': 2, u'miracle': 2, u'output': 2, u'Mare': 2, u'assembly': 2, u'ideology': 2, u'backup': 2, u'protests': 2, u'Store': 2, u'Hotel': 2, u'smuggling': 2, u'beliefs': 2, u'Judges': 2, u'fusions': 2, u'reliability': 2, u'moves': 2, u'Annex': 2, u'evenings': 2, u'Law': 2, u'poop': 2, u'peak': 2, u'foster': 2, u'mpg': 2, u'Breakfast': 2, u'Town': 2, u'conscience': 2, u'darkness': 2, u'consumers': 2, u'witnesses': 2, u'strippers': 2, u'tracks': 2, u'losses': 2, u'advertising': 2, u'PUTS': 2, u'budgets': 2, u'cows': 2, u'phrase': 2, u\"16's\": 2, u'anytime': 2, u'probability': 2, u'Dessert': 2, u'fool': 2, u'trailer': 2, u'GOVERNMENT': 2, u'jaws': 2, u'viability': 2, u'ass': 2, u'Hour': 2, u'labs': 2, u'partnerships': 2, u'obedience': 2, u'financing': 2, u'performers': 2, u'miseries': 2, u'bondad': 2, u'cockatiel': 2, u'Peace': 2, u'lie': 2, u'cave': 2, u'QUESTIONS': 2, u'eater': 2, u'salary': 2, u'noone': 2, u'clean': 2, u'phenomenon': 2, u'parameters': 2, u'x365': 2, u'grocery': 2, u'Passcode': 2, u'retaliation': 2, u'perfume': 2, u'descriptions': 2, u'Mama': 2, u'Para': 2, u'mussels': 2, u'Brass': 2, u'likes': 2, u'generating': 2, u'packs': 2, u'determination': 2, u'liver': 2, u'Founder': 2, u'loop': 2, u'voters': 2, u'ld2d-#69381-1.DOC': 2, u'desserts': 2, u'composition': 2, u'pleadings': 2, u'dime': 2, u'user': 2, u'database': 2, u'consistency': 2, u'retirement': 2, u'wings': 2, u'signal': 2, u'strife': 2, u'brakes': 2, u'trends': 2, u'28th': 2, u'MWh': 2, u'trotters': 2, u'colonization': 2, u'feild': 2, u'shine': 2, u'simulation': 2, u'dude': 2, u'reef': 2, u'fears': 2, u'preachers': 2, u'draw': 2, u'depth': 2, u'farms': 2, u'barbecue': 2, u'ammonia': 2, u'mosque': 2, u'arrogance': 2, u'nausea': 2, u'verdict': 2, u'Index': 2, u'manliness': 2, u'jump': 2, u'expiration': 2, u'cell': 2, u'Green': 2, u'ozs': 2, u'virility': 2, u'Wonder': 2, u'buildup': 2, u'starters': 2, u'remains': 2, u'hiding': 2, u'rivalry': 2, u'boards': 2, u'sanctions': 2, u'Video': 2, u'arrangement': 2, u'Opportunity': 2, u'farm': 2, u'chiefs': 2, u'Visualization': 2, u'scoop': 2, u'bakery': 2, u'healthcare': 2, u'exclusion': 2, u'walnut': 2, u'mode': 2, u'crossing': 2, u'wines': 2, u'70s': 2, u'advisor': 2, u'busybodies': 2, u'privacy': 2, u'ld2d-#69396-1.DOC': 2, u'waist': 2, u'photograph': 2, u'referral': 2, u'spurs': 2, u'exhibit': 2, u'tabs': 2, u'Administrator': 2, u'tactic': 2, u'Underwear': 2, u'camper': 2, u'intentions': 2, u'gallery': 2, u'databases': 2, u'violation': 2, u'bases': 2, u'gras': 2, u'proponents': 2, u'consulates': 2, u'Driving': 2, u'luv': 2, u'importance': 2, u'minds': 2, u'bagels': 2, u'preparedness': 2, u'gambling': 2, u'liberals': 2, u'brunch': 2, u'resident': 2, u'capture': 2, u'northwest': 2, u'reflection': 2, u'well': 2, u'warlord': 2, u'coordination': 2, u'Programs': 2, u'burden': 2, u'motive': 2, u'moderates': 2, u'Assistant': 2, u'technician': 2, u'ear': 2, u'reservations': 2, u'utensils': 2, u'NEWS': 2, u'rumors': 2, u'offensive': 2, u'finch': 2, u'foie': 2, u'designers': 2, u'B2B': 2, u'void': 2, u'misunderstanding': 2, u'convenience': 2, u'Sales': 2, u'Doctor': 2, u'vulnerability': 2, u'tupperwear': 2, u'schooling': 2, u'specifics': 2, u'calf': 2, u'ETA_revision0307.doc': 2, u'FY04': 2, u'Irony': 2, u'autonomy': 2, u'guerilla': 2, u'deck': 2, u'hibernation': 2, u'PRC': 2, u'therapy': 2, u'operatives': 2, u'inserts': 2, u'Expansion': 2, u'grease': 2, u'Reps.': 2, u'Nail': 2, u'features': 2, u'downside': 2, u'Floor': 2, u'mine': 2, u'POP': 2, u'Attorney': 2, u'hunger': 2, u'visitor': 2, u'jurisdiction': 2, u'guilds': 2, u'northeast': 2, u'debts': 2, u'Leaders': 2, u'bad': 2, u'alterations': 2, u'scrap': 2, u'C': 2, u'chlorination': 2, u'ignorance': 2, u'uncertainty': 2, u'contribution': 2, u'20s': 2, u'offerings': 2, u'aviation': 2, u'sushi': 2, u'Nam': 2, u'bottles': 2, u'roms': 2, u'etiquette': 2, u'dusters': 2, u'peacekeeping': 2, u'buyers': 2, u'character': 2, u'News': 2, u'biodefense': 2, u'ops': 2, u'x35172': 2, u'chnages': 2, u'TIMES': 2, u'nerve': 2, u'shippers': 2, u'1990s': 2, u'editor': 2, u'landing': 2, u'surrender': 2, u'Golden': 2, u'temper': 2, u'Pager': 2, u'faction': 2, u'transfers': 2, u'salt': 2, u'SEO': 2, u'profits': 2, u'recalculation': 2, u'bomber': 2, u'21st': 2, u'reptiles': 2, u'marks': 2, u'tacos': 2, u'airfare': 2, u'nudes': 2, u'Protocol': 2, u'cleaners': 2, u'excellence': 2, u'diapers': 2, u'processing': 2, u'guardian': 2, u'clerk': 2, u'kilometers': 2, u'monies': 2, u'earthquake': 2, u'Awards': 2, u'checkout': 2, u'tandem': 2, u'soul': 2, u'soup': 2, u'9th': 2, u'drawer': 2, u'council': 2, u'max': 2, u'drawers': 2, u'6th': 2, u'carriers': 2, u'jail': 2, u'Interconnect': 2, u'shoes': 2, u'introductions': 2, u'Purchase': 2, u'assurance': 2, u'landlord': 2, u'think': 2, u'first': 2, u'degu': 2, u'fleeing': 2, u'corporations': 2, u'tractor': 2, u'conspiracy': 2, u'speakers': 2, u'foreigner': 2, u'consortium': 2, u'channel': 2, u'Name': 2, u'theatre': 2, u'investigations': 2, u'tract': 2, u'representatives': 2, u'threshold': 2, u'label': 2, u'enthusiasm': 2, u'relative': 2, u'seal': 2, u'pump': 2, u'killing': 2, u'childbirth': 2, u'trades': 2, u'Employment': 2, u'breakfasts': 2, u'custody': 2, u'CASH': 2, u'tug': 2, u'mary': 2, u'declaration': 2, u'silkie': 2, u'sleeping': 2, u'jitsu': 2, u'yr': 2, u'everyday': 2, u'arguments': 2, u'pan': 2, u'running': 2, u'imprisonment': 2, u'moving': 2, u'alternates': 2, u'gross': 2, u'tastings': 2, u'staffs': 2, u'Dry': 2, u'Termination': 2, u'lithograph': 2, u'Commissioners': 2, u'references': 2, u'breyer': 2, u'Counsel': 2, u'Bashers': 2, u'spice': 2, u'drills': 2, u'affection': 2, u'deer': 2, u'deed': 2, u'drivers': 2, u'hybrid': 2, u'Climate': 2, u'laptops': 2, u'resolution': 2, u'colleges': 2, u'trainers': 2, u'sashimi': 2, u'creatures': 2, u'90s': 2, u'ranges': 2, u'bioweaponeer': 2, u'extinction': 2, u'memos': 2, u'aperture': 2, u'clergy': 2, u'galleries': 2, u'coat': 2, u'paw': 2, u'rifles': 2, u'setback': 2, u'radar': 2, u'Forces': 2, u'Income': 2, u'lookout': 2, u'walls': 2, u'habits': 2, u'harm': 2, u'countrymen': 2, u'fist': 2, u'pigeon': 2, u'computers': 2, u'diversion': 2, u'trickle': 2, u'Fedayeen': 2, u'Participants': 2, u'wager': 2, u'killie': 2, u'divorce': 2, u'hamsters': 2, u'02-05-02.doc': 2, u'compliments': 2, u'Affairs': 2, u'Search': 2, u'rollbacks': 2, u'Kid': 2, u'pewter': 2, u'charm': 2, u'refrigerator': 2, u'kg': 2, u'mediation': 2, u'fins': 2, u'headlines': 2, u'merger': 2, u'silk': 2, u\"60's\": 2, u'burner': 2, u'cakes': 2, u'creativity': 2, u'skies': 2, u'calender': 2, u'Proposal': 2, u'copying': 2, u'keys': 2, u'assignment': 2, u'Activity': 2, u'cup': 2, u'deputy': 2, u'Position': 2, u'extensions': 2, u'gambit': 2, u'few': 2, u'an': 2, u'flow': 2, u'Land': 2, u'Presentation': 2, u'excuses': 2, u'POINTS': 2, u'lens': 2, u'tube': 2, u'holidaying': 2, u'disintegration': 2, u'queen': 2, u'dessert': 2, u'anywhere': 2, u'misc.consumers': 2, u'exchange': 2, u'Marriage': 2, u'sink': 2, u'talent': 2, u'Intelligence': 2, u'honor': 2, u'decrease': 2, u'Answer': 2, u'festivals': 2, u'staple': 2, u'f': 2, u'tag': 2, u'crickets': 2, u'infantry': 2, u'hangar': 2, u'lamb': 2, u'Drink': 2, u'furnace': 2, u'profile': 2, u'specifications': 2, u'incompetence': 2, u'philosophy': 2, u'bluff': 2, u'fray': 2, u'bombers': 2, u'labor': 2, u'criminal': 2, u'kindness': 2, u'airports': 2, u'disregard': 2, u'constraints': 2, u'junkie': 2, u'mate': 2, u'math': 2, u'Senator': 2, u'quo': 2, u'suffix': 2, u'puppet': 2, u'notebook.url': 2, u'monkey': 2, u'Ladies': 2, u'shrapnel': 2, u'DISPOSAL': 2, u'locker': 2, u'tide': 2, u'mornings': 2, u'demonstration': 2, u'min': 2, u'incentive': 2, u'mix': 2, u'STREET': 2, u'controls': 2, u'stripes': 2, u'bean': 2, u'fallibility': 2, u'accord': 2, u'monarchy': 2, u'Islands': 2, u'RAC': 2, u'empathy': 2, u'southeast': 2, u'taking': 2, u'Design': 2, u'passing': 2, u'vent': 2, u'cheques': 2, u'liquidations': 2, u'curtain': 2, u'bull': 2, u'counterparties': 2, u'Navy': 2, u'judgment': 2, u'sets': 2, u'Guaranties': 2, u'P.O.': 2, u'absorption': 2, u'bench': 2, u'citizen': 2, u'dryer': 2, u'discretion': 2, u'chains': 2, u'pepper': 2, u'blessings': 2, u'Billing': 2, u'Child': 2, u'preparations': 2, u'bug': 2, u'genitals': 2, u'pit': 2, u'corporation': 2, u'Act': 2, u'hitch': 2, u'pride': 2, u'MONEY': 2, u'conduct': 2, u'generals': 2, u'punishment': 2, u'forums': 2, u'grenade': 2, u'nonbondad': 2, u'arthritis': 2, u'Greetings': 2, u'salesperson': 2, u'hypocrisy': 2, u'centimetre': 2, u'god': 2, u'perception': 2, u'priorities': 2, u'smokers': 2, u'coding': 2, u'fantasy': 2, u'toy': 2, u'tow': 2, u'fiction': 2, u'percentage': 2, u'Shrimp': 2, u'postcards': 2, u'roles': 2, u'10th': 2, u'bridge': 2, u'snow': 2, u'rodents': 2, u'rider': 2, u'Reports': 2, u'complexes': 2, u'soups': 2, u'bait': 2, u'Peels': 2, u'radio': 2, u'-FINAL.doc': 2, u'fluid': 2, u'Mails': 2, u'1960s': 2, u'aquarium': 2, u'dedication': 2, u'Revenues': 2, u'towels': 2, u'beef': 2, u'blower': 2, u'bees': 2, u'microns': 2, u'apprehension': 2, u'teachers': 2, u'pyramid': 2, u'ramifications': 2, u'bands': 2, u'satellite': 2, u'screw': 2, u'greeter': 2, u'cycle': 2, u'savings': 2, u'alarms': 2, u'hearts': 2, u'lope': 2, u'casting': 2, u'advances': 2, u'addicts': 2, u'detector': 2, u'rumor': 2, u'zoom': 2, u'GRILL': 2, u'escape': 2, u'Hz': 2, u'proceeding': 2, u'booking': 2, u'cork': 2, u'planeloads': 2, u'genocide': 2, u'Attn.': 2, u'Acupuncture': 2, u'cafeteria': 2, u'towing': 2, u'crews': 2, u'intolerance': 2, u'26th': 2, u'uncle': 2, u'atty': 2, u'upheaval': 2, u'tin': 2, u'tutorial': 2, u'trailers': 2, u'discharge': 2, u'Salon': 2, u'intimacy': 2, u'rom': 2, u'deliveries': 2, u'ventilator': 2, u'Dad': 2, u'Cheese': 2, u'artwork': 2, u'trend': 2, u'guilty': 2, u'-2-F.doc': 2, u'prey': 2, u'sessions': 2, u'employee': 2, u'autumn': 2, u'streak': 2, u'plus': 2, u'cocktail': 2, u'renovation': 2, u'Parties': 2, u'representation': 2, u'comfort': 2, u'scammers': 2, u'worship': 2, u'Rules': 2, u'platform': 2, u'SUV': 2, u'wagon': 2, u'ailment': 2, u'bacteriologist': 2, u'profit': 2, u'factory': 2, u'someplace': 2, u'ENA': 2, u'roosters': 2, u'turn': 2, u'mortars': 2, u'childhood': 2, u'origin': 2, u'commissioners': 2, u'Stars': 2, u'engineer': 2, u'district': 2, u'returns': 2, u'governorates': 2, u'looting': 2, u't3i': 2, u'poisoning': 2, u'thermometer': 2, u'primaries': 2, u'aspen': 2, u'trafficking': 2, u\"80's\": 2, u'detective': 2, u'workshops': 2, u'expectation': 2, u'portions': 2, u'aluminum': 2, u'embassy': 2, u'missions': 2, u'colony': 2, u'pop': 2, u'endeavor': 2, u'turkey': 2, u'helicopter': 2, u'innkeeper': 2, u'WAY': 2, u'eaters': 2, u'phenophases': 2, u'telephone': 2, u'telephony': 2, u'participant': 2, u'persons': 2, u'statue': 2, u'ranch': 2, u'components': 2, u'termination': 2, u'kill': 2, u'GIRL': 2, u'blow': 2, u'sampler': 2, u'mystery': 2, u'shrimp': 2, u'stand': 2, u'Infinity': 2, u'nightlife': 2, u'flats': 2, u'START': 2, u'flower': 2, u'curve': 2, u'all': 2, u'disc': 2, u'smoking': 2, u'meditation': 2, u'mining': 2, u'GIS': 2, u'fat': 2, u'gearbox': 2, u'Pictures': 2, u'paralegal': 2, u'brief': 2, u'pullers': 2, u'racing': 2, u'BABA': 2, u'tragedy': 2, u'DSLR': 2, u'Things': 2, u'mma': 2, u'flaw': 2, u'urinals': 2, u'chores': 2, u'breaking': 2, u'prepayment': 2, u'fungus': 2, u'PASSWORD': 2, u'shade': 2, u'scientist': 2, u'developer': 2, u'resort': 2, u'predator': 2, u'turns': 2, u'friendship': 2, u'linens': 2, u'PHONE': 2, u'attendant': 2, u'earthworms': 2, u'vial': 2, u'tongues': 2, u'motivation': 2, u'gall': 2, u'finding': 2, u'donor': 2, u'cigarette': 2, u'seasons': 2, u'grandparents': 2, u'institutions': 2, u'tommorow': 2, u'cartoons': 2, u'Networks': 2, u'wallet': 2, u'arm': 2, u'opposition': 2, u'ranchers': 2, u'incomes': 2, u'reduction': 2, u'Wolves': 2, u'City': 2, u'credence': 2, u'currents': 2, u'Co.': 2, u'shirt': 2, u'disappearance': 2, u'peoples': 2, u'literature': 2, u'biochemist': 2, u'Con': 2, u'try': 2, u'loading': 2, u'advisers': 2, u'KEVALAM': 2, u'Air': 2, u'breeder': 2, u'innovation': 2, u'L.L.C': 2, u'delta': 2, u'ld2d-#69377-1.XLS': 2, u'raising': 2, u'Load': 2, u'hobby': 2, u'rally': 2, u'backs': 2, u'nice': 2, u'departments': 2, u'karma': 2, u'stable': 2, u'Buyer': 2, u'toenail': 2, u'wishes': 2, u'drinking': 2, u'roaches': 2, u'Chicks': 2, u'Interviews': 2, u'fold': 2, u'Link': 2, u'separation': 2, u'Clay': 2, u'lodging': 2, u'lottery': 2, u'examination': 2, u'timetable': 2, u'musician': 2, u'Guy': 2, u'condominium': 2, u'confidante': 2, u'assumptions': 2, u'panic': 2, u'masks': 2, u'hose': 2, u'Terms': 2, u'HELP': 2, u'crash': 2, u'Cat': 2, u'subcontinent': 2, u'studios': 2, u'Shuttle': 2, u'Baba': 2, u'respects': 2, u'sentiment': 2, u'accent': 2, u'potty': 2, u'shell': 2, u'Success': 2, u'sculpture': 2, u'creditors': 2, u'dilemmas': 2, u'criteria': 2, u'JPY': 2, u'stove': 2, u'longevity': 2, u'democrats': 2, u'Document': 2, u'gouging': 2, u'surroundings': 2, u'combo': 2, u'dope': 2, u'identification': 2, u'agencies': 2, u'commands': 2, u'lifeboat': 2, u'provinces': 2, u'Rolls': 2, u'remedies': 2, u'scrutiny': 2, u'painter': 2, u'SCAM': 2, u'malls': 2, u'raisers': 2, u'3143C': 2, u'biologist': 2, u'console': 2, u'nicks': 2, u'supply': 2, u'usage': 2, u'Pioneers': 2, u'overtures': 2, u'wonders': 2, u'leaf': 2, u'mines': 2, u'Dollars': 2, u'paste': 2, u'shipping': 2, u'carrier': 2, u'Finance': 2, u'appy': 2, u'intention': 2, u'temp': 2, u'ruling': 2, u'Jurisdictions': 2, u'goodness': 2, u'diplomat': 2, u'PLAN': 2, u'factors': 2, u'flatfish': 2, u'tonnes': 2, u'Unemployent': 1, u'Andreas': 1, u'hanging': 1, u'counterintelligence': 1, u'aggression': 1, u'payoff': 1, u'shura': 1, u'granting': 1, u'objection': 1, u'kennels': 1, u'appropriation': 1, u'politician': 1, u'Shanks': 1, u'scholar': 1, u'obstruction': 1, u'PERSON': 1, u'non-compete': 1, u'pulse': 1, u'cooking': 1, u'fossil': 1, u'hero': 1, u'affiliates': 1, u'DISCO': 1, u'Settlements': 1, u'controversy': 1, u'JOYSTICK': 1, u'segments': 1, u'kido': 1, u'Basis': 1, u'remnant': 1, u'spacewalks': 1, u'Expressionist': 1, u'menaces': 1, u'populations': 1, u'intake': 1, u'concepts': 1, u'masterminds': 1, u'omelets': 1, u'dragons': 1, u'Holding': 1, u'Dempsey': 1, u'Eagle': 1, u'LC': 1, u'how': 1, u'methodology': 1, u'fanaticism': 1, u'abstraction': 1, u'minimums': 1, u'shores': 1, u'wrong': 1, u'sentencing': 1, u'youths': 1, u'revolt': 1, u'signatories': 1, u'alias': 1, u'maids': 1, u'farmlands': 1, u'PEOPLE': 1, u'SALAD': 1, u'stockpiles': 1, u'plantains': 1, u'survivors': 1, u'Barber': 1, u'Pewter': 1, u'township': 1, u'slats': 1, u'API': 1, u'expectancy': 1, u'burial': 1, u'bowls': 1, u'contracting': 1, u'Crowds': 1, u'enviroment': 1, u'hairstyling': 1, u'foundation': 1, u'Lines': 1, u'Work': 1, u'threatened': 1, u'surveys': 1, u'Blessings': 1, u'chlorine': 1, u'birdie': 1, u'Facts': 1, u'r.': 1, u'overnight': 1, u'lazers': 1, u'palces': 1, u'veggie': 1, u'seizures': 1, u'reappropriation': 1, u'corssing': 1, u'handcuffs': 1, u'bodyguards': 1, u'acquisition': 1, u'Lipids': 1, u'runner': 1, u'shrubs': 1, u'corns': 1, u'countertop': 1, u'escalator': 1, u'grips': 1, u'addict': 1, u'visualizations': 1, u'detectors': 1, u'comp.sources.d': 1, u'tech': 1, u'fugitives': 1, u'saying': 1, u'signatures': 1, u'bomb': 1, u'reactor': 1, u'Paradise': 1, u'falsehoods': 1, u'non-smokers': 1, u'layout': 1, u'headline': 1, u'Relleno': 1, u'Permits': 1, u'Energyphiles': 1, u'orginals': 1, u'X': 1, u'Senators': 1, u'avenger': 1, u'boarder': 1, u'pretzel': 1, u'Rip': 1, u'Stipulation': 1, u'eyelids': 1, u'Fax.': 1, u'eneedle': 1, u'PS3': 1, u'financials': 1, u'ambitions': 1, u'pressures': 1, u'stamps': 1, u'scorn': 1, u'dslr': 1, u'Physios': 1, u'PST': 1, u\"GTC's\": 1, u'HND': 1, u'pillars': 1, u'investors': 1, u'triviality': 1, u'advert': 1, u'extraction': 1, u'much': 1, u'sommelier': 1, u'privilege': 1, u'profilers': 1, u'retrospect': 1, u'filmmaker': 1, u'lift': 1, u'phlox': 1, u'contingencies': 1, u'calcium': 1, u'Sub-cultures': 1, u'economics': 1, u\"to's\": 1, u'Incentive': 1, u'weirdness': 1, u'APPLICATIONS': 1, u'Ginger': 1, u'trustee': 1, u'Confirmation': 1, u'Python': 1, u'thievery': 1, u'rebellion': 1, u'theeth': 1, u'demotion': 1, u\"70's\": 1, u'marches': 1, u'photographers': 1, u'intrusion': 1, u'vice-president': 1, u'alt.animals.horses.breeding': 1, u'Modus': 1, u'Table': 1, u'nachos': 1, u'Builders': 1, u'veils': 1, u'Thank': 1, u'Mapping': 1, u'plight': 1, u'Unlce': 1, u'Metroplex': 1, u'entery': 1, u'slices': 1, u'Homeopath': 1, u'collections': 1, u'prison': 1, u'enchilada': 1, u'hat': 1, u'repition': 1, u'survival': 1, u'Length': 1, u'Grass': 1, u'anywere': 1, u'festivities': 1, u'Scallops': 1, u'battlefield': 1, u'consultants': 1, u'MP3': 1, u'Physiotherapists': 1, u'foe': 1, u'JAZZ': 1, u'Thing': 1, u'shifting': 1, u'brokerage': 1, u'manufacturing': 1, u'First': 1, u'predisposition': 1, u'Use': 1, u'honeymoon': 1, u'raiser': 1, u'over-generalizations': 1, u'spores': 1, u'defendants': 1, u'avail': 1, u'triplets': 1, u'tele': 1, u'halls': 1, u'perfumes': 1, u'simplifications': 1, u'molding': 1, u'napkins': 1, u'chiropractric': 1, u'verde': 1, u'Loads': 1, u'safeguard': 1, u'congratulations': 1, u'genealogy': 1, u'izakaya': 1, u'Tons': 1, u'panels': 1, u'tonne': 1, u'juvenile': 1, u'crowns': 1, u'workpapers': 1, u'developers': 1, u'E': 1, u'outage': 1, u'literalist': 1, u'disruption': 1, u'Charles': 1, u'packets': 1, u'anti-Semite': 1, u'Principal': 1, u\"AREA'S\": 1, u'theaters': 1, u'hotheads': 1, u'Peer': 1, u'downloading': 1, u'VAN': 1, u'consolidation': 1, u'bustle': 1, u'stays': 1, u'Rank': 1, u'subway': 1, u'defaults': 1, u'loads': 1, u'blade': 1, u'occurrence': 1, u'heavyweight': 1, u'CONFIDENTIALITY': 1, u'crackpot': 1, u'Luna': 1, u'current': 1, u'falling': 1, u'badge': 1, u'amalgam': 1, u'yards': 1, u'passengers': 1, u'MO': 1, u'LME': 1, u'MT': 1, u'influx': 1, u'I.S.C.': 1, u'tasks': 1, u'FERC': 1, u'COST': 1, u'fake': 1, u'predictions': 1, u'scope': 1, u'prosecutor': 1, u'duality': 1, u'Default': 1, u'validity': 1, u'Donations': 1, u'scratches': 1, u'riders': 1, u'believer': 1, u'PUC': 1, u'impasse': 1, u'phoebe': 1, u'stature': 1, u'pumpkin': 1, u'Out': 1, u'Weekends': 1, u'parachute': 1, u'BAC': 1, u'PEANUTS': 1, u'elephant': 1, u'beans': 1, u'latte': 1, u'golfers': 1, u'varieties': 1, u'tenants': 1, u'Flexibility': 1, u'mango': 1, u'Barn': 1, u'structuring': 1, u'budgies': 1, u'paraded': 1, u'troubles': 1, u'Agencies': 1, u'dwarfs': 1, u'suspension': 1, u'petition': 1, u'downsizing': 1, u'apron': 1, u'recipients': 1, u'origination': 1, u'Folly': 1, u'insomnia': 1, u'Para.': 1, u'twilight': 1, u'runners': 1, u'quarter': 1, u'square': 1, u'peacekeepers': 1, u'entering': 1, u'collisions': 1, u'formula': 1, u'squares': 1, u'superiors': 1, u'OBSERVATION': 1, u'Places': 1, u'hairdresser': 1, u'secessionists': 1, u'million': 1, u'incentives': 1, u'vegetarians': 1, u'Consent': 1, u'footwear': 1, u'parrot': 1, u'intuition': 1, u'reprisal': 1, u'open': 1, u'wrath': 1, u'Courtesy': 1, u'spay': 1, u'separatists': 1, u'shoppers': 1, u'Thoughts': 1, u'mid-August': 1, u'Appeals': 1, u'Comb': 1, u'iceberg': 1, u'coats': 1, u'counselor': 1, u'twinkies': 1, u'illness': 1, u'CFC': 1, u'saw': 1, u'baggage': 1, u'Pastor': 1, u'Beaches': 1, u'appellation': 1, u'opposite': 1, u'lifespans': 1, u'Holocaust': 1, u'arch-murderer': 1, u'OFOs': 1, u'topline': 1, u'interrogations': 1, u'cloak': 1, u'liberation': 1, u'hockey': 1, u'robe': 1, u'hiss': 1, u'freezing': 1, u'ENRONR~1.DOC': 1, u'mysticism': 1, u'resource': 1, u'artist': 1, u'hinges': 1, u'tortilla': 1, u'ROLLS': 1, u'temperance': 1, u'heifers': 1, u'clips': 1, u'dysentery': 1, u'rumours': 1, u'compounds': 1, u'vaccines': 1, u'bureau': 1, u'Baja': 1, u'teens': 1, u'SPICES': 1, u'decks': 1, u'lithos': 1, u'Securities': 1, u'Directors': 1, u'awards': 1, u'WWW': 1, u'Worms': 1, u'workplace': 1, u'allowance': 1, u'caring': 1, u'comb': 1, u'mounting': 1, u'brainwashing': 1, u'airliner': 1, u'Identity': 1, u'lanes': 1, u'PRS': 1, u'paedophilia': 1, u'perceptions': 1, u'3801A': 1, u'co-ordination': 1, u'spare': 1, u'single': 1, u'canoes': 1, u'spotlight': 1, u'twists': 1, u'regularity': 1, u'toothache': 1, u'binary': 1, u'wiring': 1, u'preconceptions': 1, u'breakdown': 1, u'railway': 1, u'psychiatrists': 1, u'Everyday': 1, u'gorse': 1, u'trains': 1, u'lambs': 1, u'manifold': 1, u'Crawfish': 1, u'potentiality': 1, u'waitresses': 1, u'headboard': 1, u'Approved': 1, u'around': 1, u'sums': 1, u'dark': 1, u'Aunt': 1, u'vacuum': 1, u'Parole': 1, u'sitcom': 1, u'nutrients': 1, u'souvenirs': 1, u'superiority': 1, u'BONES': 1, u'hooptie': 1, u'FLY': 1, u'fives': 1, u'Advance': 1, u'Foreigner': 1, u'diving': 1, u'Furnace': 1, u'THOUSANDS': 1, u'scandals': 1, u'exit': 1, u'Term': 1, u'uterine': 1, u'ration': 1, u'spadework': 1, u'standpoint': 1, u'mean': 1, u'fundraising': 1, u'fritters': 1, u'burglar': 1, u'myths': 1, u'worshippers': 1, u'bubble': 1, u'continents': 1, u'benedict': 1, u'beginners': 1, u'eyedropper': 1, u'Tattoo': 1, u'Guide': 1, u'regimen': 1, u'monopoly': 1, u'Sanwiches': 1, u'abuses': 1, u'followup': 1, u'accents': 1, u'uin': 1, u'Production': 1, u'sholder': 1, u'*ss': 1, u'pedestal': 1, u'introspection': 1, u'contemporaries': 1, u'Musk': 1, u'annex': 1, u'Employees': 1, u'meadowlarks': 1, u'midget': 1, u'planners': 1, u'BLAST': 1, u'sluts': 1, u'original': 1, u'waiver': 1, u'curate': 1, u'minicab': 1, u'wodges': 1, u'debris': 1, u'causes': 1, u'cpys': 1, u'unconsumables': 1, u'Theft': 1, u'smile': 1, u'Laws': 1, u'homepage': 1, u'debit': 1, u'swallows': 1, u'detention': 1, u'trillions': 1, u'Wolf': 1, u'linguists': 1, u'17th': 1, u'HOUSE': 1, u'misinformation': 1, u'Soldiers': 1, u'ORDERS': 1, u'Abuse': 1, u'Cape': 1, u'nurse': 1, u'Barese': 1, u'lobbyist': 1, u'detectives': 1, u'Xbox': 1, u'buzzing': 1, u'legend': 1, u'Cons': 1, u'Diplomacy': 1, u'Conf': 1, u'biolab': 1, u'murdering': 1, u'reorg': 1, u'sensors': 1, u'attendance': 1, u'Egg': 1, u'Peas': 1, u'archives': 1, u'fragrance': 1, u'tees': 1, u'keeping': 1, u'gravel': 1, u'Spores': 1, u'scramble': 1, u'campsite': 1, u'scruff': 1, u'6TH': 1, u'creature': 1, u'waitstaff': 1, u'lasciviousness': 1, u'evaluations': 1, u'Disclaimer': 1, u'jihadist': 1, u'hauling': 1, u'chemistries': 1, u'Signs': 1, u'gardneri': 1, u'patio': 1, u'radios': 1, u'SCAMMERS': 1, u'mousse': 1, u'resorts': 1, u'roots': 1, u'Collateral': 1, u'alla': 1, u'plotters': 1, u'Herpes': 1, u'LIPA': 1, u'tyrants': 1, u'IPA': 1, u'truths': 1, u'Authority': 1, u'Connections': 1, u'piping': 1, u'parishioners': 1, u'investigators': 1, u'shock': 1, u'Rose': 1, u'grandmothers': 1, u'clockwork': 1, u'neurology': 1, u'psychology': 1, u'inquires': 1, u'Astronomy': 1, u'downloads': 1, u'steering': 1, u'barges': 1, u'drives': 1, u'pitfalls': 1, u'conditioning': 1, u'airway': 1, u'rises': 1, u'Inspection': 1, u'misogyny': 1, u'graphic': 1, u'offsite': 1, u'sensations': 1, u'cyanide': 1, u'florist': 1, u'Transportation': 1, u'jet': 1, u'introduction': 1, u'zealot': 1, u'Bugs': 1, u'cleaser': 1, u'interviewer': 1, u'DEALER': 1, u'modes': 1, u'determiner': 1, u'QFs': 1, u'derailing': 1, u'Clauses': 1, u'defect': 1, u'Equity': 1, u'reliance': 1, u'confluence': 1, u'OTC': 1, u'ext': 1, u'bullseye': 1, u'TEST': 1, u'trifurcation': 1, u'indicator': 1, u'queries': 1, u'condos': 1, u'columns': 1, u'giants': 1, u'peril': 1, u'actress': 1, u'Itinerary': 1, u'Hearts': 1, u'banner': 1, u'writings': 1, u'sleeve': 1, u'cry': 1, u'banking': 1, u'Dignitaries': 1, u'tanker': 1, u'blowdry': 1, u'GROUP': 1, u'activists': 1, u'migration': 1, u'Correspondents': 1, u'Founders': 1, u'origami': 1, u'vitamins': 1, u'negotiator': 1, u'pickup': 1, u'avoidance': 1, u'mildew': 1, u'hardship': 1, u'postponement': 1, u'airholes': 1, u'let': 1, u'shanks': 1, u'reball': 1, u'healing': 1, u'pendulum': 1, u'bell': 1, u'coincidence': 1, u'scallop': 1, u'adaptation': 1, u'townhouse': 1, u'Feather': 1, u'roofing': 1, u'devil': 1, u'conveyor': 1, u'lizards': 1, u'anwser': 1, u'gelato': 1, u'wheeler': 1, u'Futurism': 1, u'sleeves': 1, u'handling': 1, u'hostess': 1, u'sesame': 1, u'optimization': 1, u'Measure': 1, u'pound': 1, u'WSI': 1, u'moto': 1, u'Angels': 1, u'guarentee': 1, u'HD': 1, u'defeat': 1, u'upbringing': 1, u'leaps': 1, u'necessity': 1, u'jobsite': 1, u'nickname': 1, u'Rats': 1, u'infertility': 1, u'picks': 1, u'strobe': 1, u'theatres': 1, u'Quality': 1, u'Lottery': 1, u'Survivors': 1, u'arrests': 1, u'ousting': 1, u'signals': 1, u'queso': 1, u'suffering': 1, u'quest': 1, u'nonenforcement': 1, u'tribes': 1, u'OS': 1, u'senate': 1, u'pals': 1, u'Proposal.xls': 1, u'bounce': 1, u'palm': 1, u'Friend': 1, u'stables': 1, u'broadband': 1, u'conditons': 1, u'seclusion': 1, u'temple': 1, u'Look': 1, u'bs': 1, u'whiteboard': 1, u'titer': 1, u'Mob.': 1, u'garbage': 1, u'into': 1, u'Logic': 1, u'servers': 1, u'contributor': 1, u'gases': 1, u'crackdown': 1, u'certification': 1, u'jacks': 1, u'inches': 1, u'Resolution': 1, u'intestines': 1, u'chloride': 1, u'sleepers': 1, u'hornet': 1, u'nationalist': 1, u'Dinners': 1, u'snaffle': 1, u'nationalism': 1, u'phantom': 1, u'thugs': 1, u'codes': 1, u'fixing': 1, u'scraps': 1, u'robots': 1, u'utilitarianism': 1, u'leaflets': 1, u'lane': 1, u'destinies': 1, u'mailing': 1, u'Hoax': 1, u'beverage': 1, u'retardation': 1, u'hailstorm': 1, u'menace': 1, u'CPA': 1, u'Beardies': 1, u'centers': 1, u'moorland': 1, u'young': 1, u'send': 1, u'Wake': 1, u'haircuts': 1, u'SOFTware': 1, u'armament': 1, u'garden': 1, u'torture': 1, u'mixing': 1, u'Wakes': 1, u'pullback': 1, u'obesity': 1, u'rack': 1, u'pledge': 1, u'cannibals': 1, u'wheat': 1, u'dynamics': 1, u'leakage': 1, u'hissy': 1, u'apparatus': 1, u\"Ass't.\": 1, u'LOCATION': 1, u'scenery': 1, u'caper': 1, u'proliferation': 1, u'Freedom': 1, u'punch': 1, u'TECHNOLOGY': 1, u'Fixtures': 1, u'POLYGAMY': 1, u'grandchild': 1, u'cousins': 1, u'popcorn': 1, u'maker': 1, u'Category': 1, u'Mountain': 1, u'Dining': 1, u'outcomes': 1, u'DIRECTIONS': 1, u'whistleblowing': 1, u'ministers': 1, u'heckuvalot': 1, u'Wedding': 1, u'Nomination': 1, u'disarming': 1, u'rubbish': 1, u'Madam': 1, u'this': 1, u'stategy': 1, u'Nephew': 1, u'barbershops': 1, u'rode': 1, u'signers': 1, u'depiction': 1, u'martyr': 1, u'paws': 1, u'docking': 1, u'mysteries': 1, u'native': 1, u'Q': 1, u'notebook': 1, u'fits': 1, u'cabbage': 1, u'solidarity': 1, u'prawns': 1, u'volunteers': 1, u'similarities': 1, u'comma': 1, u'motorcycle': 1, u'mutt': 1, u'Congrats': 1, u'Bladder': 1, u'subparagraph': 1, u'Haven': 1, u'designs': 1, u'docs': 1, u'dock': 1, u'WAITING': 1, u'billiard': 1, u'outlines': 1, u'conversos': 1, u'comedy': 1, u'ANSWERS': 1, u'Parmesan': 1, u'traces': 1, u'Network': 1, u'ambiance': 1, u'deficiency': 1, u'static': 1, u'irritation': 1, u'bay': 1, u'tenth': 1, u'witness': 1, u'Noise': 1, u'matrix': 1, u'valve': 1, u'uppercasing': 1, u'Confirmations': 1, u'A.M.': 1, u'favours': 1, u'madrasas': 1, u'Wholes': 1, u'inferiority': 1, u'regulators': 1, u'Point': 1, u'biosphere': 1, u'followings': 1, u'dvd': 1, u'scare': 1, u'catagory': 1, u'pines': 1, u'doublethink': 1, u'Pros': 1, u'blows': 1, u'Prod': 1, u'sergeant': 1, u'quietness': 1, u'potpourri': 1, u'sourcing': 1, u'briefing': 1, u'steer': 1, u'blogosphere': 1, u'yrs.': 1, u'Results': 1, u'Secret': 1, u'Workshop': 1, u'One': 1, u'necessities': 1, u'pwople': 1, u'hesitations': 1, u'PS4': 1, u'scooping': 1, u'soap': 1, u'accuracy': 1, u'segment': 1, u'sub-division': 1, u'vacancy': 1, u'Rangers': 1, u'bikes': 1, u'brink': 1, u'principal': 1, u'Update': 1, u'buttons': 1, u'printers': 1, u'listlessness': 1, u'kinesiologist': 1, u'alt.animals.cat': 1, u'allegation': 1, u'Mommism': 1, u'packer': 1, u'appliance': 1, u'Ideation': 1, u'saltimboca': 1, u'PT': 1, u'migrations': 1, u'PA': 1, u'membrane': 1, u'PO': 1, u'lawsuit': 1, u'Emergency': 1, u'Sea': 1, u'intents': 1, u'oregano': 1, u'undergraduate': 1, u'kindergarten': 1, u'Diligence': 1, u'feather': 1, u'Gem': 1, u'Gel': 1, u'homosexual': 1, u'c.': 1, u'pedantry': 1, u'gunpowder': 1, u'JOKE': 1, u'intranet': 1, u'chimichangas': 1, u'diversification': 1, u'reiteration': 1, u'hardware': 1, u'counterweight': 1, u'romance': 1, u'infinity': 1, u'proficiency': 1, u'dust': 1, u'broccoli': 1, u'shotgun': 1, u'Megapixel': 1, u'patterns': 1, u'Meats': 1, u'audio': 1, u'clicker': 1, u'glut': 1, u'Lover': 1, u'runflats': 1, u'glue': 1, u'Reason': 1, u'crack': 1, u'innocents': 1, u'biologists': 1, u'I/S': 1, u'pies': 1, u'Perseverance': 1, u'laundromats': 1, u'Warning': 1, u'hangout': 1, u'hissing': 1, u'ballot': 1, u'Sc.': 1, u'jalapeno': 1, u'Macrocosm': 1, u'keystone': 1, u'biology': 1, u'blowing': 1, u'posterity': 1, u'residences': 1, u'VOM': 1, u'chrome': 1, u'Em-enro2.doc': 1, u'Descriptions': 1, u'lung': 1, u'stamina': 1, u'mid-80s': 1, u'frustration': 1, u'Contract': 1, u'companie': 1, u'imbalances': 1, u'menstruation': 1, u'lawlessness': 1, u'sirloin': 1, u'nurses': 1, u'rubble': 1, u'inn': 1, u'replica': 1, u'GROUPS': 1, u'DAD': 1, u'Services.doc': 1, u'saviour': 1, u'CONGRATULATIONS': 1, u'MACS': 1, u'monday': 1, u'Praise': 1, u'South': 1, u'searches': 1, u'corking': 1, u'gardens': 1, u'clamoring': 1, u'Parakeet': 1, u'stub': 1, u'Ranger': 1, u'ale': 1, u'delegate': 1, u'indices': 1, u'chew': 1, u'heebee': 1, u'Troubles': 1, u'horn': 1, u'cookbook': 1, u'LSD': 1, u'stardom': 1, u'CAMERA': 1, u'above': 1, u'$ervice': 1, u'notions': 1, u'interns': 1, u'wrapping': 1, u'conglomerate': 1, u'celebration': 1, u'watchers': 1, u'walkie': 1, u'Jet': 1, u'4TH': 1, u'thursday': 1, u'hindsight': 1, u'redwings': 1, u'1S9': 1, u'lable': 1, u'crest': 1, u'eclipse': 1, u'theories': 1, u'divorces': 1, u'serpent': 1, u'mid-day': 1, u'conditioner': 1, u'bday': 1, u'supermarkets': 1, u'green': 1, u'ambulance': 1, u'atrocity': 1, u'greed': 1, u'somewhere': 1, u'Bands': 1, u'SEATS': 1, u'carton': 1, u'Rumor': 1, u'split': 1, u'remission': 1, u'Control': 1, u'Citizenship': 1, u'oxygen': 1, u'backgrounds': 1, u'slavery': 1, u'non-interference': 1, u'CLUSTER': 1, u'flyers': 1, u'feeds': 1, u'schemes': 1, u'gatherings': 1, u'flock': 1, u'ocnversation': 1, u'cameras': 1, u'vessels': 1, u'fellows': 1, u'barrier': 1, u'veto': 1, u'disputes': 1, u'delight': 1, u'ratepayer': 1, u'transferability': 1, u'dispersal': 1, u'generalizations': 1, u'videoconference': 1, u'Amendments': 1, u'AIDS': 1, u'overs': 1, u'cascades': 1, u'elevator': 1, u'observations': 1, u'wastes': 1, u'cereal': 1, u'SHIT': 1, u'mercy': 1, u'guild': 1, u'tavern': 1, u'Mechaincs': 1, u'Snacks': 1, u'Sex': 1, u'binds': 1, u'guilt': 1, u'iron': 1, u'mid-February': 1, u'dealship': 1, u'giraffes': 1, u'convience': 1, u'Crab': 1, u'realm': 1, u'luxury': 1, u'curfew': 1, u'Crickets': 1, u'thinset': 1, u'alumni': 1, u'Scene': 1, u'PAQ': 1, u'PAT': 1, u'Worker': 1, u'trailor': 1, u'chandelier': 1, u'keywords': 1, u'PAL': 1, u'Photographs': 1, u'resemblance': 1, u'countersignature': 1, u'runflat': 1, u'rectangle': 1, u'di': 1, u'endorsements': 1, u'ecologist': 1, u'certificates': 1, u'rebirth': 1, u'bandwidth': 1, u'Clinic': 1, u'gears': 1, u'tussock': 1, u'humanists': 1, u'profession': 1, u'eReader': 1, u'listeners': 1, u'deputies': 1, u'encounters': 1, u'shields': 1, u'co.': 1, u'breakaway': 1, u'wa': 1, u'clues': 1, u'bras': 1, u'ilk': 1, u'Leads': 1, u'MOO': 1, u'cod': 1, u'S@P': 1, u'Helpers': 1, u'com': 1, u'col': 1, u'seizure': 1, u'ETA': 1, u'speak': 1, u'DAUGHTER': 1, u\"47's\": 1, u'fetishism': 1, u'catering': 1, u'physician': 1, u'ahead': 1, u'launcher': 1, u'Sidenote': 1, u'Hoof': 1, u'plover': 1, u'smorgasbord': 1, u'stint': 1, u'dealerships': 1, u'miniature': 1, u'patent': 1, u'punctuation': 1, u'synch': 1, u'hierarchies': 1, u'fuse': 1, u'thx': 1, u'drip': 1, u'camps': 1, u'operandi': 1, u'musical': 1, u'equivalant': 1, u'gods': 1, u'Roosters': 1, u'OVERVIEW': 1, u'Messages': 1, u'boxer': 1, u'lymphoma': 1, u'retreat': 1, u'dinasaurs': 1, u'HAMSTERS': 1, u'Trading': 1, u'lapses': 1, u'starvation': 1, u'dualities': 1, u'appliances': 1, u'bore': 1, u'HEAVEN': 1, u'humor': 1, u'DISHES': 1, u'conservationists': 1, u'Evaluation': 1, u'filming': 1, u'Restructuring': 1, u'Salsa': 1, u'beating': 1, u'provocations': 1, u'Mailing': 1, u'rallying': 1, u'diner': 1, u'hostilities': 1, u'considerations': 1, u'Cut': 1, u'dilemma': 1, u'Fistfights': 1, u'unilevel': 1, u'romaine': 1, u'b****': 1, u'Specifications': 1, u'Vol.': 1, u'conservation': 1, u'wax': 1, u'tints': 1, u'snows': 1, u'needles': 1, u'prepayments': 1, u'cancers': 1, u'firewalls': 1, u'promises': 1, u'physical': 1, u\"DJ's\": 1, u'holding': 1, u'shrink': 1, u'heyday': 1, u'brothers': 1, u'outreach': 1, u'dissipation': 1, u'funerals': 1, u'longshoreman': 1, u'Sandalwood': 1, u'silverware': 1, u'EOS': 1, u'cavies': 1, u'supplement': 1, u'Republic': 1, u'microwave': 1, u'superpower': 1, u'killings': 1, u'rhythm': 1, u'decking': 1, u'Facility': 1, u'morelias': 1, u'gut': 1, u'Ineos.xls': 1, u'bryer': 1, u'flexibiltiy': 1, u'snipers': 1, u'Form': 1, u'travelguides': 1, u'evictees': 1, u'Hibernation': 1, u'Legacy': 1, u'domains': 1, u'yoke': 1, u'airbase': 1, u'pancreatitis': 1, u'extra': 1, u'Mezza': 1, u'snowboard': 1, u'discrediting': 1, u'Lawmakers': 1, u'Customers': 1, u'DA': 1, u'live': 1, u'Cities': 1, u'MEALS': 1, u'envelope': 1, u'petard': 1, u'UFOs': 1, u'clumps': 1, u'mousey': 1, u'cab': 1, u'MMC': 1, u'spy': 1, u'subsidies': 1, u'supremacy': 1, u'libertarian': 1, u'Shows': 1, u'lounge': 1, u'GTCs': 1, u'armies': 1, u'sacrifice': 1, u\"Purus'a\": 1, u'castling': 1, u'Shih': 1, u'crepe': 1, u'futures': 1, u'neighbourhoods': 1, u'Recovery': 1, u'Author': 1, u'physios': 1, u'nitrogen': 1, u'birdy': 1, u'Scampi': 1, u'RP': 1, u'rosette': 1, u'Landing': 1, u'styrofoam': 1, u'hackles': 1, u'Rating': 1, u'refineries': 1, u'tails': 1, u'streaks': 1, u'fumes': 1, u'concerts': 1, u'ed': 1, u'Dude': 1, u'Legal': 1, u'naming': 1, u'calling': 1, u'irons': 1, u'Crest': 1, u'thirst': 1, u'opener': 1, u'Meowing': 1, u'SPRDOPT': 1, u'Cover': 1, u'virtuoso': 1, u'advantages': 1, u'Microbiologist': 1, u'occupations': 1, u'Parts': 1, u'Rates': 1, u'gasp': 1, u'forwarding': 1, u'households': 1, u\"bees'\": 1, u'greatness': 1, u'quad': 1, u'hammocks': 1, u'magnesium': 1, u'browser': 1, u'13th': 1, u'Mail': 1, u'offering': 1, u\"d'etat\": 1, u'manufacturers': 1, u'shore': 1, u'online': 1, u'Off': 1, u'infiltrators': 1, u'numero': 1, u'mullah': 1, u'Ph.': 1, u'excerpts': 1, u'Roll': 1, u'sinks': 1, u'texture': 1, u'deployments': 1, u'Restoration': 1, u'Representative': 1, u'cannon': 1, u'seamstresses': 1, u'losers': 1, u'Apps': 1, u'Rodents': 1, u'palette': 1, u'dressage': 1, u'seekers': 1, u'colours': 1, u'therapies': 1, u'Tavern': 1, u'pixels': 1, u'ethicities': 1, u'installation': 1, u'fliers': 1, u'Death': 1, u'Sir': 1, u'hybrids': 1, u'PEP': 1, u'dispatch': 1, u'COB': 1, u'learning': 1, u'brats': 1, u'clashes': 1, u'cycling': 1, u'Dentist': 1, u'exhaustion': 1, u'Morality': 1, u'CUISINE': 1, u'hammy': 1, u'founders': 1, u'Casinos': 1, u'realities': 1, u'Degu': 1, u'editorial': 1, u'dregs': 1, u'TYPE': 1, u'orientation': 1, u'embrace': 1, u'misanthropy': 1, u'MEAT': 1, u'coworkers': 1, u'sweeper': 1, u'ADMISSION': 1, u'someon': 1, u'Aids': 1, u'joystick': 1, u'Arthritis': 1, u'ps.': 1, u'livestock': 1, u'armour': 1, u'neon': 1, u'Spot': 1, u'improvement': 1, u'republic': 1, u'conferees': 1, u'read': 1, u'ruler': 1, u'Project': 1, u'listening': 1, u'Exp.doc': 1, u'rear': 1, u'Shop': 1, u'ribbons': 1, u'suppliers': 1, u't': 1, u'Operation': 1, u'm16': 1, u'bobber': 1, u'Mark': 1, u'Mary': 1, u'Asbestos': 1, u'deficit': 1, u'Interface': 1, u'landmines': 1, u'hustle': 1, u'sixth': 1, u'interrogators': 1, u'L.P': 1, u'hiatus': 1, u'Solutions': 1, u'assassin': 1, u'inclusion': 1, u'Lava': 1, u'intervention': 1, u'stare': 1, u'hunks': 1, u'low': 1, u'chorion': 1, u'J': 1, u'recoil': 1, u'Mimosas': 1, u'Original': 1, u'fraud': 1, u'Century': 1, u'bucket': 1, u'postures': 1, u'sunroom': 1, u\"luna's\": 1, u'nerd': 1, u'nerf': 1, u'cabinets': 1, u'credibility': 1, u'Purpose': 1, u'mathematics': 1, u'poor': 1, u'suites': 1, u'60s': 1, u'Visualisations': 1, u'carpenter': 1, u'podium': 1, u'tendencies': 1, u'chords': 1, u'marionettes': 1, u'Bro': 1, u'strings': 1, u'Damage': 1, u'carpet': 1, u'GUYS': 1, u'fervor': 1, u'fountain': 1, u'volunteer': 1, u'mid-nineties': 1, u\"UTH's\": 1, u'rogue': 1, u'chiros': 1, u'rehearing': 1, u'retrial': 1, u'cookies': 1, u'General': 1, u'deliciousness': 1, u'emotions': 1, u'thickness': 1, u'mins.': 1, u'Govt': 1, u'Craving': 1, u'turmoil': 1, u'recruits': 1, u'Briefing': 1, u'traumas': 1, u'outgrowth': 1, u'vegetarian': 1, u'popes': 1, u'powerhead': 1, u'successors': 1, u'ROMs': 1, u'glitch': 1, u'gunmen': 1, u'Abundance': 1, u'Limits': 1, u'ex-cons': 1, u'Policemen': 1, u'Smoker': 1, u'pretense': 1, u'blacksmithing': 1, u'Meditation': 1, u'oilfield': 1, u'boycott': 1, u'archipelago': 1, u'12-20-00.doc': 1, u'WEEKS': 1, u'Federation': 1, u'ledger': 1, u'ideologue': 1, u'stockholders': 1, u'PGT': 1, u'Dreams': 1, u'gash': 1, u'tries': 1, u'bashing': 1, u'crafts': 1, u'dream': 1, u'Horse': 1, u'remnants': 1, u'reservoir': 1, u'solving': 1, u'rabble': 1, u'peanuts': 1, u'Surgeon': 1, u'roomful': 1, u'friendliness': 1, u'Bredders': 1, u'antiquity': 1, u'WMDs': 1, u'payer': 1, u'alt.animals.felines.snowleopards': 1, u'toda': 1, u'Armaments': 1, u'absurdity': 1, u'Engine': 1, u'magnet': 1, u'dears': 1, u'sympathizer': 1, u'bass': 1, u're-wiring': 1, u'coastline': 1, u'PIECES': 1, u'algae': 1, u'but': 1, u'kung': 1, u'daisy': 1, u'anesthetic': 1, u'COURT': 1, u'Copyright': 1, u'gpa': 1, u'transcendence': 1, u'Reminder': 1, u'mist': 1, u'arbitration': 1, u'Tablet': 1, u'TRACTOR': 1, u'scheme': 1, u'banana': 1, u'bowel': 1, u'Fries': 1, u'norms': 1, u'translation': 1, u'steaks': 1, u'apprentice': 1, u'ouster': 1, u'squeaks': 1, u'haddock': 1, u'Decrease': 1, u'garrison': 1, u'Defence': 1, u'committment': 1, u'emperors': 1, u'Window': 1, u'sentences': 1, u'organs': 1, u'lil': 1, u'Approvals': 1, u'lip': 1, u'STORY': 1, u'Thx': 1, u'watt': 1, u'STORE': 1, u'aberrations': 1, u'sturdy': 1, u'alt.animals.felines.diseases': 1, u'Fishing': 1, u'blend': 1, u'shirtsleeves': 1, u'flicker': 1, u'completion': 1, u'meanwhile': 1, u'barcoding': 1, u'boost': 1, u'LANDING': 1, u'withdrawal': 1, u'hype': 1, u'scanning': 1, u'grey': 1, u'baldness': 1, u'Plt': 1, u'patties': 1, u'RESTAURANT': 1, u'familiarity': 1, u'tolls': 1, u'NX1': 1, u'fiance': 1, u'minorities': 1, u'alt.animals': 1, u'TMS': 1, u'battery': 1, u'header': 1, u'phobia': 1, u'vessel': 1, u'stamp': 1, u'bodyworker': 1, u'damn': 1, u'Preamble': 1, u'delights': 1, u'minimunm': 1, u'referrals': 1, u'conspirator': 1, u'pace': 1, u'socialism': 1, u'fleet': 1, u'transcripts': 1, u'petshoppe': 1, u'wildflowers': 1, u'Dictator': 1, u'salons': 1, u'FAX': 1, u'FAQ': 1, u'sham': 1, u'hallway': 1, u'classmates': 1, u'Transmission': 1, u'youngsters': 1, u'arbitrators': 1, u'plugs': 1, u'crucible': 1, u'Distances': 1, u'secession': 1, u'distances': 1, u'judgments': 1, u'settlements': 1, u'confiscation': 1, u'mid-20s': 1, u'throats': 1, u'guarantees': 1, u'transformation': 1, u'DOG': 1, u'appendices': 1, u'populous': 1, u'paramilitary': 1, u'submission': 1, u'UBS': 1, u'T2i': 1, u'parade': 1, u'fathers': 1, u'metres': 1, u'plumbers': 1, u'Economy': 1, u'NWP': 1, u'Empowerment': 1, u'fresco': 1, u'Economics': 1, u'cge': 1, u'rug': 1, u'ids': 1, u'Reference': 1, u'miracles': 1, u'disclosure': 1, u'tofu': 1, u'dissatisfaction': 1, u'smells': 1, u'Only.doc': 1, u'insider': 1, u'Killifish': 1, u'Republics': 1, u'visas': 1, u'heritage': 1, u'spawning': 1, u'manufacture': 1, u'laffa': 1, u'injection': 1, u'grams': 1, u'skull': 1, u'Perspective': 1, u'acidity': 1, u'stuffs': 1, u'reopening': 1, u'cotton': 1, u'ASSISTANCE': 1, u'TM': 1, u'pedicures': 1, u'TC': 1, u'AD': 1, u'AG': 1, u'Pounds': 1, u'AK': 1, u'T1': 1, u'AP': 1, u'AR': 1, u'tundra': 1, u'Mommies': 1, u'outing': 1, u'Self': 1, u'gf': 1, u'airliners': 1, u'Quadra': 1, u'Immigrant': 1, u'Words': 1, u'P&I': 1, u'maam': 1, u'bloodworms': 1, u'rattling': 1, u'Investors': 1, u'asparagus': 1, u'Spa': 1, u'mujahidin': 1, u'comforts': 1, u'picket': 1, u'oz.': 1, u'Equipment': 1, u'Camera': 1, u'booth': 1, u'download': 1, u'auspices': 1, u'bodice': 1, u'Provisions': 1, u'EESI': 1, u'valet': 1, u'poles': 1, u\"canape's\": 1, u'accomplices': 1, u'MICROcomputer': 1, u'commercial': 1, u'fifteenth': 1, u'Volumes': 1, u'mid-2004': 1, u'copyright': 1, u'mid-2003': 1, u'surpluses': 1, u'comers': 1, u'cloud': 1, u'cheeks': 1, u'dentists': 1, u'bettas': 1, u'visibility': 1, u'starter': 1, u'crosses': 1, u'recession': 1, u'Traveler': 1, u'conformity': 1, u'cropduster': 1, u'saithe': 1, u'vibe': 1, u'sentiments': 1, u'Reservation': 1, u'Emails': 1, u'Disaster': 1, u'cutlery': 1, u'advocates': 1, u'bakers': 1, u'executives': 1, u'sercvice': 1, u'bathing': 1, u'Civilization': 1, u'Usage': 1, u'Body': 1, u'masses': 1, u'youngster': 1, u'sweets': 1, u'sweety': 1, u'hippies': 1, u'risotto': 1, u'muff': 1, u'perfectionist': 1, u'nationals': 1, u'chunk': 1, u'opinons': 1, u'Breeding': 1, u'special': 1, u'CEC': 1, u'granddaughters': 1, u'activist': 1, u\"one's\": 1, u'achievements': 1, u'umbrella': 1, u'intruder': 1, u'princess': 1, u'mac': 1, u'timer': 1, u'stride': 1, u'wading': 1, u'resumes': 1, u'mein': 1, u'MUD': 1, u'filigree': 1, u'Contracts': 1, u'journals': 1, u'morbidity': 1, u'aspiration': 1, u'cravings': 1, u'spurt': 1, u'sp': 1, u'carrots': 1, u'hairstylist': 1, u'horrors': 1, u'Other': 1, u'APPROVAL': 1, u'instrumentation': 1, u'Underwriting': 1, u'mountaintop': 1, u'balloting': 1, u'mileage': 1, u'vengeance': 1, u'demise': 1, u'stereo': 1, u'spaceflight': 1, u'url': 1, u'armatures': 1, u'gesture': 1, u'bun': 1, u'airlift': 1, u'Mate': 1, u'boutiques': 1, u'Public': 1, u'envy': 1, u'sheriff': 1, u'employer': 1, u'sulfur': 1, u'girlie': 1, u'righteousness': 1, u'adherent': 1, u'FLOOR': 1, u'Solids': 1, u'gray': 1, u'wish': 1, u'grad': 1, u'prayers': 1, u'pitch': 1, u'driveway': 1, u'Indicators': 1, u'outsiders': 1, u'1002`s': 1, u'Fugitives': 1, u'limits': 1, u'manifestations': 1, u'kings': 1, u'discrimination': 1, u'Immigration': 1, u'haemorrhage': 1, u'neocons': 1, u'Switchboard': 1, u'poet': 1, u'varietal': 1, u'Visualizations': 1, u'novel': 1, u'NVQ': 1, u'BILL': 1, u'Tires': 1, u'limbo': 1, u'evacuees': 1, u'coating': 1, u'You': 1, u'wreck': 1, u'PPI': 1, u'operas': 1, u'PPM': 1, u'PPL': 1, u'chants': 1, u'phonies': 1, u'underground': 1, u'Types': 1, u'Maximum': 1, u'spree': 1, u'magician': 1, u'rift': 1, u'obstacles': 1, u'Idea': 1, u'stirrups': 1, u'headcount': 1, u'lube': 1, u'BC': 1, u'reaffirmation': 1, u'Gaming': 1, u'duplicity': 1, u'titts': 1, u'aficionados': 1, u'kick': 1, u'Joke': 1, u'snowstorm': 1, u'harbour': 1, u'Cookies': 1, u'Lights': 1, u'Victim': 1, u'SQL': 1, u'setups': 1, u'Seizures': 1, u'shed': 1, u'EES': 1, u'homo': 1, u'ROM': 1, u'Wishes': 1, u'warranties': 1, u'limitations': 1, u'journal': 1, u'instinct': 1, u'PHOTOS': 1, u'eatables': 1, u'puppies': 1, u'tongue': 1, u'stakes': 1, u'cheque': 1, u'additions': 1, u'networking': 1, u'gerbil': 1, u'museum': 1, u'IDs': 1, u'stylists': 1, u'accountant': 1, u'Directions': 1, u'whoopsie': 1, u'gain': 1, u'courts': 1, u'brick': 1, u'misc.consumers.frugal-living': 1, u'converter': 1, u'hosting': 1, u'limit': 1, u'display': 1, u'urging': 1, u'beats': 1, u'contest': 1, u'crust': 1, u'talkie': 1, u'expositions': 1, u'bodytalk': 1, u'accidents': 1, u'Proposition': 1, u'immigeration': 1, u'dynamic': 1, u'Potty': 1, u'protest': 1, u'Toledo': 1, u'captain': 1, u'Plate': 1, u'gamut': 1, u'buddy': 1, u'cellfone': 1, u'presents': 1, u'osteos': 1, u'trousers': 1, u'teaching': 1, u'hats': 1, u'Mystery': 1, u'Grocery': 1, u'railways': 1, u'HAND': 1, u'borritos': 1, u'trademarking': 1, u'baking': 1, u'laurels': 1, u'heading': 1, u'blindfolds': 1, u'Agreements': 1, u'cactus': 1, u'spouses': 1, u'preferences': 1, u'prisons': 1, u'orchestra': 1, u'f*ck': 1, u'new': 1, u'niche': 1, u'screams': 1, u'SEQUENCE': 1, u'loot': 1, u'resupply': 1, u'contraction': 1, u'eve.': 1, u'Correction': 1, u'miscreants': 1, u'Issues': 1, u'Wonderland': 1, u'Hotels': 1, u'adolescents': 1, u'intrigue': 1, u'whatnot': 1, u'Wire': 1, u'jackets': 1, u'counts': 1, u'landscape': 1, u'Dispute': 1, u'criminals': 1, u'crapload': 1, u'secessionist': 1, u'leaks': 1, u'typo': 1, u'Stl': 1, u'Assignments': 1, u'warm': 1, u'shelters': 1, u'molesters': 1, u'ward': 1, u'setup': 1, u'regrets': 1, u'exceptions': 1, u'Lie': 1, u'FY05': 1, u'bullfights': 1, u'cehf': 1, u'give': 1, u'punk': 1, u'honey': 1, u'degenerate': 1, u'stupidity': 1, u'ethnicity': 1, u'cuticles': 1, u'minority': 1, u'chairpersons': 1, u'believers': 1, u'indignity': 1, u'LITTLE': 1, u'egos': 1, u'waterfront': 1, u'third': 1, u'mid-evenings': 1, u'fleece': 1, u'mumbo': 1, u'Pixel': 1, u'scoring': 1, u'soaking': 1, u'JOB': 1, u'encounter': 1, u'Birth': 1, u'apogee': 1, u'combination': 1, u'fixation': 1, u'downs': 1, u'clientelage': 1, u'brightness': 1, u'Hats': 1, u'ventilation': 1, u'ADDRESS': 1, u'durability': 1, u'principles': 1, u'Wok': 1, u'Factor': 1, u'extract': 1, u'enclosure': 1, u'Remedies': 1, u'videotape': 1, u'tales': 1, u'Driftwood': 1, u'reader': 1, u\"20's\": 1, u'revenge': 1, u'hoodie': 1, u'starts': 1, u'condemnations': 1, u'Cure': 1, u'SSD': 1, u'Cafe': 1, u'boarders': 1, u'Publications': 1, u'economists': 1, u'grade': 1, u'executions': 1, u'hoof': 1, u'assortment': 1, u'hood': 1, u'spinach': 1, u'traitress': 1, u'zeros': 1, u'ECP': 1, u'Press': 1, u'fitters': 1, u'exposures': 1, u'approximation': 1, u'hottie': 1, u'mitigating': 1, u'Stationery': 1, u'childcare': 1, u'tweezers': 1, u'POS': 1, u'hoods': 1, u'regular': 1, u'wedges': 1, u'inconsistency': 1, u'observation': 1, u'doc': 1, u'dot': 1, u'discontent': 1, u'CHEF': 1, u'uneasiness': 1, u'thirds': 1, u'divinity': 1, u'sugar': 1, u'celery': 1, u'Others': 1, u'History': 1, u'Bronze': 1, u'reconstruction': 1, u'bat': 1, u'stooges': 1, u'ban': 1, u'crapfest': 1, u'ears': 1, u'decided': 1, u'OPINION': 1, u'continent': 1, u'timeframe': 1, u'Evaluations': 1, u'warrior': 1, u'orthodontist': 1, u'motto': 1, u'overstatements': 1, u'uno': 1, u'hygiene': 1, u'arsenic': 1, u'Chocolate': 1, u'16s': 1, u'Plaster': 1, u'milieu': 1, u'renegotiation': 1, u'entered': 1, u'connoisseur': 1, u'CT': 1, u'NAME': 1, u'Process': 1, u'Sushi': 1, u'Dollar': 1, u'itinerary': 1, u'reconnaissance': 1, u'Ideas': 1, u'80Y': 1, u'cans': 1, u'committments': 1, u'sidelines': 1, u'advocate': 1, u'AUCTION': 1, u'KilliFish': 1, u'VP': 1, u'garlic': 1, u'butter': 1, u'paradigm': 1, u'consciousness': 1, u'Mobilising': 1, u'thaks': 1, u'Crime': 1, u'fighters': 1, u'STEPS': 1, u'yes': 1, u'affinity': 1, u'sailors': 1, u'nationalists': 1, u'dreams': 1, u'Bait': 1, u'semi-sketchiness': 1, u'capitals': 1, u'dean': 1, u'Blowback': 1, u'shuttles': 1, u'paragraphs': 1, u'normal': 1, u'daytime': 1, u'meanings': 1, u'Cafes': 1, u'jester': 1, u'confrontation': 1, u'missive': 1, u'empowerment': 1, u'yelling': 1, u'Powder': 1, u'pathalias': 1, u'info.': 1, u'carrot': 1, u'intellectual': 1, u'Draft': 1, u'lieu': 1, u'22s': 1, u'MAILING': 1, u'tennis': 1, u'winters': 1, u'fraction': 1, u'DNA': 1, u'sonus': 1, u'garments': 1, u'blindness': 1, u'bounds': 1, u'Parking': 1, u'cosmos': 1, u'daddy': 1, u'Ballerina': 1, u'sticks': 1, u'semicolon': 1, u'classic': 1, u'covers': 1, u'floating': 1, u'alerts': 1, u'aunte': 1, u'exporter': 1, u'handicap': 1, u'diet': 1, u'ammount': 1, u'pizzas': 1, u'microcosm': 1, u'daily': 1, u'jacket': 1, u'premiums': 1, u'hijacker': 1, u'mill': 1, u'retention': 1, u'praises': 1, u'Shortages': 1, u'pouch': 1, u'Castling': 1, u'misstatements': 1, u'kimberwick': 1, u'shoot': 1, u'PLATE': 1, u'staples': 1, u'PROCESS': 1, u'Habit': 1, u'proposals': 1, u'travels': 1, u'dip': 1, u'drawings': 1, u'shave': 1, u'nighstand': 1, u'Antiques': 1, u'Romance': 1, u'gnocchi': 1, u'filler': 1, u'favour': 1, u'bloke': 1, u'frosting': 1, u\"'60s\": 1, u'arancini': 1, u'cuckoo': 1, u'Lotus': 1, u'shift': 1, u'bruises': 1, u'cussing': 1, u'expulsion': 1, u'spheres': 1, u'convoys': 1, u'Technology': 1, u'massage': 1, u'Fountain': 1, u'modus': 1, u\"F'ers\": 1, u'additive': 1, u'scenarios': 1, u'Lunch': 1, u'perp': 1, u'perv': 1, u'aspirin': 1, u'chasms': 1, u'AUD': 1, u'labyrinth': 1, u'fly': 1, u'pipette': 1, u'Bath': 1, u'Numbers': 1, u'bites': 1, u'reflector': 1, u'chemical': 1, u'sunday': 1, u'detentions': 1, u'skater': 1, u'persuasion': 1, u'proclaimers': 1, u'pint': 1, u'critics': 1, u'Platter': 1, u'Wontons': 1, u'exterminator': 1, u'avant': 1, u'tale': 1, u'cascade': 1, u'basket': 1, u'Trip': 1, u'thresholds': 1, u'aquasafe': 1, u'interesting': 1, u'reigon': 1, u'salatim': 1, u'conquest': 1, u'brainer': 1, u'killer': 1, u'markings': 1, u'bullshit': 1, u'Investigators': 1, u'settings': 1, u'Luv': 1, u'elephants': 1, u'Saviour': 1, u'signage': 1, u'3rd': 1, u'multiplayer': 1, u'litterbox': 1, u'G': 1, u'spies': 1, u'spiel': 1, u'Door': 1, u'tomatos': 1, u'Afternoon': 1, u'org': 1, u'Flooding': 1, u'Options': 1, u'quesadillas': 1, u'grist': 1, u'listings': 1, u'DAYS': 1, u'registrar': 1, u'pepperoni': 1, u'1Q': 1, u'shipyard': 1, u'ISO': 1, u'long': 1, u'fiji': 1, u'milling': 1, u'1e': 1, u'moisture': 1, u'WORLD': 1, u'goddesses': 1, u'undocking': 1, u'sailing': 1, u'LIST': 1, u'mutilation': 1, u'knives': 1, u'redvepco.doc': 1, u'coconut': 1, u'marrying': 1, u'DH': 1, u'topics': 1, u'voices': 1, u'dubia': 1, u'comedian': 1, u'GYM': 1, u'WiFi': 1, u'endangered': 1, u'haste': 1, u'handbag': 1, u'Dr': 1, u'beta': 1, u'entreaty': 1, u'sheets': 1, u'upland': 1, u'napkin': 1, u'Denial': 1, u'supposition': 1, u'moderator': 1, u'Hours': 1, u'We': 1, u'Hull': 1, u'spirituality': 1, u'manoeuvre': 1, u'black': 1, u'awareness': 1, u'muni': 1, u'PG&E': 1, u'reps': 1, u'spraying': 1, u'gee': 1, u'hippy': 1, u'conjunction': 1, u'gel': 1, u'Education': 1, u'lethargy': 1, u'Grant': 1, u'seas': 1, u'hickies': 1, u'wonder': 1, u'BALLROOM': 1, u'ornament': 1, u'forecast': 1, u'dempsey': 1, u'legitimacy': 1, u'nationality': 1, u'tub': 1, u'lopez': 1, u'ringleader': 1, u'motivations': 1, u'parentheses': 1, u'nomenclature': 1, u'patrons': 1, u'highlights': 1, u'dwellers': 1, u'guardians': 1, u'holders': 1, u'venues': 1, u'innovations': 1, u'grants': 1, u'Vomiting': 1, u'mare': 1, u'arts': 1, u'tuning': 1, u'workshop': 1, u'compromise': 1, u'Taxpayers': 1, u'Points': 1, u'COMM': 1, u'Action': 1, u'overdose': 1, u'COMp': 1, u'many': 1, u'margin': 1, u'philosophies': 1, u'bathrooms': 1, u'Factors': 1, u'traffickers': 1, u'Wool': 1, u'different': 1, u'Plans': 1, u'oven': 1, u'enquiries': 1, u'intermediary': 1, u'residency': 1, u'exhaust': 1, u'companion': 1, u'sumo': 1, u'Motion': 1, u'experice': 1, u'unprofessionalism': 1, u'parody': 1, u'gates': 1, u'Revocation': 1, u'multiplex': 1, u'rental': 1, u'pile': 1, u'breyers': 1, u'careers': 1, u'Island': 1, u'L/C': 1, u'retailers': 1, u'New': 1, u'organizing': 1, u'matching': 1, u'genetics': 1, u'pioneer': 1, u'TROUBLE': 1, u're-election': 1, u'dictators': 1, u'turkistan': 1, u'dings': 1, u'antisocialism': 1, u'drag': 1, u'Trade': 1, u'pockets': 1, u'west': 1, u'x-37097': 1, u'coupon': 1, u'pastures': 1, u'paraphernalia': 1, u'Plenty': 1, u'chats': 1, u'COSTS': 1, u'walkway': 1, u'refurb': 1, u'Attitude': 1, u'netting': 1, u'suitcase': 1, u'roughhouse': 1, u'COFFEE': 1, u'conundrum': 1, u'BENEFIT': 1, u'VISA': 1, u'planets': 1, u'barometers': 1, u'forger': 1, u'WORKERS': 1, u'Moon': 1, u'HOAX': 1, u'Station': 1, u'yorkedness': 1, u'TAU': 1, u'mineral': 1, u'modernization': 1, u'TIBCO': 1, u'puffs': 1, u'sitting': 1, u'renewal': 1, u'stipes': 1, u'washer': 1, u'splitter': 1, u'alma': 1, u'celebrity': 1, u'Course': 1, u'Rector': 1, u'Asset': 1, u'Needs': 1, u'burger': 1, u'affectation': 1, u'ribbon': 1, u'tattoos': 1, u'component': 1, u'ranger': 1, u'bakeries': 1, u'publisher': 1, u'Ballroom': 1, u'storefront': 1, u'quilling': 1, u'gymnasiums': 1, u'misery': 1, u'milks': 1, u'transit': 1, u'Yahoos': 1, u'Core': 1, u'texting': 1, u'Walls': 1, u'splash': 1, u'libel': 1, u'Cory': 1, u'Governments': 1, u'formality': 1, u'tasking': 1, u'cluster': 1, u'paragraph': 1, u'halts': 1, u'refugee': 1, u'purchases': 1, u'shark': 1, u'share': 1, u'potatos': 1, u'P.M.': 1, u'Spare': 1, u'ensemble': 1, u'uprising': 1, u'par': 1, u'ambassador': 1, u'eats': 1, u'blunder': 1, u'playing': 1, u'infant': 1, u'dough': 1, u'winger': 1, u'Toes': 1, u'sodium': 1, u'Queso': 1, u'pad': 1, u'T&D': 1, u'inception': 1, u'viewers': 1, u'Terrorists': 1, u'Lack': 1, u'anti-Americanism': 1, u'pao': 1, u'foxes': 1, u'Pedicures': 1, u'backpacks': 1, u'heights': 1, u'initiatives': 1, u'lovers': 1, u'Lawyers': 1, u'actins': 1, u\"O'clock\": 1, u'beardies': 1, u'CPIM': 1, u'Construction': 1, u'brewery': 1, u'foreground': 1, u'warrenty': 1, u'Tints': 1, u'Reception': 1, u'ET': 1, u'Uno': 1, u'Ed': 1, u'trimmers': 1, u'audacity': 1, u'Complexities': 1, u'instances': 1, u'86M': 1, u'5th': 1, u'Cheers': 1, u'assumption': 1, u'Uncle': 1, u'booster': 1, u'conduit': 1, u'darkroom': 1, u'Bullet': 1, u'18T': 1, u'Problem': 1, u'horizons': 1, u'lunatics': 1, u'SCIENTIST': 1, u'updo': 1, u'Conf.': 1, u'derivative': 1, u'talkshow': 1, u'ages': 1, u'Custom': 1, u'Arrival': 1, u'paths': 1, u'pinkie': 1, u'Workers': 1, u'build': 1, u'commentary': 1, u'province': 1, u'salmon': 1, u'chart': 1, u'kb': 1, u'cretins': 1, u'pekin': 1, u'organism': 1, u'obligations': 1, u'fino': 1, u'giant': 1, u'alt.animals.tiger': 1, u'Solidarity': 1, u'Magic': 1, u'bdr': 1, u'Favorite': 1, u'courage': 1, u'batter': 1, u'theft': 1, u'annexation': 1, u'EXPERIENCE': 1, u'armature': 1, u'monarchies': 1, u'11th': 1, u'leaderships': 1, u'GEM': 1, u'TCA': 1, u'King': 1, u'Monopoly': 1, u'environmentalists': 1, u'premise': 1, u'genders': 1, u'kitchens': 1, u'Yes': 1, u're-run': 1, u'shrines': 1, u'alt.animals.ethics.vegetarian': 1, u'Sausage': 1, u'Counselors': 1, u'newborn': 1, u'dances': 1, u'dancer': 1, u'cottonwoods': 1, u'grandsons': 1, u'secret': 1, u'nukes': 1, u'gay': 1, u'cruelty': 1, u'gap': 1, u'vastness': 1, u'fur': 1, u'Feet': 1, u'College': 1, u'cruiseline': 1, u'Aplo.': 1, u'cents': 1, u'hydrocele': 1, u'urethra': 1, u'ruts': 1, u'complaints': 1, u'RETAIL': 1, u'husbands': 1, u'gestures': 1, u'percentages': 1, u'landmark': 1, u'initials': 1, u'darn': 1, u'amendmnets': 1, u'alignment': 1, u'timber': 1, u'Theory': 1, u'multimillions': 1, u'cue': 1, u'Snake': 1, u'snap': 1, u'unloading': 1, u'Dogwood': 1, u'DANCING': 1, u'chambermaid': 1, u'judgement': 1, u'disrepair': 1, u'glove': 1, u'wit': 1, u'MOVING': 1, u'gardening': 1, u'vols': 1, u'Desperation': 1, u'delegation': 1, u'candle': 1, u'acquaintance': 1, u'jewelry': 1, u'culprit': 1, u'defamation': 1, u'boasts': 1, u'pen': 1, u'smail': 1, u'Cyanogen': 1, u'pea': 1, u'TAP': 1, u'costumer': 1, u'costumes': 1, u'hostages': 1, u'piles': 1, u'Voters': 1, u'graduation': 1, u'ounce': 1, u'invitaion': 1, u'shrewdness': 1, u'pollution': 1, u'jimmy': 1, u'Visas': 1, u'wantons': 1, u'Parks': 1, u'conduits': 1, u'normality': 1, u'pronunciation': 1, u'Phenology': 1, u'Temperament': 1, u'lb.': 1, u'Steel': 1, u'immigration': 1, u'subsidiary': 1, u'calico': 1, u'lifeguard': 1, u'aversion': 1, u'jumbo': 1, u'repoire': 1, u'Terminal': 1, u'engineering': 1, u'Versailles': 1, u'WOMAN': 1, u'Maw': 1, u'pesticides': 1, u'mayonnaise': 1, u'Warming': 1, u'Man': 1, u'Case': 1, u'Padmasana': 1, u'antiquities': 1, u'cater': 1, u'Priorities': 1, u'fishes': 1, u'Beginning': 1, u'salespeople': 1, u'chrisssake': 1, u'ignoramus': 1, u'failures': 1, u'whiting': 1, u'groceries': 1, u'query': 1, u'SAMPLE.DOC': 1, u'Means': 1, u'chaps': 1, u'enlightenment': 1, u'brigade': 1, u'entire': 1, u'duster': 1, u'Preparedness': 1, u'ceasefire': 1, u'havens': 1, u'sewage': 1, u'educators': 1, u'alt.consumers': 1, u'Vehicle': 1, u'demonstrations': 1, u'DOCTOR': 1, u'3s': 1, u'exercise': 1, u'toast': 1, u'Professor': 1, u'Sstaff': 1, u'bachelor': 1, u'intercept': 1, u'mindset': 1, u'Videoconference': 1, u'remark': 1, u'cere': 1, u'weekday': 1, u'Download': 1, u'MTLE': 1, u'Vet': 1, u'SMS': 1, u'scandal': 1, u'Dale': 1, u'calculation': 1, u'Statue': 1, u'defendant': 1, u'Laser': 1, u'S&S': 1, u'handcraft': 1, u'aggregators': 1, u'Connection': 1, u'Flakes': 1, u'Relief': 1, u'Reward': 1, u'Managers': 1, u'Cabalah': 1, u'stations': 1, u'blender': 1, u'praise': 1, u'brinkmanship': 1, u'Pilates': 1, u'snacks': 1, u'YE': 1, u'noises': 1, u'dinners': 1, u'flashpoints': 1, u'forest': 1, u'Authorities': 1, u'buildings': 1, u'hight': 1, u'Guards': 1, u'communicator': 1, u'liner': 1, u'metaphors': 1, u'addiction': 1, u'bartenders': 1, u'geopolitics': 1, u'symbols': 1, u'shreds': 1, u'industries': 1, u'bridges': 1, u'lb': 1, u'lo': 1, u'Hopelessness': 1, u'ext.': 1, u'eSpeakers': 1, u'descendants': 1, u'GMAT': 1, u'MYSTERYS': 1, u'cutting': 1, u'Mother': 1, u'toddler': 1, u'halibut': 1, u'Spaghetti': 1, u'jugular': 1, u'hurdles': 1, u'cichlid': 1, u'programmes': 1, u'farriers': 1, u'X37047': 1, u'Trivia': 1, u'MANAGER': 1, u'lecture': 1, u'Stage': 1, u'CSA': 1, u'UPDATE': 1, u'approaches': 1, u'que': 1, u'Tanker': 1, u'interaction': 1, u'yarn': 1, u'MOON': 1, u'barriers': 1, u'serivce': 1, u'STONER': 1, u'coreligionists': 1, u'Coast': 1, u'lemonade': 1, u'gear': 1, u'Deacon': 1, u'050901.doc': 1, u'detection': 1, u'Pound': 1, u'furnishings': 1, u'shampoo': 1, u'Cluster': 1, u'Parmigiana': 1, u'Engineer': 1, u'returnees': 1, u'Oil': 1, u'billiards': 1, u'gravity': 1, u'Tourists': 1, u'Ticket': 1, u'BATCH': 1, u'alt.animals.dog': 1, u'prisoner': 1, u'MORALITY': 1, u'Goal': 1, u'industrialist': 1, u'satay': 1, u'counter-propaganda': 1, u'Mod': 1, u'photographs': 1, u'beam': 1, u'Stories': 1, u'chauvinisms': 1, u'substrate': 1, u'rage': 1, u'fixes': 1, u'cycles': 1, u'caches': 1, u'omission': 1, u'Area': 1, u'showdown': 1, u'Passion': 1, u'Boil': 1, u'brunt': 1, u'h=guys': 1, u'discounts': 1, u'Realists': 1, u'cauliflower': 1, u'Study': 1, u'S': 1, u'TAGG': 1, u'instant': 1, u'buster': 1, u'guerrilla': 1, u'CHURCH': 1, u'earning': 1, u'Pending': 1, u'citizenship': 1, u'OLE': 1, u'mouthpiece': 1, u'Trouble': 1, u'Nations': 1, u'fellow': 1, u'Signoffs': 1, u'blackouts': 1, u'plain': 1, u\"compan's\": 1, u'Mechanism': 1, u'arrangements': 1, u'Return': 1, u'casualty': 1, u'Panel': 1, u'reporting': 1, u'sisters': 1, u'croissants': 1, u'invitations': 1, u'x36709': 1, u'kidnappings': 1, u'Interviewers': 1, u'Gold': 1, u'comparisons': 1, u'stooge': 1, u'domestic': 1, u'flashlight': 1, u'ads': 1, u'NX3': 1, u'reformer': 1, u'adn': 1, u'Officer': 1, u'C.DTF': 1, u'Misto': 1, u'Release': 1, u'sofa': 1, u'EXPERIENCES': 1, u'heed': 1, u'Fear': 1, u'majeure': 1, u'shrug': 1, u'slide': 1, u'Jihad': 1, u'panes': 1, u'hoss': 1, u'seriousness': 1, u'bills': 1, u'commitee': 1, u'Weight': 1, u'herbs': 1, u'oppositon': 1, u'certainty': 1, u'addendum': 1, u'Herbalist': 1, u'Arts': 1, u'Scientists': 1, u'barcodes': 1, u'herpes': 1, u'brides': 1, u'vegetables': 1, u'outline': 1, u'Chili': 1, u'hotspots': 1, u'buy': 1, u'dancewear': 1, u'plague': 1, u'editing': 1, u'ecosystem': 1, u'birthdate': 1, u'Insurance': 1, u'FREEDOM': 1, u'pic': 1, u'commentators': 1, u'shooting': 1, u'revocation': 1, u'LOTS': 1, u'oak': 1, u'forestry': 1, u'opinon': 1, u'Beards': 1, u'convicts': 1, u'detractors': 1, u'bundle': 1, u'godsend': 1, u'baker': 1, u'hikes': 1, u'Sleep': 1, u'parole': 1, u'alt.animals.lion': 1, u'8th': 1, u'Boutique': 1, u'sci': 1, u'hate': 1, u'Earthquakes': 1, u'youngsteers': 1, u'Salad': 1, u'stationery': 1, u'instincts': 1, u'riso': 1, u'jack': 1, u'ex-pat': 1, u'Steak': 1, u'GI': 1, u'Restaurants': 1, u'Campaign': 1, u'venue': 1, u'sculpting': 1, u'bicycle': 1, u'disciplines': 1, u'Nightmare': 1, u'emptiness': 1, u'forkfuls': 1, u'blue': 1, u'schedulers': 1, u'Collaboration': 1, u'hydration': 1, u'non-violence': 1, u'Plants': 1, u'responsiveness': 1, u'useability': 1, u'Owner': 1, u'della': 1, u'offs': 1, u'conservatives': 1, u'feelings': 1, u'meats': 1, u'Tens': 1, u'Browns': 1, u'preview': 1, u'musk': 1, u'mush': 1, u'coffins': 1, u'saber': 1, u'runaround': 1, u'abundance': 1, u'rangoon': 1, u'cancellations': 1, u'salvage': 1, u'Tenacity': 1, u'scheduling': 1, u'keep': 1, u'looser': 1, u'guarantee': 1, u'Wheel': 1, u'Lawman': 1, u'enquiry': 1, u'intruders': 1, u'poker': 1, u'mouths': 1, u'delicacy': 1, u'mesh': 1, u'cement': 1, u'Friendliness': 1, u'stronghold': 1, u'diarheya': 1, u'e-commerce': 1, u'vapor': 1, u'Degus': 1, u'thesis': 1, u'Hero': 1, u'destroyer': 1, u'polluters': 1, u'urination': 1, u'misdirection': 1, u'manicure': 1, u'choir': 1, u'affiliate': 1, u'fitness': 1, u'M5J': 1, u'waffle': 1, u'juggling': 1, u'Transmutation': 1, u'millennium': 1, u'clamps': 1, u'washes': 1, u'stipend': 1, u'pubs': 1, u'outfits': 1, u'heck': 1, u'Chair': 1, u'PROD': 1, u'inspectors': 1, u'attractions': 1, u'occupancy': 1, u'insulation': 1, u'scissors': 1, u'mercury': 1, u'AREA': 1, u'duress': 1, u'negotiating': 1, u'Benefit': 1, u'nudging': 1, u'condiments': 1, u'kosas': 1, u'mirth': 1, u'Unit': 1, u'leafy': 1, u'ray': 1, u'relapse': 1, u'effectiveness': 1, u'rides': 1, u'glands': 1, u'glob': 1, u'sandbags': 1, u'carcinoma': 1, u'coin': 1, u'glow': 1, u'Wang': 1, u'partition': 1, u'chemicals': 1, u'Rooms': 1, u'enterprise': 1, u'sanctuary': 1, u'saga': 1, u'carotid': 1, u'peddle': 1, u'bail': 1, u'kale': 1, u'peasants': 1, u\"1960's\": 1, u'delays': 1, u'refreshment': 1, u'Records': 1, u'lodge': 1, u'Bit': 1, u'mixture': 1, u'sunglasses': 1, u'watch': 1, u'knocks': 1, u'spokesperson': 1, u'understaffing': 1, u'collusion': 1, u'ailments': 1, u'mergers': 1, u'liquor': 1, u'nun': 1, u'Pea': 1, u'ba.consumers': 1, u'mud': 1, u'catalogue': 1, u'herding': 1, u'Tree': 1, u'Irregularities': 1, u'Procurement': 1, u'Dance': 1, u'Trees': 1, u'faces': 1, u'looters': 1, u'Budgies': 1, u'tankmates': 1, u'behaviors': 1, u'standings': 1, u'comprehension': 1, u'beneficiary': 1, u'containers': 1, u'speeches': 1, u'enterprises': 1, u'catch': 1, u'Secretary': 1, u'Deputy': 1, u'Receipt': 1, u'cracker': 1, u'n': 1, u'dept': 1, u'Spay': 1, u'natives': 1, u\"50's\": 1, u'tress': 1, u'wound': 1, u'yahoos': 1, u'peaks': 1, u'microphone': 1, u'Gates': 1, u'incredulity': 1, u'Apartments': 1, u'fusion': 1, u'ocean': 1, u'dads': 1, u'thumbs': 1, u'Spec.': 1, u'pharmacy': 1, u'teenager': 1, u'mounds': 1, u'bungling': 1, u'burns': 1, u'any1': 1, u'Topic': 1, u'blades': 1, u'Species': 1, u'willows': 1, u'petting': 1, u'sponge': 1, u'clubs': 1, u'everbody': 1, u'precautions': 1, u'intellect': 1, u'doorstep': 1, u'Life': 1, u'skylight': 1, u'convict': 1, u'icq': 1, u'Tradition': 1, u'mosquito': 1, u'cord': 1, u'khaki': 1, u'garnishes': 1, u'FRIES': 1, u\"process's\": 1, u'cowboy': 1, u'Seats': 1, u'sheisters': 1, u'cauldron': 1, u'ppl': 1, u'Environment': 1, u'laborers': 1, u'accomplishments': 1, u'coastal': 1, u'Accountabilities': 1, u'outbreaks': 1, u'sunlight': 1, u'Break': 1, u'seeker': 1, u'mid-October': 1, u'metabolism': 1, u'synthesis': 1, u'steers': 1, u'preschoolers': 1, u'ADA': 1, u'admiration': 1, u'cylinders': 1, u'Negligence': 1, u'muster': 1, u'Shippers': 1, u'meters': 1, u'Surgery': 1, u'pelham': 1, u'forearm': 1, u'knees': 1, u'advancements': 1, u'despotism': 1, u'no': 1, u'setting': 1, u'imposters': 1, u'depot': 1, u'erosion': 1, u'pseudonym': 1, u'node': 1, u'cleric': 1, u'Costs': 1, u'ESA': 1, u'fumarase': 1, u'innkeepers': 1, u'coach': 1, u'Title': 1, u'rot': 1, u'Conflict': 1, u'row': 1, u'clarification': 1, u'coop': 1, u'thawed': 1, u'litgation': 1, u'posts': 1, u'brothel': 1, u'accumulation': 1, u'Gravity': 1, u'Red': 1, u'Tonight': 1, u'boats': 1, u'manikins': 1, u'DOOR': 1, u'subterfuge': 1, u'baseball': 1, u'timings': 1, u'denunciation': 1, u'navigation': 1, u'combs': 1, u'humour': 1, u'Justice': 1, u'morale': 1, u'capelin': 1, u'RAFFLE': 1, u'dismay': 1, u'Benefits': 1, u'altar': 1, u'cashier': 1, u'IMPLICATION': 1, u'insights': 1, u'spoilage': 1, u'visualisations': 1, u'districts': 1, u'meatball': 1, u'laughter': 1, u'Image': 1, u'roundtable': 1, u'hassles': 1, u'critic': 1, u'Suspension': 1, u'VPP': 1, u'mole': 1, u'Marketing': 1, u'Fruit': 1, u'naivety': 1, u'fourth': 1, u'Demand': 1, u'invitees': 1, u'Patrons': 1, u'Cake': 1, u'Guaranty': 1, u'amuse': 1, u'infidels': 1, u'appartment': 1, u'DOORS': 1, u'abusers': 1, u'chips': 1, u'microcomputer': 1, u'farmer': 1, u'cutter': 1, u'FAMILY': 1, u'choramine': 1, u'NIGHT': 1, u'feature': 1, u'OSTRICH': 1, u'sophomore': 1, u'Cards': 1, u'Mosques': 1, u'eighties': 1, u'Penny': 1, u'cross-examination': 1, u\"NGO's\": 1, u'zebra': 1, u'hysteria': 1, u'intercourse': 1, u'mid-cities': 1, u'Doc': 1, u'END': 1, u'radiographs': 1, u'saboteurs': 1, u'previews': 1, u'Record': 1, u'flyer': 1, u'explorers': 1, u'compression': 1, u'pancake': 1, u'butterflies': 1, u'Touch': 1, u'shedding': 1, u'Start': 1, u'ethics': 1, u'peddles': 1, u'given': 1, u'plastic': 1, u'SEA': 1, u'white': 1, u'Data': 1, u'exploring': 1, u'tempers': 1, u'hub': 1, u'Ribs': 1, u'pathogens': 1, u'holder': 1, u'Love': 1, u'mangers': 1, u'legacy': 1, u'pythons': 1, u'powder': 1, u'mater': 1, u'mates': 1, u'rent': 1, u'pry': 1, u'prosperity': 1, u'ideal': 1, u'calmness': 1, u'urge': 1, u'sacristy': 1, u'inks': 1, u'icon': 1, u'CHILD': 1, u'seafood': 1, u'later': 1, u'Humans': 1, u'recipe': 1, u'dandelions': 1, u'tks': 1, u'gulf': 1, u'genius': 1, u'overage': 1, u'H': 1, u'jazz': 1, u'hedge': 1, u'orphans': 1, u'jokes': 1, u'replies': 1, u'apologies': 1, u'farmers': 1, u'joy': 1, u'veterinarian': 1, u'woollies': 1, u'Dictatorship': 1, u'tooling': 1, u'postage': 1, u'Cakes': 1, u'priests': 1, u'quiet': 1, u'columnist': 1, u'berry': 1, u'Investment': 1, u'provocation': 1, u'Travel': 1, u'assertions': 1, u'poll': 1, u'polite': 1, u'Events': 1, u'Bus': 1, u'eyewitnesses': 1, u'hernia': 1, u'e-reader': 1, u'robber': 1, u'shaft': 1, u'caucasians': 1, u'onesie': 1, u'thigh': 1, u'intifada': 1, u'colleague': 1, u'punches': 1, u'crusader': 1, u'candies': 1, u'refinery': 1, u'revolutions': 1, u'Nails': 1, u'html': 1, u'catfish': 1, u'temperment': 1, u'insurers': 1, u'IQ': 1, u'canister': 1, u'sinnel': 1, u'Dealer': 1, u'pariah': 1, u'kiln': 1, u'polish': 1, u'electrolyte': 1, u'guides': 1, u'hint': 1, u'rose': 1, u'Origination': 1, u'Missile': 1, u'Applications': 1, u'association': 1, u'feminism': 1, u'scheduled': 1, u'blowout': 1, u'crustaceans': 1, u'delvery': 1, u'fridge': 1, u'confines': 1, u'scheduler': 1, u'tie': 1, u'Talk': 1, u'towel': 1, u'Producer': 1, u'buddies': 1, u'Pig': 1, u'Daphnia': 1, u'tower': 1, u'Army': 1, u'softener': 1, u'West': 1, u'Arms': 1, u'CRACKDOWN': 1, u'swaps': 1, u'legal': 1, u'mercenaries': 1, u'Windows': 1, u'warlords': 1, u'scholars': 1, u'beaches': 1, u'on': 1, u'reprisals': 1, u'beavers': 1, u'op': 1, u'reactions': 1, u'Skylight': 1, u'yam': 1, u'Disinformation': 1, u'hazards': 1, u'municipalities': 1, u'mischief': 1, u'jug': 1, u'Liars': 1, u'extermination': 1, u'toilet': 1, u'metastasis': 1, u'rvs': 1, u'BURGER': 1, u'Homeland': 1, u'abyss': 1, u'heather': 1, u'rubber': 1, u'deviation': 1, u'detainees': 1, u'ICC': 1, u'symbol': 1, u'brase': 1, u'Testimony': 1, u'creditor': 1, u'stocks': 1, u'prongs': 1, u'ICU': 1, u'arsenals': 1, u'platter': 1, u'Maple': 1, u\"coordinator's\": 1, u'seals': 1, u'disk': 1, u'dialague': 1, u'earmuffs': 1, u'catastrophe': 1, u'regulars': 1, u'present': 1, u'lawmakers': 1, u'fam': 1, u'Calculater': 1, u'lisp': 1, u'grandfather': 1, u'liars': 1, u'tel': 1, u'escalation': 1, u'ten': 1, u'warmonger': 1, u'SHU': 1, u'hesitation': 1, u'Browncover': 1, u'multitude': 1, u'Workmanship': 1, u'invoicing': 1, u'eligibility': 1, u'wildland': 1, u'Steakhouse': 1, u'relaxation': 1, u'epitome': 1, u'equations': 1, u'cucumbers': 1, u'Structuring': 1, u'schtick': 1, u'Style': 1, u'Sheriff': 1, u'semester': 1, u'snub': 1, u'Tom': 1, u'Boardroom': 1, u'herring': 1, u'interception': 1, u'socialization': 1, u'0308.doc': 1, u'flat': 1, u'flag': 1, u'stick': 1, u'Representation': 1, u'toxins': 1, u'Inn': 1, u'comp.mail.maps': 1, u'v': 1, u'blossoming': 1, u'pony': 1, u'brown': 1, u'joints': 1, u'Microwave': 1, u'finches': 1, u'DATE': 1, u'airplane': 1, u'Bonus': 1, u'mould': 1, u'testament': 1, u'Compensation': 1, u'SMOKE': 1, u'emergencies': 1, u'cults': 1, u'departure': 1, u'tsar': 1, u'assailant': 1, u'deworming': 1, u'turnover': 1, u'outrages': 1, u'Bottom': 1, u'COUPLE': 1, u'pretext': 1, u'LINE': 1, u'Hash': 1, u'Numero': 1, u'x54667': 1, u'bout': 1, u'soccer': 1, u'aquarist': 1, u'policeman': 1, u'streamside': 1, u'me$$age': 1, u'superintendant': 1, u'ELectronics': 1, u\"E500's\": 1, u'pirates': 1, u'fixture': 1, u'scratching': 1, u'gangland': 1, u'cups': 1, u'marketplaces': 1, u'Practice': 1, u'hill': 1, u'remodeling': 1, u'roofs': 1, u'BALLET': 1, u'monotony': 1, u'Block': 1, u'bushes': 1, u'Breakthrough': 1, u'tributaries': 1, u'prejudice': 1, u'consequence': 1, u'dislikes': 1, u'fancy': 1, u'defects': 1, u'neo-conservatives': 1, u'passes': 1, u'rails': 1, u'Aircraft': 1, u'Setoff': 1, u'GTC': 1, u'Companies': 1, u'double': 1, u'aims': 1, u'illegals': 1, u'stall': 1, u'Islamophobia': 1, u'Bio': 1, u'remodel': 1, u'breathing': 1, u'Supporters': 1, u'UCC': 1, u'stenosis': 1, u'puffing': 1, u'electric': 1, u'reach': 1, u'Oatmeal': 1, u'achievement': 1, u'dealers': 1, u'appreciation': 1, u'stones': 1, u'Occupancy': 1, u'havoc': 1, u'NOMINATION': 1, u'ACCIDENT': 1, u'sacking': 1, u'ballet': 1, u'hit': 1, u'Value': 1, u'furnaces': 1, u'typos': 1, u'pickups': 1, u'DINING': 1, u'precaution': 1, u'chambers': 1, u'sh*t': 1, u'mullahs': 1, u'plywood': 1, u'Optimization': 1, u'DONATIONS': 1, u'Waterfalls': 1, u'franchise': 1, u'condo': 1, u'prelude': 1, u'Happiness': 1, u'guts': 1, u'dudes': 1, u'village': 1, u'slots': 1, u'goats': 1, u'eyewitness': 1, u'windsheild': 1, u'ps': 1, u'pp': 1, u'Husbands': 1, u'pc': 1, u'manhunt': 1, u'Fan': 1, u'ph': 1, u'panko': 1, u'MISTAKE': 1, u'batch': 1, u'Muffs': 1, u'homework': 1, u'engineers': 1, u'1490s': 1, u'rip': 1, u'Seed': 1, u'BROKERS': 1, u'advise': 1, u'sliver': 1, u'flows': 1, u'doers': 1, u'Drug': 1, u'solemnity': 1, u'ATTENTION': 1, u'Club': 1, u'aways': 1, u'know': 1, u'abilities': 1, u'Sec.': 1, u'Newspaper': 1, u'summaries': 1, u'UDCs': 1, u'illusions': 1, u'tablet': 1, u'exhibition': 1, u'violations': 1, u'vendor': 1, u'amended': 1, u'condemnation': 1, u'aggregation': 1, u'undercurrents': 1, u'periodizing': 1, u'Links': 1, u'aggravation': 1, u'Parama': 1, u'Services.DOC': 1, u'Sixties': 1, u'grenades': 1, u'newsletter': 1, u'sauces': 1, u'Firm': 1, u'Fund': 1, u'Hemisphere': 1, u'Complaint': 1, u'Times': 1, u'shallac': 1, u'volunteering': 1, u'ordeal': 1, u'Motive': 1, u'acquistion': 1, u'Row': 1, u'clubhouse': 1, u'mommy': 1, u'canal': 1, u'sonny': 1, u'rows': 1, u'Lists': 1, u'kiddies': 1, u'EAST': 1, u'plunge': 1, u'Animals': 1, u'mistreatment': 1, u'Deals': 1, u'reassurance': 1, u'familia': 1, u'lifespan': 1, u'Cruise': 1, u'etc.': 1, u'articulating': 1, u'Attack': 1, u'rainbow': 1, u'inequities': 1, u'saws': 1, u'hideouts': 1, u'Aquiriums': 1, u'Gout': 1, u'vice': 1, u'we': 1, u'weights': 1, u'distain': 1, u'once': 1, u'resistance': 1, u'Department': 1, u'multi-millionnaires': 1, u'Object': 1, u'languages': 1, u'Patent': 1, u'anyting': 1, u'waiters': 1, u'dandy': 1, u'mainstream': 1, u'artery': 1, u'snails': 1, u'WAITRESS': 1, u'someday': 1, u'traveling': 1, u'universities': 1, u'find': 1, u'19th': 1, u'Line': 1, u'bozos': 1, u'polution': 1, u'triage': 1, u'silkies': 1, u'metro': 1, u'spines': 1, u'Motor': 1, u'spices': 1, u'distresses': 1, u'shovel': 1, u'HOSTESS': 1, u'duct': 1, u'confession': 1, u'Exit': 1, u'Conditions': 1, u'figure': 1, u'modicum': 1, u\"lovin'\": 1, u'secretions': 1, u'journalists': 1, u'porch': 1, u'MVB': 1, u'recount': 1, u'brochure': 1, u'semifreddo': 1, u'midterm': 1, u'stroke': 1, u'alt.animals.rights.promotion': 1, u'grandure': 1, u'patrol': 1, u'patron': 1, u'spying': 1, u'kosa': 1, u'Pioneer': 1, u'onions': 1, u'sit': 1, u'Wife': 1, u'prognosis': 1, u'camels': 1, u'Pizza': 1, u'memoir': 1, u'phonne': 1, u'administrator': 1, u'timeframes': 1, u'militarism': 1, u'somethin': 1, u'colada': 1, u'pastries': 1, u'speadsheet': 1, u'Bird': 1, u'orange': 1, u'crowds': 1, u'Car': 1, u'flea': 1, u'Tzu': 1, u'Murders': 1, u'investor': 1, u'PROGRAMS': 1, u'feast': 1, u'tray': 1, u'Earthworms': 1, u'firepower': 1, u'snorkeling': 1, u'Brokerage': 1, u'Buying': 1, u'proviso': 1, u'dictionary': 1, u'Entree': 1, u'vacations': 1, u'barns': 1, u'phrases': 1, u'latitudes': 1, u'4th': 1, u'Tks': 1, u'biting': 1, u'embryo': 1, u'obscurity': 1, u'PRICES': 1, u'probation': 1, u'Centre': 1, u'retreats': 1, u'tidbit': 1, u'shelf': 1, u'slides': 1, u'Margaritas': 1, u'amnesties': 1, u'probe': 1, u'GRAIL': 1, u'clip': 1, u'27.doc': 1, u'meds': 1, u'hammie': 1, u'petrol': 1, u'PoP': 1, u'spirits': 1, u'Pop': 1, u'mid-1980s': 1, u'Datamanager': 1, u'Sheet': 1, u'litigation': 1, u'cache': 1, u'Craft': 1, u'Catch': 1, u'cube': 1, u'THX': 1, u'massacre': 1, u'Arrangements': 1, u'burglars': 1, u'spur': 1, u'homosexuals': 1, u'dyspepsia': 1, u'belts': 1, u'compliment': 1, u'waterfalls': 1, u'deli': 1, u'humiliation': 1, u'module': 1, u'merits': 1, u'xray': 1, u'enchladas': 1, u'Cycle': 1, u'a.m': 1, u'rescuers': 1, u'Dempseys': 1, u'takeover': 1, u'jog': 1, u'respondents': 1, u'RNR': 1, u'organisation': 1, u'Hedging': 1, u'DVD': 1, u'grocerys': 1, u'nigiri': 1, u'Conclusion': 1, u'hunters': 1, u'grindstone': 1, u'trademark': 1, u'nationalities': 1, u'emirate': 1, u'tissues': 1, u'Force': 1, u'vanilla': 1, u'CD': 1, u'wile': 1, u'Targets': 1, u'sobriquet': 1, u'encouragement': 1, u'mid-afternoon': 1, u'stadiums': 1, u'vintage': 1, u'grandeur': 1, u'cellphones': 1, u'Resource': 1, u'resubstantiation': 1, u'proprietors': 1, u'MTM': 1, u'collar': 1, u'correspondent': 1, u'dignitary': 1, u'antipasti': 1, u'YEARS': 1, u'Drinks': 1, u'contenders': 1, u'lightbulb': 1, u'boot': 1, u'batteries': 1, u'Photography': 1, u'fishing': 1, u'downfalls': 1, u'toilets': 1, u'adoption': 1, u'masquerade': 1, u'republics': 1, u'Eid': 1, u'taxpayers': 1, u'brumation': 1, u'traitors': 1, u'Sub': 1, u'Sun': 1, u'searching': 1, u'platforms': 1, u'14th': 1, u'dischord': 1, u'earrings': 1, u'frosts': 1, u'slum': 1, u'pasta': 1, u'testosterone': 1, u'extension': 1, u'column': 1, u'universe': 1, u'abstinence': 1, u'dependency': 1, u'sweat': 1, u'emperor': 1, u'30s': 1, u'travelers': 1, u'x34703': 1, u'van': 1, u'svce': 1, u'kidding': 1, u'Sussexs': 1, u\"pony's\": 1, u'mailer': 1, u'woodpeckers': 1, u'Science': 1, u\"AK47's\": 1, u'wight': 1, u'Suggestion': 1, u'Pools': 1, u'Operandi': 1, u'windfall': 1, u'Mach': 1, u'combatants': 1, u'Map': 1, u'guitarist': 1, u'mircles': 1, u'sick': 1, u'Desk': 1, u'boob': 1, u'Incitement': 1, u'Antipasto': 1, u'poneh': 1, u'Doves': 1, u'Coach': 1, u'breeeding': 1, u'ranks': 1, u'balsa': 1, u'QUESO': 1}), u'NUM': Counter({u'one': 332, u'two': 157, u'2': 129, u'3': 109, u'5': 93, u'4': 90, u'1': 89, u'10': 83, u'three': 60, u'6': 57, u'20': 54, u'2005': 51, u'2003': 48, u'2004': 45, u'2001': 44, u'm': 41, u'2000': 39, u'11': 36, u'100': 33, u'30': 33, u'One': 33, u'12': 33, u'15': 33, u'four': 32, u'million': 32, u'50': 30, u'7': 28, u'2002': 28, u'25': 27, u'six': 25, u'8': 23, u'14': 21, u'16': 20, u'billion': 20, u'13': 19, u'0': 17, u'Two': 17, u'five': 17, u'713': 15, u'22': 15, u'200': 15, u'9': 15, u'713-853-3989': 14, u'713-646-3393': 14, u'24': 14, u'18': 14, u'3889': 14, u'80': 13, u'26': 12, u'21': 12, u'60': 12, u'1999': 11, u'nine': 11, u'75': 11, u'b': 11, u'5:00': 11, u'300': 11, u'40': 11, u'k': 10, u'17': 10, u'31': 10, u'1972': 10, u'7:30': 10, u'ONE': 9, u'27': 9, u'28': 9, u'500': 9, u'9/11': 8, u'ten': 8, u'35': 8, u'11/28/2000': 8, u'1000': 8, u'120': 8, u'65': 8, u'seven': 8, u'II': 8, u'200,000': 8, u'45': 8, u'5000': 7, u'1991': 7, u'1995': 7, u'1998': 7, u'23': 7, u'trillion': 7, u'1:00': 7, u'70': 7, u'04/30/2001': 7, u'67': 7, u'8:00': 7, u'1971': 7, u'800': 7, u'11/29/2000': 7, u'1997': 6, u'7:00': 6, u'2010': 6, u'19': 6, u'8:30': 6, u'01': 6, u'2012': 6, u'6:30': 6, u'03/15/2001': 6, u'55': 6, u'2006': 6, u'01/26/2001': 5, u'11:30': 5, u'K': 5, u'2:30': 5, u'32': 5, u'34': 5, u'99': 5, u'90': 5, u'2:00': 5, u'01/12/2001': 5, u'20,000': 5, u'1.5': 5, u'1968': 5, u'M': 5, u'11/10/2000': 5, u'763736': 5, u'29': 5, u'1970': 5, u'6:00': 5, u'1,200': 5, u'1987': 5, u'46': 5, u'41': 5, u'1561': 5, u'07/17/2000': 5, u'2008': 5, u'05/25/2001': 5, u'102': 4, u'33': 4, u'10,000': 4, u'1993': 4, u'11:00': 4, u'1691': 4, u'5,000': 4, u'400': 4, u'100,000': 4, u'646-8420': 4, u'twenty': 4, u'hundred': 4, u'10:00': 4, u'1969': 4, u'345-9945': 4, u'09/16/99': 4, u'5:30': 4, u'63': 4, u'250': 4, u'10:30': 4, u'3,500': 4, u'1973': 4, u'2009': 4, u'9:30': 4, u'53': 4, u'3.5': 4, u'110': 4, u'eight': 4, u'Five': 4, u'750': 4, u'Ten': 4, u'150': 4, u'600': 4, u'48': 4, u'47': 4, u'42': 4, u'11:32': 3, u'3:30': 3, u'11:45': 3, u'bn': 3, u'36': 3, u'4:00': 3, u'10/23/2000': 3, u'1307': 3, u'6.1': 3, u'1.00': 3, u'700': 3, u'40,000': 3, u'82': 3, u'85': 3, u'03:20': 3, u'12:12': 3, u'TEN': 3, u'+1': 3, u'6.00': 3, u'XIII': 3, u'10/20/2000': 3, u'79': 3, u'78': 3, u'fifty': 3, u'69': 3, u'3:00': 3, u'38,000': 3, u'09': 3, u'95': 3, u'03/02/2001': 3, u'61': 3, u'66': 3, u'295870': 3, u'thirty': 3, u'2007': 3, u'10/26/2000': 3, u'212': 3, u'03/08/2000': 3, u'74419': 3, u'1774': 3, u'12:30': 3, u'56': 3, u'06/01/2001': 3, u'270': 3, u'01/19/2001': 3, u'1580': 3, u'72': 3, u'1584': 3, u'1983': 3, u'1980': 3, u'04/16/2001': 3, u'1594': 3, u'TWO': 3, u'49': 3, u'1560': 3, u'01/25/2001': 2, u'15,000': 2, u'08/03/2000': 2, u'+44': 2, u'1-800-991-9019': 2, u'11:35': 2, u'800.713.8600': 2, u'5/18': 2, u'13011': 2, u'11-20-2000': 2, u'6,000': 2, u'03/09/2000': 2, u'21,000': 2, u'713-654-1281': 2, u'01:14': 2, u'202.456.1111': 2, u'101': 2, u'104': 2, u'04:37': 2, u'11/27/2000': 2, u'11/08/2000': 2, u'713-853-3098': 2, u'01/24/2001': 2, u'Three': 2, u'03/21/2001': 2, u'202.456.2461': 2, u'415.782.7822': 2, u'1990': 2, u'1996': 2, u'969': 2, u'11:07': 2, u'07/14/2000': 2, u'16.379': 2, u'143': 2, u'4:50': 2, u'1179': 2, u'05:37': 2, u'09:14': 2, u'713-654-0365': 2, u'814014': 2, u'11/7/08': 2, u'10:56': 2, u'50,000': 2, u'THREE': 2, u'87': 2, u'Four': 2, u'05/03/2001': 2, u'88': 2, u'6.2.1': 2, u'512': 2, u'2,000': 2, u'2018': 2, u'505-625-8031': 2, u'04:03': 2, u'979': 2, u\"'72\": 2, u'281-443-3744': 2, u'1504': 2, u't': 2, u'92': 2, u'0000108806': 2, u'76': 2, u'73': 2, u'03:58': 2, u'1,000': 2, u'1575': 2, u'05/30/2001': 2, u'415': 2, u'2.975': 2, u'05/01/2001': 2, u'281-435-0295': 2, u'03': 2, u'268': 2, u'05': 2, u'888.916.7184': 2, u'360': 2, u'80435': 2, u'07:24': 2, u'fifteen': 2, u'01:39:56': 2, u'thousand': 2, u'7484': 2, u'129': 2, u'05/17/99': 2, u'04:17': 2, u'01:58': 2, u'1:30': 2, u'9221': 2, u'11.5': 2, u'10:34': 2, u'680': 2, u'47,500': 2, u'3/8/00': 2, u'345-3436': 2, u'1600': 2, u'713-853-1696': 2, u'4.7': 2, u'03:48': 2, u'sixteen': 2, u'54': 2, u'51': 2, u'37': 2, u'09:45': 2, u'113': 2, u'3,202.61': 2, u'04:28': 2, u'02/27/2001': 2, u'11608': 2, u'1530': 2, u'567.77': 2, u'415.621.8317': 2, u'12/26/2000': 2, u'1937': 2, u'850': 2, u'62': 2, u'1982': 2, u'FOUR': 2, u'eighteen': 2, u'6871082#': 2, u'759933': 2, u'Six': 2, u'800-553-3119': 2, u'43': 2, u'202.456.1414': 2, u'10:25': 2, u'24,000': 2, u'09/15/99': 2, u'646-5847': 1, u'3926': 1, u'77030-2707': 1, u'42,000.00': 1, u'0832': 1, u'01:35': 1, u'.04': 1, u'mill': 1, u'09/17/99': 1, u'600-480': 1, u'401.3': 1, u'nineteen': 1, u'3.75': 1, u'1945': 1, u'340': 1, u'1520': 1, u'11:34': 1, u'11:36': 1, u'09:37': 1, u'16,900': 1, u'04/28/2000': 1, u'1701': 1, u'1,183': 1, u'03/28/2001': 1, u'425-415-3052': 1, u'6/1/01': 1, u'84838389593': 1, u'mm': 1, u'828-296-8466': 1, u'619-231-9449': 1, u'4641': 1, u'2/7/2005': 1, u'191': 1, u'46093': 1, u'707-885-2508': 1, u'zero': 1, u'35620': 1, u'11:48': 1, u'12:21': 1, u'2543': 1, u'01:00:51': 1, u'2545': 1, u'411507': 1, u'713-546-5000': 1, u'448-9499': 1, u'11/03': 1, u'02920': 1, u'1400': 1, u'46C1': 1, u'12.48': 1, u'3.30': 1, u'12.45': 1, u'04:06:52': 1, u'4193': 1, u'445': 1, u'215': 1, u'1949': 1, u'05/31/2001': 1, u'1542': 1, u'4350': 1, u'105': 1, u'11/22/2000': 1, u'13339': 1, u'315-460-3349': 1, u'04:31': 1, u'3:29': 1, u'4.98': 1, u'1535': 1, u'1-877-331-6867': 1, u'3.': 1, u'1943': 1, u'648': 1, u'430': 1, u'09:52': 1, u'1341': 1, u'180.9': 1, u'1.800.233.1234': 1, u'09/20/2000': 1, u'1908': 1, u'1904': 1, u'11222': 1, u'10.9': 1, u'416-865-3704': 1, u'2/3': 1, u'416-865-3700': 1, u'416-865-3703': 1, u'42,008': 1, u'175': 1, u'10:16': 1, u'11:23': 1, u'12/27': 1, u'01:57': 1, u'22301': 1, u'12/28': 1, u'19:14': 1, u'11/09/2000': 1, u'2;30': 1, u'202.582.1234': 1, u'20006': 1, u'20005': 1, u'425-415-3098': 1, u'20001': 1, u'06:02': 1, u'94': 1, u'0800': 1, u'1000.00': 1, u'03:15': 1, u'510-642-3689': 1, u'3067': 1, u'2.3': 1, u'2:300': 1, u'550': 1, u'11:08': 1, u'238': 1, u'11:02': 1, u'11:05': 1, u'80,000': 1, u'5.1': 1, u'5.2': 1, u'237': 1, u'5.5': 1, u'5.6': 1, u'5.8': 1, u'230': 1, u'.15': 1, u'10.99': 1, u'18:20': 1, u'718-780-0276': 1, u'5/1/01': 1, u'713-853-3044': 1, u'140': 1, u'1-800-238-5355': 1, u'0.70': 1, u'05:39': 1, u'09:56': 1, u'200,987.33': 1, u'4.319': 1, u'859-7187': 1, u'945': 1, u'940': 1, u'1579': 1, u'2539': 1, u'10.0': 1, u'1570': 1, u'1576': 1, u\"'02\": 1, u'1574': 1, u'303-294-4499': 1, u'2710': 1, u'02:34': 1, u'10:44': 1, u'1302': 1, u'06:20': 1, u'160.00': 1, u'10:51': 1, u'70.85': 1, u'6.5': 1, u'10:52': 1, u'137': 1, u'800/711-8000': 1, u'on': 1, u'16.2': 1, u'25/01/2001': 1, u'08:50:01': 1, u'16.4': 1, u'16.3': 1, u'2015': 1, u'3:15': 1, u'4861': 1, u'408': 1, u'703.729.2710': 1, u'974-6721': 1, u'917': 1, u'2.4': 1, u'02:42': 1, u'55,008': 1, u'2,210': 1, u'16:29': 1, u'02:49': 1, u'7/16': 1, u'14.2': 1, u'3/9/00': 1, u'III': 1, u'713-793-1429': 1, u'43.6': 1, u'899-4425': 1, u'3,000': 1, u'5107': 1, u'10/31/00': 1, u'77415-0027': 1, u'1300': 1, u'58369': 1, u'7034': 1, u'2,500': 1, u'181': 1, u'120,000': 1, u'1717': 1, u'2301': 1, u'2300': 1, u'08:27:46': 1, u'0448': 1, u'19/11/2004': 1, u'713/345-7942': 1, u'610': 1, u'713-819-2784': 1, u'611': 1, u'582': 1, u'1,650,000': 1, u'920': 1, u'08/17/2000': 1, u'42,000': 1, u'240': 1, u'248': 1, u'100,000,000,000': 1, u'857-771': 1, u'14721': 1, u'03:11': 1, u'4.99': 1, u'18:11': 1, u'860-665-2368': 1, u'01/13/2001': 1, u'1348': 1, u'451': 1, u'4434': 1, u'92101': 1, u'177': 1, u'170': 1, u'2050': 1, u'08:38': 1, u'571-9571': 1, u'978': 1, u'1500': 1, u'5249025': 1, u'187': 1, u\"'73\": 1, u'12/21/2000': 1, u'185': 1, u'43228': 1, u'03/16/2001': 1, u'713-790-2605': 1, u'12/22/2000': 1, u'10016': 1, u'200,000,000,000': 1, u'619-696-6966': 1, u'10:05': 1, u'10:39:03': 1, u'i': 1, u'202-828-3372': 1, u'2029': 1, u'8:35': 1, u'1.6': 1, u'1.1': 1, u'884': 1, u'1605': 1, u'0491': 1, u'11:42': 1, u'1.8': 1, u'713/853-5984': 1, u'2.2': 1, u'281-514-3183': 1, u'1/31': 1, u'21,600': 1, u'1964': 1, u'1614': 1, u'1967': 1, u'64.2': 1, u'1962': 1, u'07/30/2001': 1, u'01:32:35': 1, u'420072': 1, u'2.5': 1, u'215,000': 1, u'05:07': 1, u'36647': 1, u'1,700': 1, u'11:16:58': 1, u'205': 1, u'207': 1, u'60622': 1, u'61,000,000,000': 1, u'350': 1, u'03:51': 1, u'71': 1, u\"'07\": 1, u'8.25': 1, u'23,000': 1, u'Fifty': 1, u'03/04/2001': 1, u'08/01/2001': 1, u'1689': 1, u'202.785.0786': 1, u'2.00': 1, u'16/10/2004': 1, u'500.00': 1, u'11:26': 1, u'665': 1, u'3-5297': 1, u'1.877.999.3223': 1, u'04:44': 1, u'04:41': 1, u'7.5': 1, u'11/29/00': 1, u'04:49': 1, u\"'05\": 1, u'16,000,000,000': 1, u'02:02': 1, u'09/03/99': 1, u'202.739.0134': 1, u'09:01': 1, u'6/4/11': 1, u'94720-1900': 1, u'650': 1, u'350,000': 1, u'30,858': 1, u'548': 1, u'98011': 1, u'68': 1, u'02/13/2001': 1, u'713-793-2000': 1, u'281-735-5919': 1, u'6.3': 1, u'366': 1, u'10:40': 1, u'10:46': 1, u'125': 1, u'126': 1, u'10:45': 1, u'30.00': 1, u'77.92': 1, u'21/03/2001': 1, u'25,000': 1, u'14:14': 1, u'03:43': 1, u'6565': 1, u'X33098': 1, u'130': 1, u'26/09/2000': 1, u'10:07': 1, u'281-518-1081': 1, u'1381': 1, u'11:15:11': 1, u'00:20': 1, u'seventeen': 1, u'919819602175': 1, u'17:32': 1, u'31,000': 1, u'09819602175': 1, u'62,500': 1, u'11201': 1, u'2.8': 1, u'08/07/2001': 1, u'04/04/2001': 1, u'1928': 1, u'2.0': 1, u'2.7': 1, u'202.637.4781': 1, u'718-780-0046': 1, u'02': 1, u'06': 1, u'07': 1, u'04': 1, u'1,350': 1, u'425-922-0475': 1, u'7/26/08': 1, u'13381': 1, u'150301': 1, u'6.8': 1, u'12.46': 1, u'13389': 1, u'02/22/2001': 1, u\"'09\": 1, u'33,000': 1, u'376-9004': 1, u'272,000': 1, u'5.37': 1, u'5.30': 1, u'9000': 1, u'3-1663': 1, u'1647': 1, u'1/30/10': 1, u'7037686710': 1, u'10.6': 1, u'300,000': 1, u'3/10/00': 1, u'4153030': 1, u'1926': 1, u'620-294-1909': 1, u'3611': 1, u'503/464-7927': 1, u'12:00': 1, u'12:03': 1, u'05/02/2001': 1, u'572': 1, u'575': 1, u'3.2': 1, u'713/853-6197': 1, u'253': 1, u'1588': 1, u'345-8702': 1, u'978-376-9004': 1, u'03:00': 1, u'730': 1, u'94720-5180': 1, u'07:55': 1, u'11/8/2000': 1, u'07:50': 1, u'501': 1, u'3/03': 1, u'07/19/2001': 1, u'1572': 1, u'249': 1, u'620-294-3000': 1, u'39': 1, u'04:34': 1, u'362416': 1, u'0.10': 1, u'08:00': 1, u'713/871-5119': 1, u'9866': 1, u'05:59': 1, u'04:18': 1, u'05:51': 1, u'01/19/01': 1, u'04:11': 1, u'04:13': 1, u'MM': 1, u'1100': 1, u'2102': 1, u'853-7557': 1, u'22,600': 1, u'315-460-3344': 1, u'06:05': 1, u'06:07': 1, u'483.00': 1, u'01:50': 1, u'68.4': 1, u'11/8/00': 1, u'02:18': 1, u'02:19': 1, u'13.9': 1, u'02:10': 1, u'02:17': 1, u'510-642-5145': 1, u'1810': 1, u'12/14/2000': 1, u'08:23': 1, u'899-4310': 1, u'0400': 1, u'01:09:32': 1, u'973-2776': 1, u'09/11/99': 1, u'08:22': 1, u'95,000': 1, u'11831': 1, u'5.10': 1, u'10/27/2000': 1, u'60,008': 1, u'04:50': 1, u'0417': 1, u'1978': 1, u'60,000': 1, u'1974': 1, u'92842': 1, u'5.87': 1, u'1.65': 1, u'14,000': 1, u'34.6': 1, u'1.25': 1, u'13279': 1, u'12:48': 1, u'217': 1, u'11:25': 1, u'07:48:44': 1, u'3,300,000': 1, u'12:42': 1, u'12:45': 1, u'973-3634': 1, u'12:35': 1, u'10:57:32': 1, u'281-518-9526': 1, u'1611': 1, u'11/01/01': 1, u'12:01': 1, u'1775': 1, u'832.676.3177': 1, u'7,000': 1, u'06/04/01': 1, u'1483': 1, u'284': 1, u'1,613': 1, u'1550': 1, u'12.99': 1, u'1912': 1, u'330': 1, u'10/29/2000': 1, u'3.29': 1, u'04:52': 1, u'260': 1, u'264': 1, u'05:17': 1, u'59': 1, u'12:36': 1, u'12:33': 1, u'1551': 1, u'4101': 1, u'1.888.509.3736': 1, u'1555': 1, u'1533': 1, u'4632': 1, u'57': 1, u'620-294-4000': 1, u'10/31/2000': 1, u'540,000': 1, u'4,700': 1, u'11/1/01': 1, u'03:13:58': 1, u'twelve': 1, u'06/01/2000': 1, u'09:46': 1, u'02:39:27': 1, u'16/11/2004': 1, u'115': 1, u'09:48': 1, u'01/11/2001': 1, u'112': 1, u'189': 1, u'52': 1, u'3.8': 1, u'08:58': 1, u'1,922,000': 1, u'11030': 1, u'08:55': 1, u'08:50': 1, u'1525': 1, u'6/14': 1, u'1527': 1, u'612-205-9814': 1, u'1251': 1, u'916': 1, u'1528': 1, u'01:04': 1, u'1.024': 1, u'28/10/2004': 1, u'01:02': 1, u'01:09': 1, u'306': 1, u'7.22': 1, u'sixty': 1, u'11:57': 1, u'01:47': 1, u'10030': 1, u'713/646-6505': 1, u'59,339': 1, u'+852': 1, u'06:28': 1, u'202.429.1700': 1, u'750,000': 1, u'11/30/2000': 1, u'538': 1, u'03/01/2001': 1, u'832.676.1329': 1, u'9.95': 1, u'1327': 1, u'1986': 1, u'eleven': 1, u'165.9': 1, u'10,000.00': 1, u'1989': 1, u'1.50': 1, u'4:30': 1, u'150,000': 1, u'202-466-9142': 1, u'9.3': 1, u'532-3836': 1, u'77042-2016': 1, u'09:40': 1, u'850-748-0740': 1, u'20,000,000': 1, u'1590': 1, u'1593': 1, u'3.1': 1, u'79,000': 1, u'888-422-7132': 1, u'3.7': 1, u'03:33': 1, u'03:31': 1, u'18:32': 1, u'94.40': 1, u'2:25': 1, u'11/13/2000': 1, u'312-666-2372': 1, u'39938': 1, u'06:00:56': 1, u'Twenty': 1, u'3,200': 1, u'08:15': 1, u'83': 1, u'8274': 1, u'1890': 1, u'1892': 1, u'4.5': 1, u'09:27': 1, u'09:24': 1, u'09:22': 1, u'44': 1, u'1562': 1, u'01/25/2002': 1, u'2500': 1, u'08/16/2000': 1, u'77541': 1, u'36,000,000,000': 1, u'02:21': 1, u'06:16': 1, u'06:15': 1, u'35,000': 1, u'02:28': 1, u'03/10/2000': 1, u'489': 1, u'25.00': 1, u'07/18/2000': 1, u'23.8': 1, u'7:35': 1, u'8:15': 1, u'153B09': 1, u'11/2': 1, u'9800': 1, u'6.25': 1, u'713-853-4743': 1, u'07:35': 1}), u'ADP': Counter({u'of': 3424, u'in': 2705, u'to': 1783, u'for': 1645, u'with': 1107, u'on': 1099, u'at': 646, u'from': 600, u'by': 532, u'as': 360, u'out': 312, u'up': 306, u'about': 300, u'In': 191, u'into': 183, u'like': 151, u'than': 147, u'over': 125, u'after': 106, u'through': 98, u'off': 98, u'between': 89, u'under': 77, u'against': 75, u'during': 66, u'around': 65, u'down': 58, u'before': 55, u'within': 48, u'For': 43, u'per': 43, u'due': 43, u'without': 43, u'On': 42, u'At': 42, u'As': 40, u'By': 39, u'because': 38, u'among': 28, u'since': 27, u'With': 27, u'upon': 27, u'along': 26, u'From': 25, u'behind': 25, u'until': 25, u'After': 25, u'across': 24, u'@': 24, u'except': 21, u'near': 20, u'vs.': 18, u'back': 17, u'To': 17, u'via': 16, u'toward': 15, u'outside': 13, u'ON': 13, u'OF': 13, u'above': 13, u'below': 11, u'Of': 10, u'inside': 9, u'throughout': 9, u'but': 8, u'towards': 8, u'Like': 8, u'Re': 7, u'despite': 7, u'Since': 7, u'away': 7, u'FOR': 7, u'onto': 7, u'Due': 7, u'IN': 7, u'WITH': 6, u'Over': 6, u'Per': 6, u'past': 6, u'beyond': 6, u'During': 6, u'Under': 5, u'Despite': 5, u'thru': 5, u'o': 4, u'Because': 4, u'Within': 4, u're': 4, u'w': 4, u'Upon': 4, u'then': 4, u'FROM': 4, u'rather': 4, u'that': 4, u'a': 4, u'Until': 3, u'TO': 3, u'OFF': 3, u'Before': 3, u'Without': 3, u'AT': 3, u'next': 3, u'OUT': 3, u'f': 3, u'if': 3, u'OVER': 3, u'a.k.a': 2, u'save': 2, u'round': 2, u'versus': 2, u'beneath': 2, u'Across': 2, u'Among': 2, u'Throughout': 2, u'or': 2, u'whether': 2, u'worth': 2, u'Down': 2, u'and': 2, u'vs': 2, u'Above': 2, u'aside': 2, u'till': 2, u'Besides': 2, u'Off': 2, u'Unlike': 2, u'though': 2, u'beside': 2, u'amongst': 2, u'fo': 2, u'Btwn': 1, u'ala': 1, u'becuse': 1, u'unto': 1, u'board': 1, u'BY': 1, u'ta': 1, u'auto': 1, u't.': 1, u'w/o': 1, u'do': 1, u'BOARD': 1, u'X': 1, u'fot': 1, u'abt': 1, u'Along': 1, u'Up': 1, u'O': 1, u'besides': 1, u'ahead': 1, u'UP': 1, u'side': 1, u'Through': 1, u'aboard': 1, u'aka': 1, u'EXCEPT': 1, u'Behind': 1, u'duck': 1, u'while': 1, u'RE': 1, u'fro': 1, u'But': 1, u'w/': 1, u'too': 1, u'form': 1, u'ABOVE': 1, u'town': 1, u'DOWN': 1, u'circa': 1, u'unlike': 1, u'Into': 1, u'abou': 1, u'minus': 1, u'Out': 1, u'4': 1, u'it': 1, u'Atop': 1, u'b/t': 1, u'lik': 1, u'til': 1, u'Vs': 1, u'astride': 1, u'Amid': 1, u'TA': 1, u'ovr': 1, u'AS': 1, u'overt': 1, u'amoung': 1, u'the': 1, u'Beyond': 1}), u'PRON': Counter({u'I': 3121, u'you': 1920, u'it': 1468, u'they': 832, u'my': 759, u'that': 756, u'your': 631, u'he': 630, u'we': 613, u'me': 588, u'their': 389, u'his': 363, u'It': 348, u'them': 345, u'who': 336, u'our': 321, u'this': 315, u'which': 313, u'We': 300, u'what': 290, u'him': 288, u'They': 256, u'i': 255, u'there': 234, u'You': 206, u'her': 203, u'He': 195, u'she': 194, u'us': 167, u'its': 155, u'My': 129, u'There': 124, u'This': 109, u'something': 89, u'What': 82, u'anyone': 80, u'She': 74, u'anything': 70, u'nothing': 66, u'someone': 63, u'That': 58, u'those': 48, u'everything': 45, u'Your': 40, u'everyone': 39, u'Our': 35, u'yourself': 32, u'YOU': 27, u'themselves': 25, u'itself': 24, u'myself': 23, u'His': 22, u'IT': 20, u'Their': 20, u'one': 19, u'mine': 17, u'himself': 16, u'These': 15, u'whose': 14, u'whom': 14, u\"'s\": 14, u'these': 13, u'Who': 13, u'Everything': 12, u'Yo': 10, u'Everyone': 10, u'Her': 9, u'everybody': 9, u'Its': 9, u'Which': 8, u'MY': 8, u'whatever': 8, u'YOUR': 8, u'somebody': 7, u'ourselves': 7, u'Nobody': 7, u'THEY': 7, u\"it's\": 7, u'THAT': 6, u'THERE': 6, u'SHE': 6, u'Those': 6, u'anybody': 6, u'u': 6, u'the': 6, u'WHAT': 5, u'ME': 5, u's': 5, u'herself': 5, u'ours': 4, u'Anything': 4, u'THIS': 4, u'Anyone': 4, u'Nothing': 4, u'Me': 4, u'WHO': 4, u'ur': 4, u'HE': 4, u'yours': 4, u'Everybody': 3, u'WE': 3, u'EVERYTHING': 3, u'out': 3, u'ANYTHING': 3, u'self': 3, u'THEIR': 3, u'thy': 3, u'One': 3, u'EVERYONE': 2, u'ye': 2, u'yourselves': 2, u'ANYONE': 2, u'Us': 2, u'Someone': 2, u'hers': 2, u'WHICH': 1, u'whoever': 1, u'whoooooo': 1, u'waht': 1, u'ti': 1, u'then': 1, u'ya': 1, u'Theirs': 1, u\"who's\": 1, u\"Ya'll\": 1, u'yuor': 1, u'Whatever': 1, u'whomever': 1, u'em': 1, u'Whom': 1, u'mines': 1, u'ever': 1, u'theirs': 1, u'Mine': 1, u'THEM': 1, u\"It's\": 1, u\"'em\": 1, u\"you're\": 1, u'use': 1, u'nobody': 1, u\"they're\": 1, u'is': 1, u'iw': 1, u'Them': 1, u'HIS': 1, u'thei': 1, u'Thou': 1, u'HIM': 1, u'Myself': 1, u'wht': 1, u'U': 1, u'The': 1, u'youre': 1}), u'SCONJ': Counter({u'that': 982, u'if': 450, u'as': 312, u'If': 256, u'because': 155, u'for': 134, u'of': 134, u'in': 89, u'before': 87, u'like': 83, u'while': 73, u'since': 71, u'so': 69, u'after': 66, u'to': 63, u'with': 62, u'on': 60, u'by': 59, u'about': 55, u'than': 50, u'As': 45, u'whether': 38, u'from': 37, u'though': 37, u'until': 36, u'unless': 26, u'although': 25, u'After': 24, u'Although': 18, u'without': 18, u'While': 17, u'Once': 16, u'Since': 16, u'at': 14, u'into': 12, u'once': 12, u'IF': 10, u'Because': 9, u'Before': 7, u'cause': 7, u'With': 7, u'over': 6, u'That': 6, u'Whether': 5, u'Unless': 5, u'upon': 5, u'till': 4, u'BECAUSE': 3, u'From': 3, u'beyond': 3, u'Though': 3, u'whilst': 2, u'becuse': 2, u'wether': 2, u'except': 2, u'By': 2, u'then': 2, u'Of': 2, u'despite': 2, u'but': 2, u'Whereas': 2, u'To': 2, u'Without': 2, u'In': 2, u'THAT': 1, u'WITH': 1, u'Until': 1, u'cus': 1, u'save': 1, u\"I'd\": 1, u'out': 1, u'below': 1, u'FOR': 1, u'WITHOUT': 1, u'ask': 1, u'coz': 1, u'against': 1, u'becouse': 1, u'w/out': 1, u'th': 1, u'albeit': 1, u'will': 1, u'Whilst': 1, u'near': 1, u'toward': 1, u'Whie': 1, u'On': 1, u'it': 1, u'Seince': 1, u'whereas': 1, u'til': 1, u'Besides': 1, u'sice': 1, u'towards': 1, u'Like': 1, u'AS': 1, u'tho': 1}), u'PROPN': Counter({u'Bush': 211, u'US': 162, u'Iraq': 119, u'Enron': 95, u'Iran': 83, u'United': 81, u'China': 79, u'Al': 78, u'New': 72, u'States': 70, u'India': 64, u'John': 62, u'Qaeda': 61, u'George': 53, u'Dr.': 53, u'Friday': 53, u'May': 52, u'Pakistan': 51, u'September': 50, u'Mr.': 46, u'April': 46, u'Monday': 44, u'Jeff': 44, u'Americans': 44, u'National': 42, u'President': 42, u'July': 42, u'Zawahiri': 41, u'Houston': 40, u'Texas': 39, u'NASA': 39, u'Afghanistan': 39, u'Israel': 38, u'Sara': 37, u'al': 35, u'Mike': 34, u'June': 32, u'Canada': 32, u'March': 32, u'Taliban': 32, u'Paul': 31, u'St.': 31, u'Chris': 30, u'Mark': 30, u'America': 30, u'Kay': 28, u'U.S.': 28, u'Thursday': 28, u'Musharraf': 28, u'London': 27, u'David': 27, u'North': 27, u'CIA': 27, u'Vince': 25, u'Europe': 25, u'York': 24, u'January': 23, u'August': 23, u'Carol': 23, u'Vietnam': 23, u'San': 23, u'Richard': 23, u'Washington': 22, u'LTTE': 22, u'EB': 22, u'California': 21, u'Andaman': 21, u'Sunday': 21, u'Islamic': 21, u'Saddam': 20, u'FBI': 20, u'Karzai': 20, u'Michael': 20, u'Bill': 20, u'Wednesday': 20, u'South': 20, u'University': 19, u'October': 19, u'Delhi': 19, u'International': 19, u'Cargill': 19, u'Guard': 19, u'Paris': 19, u'Lopez': 18, u'ENA': 18, u'Mohammed': 18, u'Syria': 18, u'Energy': 18, u'Saturday': 18, u'World': 18, u'Laden': 18, u'Tuesday': 17, u'Clair': 17, u'Sept.': 17, u'Lanka': 17, u'God': 17, u'Kim': 17, u'Steve': 17, u'Sri': 17, u'Japan': 17, u'November': 17, u'ISO': 16, u'Ireland': 16, u'House': 16, u'Florida': 16, u'Cheney': 16, u'Beatles': 16, u'Marie': 16, u'England': 16, u'Kerry': 15, u'Jim': 15, u'Sea': 15, u'Russia': 15, u'Scott': 15, u'Posada': 15, u'Kashmir': 15, u'Jihad': 15, u'General': 15, u'February': 15, u'Orleans': 14, u'president': 14, u'Chernobyl': 14, u'Bin': 14, u'School': 14, u'Sufaat': 14, u'PaineWebber': 14, u'Columbia': 14, u'Ben': 14, u'Joe': 14, u'East': 14, u'Lennon': 14, u'France': 14, u'Gulf': 14, u'Bob': 14, u'Michelle': 14, u'Jones': 13, u'Group': 13, u'Dave': 13, u'Dan': 13, u'W.': 13, u'West': 13, u'Susan': 13, u'Ed': 13, u'Samuel': 13, u'Disney': 13, u'Linda': 13, u'Islands': 13, u'Center': 13, u'Senate': 13, u'December': 13, u'Winter': 12, u'Gas': 12, u'Francisco': 12, u'Sharon': 12, u'Ken': 12, u'Asia': 12, u'Court': 12, u'Blount': 12, u'Tamil': 12, u'Tigers': 12, u'Archibald': 12, u'City': 12, u'Air': 12, u'Supreme': 12, u'Peter': 12, u'Gregg': 12, u'Ahmed': 11, u'Chicago': 11, u'Alabama': 11, u'Baghdad': 11, u'James': 11, u'Moussaoui': 11, u'Red': 11, u'White': 11, u'Inc.': 11, u'Paulo': 11, u'Spain': 11, u'TW': 11, u'Mary': 11, u'Lay': 11, u'Korea': 11, u'Tom': 11, u'Don': 11, u'Bay': 11, u'Robinson': 11, u'Cindy': 11, u'State': 11, u'Questar': 11, u'Robert': 11, u'Fortier': 11, u'Sao': 11, u'Toronto': 11, u'UK': 11, u'William': 10, u'Devil': 10, u'CA': 10, u'County': 10, u'EOL': 10, u'Global': 10, u'Worth': 10, u'English': 10, u'Iraqis': 10, u'Khalid': 10, u'Security': 10, u'Brazil': 10, u'Johnson': 10, u'EnronOnline': 10, u'Island': 10, u'Mann': 10, u'Fujairah': 10, u'Street': 10, u'Nook': 10, u'Aafia': 10, u'Dunn': 10, u'War': 10, u'Middle': 10, u'Liberty': 10, u'USA': 10, u'Chalabi': 9, u'Home': 9, u'Jordan': 9, u'Essie': 9, u'B': 9, u'Bank': 9, u'Stephanie': 9, u'Mariner': 9, u'Harrison': 9, u'Antonio': 9, u'Australia': 9, u'Tana': 9, u'Jan': 9, u'Service': 9, u'Mexico': 9, u'Seas': 9, u'Katrina': 9, u'Shackleton': 9, u'Yellowstone': 9, u'Terry': 9, u'Jason': 9, u'Saudi': 9, u'Gerry': 9, u'Hussein': 9, u'Arabia': 9, u'Mujahedeen': 9, u'Ted': 9, u'Lake': 9, u'Buenos': 8, u'NYC': 8, u'Ft.': 8, u'Italy': 8, u'Stan': 8, u'FERC': 8, u'Blue': 8, u'Control': 8, u'Congress': 8, u'ECS': 8, u'Craig': 8, u'Rhonda': 8, u'Agency': 8, u'de': 8, u'Palestinians': 8, u'Central': 8, u'Commission': 8, u'Lee': 8, u'Ames': 8, u'St': 8, u'Atlanta': 8, u'Kevin': 8, u'F': 8, u'Zealand': 8, u'Mississippi': 8, u'DC': 8, u'Myanmar': 8, u'Immigration': 8, u'Philippines': 8, u'American': 8, u'Oct': 8, u'Council': 8, u'KSM': 8, u'Renaissance': 8, u'Tablet': 8, u'Hatfill': 8, u'Aires': 8, u'Germany': 8, u'Governor': 8, u'Egypt': 8, u'Office': 8, u'Department': 8, u'NY': 8, u'Molly': 8, u'Agel': 8, u'Oct.': 8, u'Wilson': 8, u'Warwick': 8, u'Argentina': 8, u'Ferrous': 8, u'LLC': 8, u'Satan': 7, u'Bobby': 7, u'Transwestern': 7, u'Wars': 7, u'Ruy': 7, u'Powell': 7, u'Dec.': 7, u'Caribbean': 7, u'Pew': 7, u'Jeffs': 7, u'Thane': 7, u'Abby': 7, u'Sitara': 7, u'Louisiana': 7, u'Day': 7, u'Shiites': 7, u'Jane': 7, u'Federal': 7, u'Sheikh': 7, u'Elena': 7, u'GOD': 7, u'Alliance': 7, u'Grand': 7, u'Merchanting': 7, u'GOODWYN': 7, u'Army': 7, u'Hotel': 7, u'Brown': 7, u'Christians': 7, u'Conference': 7, u'satanism': 7, u'Boston': 7, u'Rick': 7, u'Nguyen': 7, u'N': 7, u'Khan': 7, u'Edwards': 7, u'Rahman': 7, u'UPI': 7, u'Committee': 7, u'Ms.': 7, u'Austin': 7, u'Africa': 7, u'Leon': 7, u'Business': 7, u'Iguazu': 7, u'McCartney': 7, u'Zacarias': 7, u'Dubai': 7, u'Sam': 7, u'Martin': 7, u'Rolling': 7, u'Fallujah': 7, u'Titanic': 7, u'River': 7, u'ARVN': 7, u'Osama': 7, u'Dasovich': 7, u'Force': 7, u'Sue': 7, u'Sun': 7, u'Arctic': 7, u'Year': 7, u'Karim': 7, u'Leahy': 7, u'Thomas': 6, u'Brian': 6, u'Jack': 6, u'A': 6, u'Beyond': 6, u'Yazid': 6, u'ARCHIBALD': 6, u'Meiring': 6, u'Planet': 6, u'Cafe': 6, u'Colin': 6, u'Minister': 6, u'Abdul': 6, u'Per': 6, u'Carolina': 6, u'Persian': 6, u'Hamas': 6, u'EBS': 6, u'Portland': 6, u'D': 6, u'Bangladesh': 6, u'Feb': 6, u'Dallas': 6, u\"Sha'lan\": 6, u'Color': 6, u'Yoko': 6, u'christmas': 6, u'Allawi': 6, u'RAPHAEL': 6, u'Davis': 6, u'Sanders': 6, u'Duke': 6, u'Kyle': 6, u'Ontario': 6, u'Royal': 6, u'ISI': 6, u'VCU': 6, u'DF': 6, u'Valley': 6, u'Party': 6, u'Province': 6, u'Forum': 6, u'Kalkat': 6, u'Ayman': 6, u'Net': 6, u'Harry': 6, u'Kuwait': 6, u'Nations': 6, u'Richmond': 6, u'Sudan': 6, u'Corp': 6, u'L': 6, u'Colombo': 6, u'Jana': 6, u'Nicobar': 6, u'Google': 6, u'Prime': 6, u'Kandahar': 6, u'governor': 6, u'Intelligence': 6, u'Front': 6, u'ga': 6, u'Nick': 6, u'Parenteau': 6, u'Ryan': 6, u'Miami': 6, u'Works': 6, u'Alito': 6, u'Jesus': 6, u'Coast': 6, u'Bangs': 6, u'Smith': 6, u'Paula': 6, u'Republican': 6, u'Guild': 6, u'Islamabad': 6, u'Taiwan': 6, u'Kabul': 6, u'Rome': 6, u'Climate': 6, u'UN': 6, u'Iraqi': 6, u'Coalition': 6, u'Edison': 5, u'ISDA': 5, u'Communist': 5, u'Stones': 5, u'Star': 5, u'La': 5, u'Muslims': 5, u'Harris': 5, u'Pervez': 5, u'Hodge': 5, u'god': 5, u'W': 5, u'BTA': 5, u'Egyptian': 5, u'Anne': 5, u'Big': 5, u'Carnival': 5, u'Moore': 5, u'Midas': 5, u'District': 5, u'Hospital': 5, u'C': 5, u'Diego': 5, u'Stuart': 5, u'Secretary': 5, u'Cambodia': 5, u'Okinawa': 5, u'Philip': 5, u'Gray': 5, u'Essex': 5, u'Honda': 5, u'Jean': 5, u'Shanna': 5, u'Falls': 5, u'Tamils': 5, u'Earth': 5, u'Republic': 5, u'Rice': 5, u'Nov.': 5, u'Travis': 5, u'Taylor': 5, u'Rod': 5, u'Marketing': 5, u'Shia': 5, u'WTC': 5, u'Communists': 5, u'canada': 5, u'DISCO': 5, u'SOLAS': 5, u'ElPaso': 5, u'PG&E': 5, u'Wood': 5, u'Agra': 5, u'Metro': 5, u'Earl': 5, u'Hino': 5, u'Leonardo': 5, u'NJ': 5, u'Walker': 5, u'Patty': 5, u'S.': 5, u'Denton': 5, u'Atta': 5, u'Joseph': 5, u'Sunburn': 5, u'El': 5, u'Fabio': 5, u'Justin': 5, u'Limerick': 5, u'Defence': 5, u'Club': 5, u'Leopold': 5, u'Kathy': 5, u'Janice': 5, u'Park': 5, u'MHC': 5, u'Compaq': 5, u'Mayko': 5, u'bin': 5, u'Times': 5, u'Ruth': 5, u'Terrell': 5, u'TX': 5, u'Canadian': 5, u'Swift': 5, u'Doctor': 5, u'Nice': 5, u'Dale': 5, u'NATO': 5, u'Barclays': 5, u'UT': 5, u'Northern': 5, u'Network': 5, u'Guantanamo': 5, u'Santa': 5, u'Blair': 5, u'Siddiqui': 5, u'Sistani': 5, u'Thailand': 5, u'USS': 5, u'Medical': 5, u'BC': 5, u'Chairman': 5, u'Hyatt': 5, u'A&E': 5, u'Philadelphia': 5, u'Hambali': 5, u'Kumaratunga': 5, u'PEREZ': 5, u'Tet': 5, u'CDEC': 5, u'Act': 5, u'Western': 4, u'GW': 4, u'Jen': 4, u'Qanooni': 4, u'Jerry': 4, u'Liz': 4, u'Allowance': 4, u'Montgomery': 4, u'Judge': 4, u'Nixon': 4, u'Centre': 4, u'Shady': 4, u'Pike': 4, u'Jaffna': 4, u'Union': 4, u'Netherlands': 4, u'Debbie': 4, u'Naha': 4, u'Ercot': 4, u'Hewlett': 4, u'Pennsylvania': 4, u'Ellis': 4, u'gimp': 4, u'Dr': 4, u'Steven': 4, u'Pentagon': 4, u'Groom': 4, u'Sweden': 4, u'Conquest': 4, u'Jose': 4, u'Andrew': 4, u'Gracee': 4, u'Charles': 4, u'Laurie': 4, u'Graduate': 4, u'Just': 4, u'DB': 4, u'Dean': 4, u'Tiger': 4, u'Time': 4, u'Pacific': 4, u'MMA': 4, u'Ground': 4, u'Noble': 4, u'Yale': 4, u'Maviglio': 4, u'Joy': 4, u'ENE': 4, u'Eric': 4, u'Jalalabad': 4, u'Dow': 4, u'Patrick': 4, u'Rockies': 4, u'Shaikh': 4, u'Venezuela': 4, u'Murphy': 4, u'Wyndham': 4, u'Mart': 4, u'Securities': 4, u'Metals': 4, u'Barbara': 4, u'Jazeera': 4, u'Kenneth': 4, u'Nashville': 4, u'Bosnia': 4, u'II': 4, u'Port': 4, u'TEXAS': 4, u'Jafar': 4, u'Rumsfeld': 4, u'PUCT': 4, u'NW': 4, u'Ave': 4, u'Law': 4, u'Executive': 4, u'McGinnis': 4, u'17th': 4, u'CST': 4, u'Jews': 4, u'Kennedy': 4, u'Clinton': 4, u'People': 4, u'SF': 4, u'FusionRetail': 4, u'Starbucks': 4, u'Carnegie': 4, u'Pilot': 4, u'Manson': 4, u'Belgium': 4, u'Road': 4, u'states': 4, u'Bout': 4, u'Virginia': 4, u'Andamans': 4, u'Chief': 4, u'Islamist': 4, u'Thanksgiving': 4, u'DENISE': 4, u'King': 4, u'Church': 4, u'Taub': 4, u'Tollis': 4, u'Danny': 4, u'Nancy': 4, u'Abdel': 4, u'Miller': 4, u'Christopher': 4, u'Vanguards': 4, u'Little': 4, u'Laos': 4, u'Frank': 4, u'Karachi': 4, u'Rob': 4, u'Qadoos': 4, u'Gerald': 4, u'Shindand': 4, u'Switzerland': 4, u'Hubbard': 4, u'Cross': 4, u'Mar': 4, u'Max': 4, u'Hiller': 4, u'Montparnasse': 4, u'Seattle': 4, u'Turkey': 4, u'Green': 4, u'metro': 4, u'Appropriations': 4, u'Denmark': 4, u'Kathleen': 4, u'Baluchistan': 4, u'Christmas': 4, u'Sunnis': 4, u'Apple': 4, u'Parisians': 4, u'Gonzales': 4, u'EGM': 4, u'X': 4, u'Oasis': 4, u'Indonesia': 4, u'Liverpool': 4, u'Ono': 4, u'Pat': 4, u'Rosalee': 4, u'Auto': 4, u'CRRA': 4, u'Bowtie': 4, u'Packard': 4, u'Sullivan': 4, u'Space': 4, u'Brooklyn': 4, u'Neil': 4, u'Sir': 4, u'Ana': 4, u'Exile': 4, u'Fish': 4, u\"Ba'athists\": 4, u'Prophet': 4, u'Doug': 4, u'LAGESSE': 4, u'Creek': 4, u'NYMEX': 4, u'Singapore': 4, u'broad': 4, u'Parmesan': 4, u'Microsoft': 4, u'Zero': 4, u'Sommer': 4, u'French': 4, u'Calgary': 4, u'Deb': 4, u'Britain': 4, u'Utah': 4, u'Corp.': 4, u'Frontier': 3, u'Bailey': 3, u'Ronald': 3, u'League': 3, u'Sicily': 3, u'Hamilton': 3, u'Vestry': 3, u'ERCOT': 3, u'Russians': 3, u'Ministry': 3, u'Professors': 3, u'LME': 3, u'Corporation': 3, u'Hurricane': 3, u'NOOK': 3, u'Phoenix': 3, u'LA': 3, u'Downtown': 3, u'L.': 3, u'Ali': 3, u'Tropez': 3, u'SNAP': 3, u'Word': 3, u'Leach': 3, u'Traveller': 3, u'Gen.': 3, u'FITNESS': 3, u'Aerocom': 3, u'Adnan': 3, u'Hilton': 3, u'Attorney': 3, u'eSpeak': 3, u'Jemison': 3, u'Republicans': 3, u'Fred': 3, u'D.C.': 3, u'Chittagong': 3, u'Radison': 3, u'Soviet': 3, u'Ismat': 3, u'Glen': 3, u'Christianity': 3, u'Anderson': 3, u'Risk': 3, u'McDonald': 3, u'Laura': 3, u'Newsweek': 3, u'PST': 3, u'Feb.': 3, u'Bienvenue': 3, u'Southern': 3, u'Mohawk': 3, u'Stout': 3, u\"Ba'athist\": 3, u'Yang': 3, u'Epstein': 3, u'Sushi': 3, u'Kaufman': 3, u'Alto': 3, u'Courtney': 3, u'Puerto': 3, u'Crawford': 3, u'VC': 3, u'Cheryl': 3, u'Angeles': 3, u'IAEA': 3, u'Dulaim': 3, u'Sarah': 3, u'News': 3, u'Roberts': 3, u'Sat.': 3, u'Michele': 3, u'Heard': 3, u'Health': 3, u'Sooners': 3, u'Moslems': 3, u'Noel': 3, u'Aster': 3, u'Hu': 3, u'devil': 3, u'Neal': 3, u'First': 3, u'Austria': 3, u'Smutney': 3, u'Square': 3, u'Darla': 3, u'Marianne': 3, u'Ronn': 3, u'Bojinka': 3, u'Percell': 3, u'Second': 3, u'Chicken': 3, u'INS': 3, u'WA': 3, u'Phet': 3, u'Grill': 3, u'Sahaf': 3, u'M.': 3, u'Lt.': 3, u'Francis': 3, u'Doyon': 3, u'Libya': 3, u'Uecomm': 3, u'Portugal': 3, u\"Sear's\": 3, u'IBM': 3, u'Iris': 3, u'Opera': 3, u'Afshari': 3, u'Ernie': 3, u'sunday': 3, u'Kowalke': 3, u'Islam': 3, u'Wyoming': 3, u'Juggernaut': 3, u'Accord': 3, u'RI': 3, u'Wildlife': 3, u'Rogers': 3, u'Barrett': 3, u'Buchanan': 3, u'Job': 3, u'Area': 3, u'Sancho': 3, u'Patricia': 3, u'Unitary': 3, u'Love': 3, u'Colorado': 3, u'College': 3, u'SWG': 3, u'CPUC': 3, u'GOP': 3, u'Amsterdam': 3, u'Alibek': 3, u'Kent': 3, u'Southwest': 3, u'PA': 3, u'Services': 3, u'Biloxi': 3, u'Louis': 3, u'BNA': 3, u'Education': 3, u'Beschta': 3, u'Malaysia': 3, u'Tours': 3, u'Baath': 3, u'Travel': 3, u'boat': 3, u'Assembly': 3, u'Marshall': 3, u'Whipple': 3, u'IRS': 3, u'Barcelona': 3, u'Laboratory': 3, u'TV': 3, u'Nazi': 3, u'Christ': 3, u'Ramadi': 3, u'Varanasi': 3, u'Change': 3, u'Jersey': 3, u'Saratoga': 3, u'Camp': 3, u'Forster': 3, u'Titman': 3, u'Revolution': 3, u'Wed.': 3, u'Trade': 3, u'FLDS': 3, u'los': 3, u'Holga': 3, u'Great': 3, u'Naval': 3, u'BackWeb': 3, u'Ayatollah': 3, u'Tots': 3, u'Hoecker': 3, u'Breakfast': 3, u'Circle': 3, u'Anbar': 3, u'Jared': 3, u'Constitution': 3, u'NEPCO': 3, u'Everland': 3, u'MKM': 3, u'Nov': 3, u'Yahoo!': 3, u'Inn': 3, u'Inc': 3, u'PGE': 3, u'Kaminski': 3, u'BOX': 3, u'Marriage': 3, u'Wildwood': 3, u'IPN': 3, u'Ray': 3, u'Butcher': 3, u'Moro': 3, u'E.': 3, u'Delivery': 3, u'EU': 3, u'Fri': 3, u'Delta': 3, u'Atomic': 3, u'Penn': 3, u'EEFTL': 3, u'Revolutionary': 3, u'XF': 3, u'Tho': 3, u'dominos': 3, u'Ham': 3, u'Freeman': 3, u'J.': 3, u'Equality': 3, u'Oregon': 3, u'Mosul': 3, u'Todd': 3, u'Company': 3, u'Care': 3, u'Niagara': 3, u'Cole': 3, u'Towing': 3, u'Holly': 3, u'Elliott': 3, u'Co.': 3, u'Phyllis': 3, u'Laundry': 3, u'Pioneers': 3, u'Rachels': 3, u'Christchurch': 3, u'Bernard': 3, u'Theory': 3, u'Alexandria': 3, u'Bradley': 3, u'AMI': 3, u'Seoul': 3, u'Baffin': 3, u'Stark': 3, u'Anthony': 3, u'Visa': 3, u'Mullah': 3, u'Fe': 3, u'Schott': 3, u'GDP': 3, u\"Gu'ud\": 3, u'Mars': 3, u'Phuket': 3, u'A.': 3, u'Mac': 3, u'Israelis': 3, u'Stanford': 3, u'Dennis': 3, u'TNA': 3, u'Bengal': 3, u'Family': 3, u'pledge': 3, u'Greendale': 3, u'Contra': 3, u'Dartmouth': 3, u'Norway': 3, u'Janet': 3, u'Alan': 3, u'Murillo': 3, u'Professor': 3, u'Arabic': 3, u'Religious': 3, u'Daniels': 3, u'Kindle': 3, u'Heather': 3, u'ACIA': 3, u'Nelson': 3, u'Larry': 3, u'Liberation': 3, u'Murph': 3, u'Garcia': 3, u'Barno': 3, u'united': 3, u'Jeopardy': 3, u'Nicki': 3, u'Sinh': 3, u'Task': 3, u'WalMart': 3, u'Murfreesboro': 3, u'Tub': 3, u'British': 3, u'Madrid': 3, u'Eastern': 3, u'Rev.': 3, u'Nadu': 3, u'ENRON': 3, u'Hughes': 3, u'Robbie': 3, u'High': 3, u'Croatia': 3, u'Mom': 3, u'Tehran': 3, u'Italian': 3, u'Freese': 3, u'Good': 3, u'Harvard': 3, u'Jolla': 3, u'Kitchen': 3, u'S': 3, u'Strait': 3, u'Design': 3, u'Los': 3, u'EPA': 3, u'Bhutan': 3, u'Cullen': 3, u'Arafat': 3, u'Enpower': 3, u'Autos': 3, u'yheggy': 3, u'Briggs': 3, u'Garden': 3, u'Halliburton': 3, u'party': 3, u'Order': 3, u'Superfund': 3, u'LOPEZ': 3, u'Far': 3, u'YouTube': 3, u'Atlantic': 3, u'Jamaica': 3, u'Forest': 3, u'Zaman': 3, u'angeles': 3, u'Juan': 3, u\"Qa'ida\": 3, u'Penman': 3, u'Finance': 3, u'X940': 3, u'ireland': 3, u'Daschle': 3, u'inn': 3, u'Jr.': 3, u'Fridays': 3, u'Dykman': 3, u'U': 3, u'Corps': 3, u'Philly': 3, u'captain': 2, u'paris': 2, u'G.': 2, u'Iranian': 2, u'Moon': 2, u'Industry': 2, u'ROADHOUSE': 2, u'jack': 2, u'GM': 2, u'Steak': 2, u'Station': 2, u'Kadhim': 2, u'Festival': 2, u'Hazim': 2, u'AT&T': 2, u'NYE': 2, u'Sally': 2, u'Presidential': 2, u'Ferrari': 2, u'Massoud': 2, u'Batawi': 2, u'Woodinville': 2, u'Angie': 2, u'Andre': 2, u'Hood': 2, u'Wire': 2, u'Stubley': 2, u'Three': 2, u'Senator': 2, u'Howrah': 2, u'Express': 2, u'V': 2, u'Wildernest': 2, u'Financial': 2, u'Guerra': 2, u'EDT': 2, u'Abu': 2, u'Lora': 2, u'Pervaiz': 2, u'III': 2, u'Ocean': 2, u'Petersen': 2, u'UNLIMITED': 2, u'Wolf': 2, u'Eye': 2, u'Newark': 2, u'Drew': 2, u'Sadr': 2, u'Ineos': 2, u'Hickory': 2, u'Travels': 2, u'CHS': 2, u'Omar': 2, u'Amelia': 2, u'Plantation': 2, u'Kline': 2, u'Rawalpindi': 2, u'Aquarius': 2, u'Riding': 2, u'Holy': 2, u'Seleznov': 2, u'Interceptor': 2, u'Tina': 2, u'Shrii': 2, u'Palace': 2, u'renaissance': 2, u'Ripple': 2, u'Yousef': 2, u'Cherokee': 2, u'Academy': 2, u'Quetta': 2, u'Shreveport': 2, u'ECP': 2, u'BBC': 2, u'Creekside': 2, u'Oracle': 2, u'Amerithrax': 2, u'Williams': 2, u'Christian': 2, u'Devon': 2, u'Gallery': 2, u'Lynn': 2, u'Ogden': 2, u'Computers': 2, u'Lucy': 2, u'Abramoff': 2, u'CHERNOBYL': 2, u'Lewis': 2, u'Indivero': 2, u'm': 2, u'PAT': 2, u'Mekong': 2, u'earth': 2, u'Anna': 2, u'Thanh': 2, u'Pacheco': 2, u'df': 2, u'Senators': 2, u'Rio': 2, u'Perez': 2, u'Sydney': 2, u'McNuggets': 2, u'Derrick': 2, u'Loretta': 2, u'Karen': 2, u'Dawa': 2, u'Carribbean': 2, u'Bazar': 2, u'Board': 2, u'Chavez': 2, u'Slovenia': 2, u'Kaplan': 2, u'enron': 2, u'Georgia': 2, u'CO': 2, u'CD': 2, u'Marines': 2, u'Huskers': 2, u'Clark': 2, u'launcher': 2, u'Ivan': 2, u'Tampa': 2, u'Lindh': 2, u'Wolak': 2, u'Chaman': 2, u'VI': 2, u'Steffes': 2, u'Hormuz': 2, u'Gates': 2, u'Vicsandra': 2, u'T': 2, u'Namsan': 2, u'Russell': 2, u'RER': 2, u'excel': 2, u'Grille': 2, u'Rothko': 2, u'Tenn': 2, u'Connecticut': 2, u'Things': 2, u'Tre': 2, u'Art': 2, u'Book': 2, u'Trading': 2, u'Prince': 2, u'Warren': 2, u'Lonely': 2, u'Basic': 2, u'System': 2, u'Goodwyn': 2, u'Edinburgh': 2, u'Gemini': 2, u'Abbudi': 2, u'Garage': 2, u'Corey': 2, u'UltraSonic': 2, u'Marly': 2, u'MILNET': 2, u'france': 2, u'SUN': 2, u'Scotland': 2, u'Fei': 2, u'Kriste': 2, u'EnronOnLine': 2, u'Regency': 2, u'Proxy': 2, u'Broad': 2, u'Endo': 2, u'Columbine': 2, u'peninsula': 2, u'GMT': 2, u'Fire': 2, u'OLYMPUS': 2, u'Fraiser': 2, u'Lotte': 2, u'Gaza': 2, u'Strathmann': 2, u'Impacts': 2, u'republic': 2, u'depot': 2, u'Arbitration': 2, u'Sherri': 2, u'Indians': 2, u'Damascus': 2, u'Leo': 2, u'S.D.': 2, u'Ruona': 2, u'veterans': 2, u'southwest': 2, u'Janell': 2, u'Chiara': 2, u'Tax': 2, u'Sport': 2, u'Yanhee': 2, u'Walloch': 2, u'Darren': 2, u'Bruce': 2, u'Delight': 2, u'UVA': 2, u'UVB': 2, u'Fort': 2, u'Emma': 2, u'NCRC4ME': 2, u'Baltimore': 2, u'Lorie': 2, u'Jan.': 2, u'Warner': 2, u'Balasingham': 2, u'Sacramento': 2, u'Maine': 2, u'Ariel': 2, u'Aries': 2, u'Kilinochchi': 2, u'Xmas': 2, u'Orlando': 2, u'Lebanon': 2, u'Edmund': 2, u'Rockin': 2, u'Medici': 2, u'OBL': 2, u'GCP_London': 2, u'Eagle': 2, u'Wazed': 2, u'Series': 2, u'Morton': 2, u'Hezbollah': 2, u'Bolivia': 2, u'Verizon': 2, u'Cay': 2, u'yorkshire': 2, u'Minkin': 2, u'Buck': 2, u'R.': 2, u'U.K': 2, u'Beutel': 2, u'Dhaka': 2, u'Legal': 2, u'Anwar': 2, u'Elizabeth': 2, u'Usmani': 2, u'Straits': 2, u'Maureen': 2, u'Stone': 2, u'DS': 2, u'Judy': 2, u'Apr': 2, u'Erin': 2, u'Blanco': 2, u'ISS': 2, u'Black': 2, u'Medicine': 2, u'Wolens': 2, u'Atef': 2, u'Lieutenant': 2, u'SCIRI': 2, u'Ulistic': 2, u'Choate': 2, u'Sept': 2, u'Seven': 2, u'Teresa': 2, u'Liquidweb': 2, u'Fishman': 2, u'Nimr': 2, u'Rocky': 2, u'Saltford': 2, u'Porte': 2, u'Eco': 2, u'mid-July': 2, u'Signs': 2, u'Thur.': 2, u'Coogan': 2, u'Sibley': 2, u'montparnasse': 2, u'IL': 2, u'Reuters': 2, u'Systems': 2, u'Stephen': 2, u'chinatown': 2, u'Quixote': 2, u'Lewiston': 2, u'Kansas': 2, u'BUSH': 2, u'Gallup': 2, u'Zahav': 2, u'Dudley': 2, u'Czech': 2, u'Baudelaire': 2, u'WARWICK': 2, u'Tourist': 2, u'mecca': 2, u'Tarawa': 2, u'Berlin': 2, u'Independent': 2, u'Bible': 2, u'Natural': 2, u'Harbor': 2, u'CLASS': 2, u'Oglethorpe': 2, u'Shee': 2, u'Pinto': 2, u'Scheuer': 2, u'Leite': 2, u'Jeremy': 2, u'Horton': 2, u'mark': 2, u'Melanie': 2, u'Lynch': 2, u'Sun.': 2, u'Beth': 2, u'UNITED': 2, u'Reagan': 2, u'Fri.': 2, u'Avenue': 2, u'Lavorato': 2, u'Edwin': 2, u'canon': 2, u'Giovannini': 2, u'Hidden': 2, u'Muni': 2, u'Nails': 2, u'Antichrist': 2, u'Tori': 2, u'Toyota': 2, u'Skilled': 2, u'Mon.': 2, u'Oslo': 2, u'EPI': 2, u'Tmobile': 2, u'Margaret': 2, u'WALKER': 2, u'Coil': 2, u'F.O.B.': 2, u'Nile': 2, u'Ramtanu': 2, u'U.N.': 2, u'mod': 2, u'Operations': 2, u'Medal': 2, u'pet': 2, u'Troy': 2, u'Kut': 2, u'Milan': 2, u'Southeast': 2, u'M.D.': 2, u'power': 2, u'Stacey': 2, u'Marcelo': 2, u'Leigh': 2, u'Autumn': 2, u'Chevron': 2, u'Cass': 2, u'PHILLY': 2, u'Bowen': 2, u'Norma': 2, u'NZ': 2, u'Singer': 2, u'Calcutta': 2, u'Bud': 2, u'youtube': 2, u'Wii': 2, u'Lab': 2, u'IEP': 2, u'Cheveux': 2, u'Hasina': 2, u'Apartments': 2, u'FIRE': 2, u'La.': 2, u'Huber': 2, u'HBS': 2, u'Everett': 2, u'Islami': 2, u'9/11': 2, u'Van': 2, u'Compression': 2, u'Wayne': 2, u\"Tuesday's\": 2, u'Bechtel': 2, u'Outback': 2, u'thursday': 2, u'Crayola': 2, u'Tikrit': 2, u'CSIS': 2, u'Alaska': 2, u'sony': 2, u'Salt': 2, u'Arabs': 2, u'Del': 2, u'Ismail': 2, u'Merrist': 2, u'NPR': 2, u'Chechnya': 2, u'Willow': 2, u'Aeron': 2, u'Giovanni': 2, u'Worker': 2, u'Finland': 2, u'Xbox': 2, u'HCC': 2, u'Gov.': 2, u'Reliant': 2, u'airport': 2, u'Qaim': 2, u'Cone': 2, u'Victor': 2, u'Canal': 2, u'Enquirer': 2, u'Parish': 2, u'Kurds': 2, u'SPARKS': 2, u'Guthrie': 2, u'Russian': 2, u'Sheila': 2, u'Campenni': 2, u'Rittenhouse': 2, u'Aldo': 2, u'Fuel': 2, u'Sanskrit': 2, u'Baathists': 2, u'Kelly': 2, u'Democrats': 2, u'Plus': 2, u'UCAS': 2, u'Maitra': 2, u'UCAN': 2, u'Shankman': 2, u'Dental': 2, u'Palestinian': 2, u'Nichols': 2, u'Charlotte': 2, u'Kapor': 2, u'Bad': 2, u'Liau': 2, u'Bloom': 2, u'Authority': 2, u'IPS': 2, u'Nella': 2, u'BMW': 2, u'PRESS': 2, u'Ukraine': 2, u'Wallen': 2, u'EI': 2, u'Hamid': 2, u'Uno': 2, u'Simone': 2, u'Lexus': 2, u'Rover': 2, u'Asansol': 2, u'Brickell': 2, u'Indian': 2, u'Genesis': 2, u'Algeria': 2, u'Nordau': 2, u'Regulatory': 2, u'Marquez': 2, u'Parkway': 2, u'Rico': 2, u'Saudis': 2, u'Shukrijumah': 2, u'Perkins': 2, u'philly': 2, u'blanco': 2, u'Dec': 2, u'Arab': 2, u'Capitol': 2, u'Buis': 2, u'Sheik': 2, u'Levitt': 2, u'Simien': 2, u'Pisces': 2, u'Hartpury': 2, u'Hai': 2, u'Karla': 2, u'JI': 2, u'Palestine': 2, u'FHS': 2, u'Pool': 2, u'Dublin': 2, u'Vajpayee': 2, u'Meira': 2, u'Shenzhou': 2, u'Hell': 2, u'Networks': 2, u'ANTONIO': 2, u'Foz': 2, u'Peggy': 2, u'Manipur': 2, u'Sony': 2, u'Taj': 2, u'league': 2, u'Youngstown': 2, u'NVA': 2, u'Romanick': 2, u'Lounge': 2, u'Way': 2, u'Online': 2, u'Deemed': 2, u'Protection': 2, u'Carl': 2, u'NDI': 2, u'Princeton': 2, u'Rachel': 2, u'Saleh': 2, u'Market': 2, u'Walters': 2, u'Amrullah': 2, u'Easter': 2, u'Gentle': 2, u'U.S.A': 2, u'Phillip': 2, u'delhi': 2, u'Transmission': 2, u'Cox': 2, u'Pakistanis': 2, u'Limited': 2, u'Egg': 2, u'Carter': 2, u'Manne': 2, u'Thelema': 2, u'Iceland': 2, u'Karl': 2, u'INTERNATIONAL': 2, u'Berkeley': 2, u'Tronicus': 2, u'CAEM': 2, u'Daily': 2, u'Fahrenheit': 2, u'Messenger': 2, u'Napa': 2, u'Marek': 2, u'Fund': 2, u'Vice': 2, u'Brad': 2, u'Boy': 2, u'Boi': 2, u'Nigel': 2, u'Loop': 2, u'Romania': 2, u'Bart': 2, u'Tiffany': 2, u'Katie': 2, u'googlenut': 2, u'Boulder': 2, u'Nikon': 2, u'Belarus': 2, u'Kitty': 2, u'Hull': 2, u'Comfort': 2, u'Franklin': 2, u'Ltd.': 2, u'Amnesty': 2, u'Beijing': 2, u'Paradero': 2, u'AK': 2, u'Cash': 2, u'T.': 2, u'U$': 2, u'delta': 2, u'Chanley': 2, u'Village': 2, u'Intrepid': 2, u'ENW_GCP': 2, u'Veterinary': 2, u'Libra': 2, u'Ramzi': 2, u'Weil': 2, u'Orla': 2, u'SoCal': 2, u'Defense': 2, u'Radiation': 2, u'Long': 2, u'Orr': 2, u'Kingdom': 2, u'Gibson': 2, u'PJM': 2, u'STREET': 2, u'Jennifer': 2, u'Cavern': 2, u'Staff': 2, u'Mountain': 2, u'home': 2, u'Soper': 2, u'Mia': 2, u'Declaration': 2, u'McNamara': 2, u'antichrist': 2, u'Noyce': 2, u'Balochistan': 2, u'WebLogic': 2, u'PSP': 2, u'PetSmart': 2, u'Furniture': 2, u'Police': 2, u'Ages': 2, u'Debaathification': 2, u'Policy': 2, u'Lovely': 2, u'LOCUST': 2, u'Beast': 2, u'Clayton': 2, u'Gore': 2, u'Winton': 2, u'Disease': 2, u'Guards': 2, u'Sadat': 2, u'BRENNER': 2, u'Denis': 2, u'BRIDGET': 2, u'Danelia': 2, u'Eurasia': 2, u'Makkai': 2, u'ICDC': 2, u'Director': 2, u'RAW': 2, u'Fossum': 2, u'Haven': 2, u'STARZZ': 2, u'Cal': 2, u'Robin': 2, u'LAURA': 2, u'Whore': 2, u'WarpSpeed': 2, u'Mills': 2, u'Meier': 2, u'Baba': 2, u'Jupiter': 2, u'Emery': 2, u'Ashcroft': 2, u'Evangelicals': 2, u'Directorate': 2, u'Goldmann': 2, u'NC': 2, u'playstation': 2, u'Review': 2, u'Administration': 2, u'Tour': 2, u'Amy': 2, u'Fran': 2, u'Association': 2, u'testing': 2, u'Roosevelt': 2, u'R': 2, u'Democratic': 2, u'Duct': 2, u'Information': 2, u'Electoral': 2, u'Mama': 2, u'north': 2, u'GMAT': 2, u'Papeluna': 2, u'Maryam': 2, u'Taurus': 2, u'Reserve': 2, u\"Monday's\": 2, u'Donald': 2, u'Lessons': 2, u'Chemical': 2, u'Brandee': 2, u'Balance': 2, u'Nie': 2, u'Kingel': 2, u'Adriana': 2, u'GEORGE': 2, u'Nalapat': 2, u'Dietrich': 2, u'Armatho': 2, u'Bright': 2, u'Gapinski': 2, u'Brent': 2, u'Gyanendra': 2, u'Montana': 2, u'U.T.': 2, u'Wisconsin': 2, u'Representative': 2, u'Kueck': 2, u'Strzalka': 2, u'Dealer': 2, u'Chumley': 2, u'Lou': 2, u'700': 2, u'Dance': 2, u'Doors': 2, u'Shona': 2, u'Hawijah': 2, u'Tozzini': 2, u'Beach': 2, u'Hizbullah': 2, u'Becky': 2, u'Arakan': 2, u'Hunter': 2, u'Sutcliffe': 2, u'DeCook': 2, u'MTM': 2, u'Decoud': 2, u'Spring': 2, u'Julie': 2, u'BJ': 2, u'BP': 2, u'Aid': 2, u'Diagnostic': 2, u'Bu': 2, u'Pigs': 2, u'Dorsey': 2, u'Taco': 2, u'sonic': 2, u'Officer': 2, u'Rove': 2, u'Nobel': 2, u'Eelam': 2, u'Californians': 2, u'Excel': 2, u'EES': 2, u'Jonathan': 2, u'Capricorn': 2, u'Heaven': 2, u'Range': 2, u'Hosanna': 2, u'VOF': 2, u'UV': 2, u'Garibaldi': 2, u'Moyross': 2, u'Morgan': 2, u'Arts': 2, u'Virgo': 2, u'Orange': 2, u'Spears': 2, u'Ball': 2, u'Jintao': 2, u'Mabruk': 2, u'Dee': 2, u'Johnette': 2, u'Scorpio': 2, u'Fuji': 2, u'Fagan': 2, u'Poland': 2, u'Maria': 2, u'Future': 2, u'petsmart': 2, u'Michigan': 2, u'Roofing': 1, u'CONFIRMIT': 1, u'Wal': 1, u'Mantar': 1, u'Place': 1, u'Heights': 1, u'Shakespeare': 1, u'Toledo': 1, u'Hoover': 1, u'Val': 1, u'Nidd': 1, u'Obudu': 1, u'Ranger': 1, u'Apache': 1, u'Euro': 1, u'Olbina': 1, u'Vercellotti': 1, u'CENTER': 1, u'GE': 1, u'Henry': 1, u'Military': 1, u'Mudo': 1, u'GI': 1, u'Shapiro': 1, u'Bacon': 1, u'Tonto': 1, u'Sandi': 1, u'FRANCE': 1, u'Birmingham': 1, u'OK': 1, u'Cayman': 1, u'Sabeer': 1, u'Talley': 1, u'Frisco': 1, u'Windsor': 1, u'Sandy': 1, u'Lange': 1, u'Mitch': 1, u'EI.London': 1, u'Novotel': 1, u'Christie': 1, u'Lodge': 1, u'Attitudes': 1, u'Bender': 1, u'7th': 1, u'Implant': 1, u'Valerie': 1, u'Mouhamad': 1, u'Arizona': 1, u'Holderness': 1, u'WeatherTrade': 1, u'Renton': 1, u'Hilgert': 1, u'Covey': 1, u'Mazda': 1, u'Vladimir': 1, u'Sithamparanathan': 1, u'Z1': 1, u'Eulogic': 1, u'Zubayda': 1, u'Dong': 1, u'Neptune': 1, u'Sussman': 1, u'Habits': 1, u'Ohio': 1, u'Jazz': 1, u'Knudsen': 1, u'Queen': 1, u'Ginger': 1, u'Haim': 1, u'Hair': 1, u'NOV': 1, u'VBA': 1, u'Dulaym': 1, u'Jew': 1, u'Rather': 1, u'SAMUEL': 1, u'Teng': 1, u'Kids': 1, u'welch': 1, u'Kos': 1, u'Filo': 1, u'Agip': 1, u'Platt': 1, u'Sagittarius': 1, u'Porch': 1, u'hospital': 1, u'Toby': 1, u'Vernon': 1, u'Dentistry': 1, u'Salama': 1, u'Edmark': 1, u'Linna': 1, u'Polykron': 1, u'Charity': 1, u'Christina': 1, u'Breyer': 1, u'99': 1, u'Loch': 1, u'Rams': 1, u'Aceh': 1, u'Strobe': 1, u'Gillman': 1, u'springer': 1, u'mb': 1, u'TGIF': 1, u'Fraser': 1, u'Muhammad': 1, u'era': 1, u'Lund': 1, u'Shaykh': 1, u'protestants': 1, u'Le': 1, u'UofH': 1, u'Tagesthemen': 1, u'DPA': 1, u'Manipal': 1, u'Lord': 1, u'hoa': 1, u'Dynegy': 1, u'Luest': 1, u'FEVER': 1, u'Fundamentals': 1, u'Jamie': 1, u'Journal': 1, u'sitting': 1, u'Equant': 1, u\"O'Rourke\": 1, u'LW': 1, u'hot': 1, u'I.B.': 1, u'Dylan': 1, u'Laurent': 1, u'Lucas': 1, u'Pop': 1, u'Bunnell': 1, u'Jeffrey': 1, u'Can': 1, u'Connolly': 1, u'Bistro': 1, u'Yorker': 1, u'Wild': 1, u'Arya': 1, u'Carlos': 1, u'Embassies': 1, u'Civil': 1, u'Associate': 1, u'Japanese': 1, u'Bonnard': 1, u'Fannin': 1, u'Lloyd': 1, u'Rough': 1, u'Ursula': 1, u'Im': 1, u'barclays': 1, u'london': 1, u'Olson': 1, u'Nazareth': 1, u'Robertson': 1, u'Majoos': 1, u'Filner': 1, u'Catholics': 1, u'Aakrosh': 1, u'Montague': 1, u'Evan': 1, u'Stainless': 1, u'SAP': 1, u'Foulkesstraat': 1, u'Jeju': 1, u'SHOCK': 1, u'Judaism': 1, u'Govind': 1, u'Pros': 1, u'Seth': 1, u'school': 1, u'Analysis': 1, u'K.': 1, u'EnronEAuction': 1, u'McCullough': 1, u'Jehad': 1, u'Jubur': 1, u'Citizenship': 1, u'Cairo': 1, u'Hats': 1, u'Islamiya': 1, u'Goose': 1, u'Sympathy': 1, u'Ranasinghe': 1, u'Hobbes': 1, u'Transport': 1, u'Superior': 1, u'Motor': 1, u'Duncan': 1, u'Gillies': 1, u'Starr': 1, u'Ranong': 1, u'Rhino': 1, u'Tarsia': 1, u'eastgardens': 1, u'Discovery': 1, u'Romeo': 1, u'Institute': 1, u'Canibal': 1, u'ihop': 1, u'Joule': 1, u'Producers': 1, u'Super': 1, u'Ill': 1, u'Metal': 1, u'Chickie': 1, u'Que.': 1, u'Soft': 1, u'Hizb': 1, u'Vic': 1, u'Shebaa': 1, u'Woking': 1, u'Vij': 1, u'Australasian': 1, u'Chao': 1, u'AMERICAS': 1, u'ANTHONY': 1, u'Mooney': 1, u'Human': 1, u'Kristof': 1, u'Sage': 1, u'SALOON': 1, u'Depression': 1, u'Raleigh': 1, u'U.K.': 1, u'Cooper': 1, u'Adolf': 1, u'Bridget': 1, u'Buddhist': 1, u'Aplocheilus': 1, u'Creative': 1, u'will': 1, u'Buddhism': 1, u'Kushnick': 1, u'Hydor': 1, u'JULY': 1, u'Sonia': 1, u'ECC': 1, u'HoTMaiL': 1, u'ncfa': 1, u'Cliffs': 1, u'Claude': 1, u'Hillegonds': 1, u'Press': 1, u'LNG': 1, u'Rebecca': 1, u'F.R.S.': 1, u'Alexander': 1, u'Mansoor': 1, u'Maarten': 1, u'MIRACLE': 1, u'Geno': 1, u'Benefit': 1, u'Thames': 1, u'Ifa': 1, u'Braque': 1, u'Charleston': 1, u'Vancouver': 1, u'Surrey': 1, u'Advisory': 1, u'Paperback': 1, u'Chloe': 1, u'Allah': 1, u'rotorua': 1, u'ebay': 1, u'street': 1, u'Adhamiya': 1, u'SPAR': 1, u'knights': 1, u'Disasters': 1, u'Caffe': 1, u'Lemell': 1, u'Ferguson': 1, u'Offensive': 1, u'Angela': 1, u'Talbott': 1, u'Martyrs': 1, u'UEComm': 1, u'Equilon': 1, u'Depot': 1, u'Rendy': 1, u'Kindopp': 1, u'Jiabao': 1, u'saaaaaam': 1, u'Ristorante': 1, u'CityGate': 1, u'Band': 1, u'Bilmes': 1, u'ONLINE': 1, u'Mormonism': 1, u'Asi': 1, u'Garten': 1, u'Tussey': 1, u'MILF': 1, u'QuikTrip': 1, u'Latin': 1, u'Pottstown': 1, u'Comex': 1, u'Stojic': 1, u'Rosemary': 1, u'Toowoomba': 1, u'Galveston': 1, u'richard': 1, u'Tajiks': 1, u'Kingston': 1, u'Shield': 1, u'Election': 1, u'Anti-Fraud': 1, u'ORACLE': 1, u'dos': 1, u'myTouch': 1, u'Neuendorffer': 1, u'Chelan': 1, u'Darfur': 1, u'Sacred': 1, u'Agence': 1, u'driving': 1, u'Nedre': 1, u'Guernica': 1, u'louise': 1, u'bush': 1, u'Nostromo': 1, u'Husseiniyas': 1, u'do': 1, u'KB': 1, u'Leavy': 1, u'Days': 1, u'Corell': 1, u'LFTD': 1, u'Quick': 1, u'Organization': 1, u'Morris': 1, u'Dandenong': 1, u'McMahon': 1, u'CLEMENT': 1, u'Clinic': 1, u'Galen': 1, u'Rib': 1, u'Ric': 1, u'Jensen': 1, u'Caracas': 1, u'Neighborhood': 1, u'Pet': 1, u'CVTS': 1, u'Bella': 1, u'L.I.T': 1, u'Short': 1, u'Khosla': 1, u'Orissa': 1, u'PS4': 1, u'Kiwi': 1, u'Run': 1, u'Vere': 1, u'Repsitun': 1, u'Comprehensive': 1, u'wikipedia': 1, u'Bandera': 1, u'Water': 1, u'Controller': 1, u'Satanists': 1, u'Rosario': 1, u'pets': 1, u'Technologies': 1, u'Greenwalt': 1, u'Hawk': 1, u'Tree': 1, u'Edgar': 1, u'380': 1, u'Kerrigan': 1, u'Jemaah': 1, u'Gulliver': 1, u'Nylon': 1, u'Peterson': 1, u'caloy': 1, u'Veronica': 1, u'Ulster': 1, u'Moreton': 1, u'WNBA': 1, u'Arthur': 1, u'FURY': 1, u'Conservative': 1, u'Computer': 1, u'Navy': 1, u'Dawn': 1, u'phillies': 1, u'FuelCell': 1, u'Torrey': 1, u'Cuyahoga': 1, u'royal': 1, u'Petroleum': 1, u'Bahamas': 1, u'AAA': 1, u'Movement': 1, u'Waters': 1, u'Hazara': 1, u'Spencer': 1, u'Mackinaw': 1, u'BK': 1, u'Reggie': 1, u'Lihabi': 1, u'NetMeeting': 1, u'Aquarium': 1, u'R.I': 1, u'AUBREY': 1, u'Tokyo': 1, u'Flow': 1, u'salon': 1, u'east': 1, u'Fillmore': 1, u'easter': 1, u'BOWL': 1, u'Superdome': 1, u'Hoot': 1, u'air': 1, u'dept': 1, u'Cleveland': 1, u'Campbell': 1, u'voice': 1, u'k': 1, u'Goddard': 1, u'Temecula': 1, u'Starroute': 1, u'Horatio': 1, u'Mini': 1, u'Rafik': 1, u'Assessment': 1, u'Nathaniel': 1, u'Golan': 1, u'Mulberry': 1, u'Iowa': 1, u'Stow': 1, u'V.': 1, u'Saddamites': 1, u'Bodhi': 1, u'Litterarum': 1, u'Yorkshire': 1, u'Gnosticism': 1, u'european': 1, u'VA': 1, u\"'Akkab\": 1, u'Freeport': 1, u'Renee': 1, u'Cynagon': 1, u'Peking': 1, u'Jurek': 1, u'Builders': 1, u'Tijuana': 1, u'Minh': 1, u'Leicester': 1, u'Bramen': 1, u'Vo': 1, u'Subcommittee': 1, u'Table': 1, u'Utility': 1, u'De': 1, u'Mubarak': 1, u'edmonton': 1, u\"Khaza'il\": 1, u'Bien': 1, u'Arabian': 1, u'Lorenzo': 1, u'Kiyani': 1, u'Protestants': 1, u'Sheriff': 1, u'Gay': 1, u'Manogue': 1, u'Reform': 1, u'Judiciary': 1, u'Leonard': 1, u'XBOX': 1, u'Framework': 1, u'Levi`s': 1, u'Branford': 1, u'Nation': 1, u'Barclay': 1, u'Squirrels': 1, u'torrance': 1, u'Building': 1, u'Claudia': 1, u'Salikh': 1, u'Marval': 1, u'Sevil': 1, u'Crim': 1, u'Sempra': 1, u'Morning': 1, u'Suez': 1, u'Chrysler': 1, u'Carriles': 1, u'Kennebunkport': 1, u'Shrodinger': 1, u'Arp': 1, u'Suerat': 1, u'Brenda': 1, u'Rugova': 1, u'Evergreen': 1, u'4G': 1, u'Operator': 1, u'Byargeon': 1, u'COwpland': 1, u'HR': 1, u'Nemec': 1, u'SPLOID.com': 1, u'Italia': 1, u'Moines': 1, u'Champagne': 1, u'CANADA': 1, u'Life': 1, u'Motherwell': 1, u'SCE': 1, u'florence': 1, u'Iraqiyah': 1, u'ice': 1, u'Facebook': 1, u'Ho': 1, u'EARTHHHHHHH': 1, u'Drop': 1, u'Mellencamp': 1, u'Hawaii': 1, u'Huver': 1, u'Tripura': 1, u'Jagger': 1, u'Arm': 1, u'Printing': 1, u'H.': 1, u'BEN': 1, u'Best': 1, u'Donaldson': 1, u'Hong': 1, u'Fee': 1, u'MUNI': 1, u'SERVICE': 1, u'E@tG': 1, u'Abdullah': 1, u'Wisteria': 1, u'Adorama': 1, u'Aaron': 1, u'Sonya': 1, u'KINDY': 1, u'Holofernes': 1, u'Valdes': 1, u'Cranston': 1, u'wal': 1, u'Cloth': 1, u'Jawaharal': 1, u'Hand': 1, u'war': 1, u'FCE': 1, u'Potter': 1, u'Banczak': 1, u'CITY': 1, u'Sundays': 1, u'Supper': 1, u'Canever': 1, u'aperture': 1, u'Bourret': 1, u'C.V': 1, u'Caspian': 1, u'Toni': 1, u'Acrylics': 1, u'HH': 1, u'Kenny': 1, u'vanguard': 1, u'Greenspan': 1, u'Andy': 1, u'Enrique': 1, u'Electronic': 1, u'Prague': 1, u'Indonesians': 1, u'JUNO': 1, u'Personal': 1, u'petit': 1, u'JUNE': 1, u'Deseret': 1, u'Broome': 1, u'Cayuga': 1, u'Melissa': 1, u'Mayes': 1, u'Taylors': 1, u'Sin': 1, u'Hatmanone': 1, u'Sherrar': 1, u'koran': 1, u'Practice': 1, u'ROBERT': 1, u'Brazosport': 1, u'chiefs': 1, u'Vegetarianism': 1, u'Tracy': 1, u'Elliotts': 1, u'EST': 1, u'E': 1, u'Effective': 1, u'Annesley': 1, u'Fincher': 1, u'Drive': 1, u'Arnold': 1, u'Koran': 1, u'Doliver': 1, u'Cathy': 1, u'Modrian': 1, u'ONSI': 1, u'Pacquiao': 1, u'Dulaymi': 1, u'Mission': 1, u'Fleming': 1, u'Keeney': 1, u'Rotarua': 1, u'Crescent': 1, u'Roger': 1, u'Emily': 1, u'DECOR': 1, u'HDS': 1, u'Ian': 1, u'Blakemore': 1, u'Conflict': 1, u'Dad': 1, u'21st': 1, u'zone': 1, u'Restructuring': 1, u'Standard': 1, u'Coffman': 1, u'Prize': 1, u'olympus': 1, u'JMB': 1, u'Teco': 1, u'Maulana': 1, u'swiffer': 1, u'word': 1, u'Petsmart': 1, u'Luan': 1, u'Richardson': 1, u'Protocol': 1, u'Jantar': 1, u'RELIGIOUS': 1, u'Prabhakaran': 1, u'democrat': 1, u'Freemason': 1, u'Scots': 1, u'Bangladeshis': 1, u'Dealbench': 1, u'eMachines': 1, u'Tan': 1, u'Suzanne': 1, u'bd': 1, u'Hikmetyar': 1, u'd': 1, u'Test': 1, u'Haedicke': 1, u'Jann': 1, u'Northwest': 1, u'Rich': 1, u'Reilly': 1, u'Riggins': 1, u'Corel': 1, u'Bumrungard': 1, u'Automotive': 1, u'Bridgeline': 1, u'Thunder': 1, u'ufc': 1, u'Khomeini': 1, u'Greensboro': 1, u'Mt': 1, u'ConEd': 1, u'Berry': 1, u'Expressway': 1, u'Chestney': 1, u'McNeally': 1, u'Fischer': 1, u'Montrouge': 1, u'MO': 1, u'MI': 1, u'Proceedings': 1, u'MK': 1, u'ECCL': 1, u'Husain': 1, u'SE': 1, u'christchurch': 1, u'Malacca': 1, u'bob': 1, u'SD': 1, u'Nowheresville': 1, u'DOJ': 1, u'Said': 1, u'Tauris': 1, u'Naji': 1, u'EBIC': 1, u'Fountain': 1, u'Alberta': 1, u'CruiseCompete': 1, u'Caucus': 1, u'Appel': 1, u'peru': 1, u'Studio': 1, u'creams': 1, u'Selah': 1, u'Ranjit': 1, u'Operators': 1, u'Pitt': 1, u'Henley': 1, u'Asher': 1, u'Dharma': 1, u'Rivers': 1, u'Birla': 1, u'yamwhatiyam': 1, u'BUFFALO': 1, u'Charter': 1, u'Pope': 1, u'PUK': 1, u'German': 1, u'Kurdistan': 1, u'SARA': 1, u'Johann': 1, u'DPC': 1, u'carolina': 1, u'Children': 1, u'Hannah': 1, u'BRAWLER': 1, u'Vietnamese': 1, u'Nord': 1, u'JANUARY': 1, u'BAY': 1, u'topic': 1, u'Resort': 1, u'Algarve': 1, u'WADE': 1, u'Valentine': 1, u'Chinese': 1, u'Brewery': 1, u'Keck': 1, u'Putin': 1, u'winter': 1, u'Roy': 1, u'Coke': 1, u'Obina': 1, u'Glasgow': 1, u'bmil': 1, u'Flyer': 1, u'Skinner': 1, u'H': 1, u'Dumb': 1, u'Alpharetta': 1, u'Invalides': 1, u'Dempsey': 1, u'Natalie': 1, u'Jill': 1, u'may': 1, u'Heineken': 1, u'Ponchatoula': 1, u'Chamberlain': 1, u'Johnelle': 1, u'Brittany': 1, u'Pyrenees': 1, u'Wessex': 1, u'View': 1, u'Trio': 1, u'cod': 1, u'Islamists': 1, u'Parvovirus': 1, u'Radio': 1, u'Degenerate': 1, u'Haishen': 1, u'Newport': 1, u'QLD': 1, u'Halloween': 1, u'Rt': 1, u'Grimm': 1, u'Britani': 1, u'Dujail': 1, u'Panda': 1, u'Hannon': 1, u'Cho': 1, u'Satanism': 1, u'Jai': 1, u'irene': 1, u'Waxman': 1, u'Higher': 1, u'DeVries': 1, u'EQUALITY': 1, u'Kar': 1, u'Mantia': 1, u'Rail': 1, u'Huston': 1, u'Emergencies': 1, u'Guatemala': 1, u'Effects': 1, u'Worthy': 1, u\"O'Connell\": 1, u'Poverty': 1, u'ARCHILOCHUS': 1, u'Kumon': 1, u'Nasim': 1, u'Ghazaliyah': 1, u'Sahhaf': 1, u'Tempura': 1, u'Laird': 1, u'ENERGY': 1, u'Right': 1, u'Gordon': 1, u'Labadee': 1, u'Friar': 1, u'NEA': 1, u'GUYS': 1, u'Floridian': 1, u'Robbi': 1, u'Moher': 1, u'Swifties': 1, u'Mormons': 1, u'Croke': 1, u'Guilds': 1, u'Anthrax': 1, u'yummy': 1, u'republican': 1, u'Mayur': 1, u'PEREGRINO': 1, u'Contest': 1, u'Broadband': 1, u'SACRAMENTO': 1, u'Museum': 1, u'Snyder': 1, u'bradley': 1, u'Live': 1, u'Petersburg': 1, u'NEW': 1, u'Caroline': 1, u'EARTHQUAKE': 1, u'Construction': 1, u'er': 1, u'Satellite': 1, u'Bilbray': 1, u'RTO': 1, u'Seinfeld': 1, u'BIG': 1, u'Barbour': 1, u'LYNX': 1, u'CHRIS': 1, u'Burrito': 1, u'Rights': 1, u'Bonafide': 1, u'Walrus': 1, u'Stony': 1, u'Blvd.': 1, u'Monet': 1, u'carnival': 1, u'Y!A': 1, u'Mimmy': 1, u'Erik': 1, u'Ahmadinejad': 1, u'Humvees': 1, u'Almanac': 1, u'Ortiz': 1, u'Ikea': 1, u'Lisa': 1, u'Levi': 1, u'SEC': 1, u'Post': 1, u'JOHN': 1, u'RADISON': 1, u'Havelock': 1, u'CLH': 1, u'Britney': 1, u'PDT': 1, u'Marriott': 1, u'hui': 1, u'mid-August': 1, u'Joachim': 1, u'Enterprise': 1, u'Tagesspiegel': 1, u'Californian': 1, u't3i': 1, u'19': 1, u'Garment': 1, u'Quimba': 1, u'Stevens': 1, u'Canyon': 1, u'Carytown': 1, u'Nicaragua': 1, u'Nivine': 1, u'mid-May': 1, u'DI': 1, u'tints': 1, u'BASIC': 1, u'Idaho': 1, u'Conseguences': 1, u'Pho': 1, u'Da': 1, u'photoscape': 1, u'Half': 1, u'wonder': 1, u'Kazakhstan': 1, u'Hall': 1, u'postmaster': 1, u'Condoleeza': 1, u'Package': 1, u'Mellon': 1, u'Gandhi': 1, u'Zoomed': 1, u'Prescott': 1, u'Akin': 1, u'D.': 1, u'Manmohan': 1, u'RUTH': 1, u'NRC': 1, u'Armogida': 1, u'Weston': 1, u'McVeigh': 1, u'Strip': 1, u'WD': 1, u'ESSG': 1, u'Wed': 1, u'Olgletree': 1, u'Barry': 1, u'Wen': 1, u'Research': 1, u'rep.': 1, u'Usenet': 1, u'Ruhollah': 1, u'gulf': 1, u'PC': 1, u'Resolution': 1, u'Caucasians': 1, u'Tallulah': 1, u'filipinos': 1, u'Purple': 1, u'Diary': 1, u'Parra': 1, u'Fisher': 1, u'Peachstate': 1, u'Weathermen': 1, u'Presto': 1, u'mormon': 1, u'Ahmad': 1, u'Magazine': 1, u'Sarhid': 1, u'Products': 1, u'saem_aero': 1, u'Severin': 1, u'Bascom': 1, u'Hampshire': 1, u'Mecole': 1, u'Felix': 1, u'Kong': 1, u'Curveball': 1, u'Tajik': 1, u'Shannon': 1, u'Allen': 1, u'16th': 1, u'Garganta': 1, u'Sandwiches': 1, u'PETSMART': 1, u'Cashion': 1, u'scrummy': 1, u'USAMRIID': 1, u'Crew': 1, u'MEK': 1, u'tripadvisor': 1, u'Babylon': 1, u'Steamboat': 1, u'Cintra': 1, u'Gulbuddin': 1, u'Quaddaffi': 1, u'Sergey': 1, u'Loose': 1, u'Vassar': 1, u'SMSU': 1, u'Than': 1, u'Window': 1, u'McLean': 1, u'whitehouse.gov': 1, u'Oats': 1, u'MfM': 1, u'LIBERTY': 1, u'Detrick': 1, u'Team': 1, u'jets': 1, u'Counterparty': 1, u'Hyperion': 1, u'Wunderbar': 1, u'WWW': 1, u'PRC': 1, u'Premadasa': 1, u'ENRONONLINE': 1, u'UNIX': 1, u'ALLOWANCE': 1, u'senator': 1, u'Kant': 1, u'Maati': 1, u'Nehru': 1, u'color': 1, u'PONCHATOULA': 1, u'MISSISSIPPI': 1, u'Mandros': 1, u'Sciences': 1, u'Kettner': 1, u'philipinos': 1, u'Brawler': 1, u'Gansu': 1, u'WA.': 1, u'Degree': 1, u'west': 1, u'Methodist': 1, u'airlines': 1, u'JWVS': 1, u'Reporters': 1, u'Labour': 1, u'Identity': 1, u'Badr': 1, u'Crust': 1, u'Rosemont': 1, u'nikon': 1, u'Davies': 1, u'Dominion': 1, u'Action': 1, u'Vincent': 1, u'Round': 1, u'eis': 1, u'caucasians': 1, u'Puttino': 1, u'TGPL': 1, u'Commander': 1, u'Kuykendall': 1, u'Causey': 1, u'Laurel': 1, u'Dillards': 1, u'Lynda': 1, u'americans': 1, u'Venice': 1, u'Circus': 1, u'Europass': 1, u'Guesthouse': 1, u'Aditya': 1, u'Donohue': 1, u'Peters': 1, u'Torneby': 1, u'Blumenfeld': 1, u'Kwik': 1, u'Ispat': 1, u'Furnishings': 1, u'Alcala': 1, u'Plant': 1, u'Bumrungrad': 1, u'Tco': 1, u'NSA': 1, u'food': 1, u'Exocets': 1, u'Woods': 1, u'Blood': 1, u'Meraux': 1, u'Kayani': 1, u'UTC': 1, u'supercuts': 1, u'Signac': 1, u'I': 1, u'IP': 1, u'IV': 1, u'Soup': 1, u'Bilboa': 1, u'Tholt': 1, u'Nesbitt': 1, u'Patio': 1, u'IF': 1, u'Westfield': 1, u'Motors': 1, u'CARREAU': 1, u'Rent': 1, u'Picasa': 1, u'Mexicana': 1, u'RDBMS': 1, u'Solana': 1, u'Sharif': 1, u'Beardies': 1, u'Pump': 1, u'Haight': 1, u'Markets': 1, u'Hotmail': 1, u'Jobs': 1, u'Spot': 1, u'Diablo': 1, u'Thanksgiv8ing': 1, u'REsearch': 1, u\"Wednesday's\": 1, u'Baathist': 1, u'Bremmer': 1, u'Bearkadette': 1, u'Radianz': 1, u'Student': 1, u'Terrible': 1, u'Project': 1, u'Hooser': 1, u'Grande': 1, u'world': 1, u'Navigator': 1, u'Squeege': 1, u'nissan': 1, u'Neiman': 1, u'Samoa': 1, u'Condominiums': 1, u'Sharq': 1, u'Medusa': 1, u'chinese': 1, u'Herat': 1, u'Vinod': 1, u'on': 1, u'Waziristan': 1, u'M300': 1, u'Hariri': 1, u'Somalia': 1, u'M306': 1, u'Assurance': 1, u'Vienna': 1, u'Med': 1, u'Hainan': 1, u'Raw': 1, u'Dewhurst': 1, u'Temple': 1, u'Pompey': 1, u'Planning': 1, u'Skies': 1, u'Sanzio': 1, u'Pomper': 1, u'Hoog': 1, u'Daimler': 1, u'Tangipahoa': 1, u'USDA': 1, u'Khattab': 1, u'DELL': 1, u'Flagship': 1, u'Armada': 1, u'thailand': 1, u'Mathematical': 1, u'Windermere': 1, u'acd': 1, u'Hospitals': 1, u'Ashraf': 1, u'Alhaznawi': 1, u'Jeep': 1, u'Goebbels': 1, u'Hostel': 1, u'Bexar': 1, u'Story': 1, u'thumpstar': 1, u'Hikmetar': 1, u'ISDAs': 1, u'Solheim': 1, u'Yahoo': 1, u'Coco': 1, u'Storm': 1, u'Magnum': 1, u'Bagh': 1, u'TIGER': 1, u'NK': 1, u'Suwayrah': 1, u'Alain': 1, u'Assam': 1, u'Walsingham': 1, u'Cookie': 1, u'Bowes': 1, u'Letter': 1, u'lou': 1, u'Assad': 1, u'Sasquatch': 1, u'Arco': 1, u'XMAS': 1, u'Allard': 1, u'Mahal': 1, u'Transition': 1, u'Treaty': 1, u'Robsart': 1, u'Guide': 1, u'Blogshares': 1, u'Razaq': 1, u'Taffy': 1, u'Sanborn': 1, u'Century': 1, u'Haley': 1, u'Closs': 1, u'Society': 1, u'Roadhouse': 1, u'Joby': 1, u'Boat': 1, u'MERCURY': 1, u'Pennysaver': 1, u'Kelowna': 1, u'Hoa': 1, u'SAM': 1, u'Ayad': 1, u'general': 1, u'Camille': 1, u'Hot': 1, u'Production': 1, u'mid-January': 1, u'Homeland': 1, u'Strike': 1, u'Mathematics': 1, u'Inad': 1, u'Springfield': 1, u'Fairchild': 1, u'Real': 1, u'Lan': 1, u'Recuperation': 1, u'Metcalfe': 1, u'Rhee': 1, u'Beatle': 1, u'Shorty': 1, u'Dark': 1, u'Dari': 1, u'beverage': 1, u'TroubleFunk': 1, u'Lady': 1, u'Alex': 1, u'congress': 1, u'werewolf': 1, u'Wigner': 1, u'Automotives': 1, u'Fernando': 1, u'Wellington': 1, u'Throat': 1, u'Nordstrom': 1, u'Sera': 1, u'CNN': 1, u'Pickle': 1, u'Callum': 1, u'Victrola': 1, u'Kelley': 1, u'Fancy': 1, u'Point': 1, u'Brain': 1, u'Yugoslavia': 1, u'Pahl': 1, u'Suttle': 1, u'Parents': 1, u'Giap': 1, u'Knights': 1, u'deli': 1, u'Eurostar': 1, u'Food': 1, u'tv': 1, u'Kingerski': 1, u'NCAA': 1, u'Velupillai': 1, u'Brigades': 1, u'Nirmal': 1, u'Iguacu': 1, u'Turk': 1, u'Centilli': 1, u'Aeronautics': 1, u'Ventures': 1, u'Peanutjake': 1, u'Ollie': 1, u'righter': 1, u'Amount': 1, u'Arabiya': 1, u'Amiriya': 1, u'Nagin': 1, u'Ward': 1, u'NEPOOL': 1, u'Midnight': 1, u'Lara': 1, u'Rest': 1, u'Nottingham': 1, u'Josalyn': 1, u'Nitrogen': 1, u'Instep': 1, u'Fiona': 1, u'Soldiers': 1, u'Rina': 1, u'Impact': 1, u'Log': 1, u'Salafi': 1, u'Shopping': 1, u'Number': 1, u'go': 1, u'Indiana': 1, u'Swiffer': 1, u'Giants': 1, u'CDT': 1, u'Graydon': 1, u'ECT': 1, u'Buckingham': 1, u'RUY': 1, u'Mick': 1, u'Asiaweek': 1, u'Cester': 1, u'Iranians': 1, u'BABA': 1, u'Rusk': 1, u'friday': 1, u'christian': 1, u'Chandrika': 1, u'Charlie': 1, u'K': 1, u'Herald': 1, u'Efrem': 1, u'Chennai': 1, u'Curr': 1, u'Russ': 1, u'november': 1, u'mcclelland': 1, u'Whole': 1, u'Nina': 1, u'Aesthetics': 1, u'Landfall': 1, u'Tucson': 1, u'Assistance': 1, u'Joan': 1, u'Locust': 1, u'Istanbul': 1, u'Entartete': 1, u'Tor': 1, u'Kinect': 1, u'Yogi': 1, u'Providence': 1, u'Animal': 1, u'Flowers': 1, u'Nigeria': 1, u'Grissom': 1, u'Pasquallie': 1, u'Columbus': 1, u'Glass': 1, u'Studies': 1, u'exmearden': 1, u'Tobias': 1, u'eThink': 1, u'Picasso': 1, u'U.C.': 1, u'Googlenut': 1, u'ballad': 1, u'Dick': 1, u'Intel': 1, u'Rajavis': 1, u'Burrows': 1, u'Rotorua': 1, u'Americas': 1, u'Morocco': 1, u'Louise': 1, u'AIR': 1, u'Moscoso': 1, u'Greenfield': 1, u'Alena': 1, u'SS': 1, u'science': 1, u'Daugherty': 1, u'SW': 1, u'Byron': 1, u'ST': 1, u'Mideast': 1, u'Wade': 1, u'Meditation': 1, u'Hitler': 1, u'Labat': 1, u'Maids': 1, u'Nepal': 1, u'DAILY': 1, u'Valencia': 1, u'Calif': 1, u'AMES': 1, u'Smartwolf': 1, u'Federation': 1, u'Mangold': 1, u'FREEMAN': 1, u'Janeiro': 1, u'Nepool': 1, u'CEM': 1, u'Ukrops': 1, u'Doc': 1, u'Mirror': 1, u'Foreign': 1, u'Parkhill': 1, u'Clarkson': 1, u'Matisse': 1, u'Eva': 1, u'Methylene': 1, u'Munk': 1, u'Arby': 1, u'Debi': 1, u'Logan': 1, u'Stuff': 1, u'Pizza': 1, u'Notre': 1, u'Cocaine': 1, u'Trivial': 1, u'photoshop': 1, u'Texan': 1, u'Nano': 1, u'Nang': 1, u'Fehl': 1, u'Wenatchee': 1, u'Benjamin': 1, u'COMCAST': 1, u'22': 1, u'pcs': 1, u'parts': 1, u'Hayat': 1, u'Hamburg': 1, u'cross': 1, u'offensive': 1, u'limerick': 1, u'Stokes': 1, u'Karol': 1, u'Henderson': 1, u'Bandar': 1, u'W.a.b.b.y': 1, u'Eve': 1, u'Ban': 1, u'Senior': 1, u'Mogadishu': 1, u'bagh': 1, u'Dux': 1, u'WHDH': 1, u'Savannah': 1, u'Globe': 1, u'Ram': 1, u'Alastair': 1, u'denny': 1, u'Abbotsford': 1, u'Awsat': 1, u'Whisky': 1, u'Polk': 1, u'Larson': 1, u'Galleries': 1, u'callum': 1, u'Zone': 1, u'Canon': 1, u'Harari': 1, u'Saints': 1, u'Rosa': 1, u'Sports': 1, u'Cappelletto': 1, u'Exocet': 1, u'Criminal': 1, u'Menger': 1, u'Lawyers': 1, u'Louisianna': 1, u'Globalflash': 1, u'Ghassemlou': 1, u'G&G': 1, u'Binalshibh': 1, u'Cremona': 1, u'Iroq': 1, u'Clear': 1, u'EL': 1, u'Rat': 1, u'Alford': 1, u'Priests': 1, u'Winckelmann': 1, u'ET': 1, u'Fidelity': 1, u'Cesar': 1, u'Younis': 1, u'forsyth': 1, u'BRETT': 1, u'Years': 1, u'Gamaa': 1, u'Ipanema': 1, u'Select': 1, u'Patel': 1, u'Economist': 1, u'Junlong': 1, u'Goode': 1, u'CURSE': 1, u'Clean': 1, u'Apostle': 1, u'Hugo': 1, u'McCAFE': 1, u'number': 1, u'E.T.': 1, u'MYTHS': 1, u'Yasushi': 1, u'Transportation': 1, u'Mayor': 1, u'bay': 1, u'Olympus': 1, u'Environmental': 1, u'WPO': 1, u'nigeria': 1, u'Hawker': 1, u'petco': 1, u'Skull': 1, u'Lone': 1, u'Modell': 1, u'park': 1, u'Breslau': 1, u'ULGG': 1, u'Sf': 1, u'Haiti': 1, u'B&B': 1, u'karol': 1, u'Mitten': 1, u'Cancer': 1, u'Sheraton': 1, u'Plague': 1, u'MARRIAGE': 1, u'RODERIGO': 1, u'Hellada': 1, u'Hadith': 1, u'Mumbai': 1, u'Iron': 1, u'Peace': 1, u'Father': 1, u'Oklahoma': 1, u'Giverny': 1, u'forida': 1, u'Pete': 1, u'Challenges': 1, u'Dingle': 1, u'NORTH': 1, u'Power': 1, u'Grusendorf': 1, u'becca': 1, u'Foot': 1, u'Alpha': 1, u'Kia': 1, u'u.k': 1, u'Croall': 1, u'Il': 1, u'Cruze': 1, u'Coventry': 1, u'Thu': 1, u'Dugway': 1, u'M': 1, u'COALITION': 1, u'Communications': 1, u'Philipines': 1, u'Lafayette': 1, u'Kioka': 1, u'STORM': 1, u'Fresh': 1, u'Houson': 1, u'kc': 1, u'Augustine': 1, u'Pitney': 1, u'Laidlaw': 1, u'Gracie': 1, u'cdg': 1, u'Hay': 1, u'Behari': 1, u'Babies': 1, u'Islamism': 1, u'Suite': 1, u'Ford': 1, u'Problem': 1, u'Winfrey': 1, u'McNealy': 1, u'Atal': 1, u'Nationwide': 1, u'Theodore': 1, u'Muslim': 1, u'Jr': 1, u'grace': 1, u'Sharayu': 1, u'Traffic': 1, u'Gianutto': 1, u'Christiane': 1, u'8': 1, u'Libby': 1, u'Liberia': 1, u'Patriot': 1, u'Accident': 1, u'Lysa': 1, u'Notes': 1, u'C&IC': 1, u'jejudo': 1, u'Yvan': 1, u'Incorporated': 1, u'Monaco': 1, u'Shakspere': 1, u'Minutes': 1, u'Araujo': 1, u'enemy': 1, u'Olympic': 1, u'Ansems': 1, u'Hunger': 1, u'Leithead': 1, u'Islamiah': 1, u'virginia': 1, u'Mandir': 1, u'Decor': 1, u'Jacob': 1, u'Strongid': 1, u'Glacier': 1, u'Acriflaven': 1, u'Lautrec': 1, u'Cotillion': 1, u'Gibbs': 1, u'TomiPilates': 1, u'Khymberly': 1, u'Panera': 1, u'Fontainbleu': 1, u'Potidea': 1, u'EMERCOM': 1, u'Mc': 1, u'JUI': 1, u'Richards': 1, u'Brigade': 1, u'15th': 1, u'Kind': 1, u'Goonewardena': 1, u'adw': 1, u'Sand': 1, u'Phoebe': 1, u'African': 1, u'Tale': 1, u'Skilling': 1, u'Muang': 1, u'Oxley': 1, u'Hare': 1, u'DELHI': 1, u'DSL': 1, u'Sinhala': 1, u'Jacobsen': 1, u'Farms': 1, u'Gotschal': 1, u'Hermeticism': 1, u'Graham': 1, u'Felicia': 1, u'Harp': 1, u'jeff': 1, u'Panama': 1, u'Ltd': 1, u'ROCKERS': 1, u'Joux': 1, u'Maharishi': 1, u'Oliver': 1, u'Gibraltar': 1, u'Willie': 1, u'Jiuquan': 1, u'TWIG': 1, u'Brothers': 1, u'Persians': 1, u'My': 1, u'Ibrahim': 1, u'Bateman': 1, u'Col.': 1, u'Dragon': 1, u'Watt': 1, u'KDP': 1, u'Card': 1, u'Cranmore': 1, u'Lihaib': 1, u'Creativity': 1, u'gas': 1, u'Connaught': 1, u'Guiness': 1, u'Steinberg': 1, u'Nawaz': 1, u'Yassin': 1, u'Hassan': 1, u'Associated': 1, u'TOWNSHIP': 1, u'Hiroshima': 1, u'Michel': 1, u'Software': 1, u'Boyles': 1, u'CBD': 1, u'holocaust': 1, u'Lotus': 1, u'Booth': 1, u'Cold': 1, u'Laureate': 1, u'EIR': 1, u'Hirsohima': 1, u'Oakley': 1, u'Strategy': 1, u'Tim': 1, u'Tanya': 1, u'Viola': 1, u'Valdiviesco': 1, u'ARCO': 1, u'Bothell': 1, u'ohm': 1, u'Register': 1, u'Ajay': 1, u'Launch': 1, u'Akashi': 1, u'Albergo': 1, u'Sill': 1, u'Vetri': 1, u'Mauritania': 1, u'Juste': 1, u'Veterans': 1, u'HONKA': 1, u'Publications': 1, u'YOU': 1, u'mytouch': 1, u'Micro': 1, u'Haas': 1, u'Son': 1, u'Socialists': 1, u'Harpoon': 1, u'Dekalb': 1, u'Jerusalem': 1, u'Ossendrecht': 1, u'Labor': 1, u'Survivors': 1, u'Meiko': 1, u'Azzam': 1, u'FWS': 1, u'Wolfowitz': 1, u'ALITO': 1, u'RhodeRunner': 1, u'Filet': 1, u'Febuary': 1, u'Scordia': 1, u'kinect': 1, u'Justice': 1, u'Walmart': 1, u'Marino': 1, u'SIAM': 1, u'Adorn': 1, u'Marine': 1, u'Pursuit': 1, u'Tintman': 1, u'Din': 1, u'Last': 1, u'Topack': 1, u'Amore': 1, u'Chinatown': 1, u'Creel': 1, u'Alta': 1, u'Billy': 1, u'McMuffin': 1, u'Exploration': 1, u'wii': 1, u'Truth': 1, u'Galvin': 1, u'Fernley': 1, u'CISCO': 1, u'Yemen': 1, u'Appraisal': 1, u'WMD': 1, u'Mansour': 1, u'cynangon': 1, u'Chander': 1, u'Cohen': 1, u'CFTC': 1, u'Spirit': 1, u'KIMBERLY': 1, u'Plaza': 1, u'Rinascimento': 1, u'Bones': 1, u'MAIN': 1, u'Fine': 1, u'Va.': 1, u'Management': 1, u'Collingswood': 1, u'Silent': 1, u'Vintage': 1, u'Bishop': 1, u'Azerbaijan': 1, u'Scot': 1, u'Westmoreland': 1, u'Channel': 1, u'Dame': 1, u'Pittsburgh': 1, u'oblivion': 1, u'Chipotle': 1, u'IHOP': 1, u'Nothing': 1, u'Aviation': 1, u'Shamanism': 1, u'Apollo': 1, u'Fifteen': 1, u'Yampa': 1, u'Davio': 1, u'Marin': 1, u'Wahhabis': 1, u'Barton': 1, u'HEATING': 1, u'KABUL': 1, u'Command': 1, u'Flyers': 1, u'Baghdadis': 1, u'UP': 1, u'Fundamentalist': 1, u'Jimmy': 1, u'Catherine': 1, u'Harkat': 1, u'ESAI': 1, u'Atahualpa': 1, u'Thi': 1, u'SlimSkim': 1, u'jaqamofino': 1, u'OPEC': 1, u'Grether': 1, u'SERVICES': 1, u'OPEN': 1, u'canan': 1, u'Detroit': 1, u'STUFF': 1, u'Auckland': 1, u'Warwickshire': 1, u'Mahesh': 1, u'macbook': 1, u'gelatos': 1, u'Steel': 1, u'Brendan': 1, u'Wedding': 1, u'Ceron': 1, u'Mukhabarat': 1, u'Dixie': 1, u'ul': 1, u'Brin': 1, u'uk': 1, u'Bonanza': 1, u'Muqrin': 1, u'Pamplona': 1, u'Mcdonald': 1, u'Mustansiriyah': 1, u'Parks': 1, u'Terminal': 1, u'Sierra': 1, u'Singh': 1, u'Presentation': 1, u'Nazis': 1, u'Jorge': 1, u'Tues.': 1, u'Udorn': 1, u'TK': 1, u'gro': 1, u'Alfaro': 1, u'Wi940': 1, u'Mount': 1, u'Advance': 1, u'Bea': 1, u'Shemin': 1, u'AG': 1, u'Lisbon': 1, u'Okabayashi': 1, u'Chuck': 1, u'du': 1, u'Springs': 1, u'Yadavaran': 1, u'Maoists': 1, u'Rangott': 1, u'SUV': 1, u'Pubs': 1, u'Gus': 1, u'e': 1, u'Gallop': 1, u'Government': 1, u'Am': 1, u'nasa': 1, u'Devraj': 1, u'Crete': 1, u'Soviets': 1, u'Casualty': 1, u'Perle': 1, u'LA.': 1, u'CCA-15': 1, u'TRAVEL': 1, u'Sumatra': 1, u'Workshop': 1, u'Isle': 1, u'Otago': 1, u'Notice': 1, u'Jammu': 1, u'Piccadilly': 1, u'Lucky': 1, u'Award': 1, u'Payne': 1, u'Joint': 1, u'Piccadilla': 1, u\"d'\": 1, u'UNSCEAR': 1, u'Prudential': 1, u'Region': 1, u\"A'nandamu'rti\": 1, u'Mrs.': 1, u'P': 1, u'Jaime': 1, u'JR': 1, u'Acquisition': 1, u'Chicks': 1, u'No.': 1, u'magic': 1, u'Vanves': 1, u'Atithi': 1, u'mcallister': 1, u'Brumbley': 1, u'Uranus': 1, u'Spa': 1, u'Paganism': 1, u'Kunst': 1, u'Hill': 1, u'Dzida': 1, u'Gustavo': 1, u'Howard': 1, u'Hyundai': 1, u'Telugu': 1, u'Listing': 1, u'Diwaniya': 1, u'Fazlur': 1, u'south': 1, u'Rees': 1, u'Balazick': 1, u'SCUD': 1, u'500': 1, u'Link': 1, u'Stiglitz': 1, u'MYSTICS': 1, u'Legit': 1, u'Scotsman': 1, u'Motorola': 1, u'Katsof': 1, u'Light': 1, u'Roll': 1, u'Dupont': 1, u'Heating': 1, u'Algerians': 1, u'Polansky': 1, u'Giorgio': 1, u'Boleyn': 1, u'Smartwolves': 1, u'Nhut': 1, u'PJC': 1, u'CBS': 1, u'Palk': 1, u'Palm': 1, u'Ninevah': 1, u'Crosse': 1, u'Copeland': 1, u'Kendel': 1, u'Hindu': 1, u'Cannistaro': 1, u'Hafs': 1, u'Safety': 1, u'Hindi': 1, u'Aug.': 1, u'FL': 1, u'Hue': 1, u'feb': 1, u'Kori': 1, u'Hub': 1, u'chi': 1, u'lube': 1, u'Hut': 1, u'Rocca': 1, u'Memphis': 1, u'Lane': 1, u'Regent': 1, u'Granger': 1, u'charming': 1, u'Nagaland': 1, u'Intelligencer': 1, u'Leainne': 1, u'baby': 1, u'Saint': 1, u'S.A.': 1, u'Blizzard': 1, u'Pioneer': 1, u'Revenue': 1, u'Library': 1, u'MARK': 1, u'Rutgers': 1, u'VIII': 1, u'Mohaqeq': 1, u'Pilates': 1, u'Cate': 1, u'Milligan': 1, u'Masters': 1, u'hotmail': 1, u'GREEN': 1, u'Sirae': 1, u'Ashfaq': 1, u'Emminence': 1, u'asians': 1, u'Osler': 1, u'Centennial': 1, u'Cowpland': 1, u'Yelp': 1, u'LUCIO': 1, u\"L'espalier\": 1, u'Friends': 1, u'L.A.': 1, u'Sikkim': 1, u'ABB': 1, u'McGowan': 1, u'Nissan': 1, u'TB': 1, u'Mrs': 1, u'Roman': 1, u'Liwei': 1, u'Vehicle': 1, u'Orwell': 1, u'Nashua': 1, u'Kinga': 1, u'Tenet': 1, u'Tennessee': 1, u'Greece': 1, u'Politics': 1, u'Hammer': 1, u'Bechtolsheim': 1, u'CAROLINA': 1, u'houston': 1, u'Brandeis': 1, u'Minnesota': 1, u'mart': 1, u'Phillips': 1, u'Interior': 1, u'Votaw': 1, u'lb': 1, u'Scientific': 1, u'Exchange': 1, u'Disposable': 1, u'Spinner': 1, u'Miracle': 1, u'HTC': 1, u'Azzaman': 1, u'LBJ': 1, u'Salary': 1, u'Zealander': 1, u'Ibn': 1, u'Mandil': 1, u'Wholesale': 1, u'GROOM': 1, u'Aztec': 1, u'Herbert': 1, u'Adam': 1, u'Ressam': 1, u'Solis': 1, u'Thamir': 1, u'N.O.': 1, u'A&K': 1, u'Iraqiya': 1, u'Gare': 1, u'Pearl': 1, u'Hormel': 1, u'Internal': 1, u'Buddakan': 1, u'Gary': 1, u'Arkansas': 1, u'Farmer': 1, u'Sat': 1, u'STAR': 1, u'Consumers': 1, u'Mediterranean': 1, u'Poisonous': 1, u'Moral': 1, u'wisconsin': 1, u'Wendy': 1, u'Scipio': 1, u'Tweed': 1, u'Degeneration': 1, u'Adelphi': 1, u'Ellison': 1, u'Darunta': 1, u'Sussex': 1, u'Florence': 1, u'O&M': 1, u'Vera': 1, u'CEV': 1, u'M.S.': 1, u'CS5': 1, u'Cuba': 1, u'red': 1, u'Kobey': 1, u'Mountains': 1, u'Grove': 1, u'WASHINGTON': 1, u'LaGrange': 1, u'Twante': 1, u'Bulgaria': 1, u'Comets': 1, u'Morrell': 1, u'jiffy': 1, u'Owen': 1, u'Methodius': 1, u'Googol': 1, u'Acer': 1, u'Endowment': 1, u'Zafra': 1, u'MONARCHS': 1, u'Faris': 1, u'bugless': 1, u'WebSphere': 1, u'blogger': 1, u'Borenstein': 1, u'Modern': 1, u'Program': 1, u'Bethesda': 1, u'MSNBC': 1, u'Exercise': 1, u'SDG&E': 1, u'puttagenius': 1, u'Tanglewood': 1, u'AMERICANS': 1, u'Aryan': 1, u'PMA': 1, u'Revell': 1, u'Trader': 1, u'Seaboard': 1, u'Levis': 1, u'Cannes': 1, u'Kyoto': 1, u'Chili': 1, u'Professional': 1, u'Lihaibi': 1, u'Channing': 1, u'Prestige': 1, u'Dagger': 1, u'Pen': 1, u'Italiano': 1, u'McDermott': 1, u'McAuliffe': 1, u'Cozumel': 1, u'Teheran': 1, u'Anton': 1, u'Flying': 1, u'Tue.': 1, u'Other': 1, u'PS3': 1, u'Astr': 1, u'One': 1, u'Pam': 1, u'Pan': 1, u'Development': 1, u'Mueller': 1, u'afraid': 1, u'Patterson': 1, u'Goldman': 1, u'Feith': 1, u'Rouault': 1, u'McInnis': 1, u'kaplan': 1, u'Leslie': 1, u'Lichtenstein': 1, u'J': 1, u'Moda': 1, u'Wheel': 1, u'Registrar': 1, u'Horizon': 1, u'Centres': 1, u'Hamma': 1, u'Infocus': 1, u'24': 1, u'Capital': 1, u'Coeur': 1, u'Lamonica': 1, u'locust': 1, u\"de'\": 1, u'construction': 1, u'Bend': 1, u'Blvd': 1, u'Matt': 1, u'Bhatia': 1, u'Dharmadeva': 1, u'Coronas': 1, u'Ladakh': 1, u'MoI': 1, u'Randy': 1, u'Datamanager': 1, u'Gatineau': 1, u'DURER': 1, u'Public': 1, u'Independence': 1, u'Heisenberg': 1, u'TCO': 1, u'Qwest': 1, u'Vigor': 1, u'Walton': 1, u'Needles': 1, u'Kusal': 1, u'Elimination': 1, u'Obligation': 1, u'Microsystems': 1, u'dodge': 1, u'Homes': 1, u'GIMP': 1, u'Grizzly': 1, u'Realty': 1, u'Burckhardt': 1, u'Jackie': 1, u'Hoston': 1, u'MIUI': 1, u'Sacre': 1, u'Zimbalist': 1, u'lineatus': 1, u'Advanced': 1, u'LEONARDO': 1, u'iPad': 1, u'Gulfport': 1, u'Driving': 1, u'Levine': 1, u'Diane': 1, u'Wikipedia': 1, u'Trek': 1, u'Traders': 1, u'Unity': 1, u'FDR': 1, u'bta': 1, u'Singmaster': 1, u'Amman': 1, u'Jenkins': 1, u'Raina': 1, u'Klimberg': 1, u'Walnut': 1, u'Grace': 1, u'Monopoly': 1, u'Yards': 1, u'Pluto': 1, u'Chatillon': 1, u'PD': 1, u'saxons': 1, u'Boothbay': 1, u'Deffner': 1, u'Sen.': 1, u'Fahim': 1, u'Expeditionary': 1, u'Democrat': 1, u'Nagaski': 1, u'Shell': 1, u'Subway': 1, u'P.': 1, u'southeast': 1, u'kaffee': 1, u'Insurance': 1, u'Burger': 1, u'Quebec': 1, u'Woody': 1, u'Tacoma': 1, u'aquarium': 1, u'Branom': 1, u'cd': 1, u'Andorra': 1, u'Lepore': 1, u'Buffet': 1, u'Brick': 1, u'walnut': 1, u'Bruha': 1, u'Savier': 1, u'BRADLEY': 1, u'Quebecker': 1, u'sox': 1, u'Shames': 1, u'Discount': 1, u'Sandra': 1, u'Aziz': 1, u'Callon': 1, u'Comparison': 1, u'mike': 1, u'Hom': 1, u'Feagan': 1, u'Vicki': 1, u'Shelia': 1, u'Livingston': 1, u'Naturalisation': 1, u'Luis': 1, u'google': 1, u'Prominent': 1, u'CDG': 1, u'Eleuthra': 1, u'Ann': 1, u'restaurant': 1, u'Nadereh': 1, u'Ani': 1, u'Uzbekistan': 1, u'VISA': 1, u'Trenerry': 1, u'Jacobs': 1, u'Tire': 1, u'Sunjay': 1, u'Reinvestment': 1, u'Strambler': 1, u'Diglipur': 1, u'You': 1, u'Strategic': 1, u'Friendly': 1, u'Hope': 1, u'WWII': 1, u'Beau': 1, u'SOL': 1, u'inca': 1, u'McCallum': 1, u'auto': 1, u'Oxford': 1, u'Clare': 1, u'Rummy': 1, u'Marcus': 1, u'Pemex': 1, u'Crepes': 1, u'Sandeep': 1, u'Deutsche': 1, u'beast': 1, u'Salmagundi': 1, u'Hacienda': 1, u'Seville': 1, u'Panamal': 1, u'Zionist': 1, u'Julia': 1, u'Rossi': 1, u'Challenger': 1, u'ARD': 1, u'Saucey': 1, u'english': 1, u'Welch': 1, u'Balard': 1, u'snake': 1, u'jeju': 1, u'BA': 1, u'Nordic': 1, u'Breeze': 1, u'Joys': 1, u'Corpse': 1, u'Social': 1, u'Fusion': 1, u'TIS': 1, u'BT': 1, u'BU': 1, u'BW': 1, u'BS': 1, u'Nicholas': 1, u'Tower': 1, u'Argentine': 1, u'Manzano': 1, u'Gaming': 1, u'CPCG': 1, u'Bellevue': 1, u'Meghalaya': 1, u'GWB': 1, u'Watson': 1, u'Darius': 1, u'Willis': 1, u'smart': 1, u'Aksa': 1, u'VIC': 1, u'Salah': 1, u'Meadowrun': 1, u'Deutsched': 1, u'Norwegians': 1, u'Greenland': 1, u'Offices': 1, u'Salazar': 1, u'Asus': 1, u'MURPH': 1, u'Engineers': 1, u'B.': 1, u'Foods': 1, u'GRECO': 1, u'Agents': 1, u'Dustin': 1, u'SOUND': 1, u'Oprah': 1, u'Addition': 1, u'Wax': 1, u'Rebellion': 1, u'Palatine': 1, u'U.': 1, u'EEI': 1, u'Transcendental': 1, u'Talal': 1, u'Chronicle': 1, u'LLP': 1, u'OSU': 1, u'Zoning': 1, u'Oz': 1, u'14th': 1, u'Sacks': 1, u'Celsius': 1, u'Barros': 1, u'Bryant': 1, u'Petrarch': 1, u'Leavenworth': 1, u'Humanpixel': 1, u'Ebay': 1, u'Delainey': 1, u'Chester': 1, u'Blocks': 1, u'gandalf': 1, u'Weight': 1, u'UW': 1, u'Pashtuns': 1, u'Meagan': 1, u'Kalikhola': 1, u'Cars': 1, u'Gloucestershire': 1, u'Madhlum': 1, u'Holinshed': 1, u'Cornell': 1, u'Kean': 1, u'1984': 1, u'Bali': 1, u'Assistant': 1, u'Chanukah': 1, u'Chiefs': 1, u'Holdings': 1, u'ABBY': 1, u'Cedar': 1, u'Restaurant': 1, u'Cleaning': 1, u'Bradford': 1, u'Tyburn': 1, u'Science': 1, u'Der': 1, u'Des': 1, u'Contract': 1, u'Representatives': 1, u'Royale': 1, u'Braman': 1, u'Beachcrofts': 1, u'MARCH': 1, u'made': 1, u'Leasing': 1, u'Jenny': 1, u'Ten': 1, u'Affordable': 1, u'Wall': 1, u'Elite': 1, u'Walk': 1, u'Thuy': 1, u'HOTEL': 1, u'Mach': 1, u'Split': 1, u'CIC': 1, u'Workshops': 1, u'MSU': 1, u'kingston': 1, u'Cj': 1, u'Nato': 1, u'Funkhouser': 1, u'MSA': 1, u'Console': 1, u'Calaria': 1, u'SRD': 1, u'Marches': 1, u'Montavano': 1, u'Latter': 1, u'Sunshine': 1, u'Wells': 1, u'Mayors': 1, u'Powersports': 1, u'Fernandina': 1, u'Banner': 1, u'Shawna': 1, u'Like': 1, u'Ace': 1, u'Suarez': 1, u'non-Indians': 1, u'Spaniard': 1, u'Congressman': 1, u'Page': 1, u'Stewart': 1, u'Babalon': 1, u'Bockius': 1, u'Cycle': 1, u'Regenesis': 1, u'330i': 1, u'Dems': 1, u'4g': 1, u'baked': 1}), u'DET': Counter({u'the': 8142, u'a': 3588, u'The': 884, u'this': 602, u'an': 471, u'all': 377, u'some': 324, u'any': 290, u'no': 199, u'that': 169, u'A': 152, u'these': 147, u'another': 111, u'This': 101, u'every': 83, u'each': 74, u'those': 64, u'All': 41, u'both': 40, u'THE': 39, u'what': 37, u'No': 34, u'Any': 28, u'Some': 26, u'These': 23, u'such': 23, u'An': 22, u'which': 21, u'What': 20, u'Another': 17, u'quite': 15, u'That': 15, u'NO': 11, u'THIS': 11, u'whatever': 9, u'Both': 9, u'half': 7, u'Each': 6, u'either': 6, u'Those': 5, u'and': 4, u'Every': 4, u'ALL': 4, u'Whatever': 3, u'teh': 2, u'ANY': 2, u'many': 2, u'Which': 1, u'$ome': 1, u'Neither': 1, u'Thi$': 1, u'BOTH': 1, u'whhich': 1, u'THAT': 1, u'Half': 1, u'aa': 1, u'EVERY': 1, u'then': 1, u'Such': 1, u'neither': 1, u'te': 1, u'his': 1, u'EACH': 1, u'dat': 1, u'Either': 1, u'AN': 1, u'ther': 1, u'dthat': 1}), u'SYM': Counter({u'$': 251, u'-': 101, u':)': 34, u'%': 33, u'/': 23, u'|': 20, u'+': 18, u':(': 9, u'_': 5, u'====================================================': 5, u'x': 5, u'____________________________________________________________': 4, u'=': 4, u'...': 4, u'_______': 4, u'^_^': 4, u':D': 4, u'(:': 3, u'Rs': 3, u'@': 3, u':-)': 3, u';)': 3, u'=)': 3, u'___________': 3, u'+++': 2, u'---->===}*{===<----': 2, u'L': 2, u'+++++': 2, u'>----------------------------------------------------------------------------|': 2, u'|--------+----------------------->': 2, u';-)': 2, u'~': 2, u':.': 1, u':/': 1, u'Assh@%$e': 1, u'<-': 1, u'>=': 1, u'===================================================': 1, u';P': 1, u'rs': 1, u'>:(': 1, u'=(': 1, u'____________________________________________________': 1, u'>>>': 1, u'.:': 1, u':O': 1, u'*~*~*~*~*~*~*~*~*~*': 1, u':': 1, u'<': 1, u'###': 1, u'>': 1, u'__________________________________________________': 1, u'==': 1, u'++++': 1, u'X': 1, u'___________________________________________': 1, u'1%P701!.doc': 1, u'US$': 1, u'-_-': 1, u'++++++': 1, u'===>': 1, u'D:': 1, u'x.x': 1, u'???': 1, u'->': 1, u':P': 1}), u'INTJ': Counter({u'Please': 141, u'please': 111, u'Yes': 34, u'Well': 28, u'yes': 27, u'no': 26, u'Hi': 25, u'lol': 14, u'like': 13, u'Oh': 12, u'Hey': 12, u'well': 12, u'Ok': 11, u'OK': 11, u'Hello': 9, u'No': 9, u'Anyway': 7, u'Wow': 6, u'PLEASE': 6, u'YES': 5, u'NO': 5, u'hey': 5, u'Yeah': 5, u'sorry': 4, u'dhin': 4, u'oh': 4, u'Sorry': 4, u'Okay': 4, u'haha': 4, u'Right': 3, u'WOW': 3, u'Sure': 3, u'LIKE': 3, u'say': 3, u'WELL': 3, u'Nope': 2, u'Hmmm': 2, u'right': 2, u'yeah': 2, u'anyways': 2, u'fine': 2, u'wow': 2, u'Ugh': 2, u'Yea': 2, u'UH': 2, u'Yep': 2, u'hi': 2, u'OMG': 2, u'my': 2, u'Lo': 2, u'Ummmm': 2, u'behold': 2, u'Hmmmmmm': 2, u'Like': 2, u'huh': 2, u\"ta'\": 2, u'Aye': 1, u'AAAAAGGGHHHHHH': 1, u'anyway': 1, u'hell': 1, u'hmmm': 1, u'hahahaahh': 1, u'ty': 1, u'RIP': 1, u'wel': 1, u'yea': 1, u'thanx': 1, u'Jeez': 1, u'ya': 1, u'uhh': 1, u'GRRRRRRR': 1, u'Or': 1, u'hoorah': 1, u'UGH': 1, u'yeaa': 1, u'sigh': 1, u'yep': 1, u'Umm': 1, u'sheesh': 1, u'er': 1, u'Good': 1, u'Ye$': 1, u'nope': 1, u'pls': 1, u'O': 1, u'Hooray': 1, u'riiight': 1, u'Alright': 1, u'ok': 1, u'Sigh': 1, u'Amen': 1, u'Yikes': 1, u'hehehe': 1, u'Christ': 1, u'Lol': 1, u'gosh': 1, u'hehe': 1, u'Shucks': 1, u'aye': 1, u'Huh': 1, u'OOPS': 1, u'ah': 1, u'pl': 1, u'groan': 1, u'mmmm': 1, u'hmm': 1, u'LOL': 1, u'ha': 1, u'Anyhow': 1, u'mm': 1, u'uh': 1, u'hmmmm': 1, u'ohh': 1, u'mind': 1, u'Namaskar': 1, u'high': 1, u'Yo': 1, u'Never': 1, u'okay': 1, u'welcome': 1, u'whasssup': 1, u'Ay': 1, u'OMFG': 1, u'Farewell': 1, u'hello': 1, u'Oops': 1}), u'PART': Counter({u'to': 3221, u'not': 805, u\"n't\": 655, u\"'s\": 576, u'nt': 70, u's': 70, u'NOT': 40, u\"'\": 34, u'To': 25, u'Not': 24, u'TO': 14, u'na': 10, u'NT': 5, u\"N'T\": 4, u'ta': 3, u'too': 2, u'2': 1, u'-s': 1, u'`s': 1, u'S': 1, u'a': 1, u\"'S\": 1, u'n': 1, u'the': 1, u'ot': 1}), u'PUNCT': Counter({u'.': 8645, u',': 7021, u'\"': 1352, u'-': 1332, u')': 882, u'(': 848, u'?': 764, u':': 592, u'!': 529, u'...': 227, u\"'\": 203, u'/': 187, u'--': 158, u';': 101, u'..': 71, u'!!': 70, u'....': 57, u'!!!': 57, u'*': 51, u'<<': 49, u'>>': 48, u'>': 41, u\"''\": 41, u'<': 40, u'[': 34, u']': 34, u'.?': 29, u'!!!!': 21, u'.....': 17, u'??': 15, u'---': 10, u'???': 9, u'***': 8, u'!!!!!!': 8, u'=': 5, u'**': 5, u'?!': 5, u'.......': 4, u'!!!!!!!': 4, u'!?': 4, u'......': 4, u'`': 3, u'!!!!!': 3, u'---------------------------------------------------------------------': 3, u'?????': 3, u'.!': 3, u'~': 3, u':)': 2, u'******************************************************************': 2, u'**********': 2, u'---------------------------------------------------------------------------': 2, u'!!!?': 2, u'....................': 2, u'-----------------------------------------------------------------------': 2, u'?!?': 2, u'****': 2, u'-----': 2, u'{': 2, u'..........': 2, u'!.': 2, u'))': 2, u'!!!!!!!!!!': 2, u'----------------------------------------------------------------------': 2, u',?': 2, u'*****': 2, u'!!!!!!!!!!!!!!!!!!!!!!!!!!!!!!!!': 1, u'!!!!!!!!!!!!!!': 1, u'????': 1, u'--------------------------------------------------': 1, u'***********************************': 1, u'---------': 1, u'...?!!!': 1, u'???????????????': 1, u'!?!': 1, u'|': 1, u'!!!!!!!!!!!!!!!!!!': 1, u'........': 1, u'?!?!?': 1, u'.???': 1, u'!!!.': 1, u'---------------------------': 1, u'!!!!!!!!!!!!!!!': 1, u'------------------------------------------------------': 1, u'.........': 1, u'!!!!!!!!!!!!!!!!!!!!!': 1, u';)': 1, u'./': 1, u'1?!?!?': 1, u'-------------------': 1, u'...............': 1, u'!!!!!!!!!!!!!': 1, u'!!!!!!!!!!!!': 1, u'-------------------------------------------------------------': 1, u'----------------------------------------------------------------': 1, u'.....................': 1, u',,': 1, u'\"\"': 1, u'!!!!!!!!!!?': 1, u'!!!!!!!!!!!': 1, u'******': 1, u'----': 1, u'All': 1, u'------------------------------------------------------------------': 1, u'-----------------------------------------------': 1, u'??????': 1, u'...........': 1, u'}': 1, u'-------------------------------------------------------------------': 1}), u'VERB': Counter({u'is': 1738, u'was': 808, u'have': 748, u'be': 701, u'are': 698, u'get': 360, u'know': 338, u'had': 325, u\"'s\": 296, u'do': 270, u'go': 258, u'said': 233, u'were': 218, u'want': 209, u'going': 190, u'see': 189, u'take': 176, u'need': 176, u'make': 172, u'think': 171, u'has': 161, u'been': 149, u'made': 138, u'like': 136, u\"'m\": 132, u'say': 127, u'am': 124, u'give': 121, u'let': 119, u'use': 119, u'find': 118, u'got': 117, u'put': 112, u'told': 111, u'work': 111, u'called': 107, u'come': 101, u'help': 101, u'used': 95, u'feel': 91, u'took': 88, u'doing': 83, u'looking': 82, u'recommend': 81, u'keep': 80, u'went': 79, u'did': 79, u'came': 77, u'done': 77, u'found': 76, u'look': 75, u'try': 73, u'call': 72, u'being': 67, u'getting': 67, u'asked': 64, u's': 64, u'trying': 62, u'having': 61, u'says': 60, u'believe': 60, u'tell': 59, u'working': 59, u'sent': 59, u'wanted': 58, u'left': 57, u'received': 56, u'send': 55, u'love': 54, u'read': 53, u'Thank': 52, u'leave': 52, u'live': 52, u'understand': 51, u'Let': 51, u'pay': 51, u\"'re\": 51, u'attached': 50, u'using': 50, u'taking': 50, u'Is': 48, u'hope': 47, u'following': 47, u'including': 46, u'thought': 46, u'gave': 45, u'become': 45, u'talk': 44, u'ask': 44, u'based': 44, u'eat': 43, u'making': 42, u'buy': 42, u'provide': 41, u'start': 40, u'tried': 40, u'meet': 40, u'discuss': 40, u'add': 40, u'check': 38, u'show': 38, u'change': 37, u'remember': 37, u'started': 37, u'stay': 37, u'needed': 36, u'given': 36, u'coming': 36, u'means': 36, u'seen': 35, u'run': 35, u'wait': 35, u'IS': 34, u'needs': 34, u'mean': 33, u'hear': 33, u'taken': 33, u'comes': 32, u'set': 32, u'makes': 32, u'worked': 31, u'regarding': 31, u'known': 31, u'continue': 31, u'include': 31, u'kept': 30, u'visit': 30, u'seems': 30, u'bring': 30, u'saying': 29, u'felt': 29, u'Attached': 29, u'heard': 29, u'mentioned': 29, u'stop': 28, u'feed': 28, u'guess': 28, u'spent': 28, u'living': 27, u'expect': 27, u'review': 26, u'return': 26, u'move': 26, u'looks': 26, u'walk': 26, u'paid': 25, u'saw': 25, u'attend': 25, u'signed': 25, u'brought': 24, u'talking': 24, u'seem': 24, u'goes': 24, u'running': 24, u'provided': 24, u'takes': 24, u'held': 24, u'moving': 24, u'fixed': 24, u'moved': 24, u'born': 23, u'wants': 23, u'pick': 23, u'learn': 23, u'treated': 23, u'does': 23, u'enjoy': 22, u'decided': 22, u'ordered': 22, u'gone': 22, u'seeing': 22, u'knew': 22, u'changed': 21, u'turn': 21, u'Are': 21, u'charge': 21, u'playing': 21, u'approved': 21, u'putting': 21, u'apply': 21, u'explained': 20, u'hold': 20, u'suggest': 20, u'develop': 20, u'thinking': 20, u'added': 20, u'lost': 20, u'works': 20, u'save': 19, u'offer': 19, u'happened': 19, u'care': 19, u'released': 19, u'considered': 19, u'order': 19, u'agree': 19, u'requested': 19, u'included': 19, u'follow': 19, u'According': 19, u'plan': 19, u'giving': 19, u'receive': 19, u'looked': 19, u'reported': 18, u'trust': 18, u'speak': 18, u'thank': 18, u'killed': 18, u'gives': 18, u'turned': 18, u'written': 18, u'according': 18, u'knows': 18, u'supposed': 18, u'hit': 18, u'liked': 18, u'cut': 18, u'handle': 18, u'enjoyed': 17, u'respond': 17, u'met': 17, u'figure': 17, u'drive': 17, u'offered': 17, u'served': 17, u'consider': 17, u'pass': 17, u'remain': 17, u'stated': 17, u'spend': 17, u'refused': 17, u'forward': 17, u'waiting': 17, u'led': 17, u'leaving': 17, u'named': 17, u'sit': 17, u'agreed': 17, u'planning': 17, u'Hope': 17, u'began': 17, u'See': 16, u'contact': 16, u'deal': 16, u'begin': 16, u'asking': 16, u'fight': 16, u'sending': 16, u'allowed': 16, u'intended': 16, u'charged': 16, u'buying': 16, u'returned': 16, u'decide': 16, u'play': 16, u'became': 16, u'showing': 16, u'eating': 16, u'choose': 16, u'visited': 16, u'helped': 16, u'Have': 16, u'fit': 15, u'fix': 15, u'ensure': 15, u'happen': 15, u'scheduled': 15, u'starting': 15, u'trained': 15, u'sell': 15, u'described': 15, u'posted': 15, u'telling': 15, u'owned': 15, u'bought': 15, u'Get': 15, u'spoke': 14, u'listen': 14, u'showed': 14, u'recommended': 14, u'raised': 14, u'died': 14, u'filled': 14, u'believed': 14, u'stayed': 14, u'accepted': 14, u'appreciated': 14, u'require': 14, u'appreciate': 14, u'notice': 14, u'paying': 14, u'kill': 14, u'Take': 14, u'accept': 14, u'purchased': 14, u'stopped': 14, u'helping': 14, u'required': 14, u'seemed': 14, u'watch': 14, u'calling': 14, u'wish': 14, u'hurt': 13, u'waited': 13, u'driving': 13, u'serve': 13, u'proposed': 13, u'quoted': 13, u'sign': 13, u'fly': 13, u'designed': 13, u'open': 13, u'checked': 13, u'confirm': 13, u'refer': 13, u'discussed': 13, u'stand': 13, u'includes': 13, u'booked': 13, u'caused': 13, u'helps': 13, u'keeping': 13, u'build': 13, u'lived': 13, u'arrived': 13, u'delivered': 13, u'Look': 13, u'walked': 13, u'issued': 13, u'drinking': 13, u'allow': 13, u'mention': 13, u'forget': 12, u'Go': 12, u'replace': 12, u'end': 12, u'sitting': 12, u'listed': 12, u'explain': 12, u'expected': 12, u'assigned': 12, u'escape': 12, u'assume': 12, u'address': 12, u'afford': 12, u'believes': 12, u'reading': 12, u'informed': 12, u'worry': 12, u'throw': 12, u'imagine': 12, u'passed': 12, u'cover': 12, u'follows': 12, u'prepared': 12, u'deliver': 12, u'finished': 12, u'gets': 12, u'Be': 12, u'surrounding': 11, u'established': 11, u'answer': 11, u'confirmed': 11, u'created': 11, u'planned': 11, u'support': 11, u'funded': 11, u'prefer': 11, u'wondering': 11, u'watching': 11, u'execute': 11, u'receiving': 11, u'shows': 11, u'note': 11, u'elected': 11, u'wonder': 11, u'cancel': 11, u'changing': 11, u'ran': 11, u'followed': 11, u'growing': 11, u'missed': 11, u'reach': 11, u'advise': 11, u'filed': 11, u'win': 11, u'located': 11, u'realize': 11, u'face': 11, u'achieve': 11, u'ended': 11, u'treat': 11, u'waste': 11, u'fighting': 11, u'checking': 11, u'lead': 11, u'announced': 10, u'executed': 10, u'seek': 10, u'forced': 10, u'participate': 10, u'published': 10, u'Try': 10, u'Make': 10, u'promised': 10, u'holding': 10, u'die': 10, u'appears': 10, u'prove': 10, u'claim': 10, u'place': 10, u'Call': 10, u'killing': 10, u'Estimated': 10, u'dies': 10, u'pull': 10, u'm': 10, u'fall': 10, u'suffer': 10, u'seeking': 10, u'cleaned': 10, u'finding': 10, u'feels': 10, u'wrote': 10, u'create': 10, u'meeting': 10, u'cooked': 10, u'click': 10, u'failed': 10, u'loves': 10, u'earned': 10, u'happens': 10, u'own': 10, u'noticed': 10, u'hate': 9, u'Stay': 9, u'join': 9, u'purchase': 9, u'destroyed': 9, u'carry': 9, u'encourage': 9, u'caught': 9, u'depends': 9, u'LOVE': 9, u'adding': 9, u'removed': 9, u'talked': 9, u'dealing': 9, u'cost': 9, u'arrive': 9, u'write': 9, u'produce': 9, u'serving': 9, u'revised': 9, u'bite': 9, u'Do': 9, u'dated': 9, u'considering': 9, u'prepare': 9, u'returning': 9, u'adjust': 9, u'select': 9, u'pushed': 9, u'surrounded': 9, u'print': 9, u'strengthen': 9, u'close': 9, u'creating': 9, u'missing': 9, u'approve': 9, u'handling': 9, u'eaten': 9, u'thinks': 9, u'continued': 9, u'manage': 9, u'occurred': 9, u'train': 9, u'warned': 9, u'completed': 9, u'loved': 9, u'Keep': 9, u'claimed': 9, u'compared': 9, u'admitted': 9, u'avoid': 9, u'book': 9, u'cause': 8, u'Put': 8, u'biting': 8, u'enter': 8, u'operate': 8, u'writing': 8, u'sound': 8, u'receives': 8, u'argue': 8, u'applied': 8, u'settled': 8, u'post': 8, u'delete': 8, u'prevent': 8, u'feeling': 8, u'stands': 8, u'supporting': 8, u'Floating': 8, u'`s': 8, u'grow': 8, u'pulled': 8, u'opened': 8, u'attended': 8, u'initial': 8, u'copy': 8, u'wanting': 8, u'printed': 8, u'discovered': 8, u'allocated': 8, u'developing': 8, u'learned': 8, u'developed': 8, u'marry': 8, u'referred': 8, u'backed': 8, u'determined': 8, u'grew': 8, u'visiting': 8, u'sold': 8, u'Feel': 8, u'HAVE': 8, u'carrying': 8, u'Had': 8, u'noted': 8, u'concluded': 8, u'jump': 8, u'traveling': 8, u'explore': 8, u'addressed': 8, u'remains': 8, u'dropped': 8, u'sought': 8, u'request': 8, u'grab': 8, u'closed': 8, u'negotiated': 8, u'assuming': 8, u'entering': 8, u'sleep': 7, u'voted': 7, u'tasted': 7, u'travel': 7, u'lay': 7, u'bringing': 7, u'assured': 7, u'reference': 7, u'r': 7, u'extend': 7, u'protect': 7, u'appeared': 7, u'spread': 7, u'concerning': 7, u'catch': 7, u'destroy': 7, u'losing': 7, u'exist': 7, u'push': 7, u'handled': 7, u'expanding': 7, u'argued': 7, u'name': 7, u'begun': 7, u'saving': 7, u'sounds': 7, u'learning': 7, u'cares': 7, u'suspected': 7, u'assist': 7, u'touch': 7, u'provides': 7, u'Check': 7, u'determine': 7, u'forgot': 7, u'watched': 7, u'fill': 7, u'WAS': 7, u'enjoying': 7, u'operating': 7, u'establish': 7, u'recall': 7, u'reflect': 7, u'travelling': 7, u'propose': 7, u'reduce': 7, u'acting': 7, u'beginning': 7, u'launch': 7, u'traveled': 7, u'miss': 7, u'leading': 7, u'gotten': 7, u'Got': 7, u'built': 7, u'remove': 7, u'focused': 7, u'likes': 7, u'raise': 7, u'Regarding': 7, u'registered': 7, u'deployed': 7, u'associated': 7, u'continues': 7, u'sink': 7, u'standing': 7, u'refers': 7, u'realized': 7, u'covered': 7, u'reached': 7, u'attack': 7, u'bother': 7, u'providing': 7, u'Sent': 7, u'tend': 7, u'monitor': 7, u'present': 7, u'carried': 7, u'placed': 7, u'feeding': 6, u'updated': 6, u'GO': 6, u'heading': 6, u'force': 6, u'hide': 6, u'secure': 6, u'fax': 6, u'reviewing': 6, u'affected': 6, u'arrested': 6, u'gon': 6, u'hang': 6, u'matter': 6, u'estimated': 6, u'contacted': 6, u'wear': 6, u'threw': 6, u'played': 6, u'greeted': 6, u'studying': 6, u'posed': 6, u'existed': 6, u'flying': 6, u'becoming': 6, u'happening': 6, u'focus': 6, u'answered': 6, u'advised': 6, u'settle': 6, u'Imagine': 6, u'performed': 6, u'occur': 6, u'beat': 6, u'shown': 6, u'suggesting': 6, u'Being': 6, u'speaking': 6, u'sat': 6, u'walking': 6, u'ignored': 6, u'invited': 6, u'drove': 6, u'captured': 6, u'blow': 6, u'facing': 6, u'exposed': 6, u'act': 6, u'mixed': 6, u'Remember': 6, u'hire': 6, u'search': 6, u'requiring': 6, u'broke': 6, u'Continue': 6, u'trade': 6, u'finish': 6, u'expecting': 6, u'fallen': 6, u'selling': 6, u'depending': 6, u'towed': 6, u'knowing': 6, u'last': 6, u'headed': 6, u'involved': 6, u'existing': 6, u'arrange': 6, u'dealt': 6, u'picked': 6, u'plays': 6, u'chose': 6, u'intend': 6, u'reflects': 6, u'ride': 6, u'control': 6, u'hesitate': 6, u'transmitted': 6, u'awarded': 6, u'lists': 6, u'purchasing': 6, u'employed': 6, u'meant': 6, u'accused': 6, u'opening': 6, u'passing': 6, u'suggested': 6, u'Read': 6, u'ripped': 6, u'faxed': 6, u'introduced': 6, u'promise': 6, u'gain': 6, u'shooting': 6, u'compete': 6, u'limited': 5, u'climb': 5, u'increase': 5, u'implemented': 5, u'saved': 5, u'warn': 5, u'shoot': 5, u'complaining': 5, u'maintain': 5, u'overcome': 5, u'split': 5, u'break': 5, u'notified': 5, u'taught': 5, u'threatened': 5, u'shipped': 5, u'oppose': 5, u'uses': 5, u'cleaning': 5, u'hearing': 5, u'confirming': 5, u'causing': 5, u'involving': 5, u'wearing': 5, u'report': 5, u'picking': 5, u'vomiting': 5, u'faced': 5, u'taste': 5, u'board': 5, u'hung': 5, u'commit': 5, u'pays': 5, u'stuck': 5, u'resulted': 5, u'setting': 5, u'test': 5, u'transported': 5, u'managed': 5, u'compensate': 5, u'hosting': 5, u'presented': 5, u'dried': 5, u'shared': 5, u'satisfy': 5, u'fool': 5, u'staying': 5, u'emailed': 5, u'arriving': 5, u'lies': 5, u'drop': 5, u'populated': 5, u'wan': 5, u'where': 5, u'view': 5, u'spoken': 5, u'vote': 5, u'protected': 5, u'remained': 5, u'attempted': 5, u'track': 5, u'keeps': 5, u'mark': 5, u'formed': 5, u'granted': 5, u'stepped': 5, u'renewed': 5, u'benefit': 5, u'reduced': 5, u'recorded': 5, u'broken': 5, u'meaning': 5, u'referenced': 5, u'apologize': 5, u'separate': 5, u'calls': 5, u'projected': 5, u'joined': 5, u'cast': 5, u'initiated': 5, u'obtain': 5, u'states': 5, u'imprisoned': 5, u'wash': 5, u'Expect': 5, u'dine': 5, u'regret': 5, u'lie': 5, u'understands': 5, u'decline': 5, u'collected': 5, u'replaced': 5, u'hoping': 5, u'retired': 5, u'Sounds': 5, u'guaranteed': 5, u'ignore': 5, u'step': 5, u'spending': 5, u'directed': 5, u'defined': 5, u'seized': 5, u'flowing': 5, u'resulting': 5, u'implement': 5, u'becomes': 5, u'breathe': 5, u'holds': 5, u'puts': 5, u'experienced': 5, u'shut': 5, u'blown': 5, u'attach': 5, u'survived': 5, u'rush': 5, u'exists': 5, u'figured': 5, u'adjusted': 5, u'reporting': 5, u'Given': 5, u'resolved': 5, u'increased': 5, u'count': 5, u'convince': 5, u'demonstrate': 5, u'claiming': 5, u'repeat': 5, u'lasted': 5, u'rule': 5, u'represent': 4, u'hanging': 4, u'Watch': 4, u'risk': 4, u'tame': 4, u'desired': 4, u'affect': 4, u'increasing': 4, u'study': 4, u'reports': 4, u'separated': 4, u'relax': 4, u'brings': 4, u'indicated': 4, u'indicates': 4, u'attract': 4, u'verify': 4, u'demanding': 4, u'welcomed': 4, u'represents': 4, u'signing': 4, u'trading': 4, u'hosted': 4, u'estimate': 4, u'starts': 4, u'incorporated': 4, u'Going': 4, u'ranging': 4, u'sees': 4, u'mind': 4, u'tells': 4, u'isolated': 4, u'stood': 4, u'responded': 4, u'Love': 4, u'runs': 4, u'release': 4, u'clean': 4, u'letting': 4, u'improve': 4, u'attacked': 4, u'applies': 4, u'launched': 4, u'spawn': 4, u'thawed': 4, u'identify': 4, u'tracked': 4, u'disappeared': 4, u'drafted': 4, u'offering': 4, u'forming': 4, u'floating': 4, u'handed': 4, u'fell': 4, u'switched': 4, u'leads': 4, u'melt': 4, u'suspect': 4, u'marked': 4, u'graduated': 4, u'opposed': 4, u'modified': 4, u'revealed': 4, u'inform': 4, u'offers': 4, u'sail': 4, u'contained': 4, u'initiate': 4, u'indicate': 4, u'rent': 4, u'recover': 4, u'answering': 4, u'intends': 4, u'encouraged': 4, u'surrender': 4, u'equipped': 4, u'HAS': 4, u'acquiring': 4, u'Give': 4, u'enable': 4, u'proven': 4, u'Open': 4, u'Save': 4, u'extended': 4, u'complained': 4, u'charges': 4, u'measure': 4, u'struck': 4, u'Talk': 4, u'maintained': 4, u'alleged': 4, u'file': 4, u'deserve': 4, u'graduate': 4, u'pointing': 4, u'referring': 4, u'pledged': 4, u'titled': 4, u'further': 4, u'dial': 4, u'recieved': 4, u'inspired': 4, u'achieving': 4, u'tested': 4, u'stick': 4, u'installing': 4, u'share': 4, u'refuse': 4, u'register': 4, u'messed': 4, u'hurting': 4, u'bless': 4, u'dominated': 4, u'drink': 4, u'notify': 4, u'warming': 4, u'park': 4, u'installed': 4, u'costs': 4, u'react': 4, u'sponsored': 4, u'dragged': 4, u'BE': 4, u'distributed': 4, u'preparing': 4, u'declined': 4, u'won': 4, u'targeted': 4, u'acted': 4, u'Was': 4, u'dropping': 4, u'assassinated': 4, u'engage': 4, u'flows': 4, u'Seems': 4, u'back': 4, u'understood': 4, u'describing': 4, u'eliminate': 4, u'relating': 4, u'deserves': 4, u'exceed': 4, u'invite': 4, u'draw': 4, u'licensed': 4, u'expressed': 4, u'access': 4, u'pushing': 4, u'invented': 4, u'suggests': 4, u'sounded': 4, u'crossed': 4, u'urged': 4, u'tied': 4, u'counted': 4, u'winning': 4, u'cutting': 4, u'related': 4, u'mate': 4, u'disclose': 4, u'forwarded': 4, u'blows': 4, u'adopted': 4, u'circulate': 4, u'submitted': 4, u'linked': 4, u'complete': 4, u'Asked': 4, u'deny': 4, u'emerging': 4, u'WANT': 4, u'fear': 4, u'agrees': 4, u'listened': 4, u'married': 4, u'Send': 4, u'attempting': 4, u'state': 4, u'email': 4, u'Bending': 4, u'admit': 4, u'comment': 4, u'describe': 4, u'cross': 4, u'absorb': 4, u'expand': 4, u'maintaining': 4, u'lose': 4, u'searching': 4, u'demonstrated': 4, u'prohibited': 4, u'proceeded': 4, u'hiding': 4, u'gained': 4, u'repeated': 4, u'effected': 4, u'Know': 4, u'containing': 3, u'sinking': 3, u'stolen': 3, u'stabbed': 3, u'frozen': 3, u'phoned': 3, u'supplied': 3, u'represented': 3, u'Giving': 3, u'posting': 3, u'training': 3, u'smile': 3, u'refusing': 3, u'feature': 3, u'trusted': 3, u'jumping': 3, u'Stop': 3, u'prevented': 3, u'Start': 3, u'explode': 3, u'filling': 3, u're': 3, u'turning': 3, u'associate': 3, u'incorporates': 3, u'ate': 3, u'creates': 3, u'rang': 3, u'organize': 3, u'reassure': 3, u'rated': 3, u'wasted': 3, u'abandoning': 3, u'spayed': 3, u'Set': 3, u'CAME': 3, u'Went': 3, u'assisting': 3, u'stepping': 3, u'conduct': 3, u'new': 3, u'covering': 3, u'blew': 3, u'pasted': 3, u'Took': 3, u'drawn': 3, u'preserve': 3, u'participating': 3, u'adapted': 3, u'NEED': 3, u'entered': 3, u'obtained': 3, u'remaining': 3, u'suppose': 3, u'Follow': 3, u'leaves': 3, u'defeated': 3, u'grown': 3, u'perform': 3, u'breaks': 3, u'bearded': 3, u'failing': 3, u'detained': 3, u'claims': 3, u'poses': 3, u'generated': 3, u'contradict': 3, u'performing': 3, u'remind': 3, u'sends': 3, u'deleted': 3, u'pose': 3, u'proceed': 3, u'attacks': 3, u'lacked': 3, u'undermining': 3, u'authorized': 3, u'covers': 3, u'agreeing': 3, u'smell': 3, u'roll': 3, u'reconsider': 3, u'hissed': 3, u'devoted': 3, u'suffered': 3, u'cook': 3, u'perceived': 3, u'solved': 3, u'discover': 3, u'adds': 3, u'contracted': 3, u'falling': 3, u'burn': 3, u'filmed': 3, u'diagnosed': 3, u'loving': 3, u'sharing': 3, u'riding': 3, u'avoiding': 3, u'quoting': 3, u'bites': 3, u'completing': 3, u'confused': 3, u'HAD': 3, u'improving': 3, u'suck': 3, u'inquired': 3, u'succeeded': 3, u'pointed': 3, u'hiring': 3, u'mail': 3, u'introduce': 3, u'Cures': 3, u'repaired': 3, u'wrap': 3, u'avoided': 3, u'concur': 3, u'contain': 3, u'frequent': 3, u'forwarding': 3, u'eliminated': 3, u'representing': 3, u'transferred': 3, u'venture': 3, u'gathering': 3, u'teething': 3, u'form': 3, u'shop': 3, u'hopes': 3, u'trot': 3, u'designated': 3, u'Turn': 3, u'declared': 3, u'HELP': 3, u'affecting': 3, u'enjoys': 3, u'blame': 3, u'Note': 3, u'Buy': 3, u'combined': 3, u'amend': 3, u'investigating': 3, u'driven': 3, u'peeing': 3, u'solve': 3, u'speed': 3, u'reccomend': 3, u'disrupt': 3, u'Change': 3, u'negotiating': 3, u'disappointed': 3, u'serves': 3, u'laughing': 3, u'joking': 3, u'reimbursed': 3, u'deteriorated': 3, u'communicate': 3, u'update': 3, u'TRY': 3, u'Thought': 3, u'burning': 3, u'Add': 3, u'accumulated': 3, u'sealed': 3, u'LET': 3, u'define': 3, u'ai': 3, u'censor': 3, u'examine': 3, u'walks': 3, u'Trust': 3, u'compel': 3, u'building': 3, u'groom': 3, u'lack': 3, u'executing': 3, u'surprised': 3, u'condition': 3, u'treating': 3, u'rate': 3, u'Contact': 3, u'experience': 3, u'comparing': 3, u'Coming': 3, u'intercepted': 3, u'indicating': 3, u'compare': 3, u'challenging': 3, u'attain': 3, u'condemn': 3, u'dismissed': 3, u'explains': 3, u'MAKE': 3, u'eats': 3, u'replied': 3, u'Think': 3, u'pray': 3, u'vomit': 3, u'undertake': 3, u'funding': 3, u'research': 3, u'flowed': 3, u'Leaving': 3, u'generate': 3, u'needing': 3, u'relate': 3, u'passes': 3, u'financed': 3, u'bleeding': 3, u'trapped': 3, u'interviewed': 3, u'customize': 3, u'quote': 3, u'accepting': 3, u'appear': 3, u'lying': 3, u'joining': 3, u'blended': 3, u'writes': 3, u'banned': 3, u'competing': 3, u'adhering': 3, u'achieved': 3, u'feared': 3, u'practice': 3, u'donate': 3, u'thrive': 3, u'relying': 3, u'remembers': 3, u'demand': 3, u'tolerate': 3, u'belong': 3, u'withdraw': 3, u'listening': 3, u'reviewed': 3, u'circling': 3, u'questioned': 3, u'evaluate': 3, u'matters': 3, u'suffering': 3, u'knock': 3, u'collect': 3, u'Find': 3, u'remembered': 3, u'processing': 3, u'continuing': 3, u'lasts': 3, u'Looks': 3, u'impressed': 3, u'submit': 3, u'link': 3, u'forbidding': 3, u'fried': 3, u'yelled': 3, u'researching': 3, u'explaining': 3, u'impress': 3, u'score': 3, u'ending': 3, u'Enjoy': 3, u'defeats': 3, u'slow': 3, u'transmit': 3, u'murdered': 3, u'defeat': 3, u'KNOW': 3, u'predict': 3, u'doubt': 3, u'pour': 3, u'closing': 3, u'reserved': 3, u'reserves': 3, u'pulling': 3, u'STAY': 3, u'bothered': 3, u'preferred': 3, u'Leave': 3, u'chosen': 3, u'flew': 3, u'identified': 3, u'identifies': 3, u'aggravated': 3, u'supports': 3, u'approached': 3, u'attending': 3, u'cured': 3, u'scare': 3, u'acquire': 3, u'reflecting': 3, u'bet': 3, u'connected': 3, u'expired': 3, u'neighboring': 3, u'valuing': 3, u'supported': 3, u'promote': 3, u'spotted': 3, u'acquired': 3, u'interfere': 3, u'implementing': 3, u'rinsed': 3, u'laugh': 3, u'narrowed': 3, u'acts': 3, u'releasing': 3, u'improved': 3, u'slept': 3, u'value': 3, u'promoted': 3, u'tighten': 3, u'discouraged': 3, u'extradited': 3, u'sets': 3, u'stressed': 3, u'point': 3, u'warrant': 3, u'press': 3, u'insert': 3, u'displaced': 3, u'shed': 3, u'belonged': 3, u'choosing': 3, u'transport': 3, u'reaching': 3, u'pressure': 3, u'host': 3, u'paste': 3, u'owe': 3, u'blacklined': 3, u'fired': 3, u'transfer': 3, u'trigger': 3, u'breeding': 3, u'recruited': 3, u'chatting': 3, u'hop': 3, u'weaponize': 3, u'seated': 2, u'list': 2, u'collaborate': 2, u'rise': 2, u'rigged': 2, u'favoured': 2, u'chew': 2, u'expanded': 2, u'contributed': 2, u'supplies': 2, u'kicked': 2, u'aid': 2, u'dry': 2, u'clarify': 2, u'ignoring': 2, u'credit': 2, u'harass': 2, u'smoke': 2, u'permit': 2, u'DOING': 2, u'Removes': 2, u'calm': 2, u'strike': 2, u'survive': 2, u'type': 2, u'pursue': 2, u'install': 2, u'Specified': 2, u'cited': 2, u'guarantee': 2, u'replacing': 2, u'reconciled': 2, u'Working': 2, u'Unreported': 2, u'attempt': 2, u'wins': 2, u'acknowledged': 2, u'greet': 2, u'realizing': 2, u'vary': 2, u'appropriating': 2, u'digest': 2, u'rescheduled': 2, u'hidden': 2, u'ranked': 2, u'Planning': 2, u'veto': 2, u'recovering': 2, u'ordering': 2, u'cooperating': 2, u'reintroduced': 2, u'featured': 2, u'implicated': 2, u'Increases': 2, u'brainwash': 2, u'draft': 2, u'Search': 2, u'rejected': 2, u'WAIT': 2, u'begins': 2, u'Consider': 2, u'packed': 2, u'derived': 2, u'respecting': 2, u'Ask': 2, u'looming': 2, u'calculated': 2, u'stating': 2, u'bomb': 2, u'recieve': 2, u'arrayed': 2, u'folded': 2, u'bust': 2, u'compounded': 2, u'criticized': 2, u'licking': 2, u'recruit': 2, u'observed': 2, u'fail': 2, u'Run': 2, u'freeze': 2, u'Bring': 2, u'merging': 2, u'faces': 2, u'smuggled': 2, u'Highlighting': 2, u'yelling': 2, u'humming': 2, u'relaxing': 2, u'lift': 2, u'censored': 2, u'contemplated': 2, u'affirm': 2, u'xferring': 2, u'Beware': 2, u'employ': 2, u'unloading': 2, u'cracked': 2, u'inviting': 2, u'disappear': 2, u'damaged': 2, u'DO': 2, u'filtered': 2, u'boiled': 2, u'raid': 2, u'blames': 2, u'possessed': 2, u'flops': 2, u'monitored': 2, u'shout': 2, u'belongs': 2, u'hav': 2, u'Taking': 2, u'melting': 2, u'COMES': 2, u'stringing': 2, u'excepted': 2, u'tripped': 2, u'allocate': 2, u'beating': 2, u'booking': 2, u'permitted': 2, u'e-mailed': 2, u'dined': 2, u'Provided': 2, u'obtaining': 2, u'Provides': 2, u'launching': 2, u'head': 2, u'heat': 2, u'responding': 2, u'ruined': 2, u'inquiring': 2, u'emit': 2, u'diagnose': 2, u'adopt': 2, u'sticks': 2, u'protested': 2, u'weakened': 2, u'Maintains': 2, u'convincing': 2, u'Drive': 2, u'invested': 2, u'rolling': 2, u'progresses': 2, u\"'S\": 2, u'affects': 2, u'restored': 2, u'skip': 2, u'shot': 2, u'promoting': 2, u'weakening': 2, u'Believe': 2, u'advises': 2, u'inciting': 2, u'locked': 2, u'drag': 2, u'Finding': 2, u'rub': 2, u'grabbed': 2, u'studied': 2, u'Defend': 2, u'dreamed': 2, u'symbolizes': 2, u'fingered': 2, u'valued': 2, u'Seeing': 2, u'speaks': 2, u'sworn': 2, u'crashes': 2, u'evacuated': 2, u'establishing': 2, u'testing': 2, u'realise': 2, u'retrieve': 2, u'Live': 2, u'spawning': 2, u'emerged': 2, u'rebuilding': 2, u'THANK': 2, u'screaming': 2, u'Recommend': 2, u'Walking': 2, u'impose': 2, u'communicated': 2, u'comprised': 2, u'reopen': 2, u'rented': 2, u'concentrating': 2, u'returns': 2, u'participated': 2, u'specify': 2, u'googled': 2, u'translate': 2, u'instructed': 2, u'personalized': 2, u'urge': 2, u'Getting': 2, u'falls': 2, u'invoked': 2, u'wielding': 2, u'rating': 2, u'reply': 2, u'regulated': 2, u'imagined': 2, u'raising': 2, u'hiss': 2, u'Having': 2, u'discussing': 2, u'Visualize': 2, u'imposing': 2, u'eliminating': 2, u'staffed': 2, u'detect': 2, u'camping': 2, u'Loose': 2, u'forecast': 2, u'style': 2, u'enabling': 2, u'conducting': 2, u'insist': 2, u'exploit': 2, u'suppressed': 2, u'mutilating': 2, u'judging': 2, u'shopping': 2, u'gripped': 2, u'observe': 2, u'Learn': 2, u'twisted': 2, u'mount': 2, u'cancelled': 2, u'coupled': 2, u'engaged': 2, u'Looking': 2, u'conferenced': 2, u'reminded': 2, u'Embedded': 2, u'puff': 2, u'hibernate': 2, u'dying': 2, u'amazes': 2, u'fixing': 2, u'reward': 2, u'rest': 2, u'disperse': 2, u'rose': 2, u'lets': 2, u'sucked': 2, u'starving': 2, u'stunk': 2, u'confined': 2, u'Shop': 2, u'heightened': 2, u'identifying': 2, u'matching': 2, u'caring': 2, u'manufactured': 2, u'lasting': 2, u'spreading': 2, u'cared': 2, u'log': 2, u'removing': 2, u'pretends': 2, u'smuggling': 2, u'regard': 2, u'preceded': 2, u'USE': 2, u'frighten': 2, u'neighbouring': 2, u'reccommend': 2, u'decorated': 2, u'scroll': 2, u'incubating': 2, u'migrated': 2, u'founded': 2, u'lace': 2, u'hunting': 2, u'solicit': 2, u'belonging': 2, u'hitting': 2, u'laying': 2, u'Needs': 2, u'imported': 2, u'brief': 2, u'escaping': 2, u'invoicing': 2, u'concluding': 2, u'meowing': 2, u'Tear': 2, u'geared': 2, u'SAID': 2, u'aimed': 2, u'contains': 2, u'hisses': 2, u'grabbing': 2, u'controlling': 2, u'hurry': 2, u'sucks': 2, u'protects': 2, u're-read': 2, u'breaking': 2, u'glowing': 2, u'plant': 2, u'sympathize': 2, u'verified': 2, u'proclaimed': 2, u'scaring': 2, u'threatens': 2, u'retaliate': 2, u'dispersing': 2, u'pester': 2, u'filters': 2, u'fleshing': 2, u'sale': 2, u'resort': 2, u'detected': 2, u'disclosed': 2, u'anticipated': 2, u'complain': 2, u'turns': 2, u'repeating': 2, u'obligated': 2, u'characterized': 2, u'deals': 2, u'testify': 2, u'Clear': 2, u'housed': 2, u'Eating': 2, u'thrown': 2, u'Talked': 2, u'conducted': 2, u'liquefied': 2, u'pop': 2, u'heads': 2, u'paint': 2, u'focusing': 2, u'officiate': 2, u'anticipate': 2, u'bondad': 2, u'Click': 2, u'deciding': 2, u'canceling': 2, u'hurling': 2, u'hired': 2, u'declaring': 2, u'arising': 2, u'defended': 2, u'minimizing': 2, u'giggled': 2, u'breed': 2, u'investigate': 2, u'cease': 2, u'throwing': 2, u'Create': 2, u'hauled': 2, u'tended': 2, u'arm': 2, u'learnt': 2, u'nailed': 2, u'confiscated': 2, u'spray': 2, u'succeed': 2, u'distinguish': 2, u'Makes': 2, u'enables': 2, u'healing': 2, u'load': 2, u'cuts': 2, u'screened': 2, u'convicted': 2, u'ensured': 2, u'resting': 2, u'lives': 2, u'resisted': 2, u'bill': 2, u'endanger': 2, u'backing': 2, u'reads': 2, u'owes': 2, u'vanish': 2, u'grant': 2, u'scrub': 2, u'flooded': 2, u'submerged': 2, u'flown': 2, u'skyrocketing': 2, u'canned': 2, u'prioritised': 2, u'priced': 2, u'Living': 2, u'befuddled': 2, u'PROCEED': 2, u'hated': 2, u'hates': 2, u'amended': 2, u'finalize': 2, u'Arrv.': 2, u'retake': 2, u'arrv.': 2, u'translated': 2, u'centralize': 2, u'pale': 2, u'pet': 2, u'dating': 2, u'jumps': 2, u'fed': 2, u'refuses': 2, u'firing': 2, u'straightened': 2, u'recreate': 2, u'Rate': 2, u'smells': 2, u'Used': 2, u'question': 2, u'vendors': 2, u'suit': 2, u'Wanted': 2, u'Come': 2, u'mounting': 2, u'pounded': 2, u'hoped': 2, u'fulfilling': 2, u'mature': 2, u'storing': 2, u'articulating': 2, u'popped': 2, u'persue': 2, u'single': 2, u'cure': 2, u'curb': 2, u'Destroy': 2, u'denying': 2, u'preventing': 2, u'Speaking': 2, u'enrolled': 2, u'generates': 2, u'calculating': 2, u'develops': 2, u'Making': 2, u'Based': 2, u'melts': 2, u'expelling': 2, u'dislike': 2, u'experiencing': 2, u'picket': 2, u'download': 2, u'schedule': 2, u'polluting': 2, u'focuses': 2, u'prescribe': 2, u'delivering': 2, u'objects': 2, u'ruin': 2, u'involves': 2, u'examining': 2, u'foresee': 2, u'addresses': 2, u'forbid': 2, u'immigrate': 2, u'boasts': 2, u'manipulate': 2, u'Broke': 2, u'testified': 2, u'arranging': 2, u'practicing': 2, u'drops': 2, u'Answered': 2, u'struggling': 2, u'dismissing': 2, u'invoiced': 2, u'budge': 2, u'lined': 2, u'produces': 2, u'rendered': 2, u'revived': 2, u'recreating': 2, u'defining': 2, u'pending': 2, u'crash': 2, u'surrounds': 2, u'spell': 2, u'documented': 2, u'flee': 2, u'traced': 2, u'merge': 2, u'accompanied': 2, u'increases': 2, u'relates': 2, u'wander': 2, u'defend': 2, u'postpone': 2, u'hirier': 2, u'rushed': 2, u'assumed': 2, u'proposing': 2, u'bears': 2, u'ASK': 2, u'drool': 2, u'shell': 2, u'slack': 2, u'beg': 2, u'thwarted': 2, u'wakes': 2, u'alerted': 2, u'triggered': 2, u'switch': 2, u'lope': 2, u'copied': 2, u'gather': 2, u'mailed': 2, u'absorbing': 2, u'text': 2, u'Considered': 2, u'bear': 2, u'basking': 2, u'strengthened': 2, u'accuses': 2, u'enhanced': 2, u'operated': 2, u'exploited': 2, u'favor': 2, u'Recall': 2, u'ramp': 2, u'equal': 2, u'attributed': 2, u'fulfilled': 2, u'assure': 2, u'disenfranchised': 2, u'conclude': 2, u'withdrawn': 2, u'controlled': 2, u'ensuring': 2, u'coordinated': 2, u'land': 2, u'abandoned': 2, u'instigated': 2, u'Wait': 2, u'capture': 2, u'highlighted': 2, u'skipping': 2, u'Posted': 2, u'injured': 2, u'conflicting': 2, u'ARE': 2, u'boot': 2, u'stored': 2, u'advertised': 2, u'kick': 2, u'details': 2, u'crushed': 2, u'pack': 2, u'repressed': 2, u'Offers': 2, u'racking': 2, u'demonstrates': 2, u'screwed': 2, u'expire': 2, u'Raging': 2, u'withdrew': 2, u'recognized': 2, u'revise': 2, u'submits': 2, u'assess': 2, u'justifying': 2, u'tamed': 2, u'revalue': 2, u'evacuate': 2, u'blaming': 2, u'squeeze': 2, u'constitute': 2, u'tossed': 2, u'Walk': 2, u'limit': 2, u'ruling': 2, u'recognize': 2, u'denote': 2, u'CHANGE': 2, u'jamming': 2, u'Like': 2, u'Lost': 2, u'incurred': 2, u'migrate': 2, u'pardon': 1, u'crumpled': 1, u'extends': 1, u'protest': 1, u'invovled': 1, u'consists': 1, u'assembled': 1, u'localized': 1, u'buddy': 1, u'granting': 1, u'presents': 1, u'spel': 1, u'teaching': 1, u'pride': 1, u'whack': 1, u'connects': 1, u'distort': 1, u'jack': 1, u'funneled': 1, u'succumbing': 1, u'gobbled': 1, u'disturb': 1, u'Meowing': 1, u'prize': 1, u'correct': 1, u'guiding': 1, u'enclosing': 1, u'revolted': 1, u'abolishing': 1, u'forged': 1, u'preached': 1, u'direct': 1, u'chef': 1, u'persuade': 1, u'consenting': 1, u'sailed': 1, u'Expires': 1, u'TRUST': 1, u'even': 1, u'selected': 1, u'VERIFIES': 1, u'endorse': 1, u'seeks': 1, u're-schedule': 1, u'deemed': 1, u'sinks': 1, u'leaning': 1, u'wrapping': 1, u'brainwashed': 1, u'drew': 1, u'bouild': 1, u'interpret': 1, u'violate': 1, u'balance': 1, u'vintaged': 1, u'rests': 1, u'graze': 1, u'pinning': 1, u'chilling': 1, u'Fried': 1, u'bunker': 1, u'postponed': 1, u'changes': 1, u'intrigue': 1, u'swearing': 1, u'ridiculed': 1, u'scold': 1, u'sliced': 1, u'Play': 1, u'perpetuates': 1, u'<3': 1, u'watering': 1, u'chooses': 1, u'distributing': 1, u'defanged': 1, u'relay': 1, u'expose': 1, u'Introduces': 1, u'warm': 1, u'Prearranged': 1, u'shelters': 1, u'ward': 1, u'preserving': 1, u'overrun': 1, u'wore': 1, u'madea': 1, u'Text': 1, u'plunged': 1, u'worn': 1, u'Moving': 1, u'prearranged': 1, u'THINK': 1, u'revenues': 1, u'root': 1, u'alternating': 1, u'Visit': 1, u'crystallizes': 1, u'organized': 1, u'involve': 1, u'overheard': 1, u'scheduling': 1, u'Announce': 1, u'Travelling': 1, u'Sign': 1, u'cites': 1, u'sweared': 1, u'rewind': 1, u'charging': 1, u'gaming': 1, u'underpinned': 1, u'pre-screened': 1, u'excited': 1, u'attracts': 1, u'descends': 1, u'Enjoyed': 1, u'wind': 1, u'foresaw': 1, u'infested': 1, u'devote': 1, u'summarized': 1, u'expects': 1, u'tolerating': 1, u'ATE': 1, u'elevated': 1, u'patronized': 1, u'nurture': 1, u'conned': 1, u'Hit': 1, u'unzipped': 1, u'fleeing': 1, u'blackened': 1, u'SAY': 1, u'scraped': 1, u'glanced': 1, u'Capitalize': 1, u'pecking': 1, u'bans': 1, u'stuttering': 1, u'educating': 1, u'bang': 1, u'bankroll': 1, u'reaches': 1, u'RAPED': 1, u'saddened': 1, u'invading': 1, u'EAT': 1, u'kicking': 1, u'classified': 1, u'grows': 1, u'leaned': 1, u'interfering': 1, u'side': 1, u'Adding': 1, u'meets': 1, u'dumping': 1, u'mandated': 1, u'ring': 1, u'RETURNED': 1, u'contend': 1, u'appalled': 1, u'restricted': 1, u'washed': 1, u'ripping': 1, u'Exercises': 1, u'instigate': 1, u'underwrite': 1, u'mourning': 1, u'admits': 1, u'logging': 1, u'shunted': 1, u'commented': 1, u'displeases': 1, u'aspire': 1, u'recite': 1, u'render': 1, u'chased': 1, u'encouraging': 1, u'restrict': 1, u'hook': 1, u'EATTING': 1, u'Travelled': 1, u'hedging': 1, u'oppressed': 1, u'top': 1, u'touting': 1, u'damaging': 1, u'murder': 1, u'collapse': 1, u'haunt': 1, u'digs': 1, u'wrapped': 1, u'rectified': 1, u'mutilated': 1, u'reclining': 1, u'enabled': 1, u'project': 1, u'lingering': 1, u'iron': 1, u'Picture': 1, u'hacking': 1, u'contrasted': 1, u'belive': 1, u'bounces': 1, u'advising': 1, u'paddled': 1, u'releases': 1, u'soaked': 1, u'nagged': 1, u'hatch': 1, u'worsening': 1, u'rides': 1, u'reversed': 1, u'committing': 1, u'Wish': 1, u'object': 1, u'overplayed': 1, u'extending': 1, u'arguing': 1, u'Tried': 1, u'subduing': 1, u'mobilised': 1, u'treats': 1, u'regreted': 1, u'partition': 1, u'flow': 1, u'points': 1, u'outfitting': 1, u'pre-cut': 1, u'reserve': 1, u'renting': 1, u'sneaks': 1, u'departing': 1, u'revolves': 1, u'nominated': 1, u'rampaged': 1, u'implying': 1, u'reschedule': 1, u'sown': 1, u'mingle': 1, u'chewed': 1, u'administer': 1, u'STANDING': 1, u'clicked': 1, u'here': 1, u'LIVE': 1, u'screening': 1, u'pursuing': 1, u'integrate': 1, u'stumping': 1, u'Turns': 1, u'perceive': 1, u'convulsed': 1, u'yielded': 1, u'Crossed': 1, u'comply': 1, u'contributes': 1, u'bar': 1, u'crumbling': 1, u'dipping': 1, u'briefed': 1, u'ruins': 1, u'recalls': 1, u'attest': 1, u'decides': 1, u'observes': 1, u'saddle': 1, u'result': 1, u'substantiating': 1, u'Pursuing': 1, u'Reply': 1, u'resigned': 1, u'vented': 1, u'Rise': 1, u'smacks': 1, u'finger': 1, u'Decide': 1, u'approach': 1, u'reiterate': 1, u'interrupting': 1, u'wears': 1, u'rolled': 1, u'packaged': 1, u'stealing': 1, u'authorizing': 1, u'enters': 1, u'dismembered': 1, u'downgrade': 1, u'modeling': 1, u'blasted': 1, u'Log': 1, u'OPENING': 1, u'demanded': 1, u'exceeds': 1, u'GIVE': 1, u'blending': 1, u'grazing': 1, u'conference': 1, u'arranged': 1, u'targeting': 1, u'beef': 1, u'f*ed': 1, u'regenerate': 1, u'faltering': 1, u'drafting': 1, u'arose': 1, u'Pay': 1, u'recomend': 1, u'hospitalized': 1, u'coincides': 1, u'deepen': 1, u'regretted': 1, u'crossing': 1, u'smoked': 1, u'harms': 1, u'originate': 1, u'tastes': 1, u'formatting': 1, u'stopping': 1, u'photographed': 1, u'fungus': 1, u'stink': 1, u\"cookin'\": 1, u'canoeing': 1, u'HATED': 1, u'it': 1, u'conditioned': 1, u'obeying': 1, u'characterize': 1, u'in': 1, u'mauling': 1, u'expedited': 1, u'adjusting': 1, u'Tell': 1, u'hotpot': 1, u'walkin': 1, u're-enlist': 1, u'lacking': 1, u'cools': 1, u'occupied': 1, u'imbued': 1, u'grapple': 1, u'sheltered': 1, u'accumulating': 1, u'confronting': 1, u'entitled': 1, u'fuss': 1, u'sings': 1, u'outperformed': 1, u'differing': 1, u'purchace': 1, u'nurtured': 1, u'mentioning': 1, u'performance': 1, u'game': 1, u'overtook': 1, u'possesses': 1, u'Flipped': 1, u'appease': 1, u'distribute': 1, u'proposes': 1, u'Flip': 1, u'battles': 1, u'depart': 1, u'modulate': 1, u'succeeding': 1, u'LIKED': 1, u'depicts': 1, u'Offer': 1, u'regarded': 1, u'defrosted': 1, u'shoulder': 1, u'sapped': 1, u'hoists': 1, u'toned': 1, u'spanned': 1, u'caps': 1, u'provoked': 1, u'judge': 1, u'shadow': 1, u'retreat': 1, u'occurring': 1, u'KNOWS': 1, u'zoom': 1, u'Forgot': 1, u'cooled': 1, u'gifted': 1, u'envision': 1, u'mash': 1, u'KNEW': 1, u'PAID': 1, u'coerce': 1, u'ARe': 1, u'hassle': 1, u'flatten': 1, u'bore': 1, u'manifest': 1, u'remodeled': 1, u'shapes': 1, u'Experienced': 1, u'proceeding': 1, u'NEEDED': 1, u'armed': 1, u'Looming': 1, u'trademarked': 1, u'HATES': 1, u'denied': 1, u'payed': 1, u'BEWARE': 1, u'pickling': 1, u'harming': 1, u'CURSED': 1, u'substituted': 1, u'Place': 1, u'ltake': 1, u'manufacturing': 1, u'Mailing': 1, u'shaken': 1, u'flourished': 1, u'tuned': 1, u'Hearing': 1, u'browse': 1, u\"c'm\": 1, u'Missed': 1, u'lied': 1, u'reaping': 1, u'wasting': 1, u'float': 1, u'surounded': 1, u'coincided': 1, u'gearing': 1, u'Judging': 1, u'dissenting': 1, u'shoots': 1, u'reducing': 1, u'stumble': 1, u'rely': 1, u'microwaved': 1, u'FREAK': 1, u'minted': 1, u'leaks': 1, u'answetred': 1, u'inspected': 1, u'influencing': 1, u'insurgents': 1, u'starve': 1, u'retaking': 1, u'appologized': 1, u'Rocks': 1, u'suffocate': 1, u'humiliate': 1, u'absent': 1, u'peeling': 1, u'builds': 1, u'lashed': 1, u'muster': 1, u'torturing': 1, u'Lock': 1, u'Implicated': 1, u'dare': 1, u'abusing': 1, u'promises': 1, u'proved': 1, u'segueway': 1, u'Sit': 1, u'toss': 1, u'evidence': 1, u'proves': 1, u\"',\": 1, u'scared': 1, u'Observed': 1, u'marking': 1, u'infiltrate': 1, u'pre-made': 1, u'excel': 1, u'benefiting': 1, u'vanished': 1, u're-type': 1, u'scored': 1, u'picture': 1, u'gasps': 1, u'surprise': 1, u'co$t': 1, u'smelling': 1, u'strips': 1, u'Gaining': 1, u'portends': 1, u'sniffed': 1, u'landed': 1, u'withhold': 1, u'uncovered': 1, u'sculpted': 1, u'Oppose': 1, u'Drove': 1, u'dust': 1, u'emitting': 1, u'activated': 1, u'invent': 1, u'Grilled': 1, u'supplement': 1, u'skiing': 1, u'battle': 1, u'rot': 1, u'spike': 1, u'Bought': 1, u'curating': 1, u'$involved': 1, u'DINING': 1, u'fancies': 1, u'refold': 1, u'cherished': 1, u'summarised': 1, u'chartering': 1, u'marks': 1, u'encircle': 1, u'prepaid': 1, u'administered': 1, u'sponsors': 1, u'Fedexed': 1, u'nesting': 1, u'dig': 1, u'annotated': 1, u'guz': 1, u'blur': 1, u'parked': 1, u'dries': 1, u'detonated': 1, u'irritates': 1, u'invaded': 1, u'reaffirmed': 1, u'bake': 1, u'penetrated': 1, u\"OK'd\": 1, u'educate': 1, u'deluded': 1, u'Explore': 1, u'proclaiming': 1, u'frothing': 1, u'channeled': 1, u'blooming': 1, u'availed': 1, u'downloaded': 1, u'stem': 1, u'teaches': 1, u'hurtling': 1, u'boast': 1, u'battling': 1, u'shift': 1, u'Freeze': 1, u'Founded': 1, u'thrashed': 1, u'accomplished': 1, u'shifting': 1, u'studies': 1, u'bruised': 1, u'massage': 1, u'bloodying': 1, u'READ': 1, u'upraised': 1, u'REWARDED': 1, u'withdrawing': 1, u'red': 1, u'wagin': 1, u'unde$tood': 1, u'overwhelm': 1, u'prompting': 1, u'lauded': 1, u'outshone': 1, u'scratched': 1, u'introducing': 1, u'neglected': 1, u'Mount': 1, u'hollering': 1, u'commissioned': 1, u'envelops': 1, u'useing': 1, u'incited': 1, u'pretend': 1, u'purge': 1, u'labeled': 1, u'sour': 1, u'drags': 1, u'stimulating': 1, u'sheeting': 1, u'stranded': 1, u'dishonors': 1, u'mauled': 1, u'sued': 1, u'posing': 1, u'topple': 1, u'counting': 1, u'stole': 1, u'stunning': 1, u'swung': 1, u'reprioritised': 1, u'Skip': 1, u'dress': 1, u'secured': 1, u'reside': 1, u'begs': 1, u'deteriorate': 1, u'absenting': 1, u'burrowing': 1, u'averted': 1, u'spot': 1, u'rehabilitate': 1, u'fueled': 1, u'divy': 1, u're-trained': 1, u'ascertain': 1, u'lifting': 1, u'steal': 1, u'vomited': 1, u'accelerated': 1, u'unfreeze': 1, u'crept': 1, u'deceive': 1, u'offend': 1, u'shinning': 1, u'recognised': 1, u'refund': 1, u'shoes': 1, u'furnished': 1, u'undervalued': 1, u'Use': 1, u'aiding': 1, u'shake': 1, u'equip': 1, u'blooded': 1, u'hedge': 1, u'blocked': 1, u'dreading': 1, u'acknowledge': 1, u'interesting': 1, u'paraded': 1, u'torn': 1, u'heated': 1, u'disguise': 1, u'listing': 1, u'deducting': 1, u'undermines': 1, u'finance': 1, u'matches': 1, u'drenched': 1, u'AVOID': 1, u'speeding': 1, u'shatter': 1, u'beseech': 1, u'Looked': 1, u'interview': 1, u'qualified': 1, u'conquer': 1, u'drilling': 1, u'seared': 1, u'APPROVE': 1, u'galloping': 1, u'enacted': 1, u'accommodate': 1, u'stir': 1, u'intrigued': 1, u'extradite': 1, u'neutered': 1, u'prompted': 1, u'switching': 1, u'directing': 1, u'DONE': 1, u'GET': 1, u'accomplish': 1, u'worshiped': 1, u'attracted': 1, u'exploding': 1, u'brimming': 1, u'Chasing': 1, u'dwarfed': 1, u'envelop': 1, u'pumping': 1, u'AMAZE': 1, u'reffered': 1, u'trademarks': 1, u'Mixed': 1, u'racked': 1, u'cough': 1, u'discouraging': 1, u'pacifying': 1, u'mesh': 1, u'broached': 1, u'Winging': 1, u'intervening': 1, u'verifies': 1, u'striking': 1, u'omitted': 1, u'soaring': 1, u'suspended': 1, u'shopped': 1, u'affords': 1, u'structured': 1, u'fought': 1, u'stifled': 1, u'Suck': 1, u'exploring': 1, u'CRY': 1, u'Baffled': 1, u'allegedly': 1, u'cope': 1, u'loom': 1, u'circulated': 1, u'broadcast': 1, u'BOTHER': 1, u'vacated': 1, u'CARE': 1, u'analyze': 1, u'massacring': 1, u'feeds': 1, u'grills': 1, u'opens': 1, u'wandering': 1, u'atrophied': 1, u'decompose': 1, u'launches': 1, u'manufacture': 1, u'confessed': 1, u'hauling': 1, u'winding': 1, u'CONTACT': 1, u'distorted': 1, u'voiced': 1, u'Mail': 1, u'regards': 1, u'inked': 1, u'dining': 1, u'collapsed': 1, u'Abused': 1, u'handing': 1, u'gentrified': 1, u'altered': 1, u'Name': 1, u'exterminated': 1, u'price': 1, u'fails': 1, u'evaporate': 1, u'pair': 1, u'cleared': 1, u'inserted': 1, u'acknowledges': 1, u'prefere': 1, u'wreathed': 1, u'Enclosed': 1, u'hurled': 1, u'sexing': 1, u'affirmed': 1, u'Dealt': 1, u'justifies': 1, u'volunteer': 1, u'hack': 1, u'fend': 1, u'reconciling': 1, u'cripple': 1, u'transact': 1, u'believing': 1, u'cautioned': 1, u'clawing': 1, u'ranking': 1, u'contracts': 1, u'lighten': 1, u'Fighting': 1, u'tailor': 1, u'awaiting': 1, u'resource': 1, u'suspects': 1, u'borrow': 1, u'yield': 1, u'requesting': 1, u'assuage': 1, u'predicted': 1, u'uncover': 1, u'finishing': 1, u'worrying': 1, u'manages': 1, u'burst': 1, u'incarcerated': 1, u'signs': 1, u'seat': 1, u'seal': 1, u'calendar': 1, u'quizzing': 1, u'tackling': 1, u'managing': 1, u'jumped': 1, u'incite': 1, u'circulating': 1, u'outsourcing': 1, u'ideate': 1, u'originated': 1, u'repair': 1, u'nibble': 1, u'upholstered': 1, u'surfaced': 1, u'checks': 1, u'toying': 1, u'travels': 1, u'multiplied': 1, u'Target': 1, u'disagreed': 1, u'refine': 1, u'screem': 1, u'preach': 1, u'concentrate': 1, u'overcharge': 1, u'Were': 1, u'analyzed': 1, u'undermine': 1, u'concentrated': 1, u'dates': 1, u'sleeps': 1, u'trades': 1, u'contract': 1, u'flipped': 1, u'tour': 1, u'soaking': 1, u'deported': 1, u'Guess': 1, u'harbouring': 1, u'prayed': 1, u'regading': 1, u'stretched': 1, u'comprehend': 1, u'considers': 1, u'panics': 1, u'aiming': 1, u'cycling': 1, u'stretch': 1, u'Depending': 1, u'attaching': 1, u'featuring': 1, u'ruining': 1, u'robbed': 1, u'curbing': 1, u'wake': 1, u'asks': 1, u'sow': 1, u'apologised': 1, u'stacked': 1, u'compartmentalize': 1, u'consulted': 1, u'sponsered': 1, u'invoking': 1, u'associates': 1, u'ratchet': 1, u'crawls': 1, u'enfurates': 1, u'promising': 1, u'ive': 1, u'rubbing': 1, u'sleeping': 1, u'Charge': 1, u'BEEN': 1, u'donating': 1, u'commanded': 1, u'Hidden': 1, u'ship': 1, u'woken': 1, u'siphoned': 1, u'rooting': 1, u'inquire': 1, u'melted': 1, u'attributing': 1, u'compiling': 1, u'underestimate': 1, u'figures': 1, u'defines': 1, u'MEAN': 1, u'over-simplifying': 1, u'applaud': 1, u'boosted': 1, u'noticing': 1, u'puke': 1, u'validate': 1, u'vowed': 1, u'tracking': 1, u'Says': 1, u'Made': 1, u'no': 1, u'grinned': 1, u'coordinate': 1, u'interface': 1, u'amazed': 1, u'taxi': 1, u'ck': 1, u'clog': 1, u'steamed': 1, u'predicting': 1, u'Prove': 1, u'guided': 1, u'risking': 1, u'foot': 1, u'procreating': 1, u'sprang': 1, u'HATE': 1, u'deceiving': 1, u'hint': 1, u'adulterated': 1, u'warms': 1, u'gloating': 1, u'overthrow': 1, u'Approved': 1, u'reassured': 1, u'admitting': 1, u'predetermined': 1, u'dispatch': 1, u'detract': 1, u'styled': 1, u'implicate': 1, u'SHOWS': 1, u'legalised': 1, u'militarize': 1, u'reduces': 1, u'Revised': 1, u'Share': 1, u'shrink': 1, u'idk': 1, u'Came': 1, u'fulfil': 1, u'Confirmed': 1, u'fades': 1, u'reworded': 1, u'Rcommended': 1, u'laughed': 1, u'specified': 1, u'organizing': 1, u'Carried': 1, u'booming': 1, u'squirm': 1, u'overstay': 1, u'stops': 1, u'voice': 1, u'Filled': 1, u'inhabited': 1, u'moderate': 1, u'quitting': 1, u'accessing': 1, u'power': 1, u'pouring': 1, u'combines': 1, u'slaughter': 1, u'Dissolved': 1, u'visits': 1, u'accommodated': 1, u'assemble': 1, u'roaming': 1, u'strangled': 1, u'crafting': 1, u'Poll': 1, u'informing': 1, u'supervised': 1, u'COME': 1, u'Laughing': 1, u'purported': 1, u'skilled': 1, u'lifted': 1, u'EXCELS': 1, u'garner': 1, u'freaked': 1, u'rising': 1, u'stare': 1, u'reassigns': 1, u'desert': 1, u'handcuffed': 1, u'condone': 1, u'assumes': 1, u'crushing': 1, u'recommends': 1, u'replies': 1, u'positioned': 1, u'delayed': 1, u're-secured': 1, u'pitched': 1, u'emancipate': 1, u'spice': 1, u'abused': 1, u'applying': 1, u'embedded': 1, u'poison': 1, u'flirt': 1, u'Color': 1, u'reapply': 1, u'shredded': 1, u'Build': 1, u'subdue': 1, u'totaling': 1, u'Restored': 1, u'deep': 1, u'ar': 1, u'grasped': 1, u'Strike': 1, u'moves': 1, u'spends': 1, u'Brought': 1, u'assessing': 1, u'retiring': 1, u'itemized': 1, u'repent': 1, u'bragging': 1, u'Lay': 1, u'milking': 1, u'trash': 1, u'TAKE': 1, u'privatized': 1, u'proliferate': 1, u'wields': 1, u'resell': 1, u'crossbred': 1, u'ridden': 1, u'touts': 1, u'anticipates': 1, u'invest': 1, u'mask': 1, u'BRING': 1, u'investigated': 1, u'burrow': 1, u'numbing': 1, u'CHILL': 1, u'swirls': 1, u'beware': 1, u'splitting': 1, u'migrates': 1, u'smoking': 1, u'talks': 1, u'laid': 1, u'to': 1, u'bilked': 1, u'scratch': 1, u'thouhgt': 1, u'sustain': 1, u'subsides': 1, u'Eat': 1, u'adapt': 1, u'case': 1, u'voicing': 1, u'soften': 1, u'disconnected': 1, u'washing': 1, u'sliding': 1, u'reminding': 1, u'Kill': 1, u'tear': 1, u'libeled': 1, u'conceptualize': 1, u'THRIVE': 1, u'recommending': 1, u'winds': 1, u'design': 1, u'functioning': 1, u'situated': 1, u'opted': 1, u'sum': 1, u'ticks': 1, u'ceases': 1, u'faltered': 1, u'instilling': 1, u'Probing': 1, u'divined': 1, u'hindered': 1, u'condensed': 1, u'loose': 1, u'modify': 1, u'answers': 1, u'forgive': 1, u'squeezed': 1, u'publishes': 1, u'colored': 1, u'cock': 1, u'allows': 1, u'redeploying': 1, u'amount': 1, u'Separating': 1, u'mentions': 1, u'smuggle': 1, u'Preserves': 1, u'squirelled': 1, u'SUCKS': 1, u'apprised': 1, u'ridiculized': 1, u'Climb': 1, u'cantering': 1, u'Boiled': 1, u'injure': 1, u'wield': 1, u'abstaining': 1, u'anger': 1, u'warmed': 1, u'misrepresent': 1, u'scoff': 1, u'pawing': 1, u'sate': 1, u'spoilt': 1, u'commenced': 1, u'CLOSING': 1, u'producing': 1, u'Yahoo!': 1, u'sizing': 1, u'evolves': 1, u'debates': 1, u'strain': 1, u'offended': 1, u'knocked': 1, u'wintering': 1, u'transcend': 1, u'voided': 1, u'marginalized': 1, u'sense': 1, u'exclude': 1, u'blackline': 1, u'lacks': 1, u'allege': 1, u'bonded': 1, u'influenced': 1, u'court': 1, u'FIT': 1, u'plans': 1, u'utilize': 1, u'surpassed': 1, u'hampered': 1, u'cling': 1, u'hugs': 1, u'dismisses': 1, u'Updating': 1, u'acknowledging': 1, u'sandwich': 1, u'subsume': 1, u'communicating': 1, u'sneak': 1, u'questioning': 1, u'tries': 1, u'SOLVE': 1, u'misnamed': 1, u'waked': 1, u'profited': 1, u'relocating': 1, u'bathed': 1, u'exhibited': 1, u'deserted': 1, u'OPPOSE': 1, u'resond': 1, u'encased': 1, u'Fill': 1, u'adorned': 1, u'stays': 1, u'SEEMS': 1, u'chalked': 1, u'through': 1, u'deterring': 1, u'committed': 1, u'smiling': 1, u'golfing': 1, u'licks': 1, u'blurring': 1, u'lobbed': 1, u'clashes': 1, u'Touching': 1, u'bypass': 1, u'alter': 1, u'ally': 1, u'Sound': 1, u'nestled': 1, u'males': 1, u'reigning': 1, u'flies': 1, u'imperil': 1, u'belittle': 1, u'accumulate': 1, u'detach': 1, u'groped': 1, u'obligates': 1, u'slithers': 1, u'altering': 1, u'piping': 1, u'harboring': 1, u'harm': 1, u'formulate': 1, u'unravelling': 1, u'engaging': 1, u'scratching': 1, u'inflated': 1, u'mattered': 1, u'publish': 1, u'BROUGHT': 1, u'cheated': 1, u'induced': 1, u'issue': 1, u'salute': 1, u'Protect': 1, u're-routed': 1, u'combed': 1, u'dung': 1, u'Ignore': 1, u'qualify': 1, u'base': 1, u'POST': 1, u'facilitating': 1, u'Delete': 1, u'planted': 1, u'benefits': 1, u'persuading': 1, u'Pass': 1, u'blush': 1, u'throws': 1, u'stalemated': 1, u'caged': 1, u'Adds': 1, u'slipped': 1, u'knocking': 1, u'residing': 1, u'plummet': 1, u'guard': 1, u'equating': 1, u'leverage': 1, u'guaranteeing': 1, u'Fuck': 1, u'threatening': 1, u'revive': 1, u'Hoped': 1, u'penetrates': 1, u'hundred': 1, u'recovered': 1, u'catapult': 1, u'HANDLE': 1, u'storm': 1, u'Recommended': 1, u'exploded': 1, u'draped': 1, u'signaling': 1, u'consult': 1, u'discounted': 1, u'financing': 1, u'assaulted': 1, u'imperiled': 1, u'aims': 1, u'charger': 1, u'enclosed': 1, u'orderd': 1, u'Projected': 1, u'BOTHERED': 1, u'interferes': 1, u'lit': 1, u'swallowing': 1, u'consulting': 1, u'Rent': 1, u'graduating': 1, u'cemented': 1, u'populate': 1, u'approves': 1, u'trains': 1, u'plunder': 1, u'enduring': 1, u'measured': 1, u'bumping': 1, u'seize': 1, u'clear': 1, u'waning': 1, u'dissolved': 1, u'proliferated': 1, u'reestablished': 1, u'consisted': 1, u'blend': 1, u'flicker': 1, u'scattered': 1, u'flirted': 1, u'kissed': 1, u'BRINGING': 1, u'stifle': 1, u'DEAL': 1, u'dividing': 1, u'abiding': 1, u'surveyed': 1, u'defiled': 1, u'criticising': 1, u'ban': 1, u'circle': 1, u'reap': 1, u'boarding': 1, u'express': 1, u'rekindle': 1, u'strut': 1, u'whistle': 1, u'hid': 1, u'pretending': 1, u'adhered': 1, u'judged': 1, u'PUT': 1, u'resolve': 1, u'Help': 1, u'sacrificed': 1, u'cry': 1, u'pressed': 1, u'equaling': 1, u'Claimed': 1, u'seperates': 1, u'guessed': 1, u'rumored': 1, u'scanning': 1, u'redefine': 1, u'dump': 1, u'bundling': 1, u'rescheduling': 1, u'sez': 1, u'totalling': 1, u'bare': 1, u'manged': 1, u'Assassinate': 1, u'shower': 1, u'learns': 1, u'assuring': 1, u'please': 1, u'formatted': 1, u'slapped': 1, u'orbiting': 1, u'risks': 1, u'redlined': 1, u'expulse': 1, u'crucify': 1, u'munching': 1, u'memorized': 1, u'Rolled': 1, u'forgotten': 1, u'ENJOYS': 1, u'finds': 1, u'ridiculing': 1, u'danced': 1, u'filing': 1, u'panicking': 1, u'dances': 1, u'adjoining': 1, u'rescoped': 1, u'rave': 1, u'asserted': 1, u'intermarrying': 1, u'Done': 1, u'consuming': 1, u'stamp': 1, u'scented': 1, u'overlook': 1, u'due': 1, u'longs': 1, u'reciprocate': 1, u'threaten': 1, u'woke': 1, u'budgeted': 1, u'generating': 1, u'regroup': 1, u'transferring': 1, u'cunclude': 1, u'deter': 1, u'bidding': 1, u'assigning': 1, u'dialing': 1, u'Feed': 1, u'unify': 1, u'ski': 1, u'evaluated': 1, u'admire': 1, u'forgetting': 1, u'match': 1, u'evaluating': 1, u'loot': 1, u'biking': 1, u'Concern': 1, u'swim': 1, u'averaging': 1, u'overlooked': 1, u'binding': 1, u'quit': 1, u'regulate': 1, u'kills': 1, u'shorten': 1, u'butcher': 1, u'propping': 1, u'copying': 1, u'Address': 1, u'co-operate': 1, u'renigged': 1, u'negotiate': 1, u'targetting': 1, u'viewing': 1, u'falters': 1, u'misinform': 1, u'flips': 1, u'retracted': 1, u'lower': 1, u'finesse': 1, u'refute': 1, u'Wishing': 1, u'Bargain': 1, u'honor': 1, u'revising': 1, u'comprise': 1, u'Considering': 1, u'abstain': 1, u'distracting': 1, u'shape': 1, u'beared': 1, u'roasted': 1, u'overtopped': 1, u'contradicting': 1, u'jumbled': 1, u'sabotaging': 1, u'hiking': 1, u'disseminate': 1, u'spills': 1, u'signals': 1, u'bred': 1, u'honro': 1, u'Filed': 1, u'tormented': 1, u'guarantees': 1, u'brainstorm': 1, u'loss': 1, u'Stretching': 1, u'Awaiting': 1, u'defied': 1, u'excluding': 1, u'shaped': 1, u'signal': 1, u'resorted': 1, u'translates': 1, u'Treat': 1, u'sketch': 1, u'google': 1, u'fucking': 1, u'obliged': 1, u'b.': 1, u'outnumber': 1, u'GOING': 1, u'pricing': 1, u'Email': 1, u'bypassing': 1, u'spouting': 1, u'Reporting': 1, u'prop': 1, u'vacationed': 1, u'darkened': 1, u'tends': 1, u'invade': 1, u'TRIPPED': 1, u'sorted': 1, u'flogging': 1, u'Escaping': 1, u'by': 1, u'PAINT': 1, u'range': 1, u'TALK': 1, u'messaging': 1, u'block': 1, u'hears': 1, u'Quit': 1, u'awaited': 1, u'purporting': 1, u'neglects': 1, u'Helps': 1, u'HATING': 1, u'sized': 1, u'vaulted': 1, u'chirping': 1, u'span': 1, u'dispatched': 1, u'dueled': 1, u'placing': 1, u'handles': 1, u'Called': 1, u'infected': 1, u'authored': 1, u'GAVE': 1, u'Fly': 1, u'plunge': 1, u'governs': 1, u'succumbed': 1, u'mitigate': 1, u'tasting': 1, u'cloud': 1, u'Provide': 1, u'line': 1, u'relaxes': 1, u'consist': 1, u'burrows': 1, u'up': 1, u'highlight': 1, u'TOOK': 1, u'camp': 1, u'reconcile': 1, u'flocked': 1, u'chat': 1, u'rally': 1, u'dragging': 1, u'prevail': 1, u'Adopts': 1, u'Tighten': 1, u'Sailing': 1, u'scrape': 1, u'overseeing': 1, u'challenged': 1, u'nabbed': 1, u'clicking': 1, u'forgo': 1, u'seething': 1, u'INSULTED': 1, u'wished': 1, u'develope': 1, u'printing': 1, u'AM': 1, u'pretended': 1, u'Cast': 1, u'rested': 1, u'cater': 1, u'allowing': 1, u'prepares': 1, u'Thinking': 1, u'restrained': 1, u'structure': 1, u'rallied': 1, u'suffers': 1, u'implies': 1, u'reasoned': 1, u'attacking': 1, u'NOTE': 1, u'presenting': 1, u'leak': 1, u'requires': 1, u'fixeded': 1, u'modernizing': 1, u'incorporate': 1, u'FORGOT': 1, u'illustrated': 1, u'Push': 1, u'bait': 1, u'amplified': 1, u'ruminate': 1, u'issues': 1, u'compose': 1, u'breached': 1, u'mollifying': 1, u'hunger': 1, u'complimented': 1, u'citing': 1, u'shackled': 1, u'Designed': 1, u'excluded': 1, u'PAY': 1, u'uploaded': 1, u'breathing': 1, u'reopened': 1, u'wave': 1, u'Rusted': 1, u'underscore': 1, u'notes': 1, u'rearing': 1, u'race': 1, u'deleting': 1, u'burrowed': 1, u'dilute': 1, u'punishing': 1, u'folds': 1, u'fold': 1, u'expense': 1, u'manipulating': 1, u'brokered': 1, u'showcase': 1, u'assisted': 1, u'pumped': 1, u'infuse': 1, u'values': 1, u'desires': 1, u'gathered': 1, u'kidnapped': 1, u'convert': 1, u'casing': 1, u'chant': 1, u'Fostering': 1, u'resurrect': 1, u'eatin': 1, u'Proposed': 1, u'oversees': 1, u'initials': 1, u'composed': 1, u'SMS': 1, u'combat': 1, u'drving': 1, u'bent': 1, u'REMEMBER': 1, u'aswered': 1, u'congratulated': 1, u'duplicate': 1, u'lock': 1, u'doubling': 1, u'stage': 1, u'touched': 1, u'planing': 1, u'prized': 1, u'iis': 1, u'airlifted': 1, u'fuck': 1, u'cooperate': 1, u'apprenticed': 1, u're-looking': 1, u'deregulate': 1, u'labelled': 1, u'Visited': 1, u'tearing': 1, u'Re-interviewed': 1, u'appointed': 1, u'annoy': 1, u'account': 1, u'announcing': 1, u'embarked': 1, u'insists': 1, u'reproduce': 1, u'dusted': 1, u'fetch': 1, u'decoupled': 1, u'streamed': 1, u'employs': 1, u'pawn': 1, u'rode': 1, u'LOVED': 1, u'transpired': 1, u'reinforcing': 1, u'escaped': 1, u'slit': 1, u'sponoring': 1, u'TRYING': 1, u'weaken': 1, u'stemmed': 1, u'provoke': 1, u'docking': 1, u'boasting': 1, u'delay': 1, u'swear': 1, u'lodge': 1, u'swivels': 1, u'Blogging': 1, u'stock': 1, u'Figured': 1, u'ASWERING': 1, u'aspiring': 1, u'battered': 1, u'annexed': 1, u'hogtied': 1, u'weighed': 1, u'rays': 1, u'Figures': 1, u'Allow': 1, u'STEALING': 1, u'evened': 1, u'chasing': 1, u'varie$': 1, u'endevour': 1, u'counter': 1, u'interrupted': 1, u'reneged': 1, u'allot': 1, u'crawling': 1, u'GUARANTEE': 1, u'stamped': 1, u'sanctioned': 1, u'retrofitting': 1, u'disarm': 1, u'facilitated': 1, u'produced': 1, u'flopped': 1, u'converting': 1, u'contaminated': 1, u'buttered': 1, u'till': 1, u'restrain': 1, u'holiday': 1, u'customise': 1, u'Proposes': 1, u'loosing': 1, u'outbid': 1, u'Saying': 1, u'STOP': 1, u'outlined': 1, u'earn': 1, u'blessed': 1, u'kiss': 1, u'Overcooked': 1, u'stabilise': 1, u'mollified': 1, u'screamed': 1, u'whir': 1, u'reestablish': 1, u'admonished': 1, u'slacked': 1, u'divides': 1, u'sniffing': 1, u'slide': 1, u'overcharged': 1, u'Separated': 1, u'disregard': 1, u'exacerbated': 1, u'strip': 1, u'programmed': 1, u'inverted': 1, u'exceeded': 1, u'Print': 1, u'differ': 1, u'indulged': 1, u'maximized': 1, u'Trying': 1, u'revoke': 1, u'await': 1, u'retrieved': 1, u'reacts': 1, u'approaches': 1, u'conflicts': 1, u'embarrass': 1, u'Spend': 1, u'Gone': 1, u'spill': 1, u'determining': 1, u'retain': 1, u'preferring': 1, u'Managing': 1, u'braced': 1, u'confuse': 1, u'GUESS': 1, u'echo': 1, u'embarrassed': 1, u'fits': 1, u'owning': 1, u'Increased': 1, u'flourish': 1, u'accent': 1, u'wagging': 1, u'screw': 1, u'pressuring': 1, u'BRINGS': 1, u'travelled': 1, u'chases': 1, u'haves': 1, u'Canned': 1, u'accompany': 1, u'punish': 1, u'stress': 1, u'sort': 1, u'pressurized': 1, u'diminish': 1, u'Remain': 1, u'commence': 1, u'reaped': 1, u'bid': 1, u'morph': 1, u'wet': 1, u'counterattacked': 1, u'steep': 1, u'collecting': 1, u'accusing': 1, u'cries': 1, u'Marrying': 1, u'correspond': 1, u'Indexed': 1, u'melded': 1, u'defending': 1, u'dictate': 1, u'Compounding': 1, u'Flex': 1, u'pursued': 1, u'oozing': 1, u'reeks': 1, u'issuing': 1, u'Healing': 1, u'alienating': 1, u'divert': 1, u'scooping': 1, u'Builds': 1, u'clash': 1, u'quartered': 1, u'procure': 1, u'foisted': 1, u'refreshing': 1, u'insured': 1, u'perceiving': 1, u'interviewing': 1, u'balding': 1, u'terminate': 1, u'touching': 1, u'tryed': 1, u'Deteriorating': 1, u'redirect': 1, u'prolong': 1, u'jam': 1, u'fuel': 1, u'prosecute': 1, u'buring': 1, u'flirting': 1, u'ones': 1, u'coordinating': 1, u'penetrate': 1, u'quiet': 1, u'Forget': 1, u'yelped': 1, u'guss': 1, u'Beats': 1, u'subjected': 1, u'overflowing': 1, u'protesting': 1, u'taxed': 1, u'pertains': 1, u'shedding': 1, u'constructing': 1, u'tending': 1, u'affirms': 1, u'humans': 1, u'we': 1, u'operates': 1, u'obliterating': 1, u'scoured': 1, u'reconfirm': 1, u'interacting': 1, u'insulting': 1, u'clearing': 1, u'cried': 1, u'intending': 1, u'tosses': 1, u'phased': 1, u'progress': 1, u'frustrated': 1, u'ends': 1, u'reproduced': 1, u'grumble': 1, u'blinked': 1, u'spoil': 1, u'withstanding': 1, u'fused': 1, u'Schedule': 1, u'creeping': 1, u'busted': 1, u'hauls': 1, u'utilising': 1, u'conquered': 1, u'Rolls': 1, u'compromising': 1, u'cc': 1, u'fostering': 1, u'subscribe': 1, u'Lope': 1, u'respect': 1, u'christened': 1, u'S': 1, u'equips': 1, u'accomplishing': 1, u'flowered': 1, u'teach': 1, u'thanked': 1, u'responds': 1, u'exhausted': 1, u'gaze': 1, u'seasoned': 1, u'degrees': 1, u'enlarging': 1, u'isolating': 1, u'PROVIDED': 1, u'painted': 1, u'Appreciate': 1, u'dusting': 1, u'assert': 1, u'sensed': 1, u'laminated': 1, u'Prevent': 1, u'botn': 1, u'wearies': 1, u'encircled': 1, u'owns': 1, u'supply': 1, u'permeate': 1, u'layer': 1, u'examines': 1, u'Loved': 1, u'examined': 1, u'EXPECTING': 1, u'trotting': 1, u'Return': 1, u'adhear': 1, u'slammed': 1, u'party': 1, u'kidnapping': 1, u'disagree': 1, u'Prepare': 1, u'paving': 1, u'fucked': 1, u'lobby': 1, u'numbered': 1, u'appropriated': 1, u'Joking': 1, u'realises': 1, u'banging': 1, u'amends': 1, u'mitigated': 1, u'command': 1, u'Need': 1, u'undertaken': 1, u'sensing': 1, u'restore': 1, u'stores': 1, u'Using': 1, u'sourced': 1, u'ratify': 1, u'nicknamed': 1, u'rocked': 1, u'protecting': 1, u'abolish': 1, u'rescue': 1, u'consume': 1, u'wed': 1, u'braining': 1, u'Coined': 1, u'arresting': 1, u'arrest': 1, u'combine': 1, u'crack': 1, u'stowed': 1, u'flashing': 1, u'propelled': 1, u'haul': 1, u'Limit': 1, u'impugned': 1, u'tick': 1, u'Fallen': 1, u'memorializes': 1, u'sizes': 1, u'chairs': 1, u'DOUBLE': 1, u'loses': 1, u'bark': 1, u'flickering': 1, u'divest': 1, u'heel': 1, u'gaining': 1, u'hail': 1, u'ventilated': 1, u'flush': 1, u'hissing': 1, u'volunteered': 1, u'disrupting': 1, u'highlighting': 1, u'lean': 1, u'Say': 1, u'e-mail': 1, u'sponsoring': 1, u'boggles': 1, u'Gives': 1, u'regain': 1, u'blowing': 1, u'selecting': 1, u'ensures': 1, u'Remove': 1, u'offset': 1, u'swept': 1, u'exhibit': 1, u'introduces': 1, u'carries': 1, u'sweat': 1, u'rejuvenate': 1, u'recognizes': 1, u'LISTEN': 1, u'bed': 1, u'downgrading': 1, u'warrants': 1, u'backpedalling': 1, u'weather': 1, u'finalizing': 1, u'gleaned': 1, u'terminated': 1, u'whom': 1, u'pairing': 1, u'groomed': 1, u'Listening': 1, u'sanded': 1, u'lv.': 1, u'function': 1, u'surpassing': 1, u'funds': 1, u'MIND': 1, u'deliverd': 1, u'reminds': 1, u'Suppose': 1, u'Following': 1, u'delivers': 1, u'scream': 1, u'places': 1, u'smooth': 1, u'flip': 1, u'Depends': 1, u'hand': 1, u'gagged': 1, u'what': 1, u'bearing': 1, u'pin': 1, u'contribute': 1, u'mislabeled': 1, u'DRIVE': 1, u'beats': 1, u'naming': 1, u'misstated': 1, u'contest': 1, u'dressed': 1, u'compares': 1, u'toured': 1, u'contacting': 1, u'Spill': 1, u'gas': 1, u'co-signing': 1, u'sieze': 1, u'risked': 1, u'pumps': 1, u'Act': 1, u'pacify': 1, u'repeal': 1, u'kidding': 1, u'transports': 1, u'processed': 1, u'pictured': 1, u'recalled': 1, u'yell': 1, u'baked': 1}), u'X': Counter({u'etc': 39, u'1': 29, u'2': 29, u'etc.': 18, u'3': 16, u'carol.st.clair@enron.com': 14, u'4': 13, u'-': 11, u's': 9, u'Alberta': 7, u'mid': 7, u'Analysis_0712': 6, u'Oct': 6, u'ekrapels@esaibos.com': 6, u'and': 6, u'Pricing': 6, u'Transmission': 6, u'MEH-risk': 6, u'Access': 6, u'i.e.': 6, u'COMMUNICATIONS': 5, u'Releases': 4, u'&': 4, u'A': 4, u'nmemdrft8-7-01': 4, u'a': 4, u'over': 4, u'non': 4, u'Cap': 4, u'Ken': 4, u're': 4, u'ENRON': 4, u'(': 4, u'b': 4, u'laurie.ellis@enron.com': 4, u'-ECT-KEDNE': 4, u')': 4, u'post': 4, u'Rice@ENRON': 4, u'5': 4, u'Indo': 3, u'@': 3, u'Lorie': 3, u'Sara': 3, u'out': 3, u'Agreement': 3, u'ECT': 3, u'counter': 3, u'm.nordstrom@pecorp.com': 3, u'redlined': 3, u'pre': 3, u'for': 3, u'David': 3, u'Leigh': 3, u'Letter': 3, u'Shackleton@ECT': 3, u'lemelpe@NU.COM': 3, u'all': 2, u'percell@swbell.net': 2, u'mailto:rosario.gonzales@compaq.com': 2, u'Mary.Ellenberger@enron.com': 2, u'Sanders': 2, u'Hub': 2, u'6': 2, u'So': 2, u'dharmad...@gmail.com': 2, u'del': 2, u'my': 2, u'e.g.': 2, u'Mid': 2, u'Nasim': 2, u'mailto:amy.cornell@compaq.com': 2, u'Tennessee': 2, u'Interconnect': 2, u'half': 2, u'URSULA': 2, u'mayur...@yahoo.com': 2, u'7': 2, u'Rights': 2, u'-Stip': 2, u'Para13': 2, u'galleryfurniture.com': 2, u'Compaq.com': 2, u'SCHEDULE': 2, u'10': 2, u'Peter': 2, u'anglo': 2, u'Percell,': 2, u'H': 2, u'Danny_Jones%ENRON@eott.com': 2, u'8': 2, u'de': 2, u'Stipulation': 2, u'smithjones@ev1.net': 2, u'where': 2, u'IGTS': 2, u'4-12': 2, u'C': 2, u'Trails': 2, u'Primary': 2, u'Liquidweb.com': 2, u'co': 2, u'bmc...@patriot.net': 2, u'http://www.euci.com/pdf/trans_expn.pdf': 2, u'BLACKLINE': 2, u'in': 2, u'ie': 2, u'9': 2, u'II': 2, u'sciencem...@upi.com': 2, u'Khan@TRANSREDES': 2, u'Gas': 2, u'afore': 2, u't': 2, u'Forster@ENRON': 2, u'www.weathereffects.com': 2, u'with': 2, u'NMANNE@SusmanGodfrey.com': 2, u'u': 2, u'Questar': 2, u'http://www.tecsoc.org/pubs/history/2002/apr26.htm': 1, u'http://www.caribbean-cruising.net': 1, u'Lara': 1, u'Tabors': 1, u'http://www.mikegigi.com/castgobl.htm': 1, u'Conflict': 1, u'Non': 1, u'Ted.Bockius@ivita.com': 1, u'Vince': 1, u'skush@swbell.net': 1, u'http://washington.hyatt.com/wasgh/index.html': 1, u'under': 1, u'http://www.mikegigi.com/firehole.htm': 1, u'http://www.dailykos.com/story/2006/5/12/232746/857': 1, u'al.': 1, u'http://www.bullatomsci.org/issues/1993/s93/s93Marples.html': 1, u'SamChawk@aol.com': 1, u'every': 1, u'GA': 1, u'Luan': 1, u'http://www.playatmcd.com/en-us/Main/Gameboard': 1, u'Wayne': 1, u'http://www.disinfo.com/archive/pages/dossier/id334/pg1/': 1, u'Garcia@ENRON': 1, u'Paul': 1, u'Ngoc': 1, u'http://www.ucei.berkeley.edu/ucei': 1, u'Juego': 1, u'Rick': 1, u'http://en.wikipedia.org/wiki/Aerocom': 1, u'what': 1, u'sub': 1, u'http://en.wikipedia.org/wiki/Degenerate_art': 1, u'Libro': 1, u'Susan': 1, u'www.caem.org': 1, u'FRL3@pge.com': 1, u'pop...@spinach.eat': 1, u'righ...@sonic.net': 1, u'http://www.infoukes.com/history/chornobyl/elg/': 1, u'jure': 1, u'http://www.arps.org.au/Chernobyl.htm': 1, u'Amanda': 1, u'http://www.binkyswoodworking.com/HorseStable.php': 1, u'http://i.imgur.com/Xytex.jpg': 1, u'NON': 1, u'Hansen@ENRON': 1, u'Michael.McDermott@spectrongroup.com': 1, u'win': 1, u'Robert': 1, u'http://www.nsrl.ttu.edu/chernobyl/wildlifepreserve.htm': 1, u'Jason.Leopold@dowjones.com': 1, u'http://www.natureandtech.com/?page_id=2200': 1, u'leporjj@selectenergy.com': 1, u'jermeier@earthlink.net': 1, u'Ben': 1, u'Leibman@ENRON': 1, u'Rule': 1, u'http://www.cic.gc.ca/english/immigrate/skilled/assess/index.asp': 1, u'iii': 1, u'Dorsey@ENRON_DEVELOPMENT': 1, u'when': 1, u'http://www.nea.fr/html/rp/chernobyl/conclusions5.html': 1, u'Akin@ECT': 1, u'http://www.blueoakstables.com/breyerhorsebarns_barn003.asp': 1, u'http://www.consumerreports.org/health/healthy-living/beauty-personal-care/hair-loss-10-08/hair-loss.htm': 1, u'www.veraakulov.com': 1, u'http://www.cic.gc.ca/english/immigrate/index.asp': 1, u'RusAmArts@aol.com': 1, u'Lora': 1, u'Palmer@ENRON': 1, u'http://www.oneworld.org/index_oc/issue196/byckau.html': 1, u'dg': 1, u'GlobalSecurity.org': 1, u'Kay': 1, u'http://nigeria.usembassy.gov/scams.html': 1, u'mailto:mayur...@yahoo.com': 1, u'www.designofashion.com': 1, u'12-20-2000': 1, u'Carlos': 1, u'http://www.amazon.ca/exec/obidos/ASIN/0915765381/701-3377456-8181939': 1, u'http://www.nea.fr/html/rp/chernobyl/c05.html': 1, u'Delainey@ECT': 1, u'http://www.bumrungrad.com/en/patient-services/clinics-and-centers/plastic-surgery-thailand-bangkok/breast-augmentation-ba': 1, u'http://www.thekcrachannel.com/news/4503872/detail.html': 1, u'Tana.Jones@en': 1, u'http://www.world-nuclear.org/info/chernobyl/inf07.htm': 1, u'http://www.netpetshop.co.uk/p-19500-savic-chichi-2-chinchilla-rat-degu-ferret-cage.aspx': 1, u'Blaine@ENRON_DEVELOPMENT': 1, u'forma': 1, u'Resume': 1, u'rosario.gonzales@compaq.com': 1, u'http://i.imgur.com/T2zff.jpg': 1, u'eg.': 1, u'http://www.cic.gc.ca/english/contacts/index.asp': 1, u'E.g': 1, u'ymsgr:sendIM?mayursha&__Hi+Mayur...': 1, u'http://www.justcages.co.uk/ferret-cages/ferplast-furet-plus-ferret-cage#v_431': 1, u'www.norcalfightingalliance.com': 1, u'Jgerma5@aol.com': 1, u'http://www.ibrae.ac.ru/IBRAE/eng/chernobyl/nat_rep/nat_repe.htm#24': 1, u'http://www.ibiblio.org/expo/soviet.exhibit/chernobyl.html': 1, u'Stanley': 1, u'http://www.utrechtart.com/Craft-Supplies/Woodworking%20Supplies/': 1, u'mean': 1, u'http://www.collectinghistory.net/chernobyl/': 1, u'eg': 1, u'Montgomery@ENRON': 1, u'et': 1, u'Caroline': 1, u'Shawna': 1, u'kenneth.lay@enron.com': 1, u'http://www.equinecaninefeline.com/catalog/abode-large-metal-cage-liberta-free-delivery-p-6679.html': 1, u'MGr...@usa.pipeline.com': 1, u'Joe_Lardy@cargill.com': 1, u'http://www.the-dslr-photographer.com/2009/11/which-dslr-to-buy/': 1, u's...@sonic.net': 1, u'http://v2.cache7.c.bigcache.googleapis.com/static.panoramio.com/photos/original/42661265.jpg?redirect_counter=2': 1, u'W': 1, u'http://www.antifraudcentre-centreantifraude.ca/english/home-eng.html': 1, u'http://im.yahoo.com/': 1, u'http://haas.berkeley.edu/~borenste': 1, u'JBennett@GMSSR.com': 1, u'http://www.restaurant.com': 1, u'http://www.InternetchurchOfChrist.org': 1, u'Rates': 1, u'http://www.cruisecompete.com/specials/regions/world/1': 1, u'http://www.compaq.com/products/notebooks/index.html': 1, u'kaplan@iepa.com': 1, u'Castagnola@ENRON_DEVELOPMENT': 1, u'Adnan': 1, u'McConnell@ECT': 1, u'B': 1, u'Patrick': 1, u'http://www.squidoo.com/nook-tablet': 1, u'http://www.cic.gc.ca/english/index.asp': 1, u'R': 1, u'Nuria_R_Ibarra@calpx.com': 1, u'www.kaffeeeis.co.nz': 1, u'11': 1, u'lora.sullivan@enron.com': 1, u'12': 1, u'ron.com': 1, u'i': 1, u'r': 1, u'invencion': 1, u'Acedraz': 1, u'http://www.guardian.co.uk/obituaries/story/0,3604,1371372,00.html': 1, u'DG': 1, u'pro': 1, u'Recruiting': 1, u'http://www.sonic.net/~fsjob/TragiCore-TheCivetCat.mp3': 1, u'http://www.goldentriangleindia.com/delhi/hotels-in-delhi.html': 1, u'socio': 1, u'any': 1, u'amy.cornell@compaq.com': 1, u'ethink@enron.com': 1, u'Eco': 1, u'http://www.newsday.com/news/opinion/ny-vpnasa054135614feb05,0,5979821.story?coll=ny-editorials-headlines': 1, u'http://news.bbc.co.uk/2/hi/programmes/this_world/4446342.stm': 1, u'Sean.Cooper@ElPaso.com': 1, u'http://www.loveallpeople.org/theonereasonwhy.html': 1, u'surv': 1, u'http://gimpedblog.blogspot.com/2011/09/gimp-video-tutorial-how-to-convert.html': 1, u'http://www.ontario.ca/en/information_bundle/birthcertificates/119274.html': 1, u'http://farm3.static.flickr.com/2406/2527255596_db23df940f.jpg': 1, u'http://www.ebay.co.uk/itm/250927098564?var=550057729382&ssPageName=STRK:MEWAX:IT&_trksid=p3984.m1438.l2649#ht_2079wt_893': 1, u'Export': 1, u'GILBERGD@sullcrom.com': 1, u'http://www.wyndham.com/Washington_DC/default.cfm': 1, u'Kaminski@ECT': 1, u'http://www.environmentalchemistry.com/yogi/hazmat/articles/chernobyl1.html': 1, u'mellow': 1, u'http://www.bigeye.com/111003.htm': 1, u'Perry@ENRON_DEVELOPMENT': 1, u'http://www.solutions.com/jump.jsp?itemID=1361&itemType=PRODUCT&path=1%2C3%2C477&iProductID=1361': 1, u'http://loveallpeople.org/usconstitutiona.txt': 1, u'presid...@whitehouse.gov': 1, u'http://isc.enron.com/site': 1, u'Michelle': 1, u'http://www.equinecaninefeline.com/catalog/savic-freddy-cage-free-delivery-p-6750.html': 1, u'http://www.ebay.co.uk/itm/130589513308?var=430034792128&ssPageName=STRK:MEWAX:IT&_trksid=p3984.m1438.l2648#ht_1500wt_660': 1, u'PG&E': 1, u'Lysa': 1, u'Rance@ENRON': 1, u'http://www.adiccp.org/home/default.asp': 1, u'http://bit.ly/kPlaylists': 1, u'http://www.flickr.com/photos/adamtolle/6094960940/in/set-72157627535453128/': 1, u'kyle.jones@radianz.com': 1, u'h': 1, u'Over': 1, u'Marianne': 1, u'Chris.Germany@enron.com': 1, u'gstrathmann@mediaone.net': 1, u'http://www.nea.fr/html/rp/chernobyl/c01.html': 1, u'http://dianacamera.com': 1, u'For': 1, u'http://www.UnitaryExecutive.net': 1, u'Horton@ENRON': 1, u'John': 1, u'dmetcalfe@cullenanddykman.com': 1, u'http://youtube.com/watch?v=d46_ctqDmI4': 1, u'www.juancole.com': 1, u'http://www.chernobyl.info/en': 1, u'mailto:galent@nepco.com': 1, u'Kyle.Jones@ra': 1, u'melanie.gray@weil.com': 1, u'et.': 1, u'http://www.beardeddragon.org/articles/caresheet/?page=1': 1, u'Accord': 1, u'http://www.rawstory.com/news/2006/US_outsourcing_special_operations_intelligence_gathering_0413.html': 1, u'http://www.speedtest.net/result/1155244347.png': 1, u'Abramo@ENRON': 1, u'Mann@ENRON': 1, u'c': 1, u'Settlement': 1, u'mega': 1, u'http://www.LoveAllPeople.org': 1, u'la': 1, u'Williams@ENRON_DEVELOPMENT': 1, u'COS': 1, u'http://www.mikegigi.com/techspec.htm#SELCTEMP': 1, u'anti': 1, u'i.e': 1, u'liberal': 1, u'mark.carr...@chron.com': 1, u'http://gimpedblog.blogspot.com/2011/09/how-to-use-gimp-for-beginners-lesson-4.html': 1, u'Huble@ENRON': 1, u'Kaufman@ECT': 1, u'francisco.pinto.leite@enron.com': 1, u'arte': 1, u'http://www.un.org/ha/chernobyl/': 1, u'multi': 1, u'http://www.romancescam.com/forum/viewtopic.php?t=7231': 1, u'Alatorre@ENRON': 1, u'air': 1, u'220a': 1, u'220b': 1, u'ultra': 1, u'http://3.bp.blogspot.com/-X_e2uwT6wPw/Tkj_7UVTw6I/AAAAAAAAAGs/e_hICAdYPYI/s1600/lotte_world_from_high_up.jpg': 1, u'mshames@ucan.org': 1, u'http://digon_va.tripod.com/Chernobyl.htm': 1, u'http://www.21stcenturysciencetech.com/articles/chernobyl.html': 1, u'http://en.wikipedia.org/wiki/Bullfighting': 1, u'ii': 1, u'http://www.radianz.com': 1, u'Castano@EES': 1, u'Schwartzenburg@ENRON_DEVELOPMENT': 1, u'Proposal': 1, u'Kyle.Jones@radianz.com': 1, u'esimien@nisource.com': 1, u'Alma': 1, u'Patel@ENRON': 1, u'http://www.petsathome.com/shop/combi-1-dwarf-hamster-cage-by-ferplast-15986': 1, u'Diebner@ECT': 1, u'http://www.adorama.com/BLCBS.html': 1, u'y': 1, u'Russell': 1, u't...@sonic.net': 1, u'Martinez@ENRON': 1, u'OVER': 1, u'http://www.physics.isu.edu/radinf/chern.htm': 1, u'Daniel': 1, u'liquidweb.com': 1, u'Newsday.com': 1, u'realtion': 1, u'http://www.country-couples.co.uk/datingtips/basic-travel-allowance-bta-dating-scam/': 1, u'Billy': 1, u'Stephen.Dyer@bakerbotts.com': 1, u'Johnson@ENRON': 1, u'Get-A-Free-House.com': 1, u'http://www.droidforums.net/forum/droid-news/181335-ereader-tablet-comparison-b-n-nook-tablet-b-n-nook-color-kindle-fire-htc-flyer.html': 1, u'semi': 1, u'http://www.ebay.co.uk/itm/250927098564?var=550057729382&ssPageName=STRK:MEWAX:IT&_trksid=p3984.m1438.l2649#ht_': 1, u'http://www.csmonitor.com/2006/0509/p02s01-ussc.html?s=t5': 1, u'Bradley': 1, u'http://www.time.com/time/daily/chernobyl/860901.accident.html': 1, u'jodud...@aol.com': 1, u'http://en.wikipedia.org/wiki/John_Balance': 1, u'some': 1, u'Mark': 1, u'Master': 1, u'http://herp-info.webs.com/beardeddragon.htm': 1, u'http://www.calguard.ca.gov/ia/Chernobyl-15%20years.htm': 1, u'basic': 1, u'Mike': 1, u'rsjacobs@Encoreacq.com': 1, u'http://judiciary.senate.gov/testimony.cfm?id=1725&wit_id=4905': 1, u'per': 1, u'Spacetoday.net': 1, u'http://www.mikegigi.com/meltmetl.htm': 1, u'http://www.ontario.ca/en/information_bundle/birthcertificates/119275.html': 1, u'http://lllreptile.com/store/catalog/reptile-supplies/uvb-fluorescent-lights-mercury-vapor-bulbs/-/zoo-med-24-repti-sun-100-fluorescent-bulb/': 1, u'http://www.adventurehobbycraft.com/products/hobby_craft_supplies.html#metal': 1, u'on': 1, u'http://www.railroadredux.com/tag/northwest-shortline/': 1, u'o': 1, u'leon.branom@enron.com': 1, u'UC': 1, u'Jacoby@ECT': 1, u'Do@ENRON_DEVELOPMENT': 1, u'http://www-formal.stanford.edu/jmc/progress/chernobyl.html': 1, u'down': 1, u'Workpapers': 1, u'your': 1, u'rssc.com': 1, u'borenste@haas.berkeley.edu': 1, u'Hochrenaissance': 1, u'there': 1, u'http://www.mikegigi.com/castgobl.htm#LGGOBPROJ': 1, u'http://www.sploid.com/news/2006/05/evil_priest_gui.php': 1, u'http://www.thetruthseeker.co.uk/article.asp?id=4503': 1, u'peanutjak...@usa.com': 1, u'mailto:galen.torneby@nepco.com': 1, u'J': 1, u'Contract': 1, u'e': 1, u'http://news.yahoo.com/nestl-purina-releases-commercial-aimed-dogs-183443091.html': 1, u'Proposed': 1, u'http://www.loveallpeople.org/theonereasonwhy.txt': 1, u'up': 1, u'www.risk-conferences.com/risk2001aus': 1, u'Bertone@ENRON_DEVELOPMENT': 1, u'http://i.imgur.com/S2MD2.jpg': 1, u'http://www.equinecaninefeline.com/catalog/mamble-hamster-narrow-100cm-cage-p-12642.html': 1, u'Hopkinson@ENRON_DEVELOPMENT': 1, u'al': 1, u'http://www.laweekly.com/general/features/satan-loves-you/13454/': 1, u'%': 1, u'http://www.canadavisa.com/canadian-immigration-faq-skilled-workers.html': 1, u'no': 1, u'Jorge': 1, u'Inter-': 1, u'Andrea': 1, u'Enron': 1, u'http://www.infoukes.com/history/chornobyl/gregorovich/index.html': 1, u'http://travel.state.gov/travel/cis_pa_tw/cis/cis_1052.html': 1, u'online?u=mayursha&m=g&t=1': 1, u'brianp@aiglincoln.com': 1, u'http://www.chernobyl.org.uk/page2.htm': 1, u'http://tong.visitkorea.or.kr/cms/resource/81/188181_image2_1.jpg': 1, u'13': 1, u'http://www.ukrainianweb.com/chernobyl_ukraine.htm': 1, u'Sullivan@ENRON': 1}), u'AUX': Counter({u'will': 811, u'would': 578, u'can': 578, u'have': 570, u'do': 458, u'was': 422, u'be': 413, u'is': 412, u'are': 385, u'has': 348, u'could': 278, u'should': 218, u'did': 198, u'been': 191, u'may': 182, u'were': 173, u'had': 153, u\"'ll\": 148, u\"'ve\": 125, u'does': 121, u'am': 97, u'Do': 97, u'might': 77, u'being': 72, u'ca': 72, u\"'m\": 66, u'must': 59, u\"'s\": 59, u\"'d\": 53, u\"'re\": 50, u'Can': 49, u'wo': 48, u'shall': 28, u'Should': 22, u'Will': 20, u'get': 18, u'Would': 18, u'Does': 16, u'Did': 15, u'Are': 14, u'Have': 14, u'DO': 12, u'Could': 11, u's': 9, u'got': 8, u'getting': 7, u'r': 7, u've': 7, u'Has': 6, u'm': 6, u'having': 6, u'SHOULD': 4, u'WOULD': 4, u'Might': 3, u'MUST': 3, u'WILL': 3, u'CA': 3, u'Ca': 3, u'CAN': 3, u'May': 3, u'Is': 3, u'WAS': 2, u'll': 2, u'OF': 2, u're': 2, u'Must': 2, u'wilt': 2, u'Am': 2, u'gets': 2, u'IS': 2, u'ARE': 2, u'Woud': 1, u'HAVE': 1, u'wud': 1, u'cold': 1, u'Be': 1, u'hav': 1, u'COULD': 1, u'du': 1, u'Having': 1, u\"'LL\": 1, u'd': 1, u'MAY': 1, u'art': 1, u'woud': 1, u'GET': 1, u'BEING': 1, u'Was': 1, u'ought': 1, u'of': 1, u'ould': 1, u'wil': 1, u'-ll': 1, u'wase': 1, u'willl': 1, u'WERE': 1, u'`s': 1, u'with': 1, u'made': 1, u'v': 1, u'hvae': 1, u'ai': 1, u'as': 1, u'ar': 1, u'Shall': 1, u'most': 1, u'a': 1}), u'CONJ': Counter({u'and': 4843, u'or': 697, u'but': 602, u'But': 115, u'And': 115, u'&': 109, u'both': 45, u'AND': 32, u'either': 26, u'nor': 16, u'yet': 15, u'Or': 13, u'not': 12, u'BUT': 9, u'plus': 9, u'Both': 6, u'for': 6, u'Plus': 5, u'Yet': 4, u'an': 3, u'Either': 3, u'OR': 3, u'Neither': 2, u'neither': 2, u'For': 1, u'a': 1, u'ans': 1, u'+': 1, u'PLUS': 1, u'adn': 1, u'N': 1, u'Not': 1, u'VS': 1, u\"'n\": 1, u'vs.': 1, u'of': 1, u'NOT': 1, u'minus': 1, u'at': 1}), u'ADJ': Counter({u'other': 268, u'good': 251, u'new': 195, u'more': 165, u'many': 159, u'great': 159, u'best': 134, u'same': 132, u'sure': 111, u'last': 107, u'few': 104, u'little': 98, u'first': 95, u'next': 93, u'better': 87, u'much': 84, u'own': 82, u'old': 76, u'able': 72, u'such': 67, u'nice': 65, u'small': 63, u'American': 62, u'long': 61, u'bad': 58, u'different': 57, u'possible': 54, u'only': 54, u'free': 53, u'big': 53, u'else': 52, u'excellent': 49, u'most': 49, u'high': 49, u'real': 48, u'full': 48, u'friendly': 48, u'military': 47, u'several': 47, u'right': 45, u'whole': 45, u'helpful': 45, u'happy': 42, u'Great': 42, u'available': 42, u'Best': 40, u'important': 39, u'large': 39, u'hard': 39, u'Indian': 39, u'second': 38, u'easy': 37, u'enough': 37, u'young': 36, u'fine': 35, u'international': 34, u'former': 34, u'clean': 34, u'political': 34, u'professional': 33, u'early': 33, u'entire': 33, u'local': 33, u'Iraqi': 33, u'interested': 32, u'wonderful': 32, u'natural': 31, u'open': 31, u'wrong': 30, u'certain': 30, u'strong': 30, u'legal': 29, u'poor': 29, u'late': 29, u'special': 29, u'dead': 28, u'main': 28, u'short': 28, u'major': 28, u'close': 28, u'recent': 28, u'Good': 28, u'human': 27, u'final': 27, u'less': 27, u'global': 26, u'public': 26, u'ready': 26, u'perfect': 26, u'likely': 25, u'reasonable': 25, u'willing': 25, u'personal': 24, u'amazing': 24, u'black': 24, u'clear': 24, u'expensive': 24, u'worth': 23, u'huge': 23, u'comfortable': 23, u'Many': 22, u'religious': 22, u'past': 22, u'necessary': 22, u'safe': 21, u'financial': 21, u'Egyptian': 21, u'current': 21, u'Pakistani': 21, u'Arab': 21, u'key': 21, u'additional': 21, u'dangerous': 21, u'hot': 20, u'true': 20, u'ok': 20, u'worst': 20, u'social': 20, u'particular': 20, u'beautiful': 20, u'aware': 19, u'federal': 19, u'rude': 19, u'significant': 19, u'simple': 19, u'single': 19, u'fresh': 19, u'related': 19, u'nuclear': 19, u'difficult': 19, u'total': 18, u'warm': 18, u'correct': 18, u'third': 18, u'cheap': 18, u'Western': 17, u'top': 17, u'specific': 17, u'serious': 17, u'awesome': 17, u'prior': 17, u'common': 17, u'economic': 17, u'Chinese': 17, u'involved': 17, u'larger': 17, u'earlier': 16, u'normal': 16, u'initial': 16, u'quick': 16, u'Executive': 16, u'fun': 16, u'Excellent': 16, u'horrible': 16, u'interesting': 16, u'general': 16, u'responsible': 15, u'civil': 15, u'daily': 15, u'extra': 15, u'white': 15, u'biological': 15, u'bigger': 15, u'concerned': 15, u'sorry': 14, u'Iranian': 14, u'busy': 14, u'cold': 14, u'honest': 14, u'separate': 14, u'glad': 14, u'French': 14, u'popular': 14, u'similar': 14, u'front': 14, u'afraid': 14, u'pleased': 14, u'largest': 14, u'Afghan': 13, u'modern': 13, u'OK': 13, u'healthy': 13, u'complete': 13, u'original': 13, u'Sunni': 13, u'reliable': 13, u'smaller': 13, u'fair': 13, u'regional': 12, u'above': 12, u'active': 12, u'fantastic': 12, u'effective': 12, u'corporate': 12, u'physical': 12, u'outside': 12, u'further': 12, u'pleasant': 12, u'militant': 12, u'sweet': 12, u'Most': 12, u'older': 12, u'formal': 12, u'fast': 12, u'official': 12, u'successful': 11, u'regular': 11, u'medical': 11, u'unable': 11, u'Sorry': 11, u'Last': 11, u'previous': 11, u'positive': 11, u'weekly': 11, u'deep': 11, u'confidential': 11, u'terrible': 11, u'usual': 11, u'various': 11, u'foreign': 11, u'higher': 11, u'lower': 11, u'appropriate': 11, u'Canadian': 11, u'set': 11, u'national': 11, u'terrorist': 11, u'direct': 10, u'dry': 10, u'delicious': 10, u'Global': 10, u'Dear': 10, u'Legal': 10, u'senior': 10, u'affordable': 10, u'severe': 10, u'dark': 10, u'worse': 10, u'fat': 10, u'heavy': 10, u'done': 10, u'internal': 10, u'northern': 10, u'private': 10, u'Moslem': 10, u'outer': 10, u'red': 10, u'false': 10, u'BEST': 10, u'familiar': 10, u'decent': 10, u'sick': 10, u'limited': 9, u'vast': 9, u'Japanese': 9, u'green': 9, u'subject': 9, u'Syrian': 9, u'confident': 9, u'unique': 9, u'cool': 9, u'live': 9, u'chemical': 9, u'mad': 9, u'online': 9, u'capable': 9, u'dirty': 9, u'detailed': 9, u'Shiite': 9, u'fundamental': 9, u'immediate': 9, u'outstanding': 9, u'numerous': 9, u'monthly': 9, u'competitive': 9, u'commercial': 9, u'Israeli': 9, u'overall': 9, u'Italian': 9, u'like': 9, u'blue': 8, u'golden': 8, u'cheapest': 8, u'easier': 8, u'independent': 8, u'standard': 8, u'basic': 8, u'lovely': 8, u'proud': 8, u'spiritual': 8, u'blind': 8, u'multiple': 8, u'stupid': 8, u'ongoing': 8, u'favorite': 8, u'low': 8, u'polar': 8, u'okay': 8, u'Senior': 8, u'central': 8, u'alternative': 8, u'surprised': 8, u'impressed': 8, u'relaxed': 8, u'actual': 8, u'powerful': 8, u'lucky': 8, u'present': 8, u'soft': 8, u'female': 8, u'inner': 8, u'oldest': 7, u'absolute': 7, u'Palestinian': 7, u'historical': 7, u'rich': 7, u'left': 7, u'cultural': 7, u'First': 7, u'German': 7, u'pure': 7, u'racial': 7, u'massive': 7, u'impossible': 7, u'future': 7, u'efficient': 7, u'hungry': 7, u'slow': 7, u'satisfied': 7, u'worried': 7, u'unusual': 7, u'knowledgeable': 7, u'Russian': 7, u'mental': 7, u'Rude': 7, u'double': 7, u'determined': 7, u'nervous': 7, u'due': 7, u'technical': 7, u'useful': 7, u'eager': 7, u'excited': 7, u'patient': 7, u'considerable': 7, u'safer': 7, u'British': 7, u'permanent': 7, u'sexual': 7, u'Other': 7, u'privileged': 7, u'well': 7, u'latest': 7, u'smart': 7, u'proper': 7, u'rare': 7, u'Spanish': 7, u'yellow': 6, u'fabulous': 6, u'visible': 6, u'moral': 6, u'toxic': 6, u'innocent': 6, u'overpriced': 6, u'European': 6, u'tough': 6, u'Lebanese': 6, u'potential': 6, u'advanced': 6, u'creative': 6, u'exact': 6, u'alone': 6, u'bloody': 6, u'loving': 6, u'Vietnamese': 6, u'vital': 6, u'Average': 6, u'typical': 6, u'dominate': 6, u'wide': 6, u'Same': 6, u'naked': 6, u'dramatic': 6, u'equal': 6, u'disappointed': 6, u'moderate': 6, u'fellow': 6, u'mass': 6, u'awful': 6, u'GREAT': 6, u'armed': 6, u'minor': 6, u'More': 6, u'kind': 6, u'cheaper': 6, u'famous': 6, u'missing': 6, u'unlimited': 6, u'back': 6, u'forward': 6, u'Asian': 6, u'timely': 6, u'cozy': 6, u'extreme': 6, u'ethnic': 6, u'asymmetrical': 6, u'quality': 6, u'Independent': 6, u'accurate': 6, u'scared': 6, u'slight': 6, u'smooth': 6, u'cruel': 6, u'consistent': 5, u'calm': 5, u'organized': 5, u'used': 5, u'crucial': 5, u'National': 5, u'primary': 5, u'latter': 5, u'Big': 5, u'halal': 5, u'Jewish': 5, u'east': 5, u'manual': 5, u'dental': 5, u'stuck': 5, u'Much': 5, u'dwarf': 5, u'fake': 5, u'Worst': 5, u'Federal': 5, u'southern': 5, u'qualified': 5, u'plastic': 5, u'shocked': 5, u'later': 5, u'subsequent': 5, u'lighter': 5, u'prime': 5, u'urban': 5, u'peaceful': 5, u'middle': 5, u'civilized': 5, u'electrical': 5, u'collective': 5, u'West': 5, u'Amazing': 5, u'gross': 5, u'skilled': 5, u'tight': 5, u'very': 5, u'enjoyable': 5, u'naval': 5, u'relevant': 5, u'minimum': 5, u'authentic': 5, u'Fantastic': 5, u'radical': 5, u'substantial': 5, u'electric': 5, u'violent': 5, u'individual': 5, u'dumb': 5, u'northeastern': 5, u'gay': 5, u'GOOD': 5, u'prompt': 5, u'minimal': 5, u'happier': 5, u'compassionate': 5, u'Halal': 5, u'obvious': 5, u'educational': 5, u'overwhelming': 5, u'scary': 5, u'unknown': 5, u'painful': 5, u'conscious': 5, u'rough': 5, u'Republican': 5, u'plain': 5, u'MORE': 5, u'greater': 5, u'biggest': 5, u'mutual': 5, u'tired': 4, u'Jamaican': 4, u'secure': 4, u'negative': 4, u'far': 4, u'ultimate': 4, u'nutritional': 4, u'unemployed': 4, u'HIGH': 4, u'Cuban': 4, u'W': 4, u'enormous': 4, u'B': 4, u'western': 4, u'biochemical': 4, u'convenient': 4, u'thorough': 4, u'monumental': 4, u'Wonderful': 4, u'Presidential': 4, u'Comprehensive': 4, u'Happy': 4, u'polygamous': 4, u'ill': 4, u'prepared': 4, u'tiny': 4, u'eastern': 4, u'unpopular': 4, u'near': 4, u'upscale': 4, u'informative': 4, u'defensive': 4, u'memorable': 4, u'intellectual': 4, u'liberal': 4, u'annoying': 4, u'eerie': 4, u'ambitious': 4, u'welcome': 4, u'longer': 4, u'grateful': 4, u'unsure': 4, u'guilty': 4, u'marvelous': 4, u'angry': 4, u'acceptable': 4, u'easiest': 4, u'confused': 4, u'bankrupt': 4, u'unbelievable': 4, u'Corporate': 4, u'cute': 4, u'dehydrated': 4, u'frequent': 4, u'silent': 4, u'ridiculous': 4, u'diplomatic': 4, u'average': 4, u'bright': 4, u'spicy': 4, u'talented': 4, u'quiet': 4, u'yearly': 4, u'caring': 4, u'external': 4, u'Additional': 4, u'extensive': 4, u'rear': 4, u'satisfactory': 4, u'equivalent': 4, u'broken': 4, u'alleged': 4, u'valid': 4, u'fiscal': 4, u'remote': 4, u'messy': 4, u\"Shi'ite\": 4, u'Top': 4, u'conventional': 4, u'flat': 4, u'known': 4, u'fundamentalist': 4, u'challenging': 4, u'Foreign': 4, u'Full': 4, u'Bad': 4, u'extraordinary': 4, u'dire': 4, u'Huge': 4, u'5th': 4, u'favorable': 4, u'vulnerable': 4, u'dominant': 4, u'dependent': 4, u'True': 4, u'empty': 4, u'Saudi': 4, u'solid': 4, u'rid': 4, u'temporary': 4, u'Horrible': 4, u'strongest': 4, u'intense': 4, u'Irish': 4, u'Awesome': 4, u'up': 4, u'viable': 4, u'rediculous': 4, u'New': 4, u'mainstream': 4, u'capital': 4, u'Former': 4, u'Poor': 4, u'youngest': 4, u'Hindu': 4, u'illegal': 4, u'chief': 4, u'criminal': 4, u'honorable': 4, u'environmental': 4, u'HORRIBLE': 4, u'half': 4, u'gentle': 4, u'unlikely': 4, u'High': 4, u'hopeful': 4, u'humane': 4, u'crappy': 4, u'welcoming': 4, u'Friendly': 4, u'infinite': 4, u'executive': 4, u'wet': 4, u'warmer': 4, u'about': 4, u'highest': 4, u'wise': 4, u'evident': 4, u'universal': 4, u'incredible': 4, u'rural': 4, u'asian': 3, u'controversial': 3, u'downstream': 3, u'straight': 3, u'net': 3, u'eligible': 3, u'suitable': 3, u'wary': 3, u'degenerate': 3, u'non-commercial': 3, u'lab': 3, u'pre-meeting': 3, u'hidden': 3, u'neurological': 3, u'stronger': 3, u'laid': 3, u'equine': 3, u'inexpensive': 3, u'industrial': 3, u'electronic': 3, u'manned': 3, u'devastating': 3, u'Philippine': 3, u'subtle': 3, u'Free': 3, u'adequate': 3, u'automatic': 3, u'corrupt': 3, u'Sinhalese': 3, u'weak': 3, u'2nd': 3, u'wider': 3, u'Southern': 3, u'recessive': 3, u'complex': 3, u'bearded': 3, u'intercompany': 3, u'humble': 3, u'greatest': 3, u'technological': 3, u'tolerable': 3, u'unnecessary': 3, u'beneficial': 3, u'fourth': 3, u'adorable': 3, u'impenetrable': 3, u'delighted': 3, u'down': 3, u'Critical': 3, u'payable': 3, u'nicest': 3, u'fashioned': 3, u'brown': 3, u'impressive': 3, u'upper': 3, u'English': 3, u'REAL': 3, u'apparent': 3, u'visual': 3, u'ignorant': 3, u'hardest': 3, u'nearest': 3, u'BAD': 3, u'spacious': 3, u'civilian': 3, u'beloved': 3, u'Norwegian': 3, u'unnamed': 3, u'inevitable': 3, u'sad': 3, u'endangered': 3, u'Important': 3, u'clearer': 3, u'aggressive': 3, u'Large': 3, u'Thai': 3, u'uneven': 3, u'Right': 3, u'careful': 3, u'delicate': 3, u'substantive': 3, u'valuable': 3, u'constant': 3, u'spectacular': 3, u'Terrible': 3, u'conservative': 3, u'critical': 3, u'lunar': 3, u'practical': 3, u'homeless': 3, u'Infinite': 3, u'younger': 3, u'romantic': 3, u'gone': 3, u'tasty': 3, u'Major': 3, u'alright': 3, u'faster': 3, u'attentive': 3, u'mild': 3, u'brief': 3, u'healthier': 3, u'narrow': 3, u'male': 3, u'AMAZING': 3, u'unexpected': 3, u'Moldovan': 3, u'crowded': 3, u'meticulous': 3, u'territorial': 3, u'post-war': 3, u'pregnant': 3, u'fish': 3, u'american': 3, u'fancy': 3, u'blank': 3, u'bland': 3, u'least': 3, u'part': 3, u'suspicious': 3, u'aged': 3, u'Administrative': 3, u'useless': 3, u'experienced': 3, u'mobile': 3, u'artistic': 3, u'Perfect': 3, u'Muslim': 3, u'19th': 3, u'dysfunctional': 3, u'sunny': 3, u'inoperable': 3, u'courteous': 3, u'schizophrenic': 3, u'Fallujan': 3, u'smallest': 3, u'sole': 3, u'Bangladeshi': 3, u'damp': 3, u'secret': 3, u'pricey': 3, u'costly': 3, u'distracting': 3, u'governmental': 3, u'seperate': 3, u'Short': 3, u'NEW': 3, u'homemade': 3, u'Malaysian': 3, u'posted': 3, u'intuitive': 3, u'mature': 3, u'worthwhile': 3, u'partial': 3, u'pre-owned': 3, u'stable': 3, u'odd': 3, u'scientific': 3, u'impressionist': 3, u'crazy': 3, u'unhappy': 3, u'Nice': 3, u'pretty': 3, u'upcoming': 3, u'on': 3, u'baby': 3, u'thin': 3, u'light': 3, u'longest': 3, u'superior': 3, u'presidential': 3, u'regulatory': 3, u'feasible': 3, u'keen': 3, u'legislative': 3, u'ancient': 3, u'elite': 3, u'distinguished': 3, u'BIG': 3, u'wounded': 3, u'operational': 3, u'exceptional': 3, u'joint': 3, u'married': 3, u'affluent': 3, u'Various': 3, u'desperate': 3, u'closer': 3, u'superb': 3, u'frustrated': 3, u'instant': 3, u'tremendous': 3, u'Modern': 3, u'finished': 3, u'wild': 3, u'frustrating': 3, u'generic': 3, u'strange': 3, u'underground': 3, u'impeccable': 3, u'domestic': 3, u'handy': 3, u'identical': 3, u'accessible': 3, u'lead': 3, u'compatible': 3, u'functional': 3, u'mere': 3, u'effeminate': 3, u'tricky': 3, u'Mexican': 3, u'supreme': 3, u'Islamic': 3, u'priced': 3, u'South': 3, u'persistent': 3, u'untalented': 3, u'desirable': 2, u'Communist': 2, u'updated': 2, u'Military': 2, u'Antique': 2, u'Nepalese': 2, u'elegant': 2, u'deliberate': 2, u'ulterior': 2, u'Afraid': 2, u'SUCH': 2, u'ominous': 2, u'holy': 2, u'mechanic': 2, u'Digital': 2, u'indifferent': 2, u'provincial': 2, u'insecure': 2, u'lax': 2, u'meaningful': 2, u'Tough': 2, u'Civil': 2, u'preventive': 2, u'democratic': 2, u'Approximate': 2, u'innovative': 2, u'distinguishing': 2, u'Equine': 2, u'repulsive': 2, u'soothing': 2, u'silver': 2, u'midmarket': 2, u'Local': 2, u'Warm': 2, u'lawless': 2, u'certified': 2, u'flawless': 2, u'Human': 2, u'intermediate': 2, u'reimbursable': 2, u'7th': 2, u'amusing': 2, u'annoyed': 2, u'lethal': 2, u'colorful': 2, u'overbearing': 2, u'fascinating': 2, u'electrostatic': 2, u'miserable': 2, u'Dwarf': 2, u'inappropriate': 2, u'pre-killed': 2, u'lazy': 2, u'richest': 2, u'vain': 2, u'nicer': 2, u'Arctic': 2, u'flexible': 2, u'incompetent': 2, u'uncommon': 2, u'extracurricular': 2, u'gracious': 2, u'ugly': 2, u'neat': 2, u'inspired': 2, u'unfortunate': 2, u'Imaginary': 2, u'musical': 2, u'psycho-spiritual': 2, u'municipal': 2, u'Worth': 2, u'Saintly': 2, u'ole': 2, u'dear': 2, u'Daily': 2, u'Retired': 2, u'Few': 2, u'formidable': 2, u'tame': 2, u'lowest': 2, u'medium': 2, u'understandable': 2, u'solar': 2, u'inside': 2, u'maximum': 2, u'covert': 2, u'mediocre': 2, u'faithful': 2, u'Parisian': 2, u'digital': 2, u'naive': 2, u'Effective': 2, u'convincing': 2, u'HOT': 2, u'loyal': 2, u'overdue': 2, u'tripartite': 2, u'devoted': 2, u'dissatisfied': 2, u'vegan': 2, u'anonymous': 2, u'trouble': 2, u'Exotic': 2, u'round': 2, u'unaware': 2, u'brave': 2, u'comforting': 2, u'stressful': 2, u'french': 2, u'understanding': 2, u'potable': 2, u'Lankan': 2, u'streamside': 2, u'embarrassing': 2, u'opposed': 2, u'graphic': 2, u'edible': 2, u'sour': 2, u'semi-automatic': 2, u'dedicated': 2, u'Shia': 2, u'tall': 2, u'unacceptable': 2, u'lonely': 2, u'bound': 2, u'feathered': 2, u'ordinary': 2, u'thankful': 2, u'Simple': 2, u'quarter': 2, u'3rd': 2, u'satanic': 2, u'tragic': 2, u'armored': 2, u'opposite': 2, u'surprising': 2, u'southwestern': 2, u'Worse': 2, u'junior': 2, u'secondary': 2, u'imposing': 2, u'blurred': 2, u'Reasonable': 2, u'endless': 2, u'aerial': 2, u'west': 2, u'tropical': 2, u'educated': 2, u'tasteless': 2, u'tribal': 2, u'Better': 2, u'sudden': 2, u'Balochi': 2, u'noble': 2, u'tactical': 2, u'Clean': 2, u'magical': 2, u'rental': 2, u'senseless': 2, u'Bearded': 2, u'grim': 2, u'dirtier': 2, u'International': 2, u'Net': 2, u'slick': 2, u'hectic': 2, u'multi-national': 2, u'strict': 2, u'hysterical': 2, u'fanatic': 2, u'Over-rated': 2, u'Small': 2, u'spinal': 2, u'wholesale': 2, u'darker': 2, u'incorrect': 2, u'Second': 2, u'overseas': 2, u'surgical': 2, u'minded': 2, u'20th': 2, u'undecided': 2, u'loose': 2, u'favourable': 2, u'personable': 2, u'vegetarian': 2, u'trained': 2, u'Male': 2, u'Overall': 2, u'unthinkable': 2, u'Sr': 2, u'regrettable': 2, u'offended': 2, u'sharp': 2, u'CORRECT': 2, u'pro-India': 2, u'respective': 2, u'overcooked': 2, u'Armed': 2, u'mexican': 2, u'committed': 2, u'arrogant': 2, u'harmless': 2, u'microscopic': 2, u'fewer': 2, u'organised': 2, u'Criminal': 2, u'gullible': 2, u'trusty': 2, u'caucasian': 2, u'Medieval': 2, u'earliest': 2, u'revolutionary': 2, u'convinced': 2, u'uncut': 2, u'juicy': 2, u'Current': 2, u'alike': 2, u'barren': 2, u'vaunted': 2, u'express': 2, u'frightening': 2, u'reputable': 2, u'cynical': 2, u'grey': 2, u'forthcoming': 2, u'outward': 2, u'electoral': 2, u'Kind': 2, u'iron': 2, u'African': 2, u'influential': 2, u'Hard': 2, u'sensitive': 2, u'retarded': 2, u'Green': 2, u'drunk': 2, u'newborn': 2, u'indefinite': 2, u'underage': 2, u'complicated': 2, u'firm': 2, u'uncertain': 2, u'raw': 2, u'animated': 2, u'funny': 2, u'lengthy': 2, u'grand': 2, u'comprehensive': 2, u'renegade': 2, u'anti-ship': 2, u'robust': 2, u'weird': 2, u'picky': 2, u'communicative': 2, u'bridal': 2, u'ingrown': 2, u'Ok': 2, u'essential': 2, u'1st': 2, u'magnificent': 2, u'curious': 2, u'cautious': 2, u'conciliatory': 2, u'Bosnian': 2, u'conscientious': 2, u'lone': 2, u'bored': 2, u'academic': 2, u'newer': 2, u'traditional': 2, u'occasional': 2, u'fatal': 2, u'Constitutional': 2, u'wavy': 2, u'respectful': 2, u'choppy': 2, u'Contractual': 2, u'implicit': 2, u'Religious': 2, u'limp': 2, u'hospitable': 2, u'apprehensive': 2, u'Brazilian': 2, u'agreeable': 2, u'non-human': 2, u'proof': 2, u'proprietary': 2, u'Northern': 2, u'promotional': 2, u'Several': 2, u'native': 2, u'HUGE': 2, u'fortunate': 2, u'Favorite': 2, u'mixed': 2, u'mentioned': 2, u'aortic': 2, u'Final': 2, u'argumentative': 2, u'accomodating': 2, u'Social': 2, u'Supreme': 2, u'AWOL': 2, u'unpredictable': 2, u'erratic': 2, u'Next': 2, u'investigative': 2, u'shut': 2, u'Judicial': 2, u'hostile': 2, u'strategic': 2, u'Eastern': 2, u'Professional': 2, u'FANTASTIC': 2, u'boring': 2, u'Funny': 2, u'worldwide': 2, u'hookless': 2, u'enthusiastic': 2, u'upset': 2, u'absurd': 2, u'unconnected': 2, u'inferior': 2, u'unbeatable': 2, u'maritime': 2, u'Sicilian': 2, u'wordy': 2, u'routine': 2, u'gray': 2, u'Notional': 2, u'catastrophic': 2, u'White': 2, u'insulting': 2, u'below': 2, u'closed': 2, u'crude': 2, u'explosive': 2, u'Sri': 2, u'non-approved': 2, u'invasive': 2, u'irish': 2, u'undergraduate': 2, u'sufficient': 2, u'troubled': 2, u'annual': 2, u'optimistic': 2, u'dual': 2, u'Arakan': 2, u'northwest': 2, u'geographical': 2, u'glaring': 2, u'injured': 2, u'renowned': 2, u'overcrowded': 2, u'off': 2, u'Total': 2, u'Crowleyan': 2, u'taller': 2, u'mistaken': 2, u'mysterious': 2, u'generous': 2, u'rapid': 2, u'attractive': 2, u'unprecedented': 2, u'historic': 2, u'Kurdish': 2, u'obsessed': 2, u'broad': 2, u'economical': 2, u'EXCELLENT': 2, u'Cute': 2, u'secretive': 2, u'Pashtun': 2, u'alchemical': 2, u'continental': 2, u'Exact': 2, u'Prominent': 2, u'north': 2, u'Satisfactory': 2, u'record': 2, u'horrific': 2, u'offensive': 2, u'virtual': 2, u'acrylic': 2, u'astounding': 2, u'ecological': 2, u'representative': 2, u'Residential': 1, u'magnetic': 1, u'undisputed': 1, u'CHRISTIAN': 1, u'anti-army': 1, u'poorest': 1, u'Residual': 1, u'VEGAN': 1, u'thinnest': 1, u'chill': 1, u'thrifty': 1, u'ceramic': 1, u'perishable': 1, u'void': 1, u'every': 1, u'anemic': 1, u'grueling': 1, u'unemployable': 1, u'frozen': 1, u'flashy': 1, u'nondescript': 1, u'non-violent': 1, u'veritable': 1, u'phoney': 1, u'monotonous': 1, u'feathery': 1, u'valiant': 1, u'rigorous': 1, u'sterile': 1, u'colourful': 1, u'ruthless': 1, u'poison': 1, u'poorly': 1, u'Bigger': 1, u'specialist': 1, u'feisty': 1, u'residual': 1, u'CRUEL': 1, u'LAST': 1, u'Panjsheri': 1, u'Cold': 1, u'over-priced': 1, u'NICER': 1, u'elaborate': 1, u'chineze': 1, u'dusty': 1, u'Secretive': 1, u'settled': 1, u'Absolute': 1, u'spooky': 1, u'psychological': 1, u'non-veg': 1, u'fixable': 1, u'statewide': 1, u'ratty': 1, u'secessionist': 1, u'MUCH': 1, u'25th': 1, u'mystical': 1, u'traceable': 1, u'adult': 1, u'outdated': 1, u'slowest': 1, u'divorced': 1, u'entertained': 1, u'cuddly': 1, u'akin': 1, u'excellant': 1, u'addictive': 1, u'LOW': 1, u'heartless': 1, u'straightforward': 1, u'adjacent': 1, u'widespread': 1, u'faulty': 1, u'preferable': 1, u'offshore': 1, u'undesirable': 1, u'flustered': 1, u'vicious': 1, u'lay': 1, u'Wild': 1, u'parallel': 1, u'SMART': 1, u'inhalable': 1, u'greek': 1, u'18th': 1, u'uninsured': 1, u'nonsensical': 1, u'destructive': 1, u'unsteady': 1, u'exotic': 1, u'oven': 1, u'responsive': 1, u'TRUE': 1, u'deathly': 1, u'fit': 1, u'soaking': 1, u'unexercised': 1, u'compelling': 1, u'workable': 1, u'Gone': 1, u'affected': 1, u'Mobile': 1, u'shameful': 1, u'over-rated': 1, u'lifelong': 1, u'classified': 1, u'dingy': 1, u'roast': 1, u'side': 1, u'nonessential': 1, u'Pure': 1, u'F%#king': 1, u'Holy': 1, u'psychic': 1, u'PEREGRINate': 1, u'nourishing': 1, u'content': 1, u'SPECIAL': 1, u'sheer': 1, u'sensory': 1, u'greasy': 1, u'cosmic': 1, u'tolerant': 1, u'unscreened': 1, u'Determined': 1, u'hopeless': 1, u'loud': 1, u'gangly': 1, u'lovable': 1, u'thick': 1, u'twisted': 1, u'ballistic': 1, u'inconvenient': 1, u'bitter': 1, u'damaging': 1, u'Masonic': 1, u'Alaskan': 1, u'Limited': 1, u'severly': 1, u'snooty': 1, u'accomdating': 1, u'japanese': 1, u'repeatable': 1, u'Such': 1, u'Beautiful': 1, u'Useful': 1, u'unmistakable': 1, u'idle': 1, u'spoiled': 1, u'AWFUL': 1, u'10th': 1, u'Sinhala': 1, u'seminal': 1, u'mini': 1, u'pyrimidal': 1, u'flavorful': 1, u'Disgusting': 1, u'untrained': 1, u'unaffected': 1, u'quieter': 1, u'functioning': 1, u'wholesome': 1, u'isolated': 1, u'oriented': 1, u'fitting': 1, u'despective': 1, u'thrilled': 1, u'Collective': 1, u'LEGAL': 1, u'appalled': 1, u'Civilized': 1, u'principle': 1, u'nineteenth': 1, u'NICE': 1, u'advisory': 1, u'sanctuary': 1, u'random': 1, u'eminent': 1, u'padded': 1, u'discourteous': 1, u'SORRY': 1, u'Congressional': 1, u'desparate': 1, u'Albanian': 1, u'fluid': 1, u'preferred': 1, u'foremost': 1, u'smug': 1, u'nasty': 1, u'Fascinating': 1, u'analytical': 1, u'ethical': 1, u'Caribbean': 1, u'fluffy': 1, u'horrendous': 1, u'pressured': 1, u'Central': 1, u'metal': 1, u'devout': 1, u'addicting': 1, u'faced': 1, u'smartest': 1, u'o.k.': 1, u'selective': 1, u'southeastern': 1, u'non-social': 1, u'churchy': 1, u'inquisitive': 1, u'oblivious': 1, u'non-Moslem': 1, u'basis': 1, u'Early': 1, u'detrimental': 1, u'mean': 1, u'nessasary': 1, u'fleeting': 1, u'deeper': 1, u'relaxing': 1, u'concerning': 1, u'MAJOR': 1, u'bustling': 1, u'remaining': 1, u'lesser': 1, u'itinerary': 1, u'provocative': 1, u'brutal': 1, u'Nat': 1, u'in': 1, u'memorial': 1, u'miniature': 1, u'bella': 1, u'Placid': 1, u'commonsense': 1, u'unbearable': 1, u'swell': 1, u'numerical': 1, u'evil': 1, u'mountainous': 1, u'bouncy': 1, u'jealous': 1, u'unpriced': 1, u'forceful': 1, u'virile': 1, u'seasonal': 1, u'Feathered': 1, u'unfair': 1, u'Arabian': 1, u'THAI': 1, u'catalytic': 1, u'burnt': 1, u'milky': 1, u'unwanted': 1, u'EXPENSIVE': 1, u'insensitive': 1, u'Filipino': 1, u'grrrrrrrreeeaaat': 1, u'unmolested': 1, u'intertwined': 1, u'cooler': 1, u'hung': 1, u'Further': 1, u'unexplored': 1, u'dishonest': 1, u'Tropical': 1, u'captive': 1, u'election': 1, u'Off': 1, u'confusing': 1, u'dense': 1, u'purple': 1, u'phenomenal': 1, u'multi-nation': 1, u'LITTLE': 1, u'hotter': 1, u'theological': 1, u'unequipped': 1, u'core': 1, u'bold': 1, u'executable': 1, u'constructive': 1, u'unorganized': 1, u'Cheap': 1, u'misleading': 1, u'coiled': 1, u'logistical': 1, u'Swedish': 1, u'primitive': 1, u'civic': 1, u'Concerned': 1, u'coastal': 1, u'Latino': 1, u'classiest': 1, u'fabric': 1, u'indispensable': 1, u'approximate': 1, u'unpretentious': 1, u'sickest': 1, u'wireless': 1, u'astonished': 1, u'shady': 1, u'leaky': 1, u'reproductive': 1, u'martial': 1, u'heartwarming': 1, u'attached': 1, u'intra-day': 1, u'smashed': 1, u'emotional': 1, u'horrifying': 1, u'CONFIDENTIAL': 1, u'classic': 1, u'injurious': 1, u'circulatory': 1, u'authoritative': 1, u'Possible': 1, u'senatorial': 1, u'complicit': 1, u'miscellaneous': 1, u'scratchy': 1, u'Kosher': 1, u'Anti-Israeli': 1, u'bottom': 1, u'urinary': 1, u'inhuman': 1, u'Superb': 1, u'pre-fab': 1, u'21st': 1, u'Portugese': 1, u'yummy': 1, u'CHINESE': 1, u'disgusting': 1, u'unpleasant': 1, u'0nside': 1, u'protective': 1, u'permissive': 1, u'Cosmic': 1, u'choice': 1, u'gloomy': 1, u'feeble': 1, u'non-Arab': 1, u'gud': 1, u'CONVENIENT': 1, u'tearful': 1, u'noiseless': 1, u'reclusive': 1, u'Innovative': 1, u'bondad': 1, u'journalistic': 1, u'dried': 1, u'utter': 1, u'hegemonic': 1, u'run': 1, u'Handwritten': 1, u'adjustable': 1, u'uniform': 1, u'suspect': 1, u'SOUTH': 1, u'principal': 1, u'freaky': 1, u'Molten': 1, u'Sectarian': 1, u'unrestrained': 1, u'disappeared': 1, u'sociable': 1, u'knowledge': 1, u'Dean': 1, u'noticeable': 1, u'canadian': 1, u'burdensome': 1, u'ineffective': 1, u'teenage': 1, u'retired': 1, u'architectural': 1, u'logical': 1, u'Enough': 1, u'sporadic': 1, u'sympathetic': 1, u'LATIN': 1, u'vivid': 1, u'driest': 1, u'rejuvenating': 1, u'interim': 1, u'IMPORTANT': 1, u'diurnal': 1, u'downtown': 1, u'pretend': 1, u'cutaneous': 1, u'interracial': 1, u'unruly': 1, u'pro-Zionist': 1, u'pink': 1, u'pre-arrest': 1, u'disruptive': 1, u'eloquent': 1, u'meager': 1, u'Caucasian': 1, u'neighborly': 1, u'optimal': 1, u'irrational': 1, u'max': 1, u'brazen': 1, u'PRICED': 1, u'heartbreaking': 1, u'4th': 1, u'DIGITAL': 1, u'cardiac': 1, u'neo-Nazi': 1, u'supersonic': 1, u'Needless': 1, u'sq': 1, u'thorny': 1, u'doltish': 1, u'drunken': 1, u'nerve': 1, u'pointed': 1, u'shaky': 1, u'ended': 1, u'Grimy': 1, u'blooded': 1, u'curly': 1, u'lackluster': 1, u'cleanest': 1, u'saxon': 1, u'coincidental': 1, u'smarter': 1, u'Maximum': 1, u'nonconventional': 1, u'wealthy': 1, u'Affirmative': 1, u'realistic': 1, u'Minimum': 1, u'post-accident': 1, u'square': 1, u'spacefaring': 1, u'Live': 1, u'giddy': 1, u'antiwar': 1, u'imperative': 1, u'Waterproof': 1, u'Key': 1, u'advantaged': 1, u'dispossesed': 1, u'unfriendly': 1, u'lucrative': 1, u'crazier': 1, u'drunkest': 1, u'advance': 1, u'modest': 1, u'unpaid': 1, u'concrete': 1, u'Orwellian': 1, u'uncommitted': 1, u'symbolic': 1, u'Black': 1, u'orthographic': 1, u'terrifying': 1, u'unreachable': 1, u'asymmetric': 1, u'post-Chavez': 1, u'lisenced': 1, u'depressed': 1, u'scrumptious': 1, u'slanted': 1, u'psycholical': 1, u'troublesome': 1, u'contentious': 1, u'INSULTING': 1, u'premier': 1, u'13th': 1, u'prestigious': 1, u'anti-Indian': 1, u'eaiser': 1, u'uninterrupted': 1, u'insatiable': 1, u'Main': 1, u'occupied': 1, u'evidentary': 1, u'ideal': 1, u'Transformational': 1, u'pagen': 1, u'skinned': 1, u'oppressive': 1, u'Steady': 1, u'Empirical': 1, u'communistic': 1, u'non-Hodgkin': 1, u'cuban': 1, u'renal': 1, u'steady': 1, u'Fascist': 1, u'accented': 1, u'post-Saddam': 1, u'precise': 1, u'Incredible': 1, u'fifth': 1, u'going': 1, u'Every': 1, u'glandular': 1, u'shrill': 1, u'assistant': 1, u'Annual': 1, u'bareback': 1, u'Outdated': 1, u'impolite': 1, u'nonjudgmental': 1, u'dom.': 1, u'Grand': 1, u'entie': 1, u'Extensive': 1, u'intoxicating': 1, u'alarming': 1, u'chewy': 1, u'justified': 1, u'Historian': 1, u'parental': 1, u'spartan': 1, u'inseparable': 1, u'SHOCKED': 1, u'comfty': 1, u'spare': 1, u'gimmicky': 1, u'sketchy': 1, u'dated': 1, u'newfound': 1, u'downtrodden': 1, u'nearby': 1, u'flavorless': 1, u'extinct': 1, u'laudable': 1, u'nationalist': 1, u'Electric': 1, u'inclusive': 1, u'informed': 1, u'non-crumbly': 1, u'dependable': 1, u'reflective': 1, u'BURNT': 1, u'avian': 1, u'FAIR': 1, u'unturned': 1, u'SECOND': 1, u'hardcore': 1, u'irrelevant': 1, u'Round': 1, u'farcical': 1, u'Spiritual': 1, u'premature': 1, u'handicapped': 1, u'prescriptive': 1, u'sub-par': 1, u'appetizing': 1, u'dubious': 1, u'blak': 1, u'DIY': 1, u'ironic': 1, u'Hidden': 1, u'harsh': 1, u'theocratic': 1, u'buys': 1, u'embarrased': 1, u'intermediary': 1, u'extended': 1, u'devoid': 1, u'renewable': 1, u'Own': 1, u'macro': 1, u'delectable': 1, u'Dependant': 1, u'quixotic': 1, u'amazed': 1, u'outdoor': 1, u'Accomodating': 1, u'unofficial': 1, u'slimy': 1, u'unclear': 1, u'gated': 1, u'widest': 1, u'shrewd': 1, u'Fair': 1, u'Baathist': 1, u'rosy': 1, u'ghostly': 1, u'heavier': 1, u'ramshackle': 1, u'postal': 1, u'mod': 1, u'sensational': 1, u'Brave': 1, u'Contemporary': 1, u'Lovely': 1, u'YUMMY': 1, u'exposed': 1, u'pushy': 1, u'trainable': 1, u'accidental': 1, u'ported': 1, u'litttle': 1, u'apocalyptic': 1, u'biased': 1, u'intimate': 1, u'sixth': 1, u'boisterous': 1, u'notable': 1, u'iconic': 1, u'polite': 1, u'exciting': 1, u'Handy': 1, u'USUAL': 1, u'Urinary': 1, u'meal': 1, u'underway': 1, u'sadistic': 1, u'carribean': 1, u'lasting': 1, u'provisional': 1, u'stony': 1, u'fertile': 1, u'Endangered': 1, u'DUMB': 1, u'elementary': 1, u'upstairs': 1, u'fated': 1, u'totalitarian': 1, u'unspoken': 1, u'seasoned': 1, u'UNCARING': 1, u'beneficent': 1, u'societal': 1, u'sophisticated': 1, u'strenuous': 1, u'unreliable': 1, u'trying': 1, u'handsome': 1, u'Holocaust-esque': 1, u'receptive': 1, u'expressionless': 1, u'postive': 1, u'Special': 1, u'UNTRUE': 1, u'couter-cultural': 1, u'Hot': 1, u'together': 1, u'spatial': 1, u'CAJUNISH': 1, u'authoritarian': 1, u'stilted': 1, u'slant': 1, u'peak': 1, u'IMPOSSIBLE': 1, u'prudent': 1, u'unresponsive': 1, u'gastric': 1, u'fraught': 1, u'Direct': 1, u'dyed': 1, u'unset': 1, u'chinese': 1, u'forbidden': 1, u'landlocked': 1, u'Glandular': 1, u'reluctant': 1, u'synthetic': 1, u'shattered': 1, u'gentel': 1, u'countless': 1, u'Hopless': 1, u'resounding': 1, u'rambunctious': 1, u'coloured': 1, u'Frequent': 1, u'Finest': 1, u'applicable': 1, u'pesky': 1, u'humanatarian': 1, u'portable': 1, u'methodical': 1, u'unheard': 1, u'tee': 1, u'preposterous': 1, u'Only': 1, u'Easy': 1, u'attributable': 1, u'casual': 1, u'Latin': 1, u'UGLY': 1, u'sus': 1, u'revealing': 1, u'christian': 1, u'unprofessional': 1, u'POSSIBLE': 1, u'disastrous': 1, u'unheeded': 1, u'rideable': 1, u'Spongy': 1, u'creepy': 1, u'heartbroken': 1, u'weirder': 1, u'Mature': 1, u'marginal': 1, u'cosmetic': 1, u'Lucky': 1, u'select': 1, u'distinct': 1, u'instrumental': 1, u'broke': 1, u'Libyan': 1, u'aspirational': 1, u'unrealistic': 1, u'Comfortable': 1, u'receptionist': 1, u'cubist': 1, u'salty': 1, u'Venezuelan': 1, u'murderous': 1, u'lousy': 1, u'jihadi': 1, u'sacred': 1, u'telegraphic': 1, u'desisted': 1, u'par': 1, u'unmanned': 1, u'OTHER': 1, u'GLAD': 1, u'Swiss': 1, u'bleak': 1, u'womanish': 1, u'Deep': 1, u'Horse': 1, u'Texan': 1, u'Bottom': 1, u'Purple': 1, u'Definite': 1, u'proverbial': 1, u'thermal': 1, u'interpersonal': 1, u'through': 1, u'concentric': 1, u'Threatened': 1, u'Transatlantic': 1, u'Qualified': 1, u'Tamil': 1, u'spot': 1, u'motley': 1, u'FANFUCKINGTASTIC': 1, u'sweeping': 1, u'adventurous': 1, u'incoherent': 1, u'Disappointed': 1, u'goofy': 1, u'Scottish': 1, u'inherent': 1, u'shocking': 1, u'obligated': 1, u'exquisite': 1, u'fragile': 1, u'rec.': 1, u'succulent': 1, u'Quaint': 1, u'colder': 1, u'irreconcilable': 1, u'comic': 1, u'Medium': 1, u'sharpest': 1, u'childish': 1, u'discouraging': 1, u'unresolved': 1, u'multi-compartment': 1, u'carless': 1, u'succint': 1, u'Bland': 1, u'unhealthy': 1, u'comfyy': 1, u'dull': 1, u'elder': 1, u'smoother': 1, u'comfy': 1, u'transcendent': 1, u'ASIAN': 1, u'Newer': 1, u'non-essential': 1, u'relieved': 1, u'rudest': 1, u'discounted': 1, u'dth': 1, u'squeaky': 1, u'windier': 1, u'slowed': 1, u'contrary': 1, u'restful': 1, u'A3l': 1, u'cleaner': 1, u'micro-fiber': 1, u'unprocessed': 1, u'transactional': 1, u'melodramatic': 1, u'IMMEDIATE': 1, u'Revolutionary': 1, u'Admin': 1, u'Common': 1, u'salary': 1, u'unweaponized': 1, u'actionable': 1, u'charitable': 1, u'optical': 1, u'apathetic': 1, u'fond': 1, u'socio-political': 1, u'parochial': 1, u'malignant': 1, u'newest': 1, u'Affordable': 1, u'giant': 1, u'VIETNAMESE': 1, u'paranoid': 1, u'grotesque': 1, u'unknowledgeable': 1, u'intractable': 1, u'waterproof': 1, u'secular': 1, u'fastest': 1, u'silk': 1, u'untreated': 1, u'magickal': 1, u'audio': 1, u'transitional': 1, u'hyperbolic': 1, u'obscure': 1, u'un-ruly': 1, u'relentless': 1, u'insane': 1, u'Kuwaiti': 1, u'potent': 1, u'changeable': 1, u'probable': 1, u'expert': 1, u'romatic': 1, u'Neoplatonic': 1, u'apologetic': 1, u'Postal': 1, u'solo': 1, u'latin': 1, u'redlined': 1, u'zipped': 1, u'untouched': 1, u'betrayed': 1, u'defunct': 1, u'tangible': 1, u'anti-Bush': 1, u'hesitant': 1, u'treated': 1, u'Satisfied': 1, u'procedural': 1, u'experimental': 1, u'Legislative': 1, u'subpar': 1, u'luxurious': 1, u'regulated': 1, u'cross-functional': 1, u'unsuccessful': 1, u'rave': 1, u'crispy': 1, u'startling': 1, u'worthless': 1, u'dilute': 1, u'affectionate': 1, u'awake': 1, u'Prompt': 1, u'Late': 1, u'metro': 1, u'judicial': 1, u'EXTRA': 1, u'Unfair': 1, u'Bloody': 1, u'Done': 1, u'Mongolian': 1, u'NASTY': 1, u'secluded': 1, u'shoddy': 1, u'uninspired': 1, u'OWN': 1, u'Satanic': 1, u'Viral': 1, u'benign': 1, u'wierd': 1, u'simultaneous': 1, u'reachable': 1, u'itchy': 1, u'day': 1, u'amphibious': 1, u'painless': 1, u'existent': 1, u'rabid': 1, u'WHITE': 1, u'focal': 1, u'flirty': 1, u'motionless': 1, u'normall': 1, u'persuasive': 1, u'employable': 1, u'Trinidadian': 1, u'weakest': 1, u'inactive': 1, u'notional': 1, u'vigilant': 1, u'meanest': 1, u'profitable': 1, u'superficial': 1, u'cut': 1, u'alternate': 1, u'recommended': 1, u'vague': 1, u'prudish': 1, u'furniture': 1, u'administrative': 1, u'Faster': 1, u'discriminatory': 1, u'shitty': 1, u'acquainted': 1, u'wiser': 1, u'crisp': 1, u'Christian': 1, u'skeptical': 1, u'outright': 1, u'pertinent': 1, u'shaped': 1, u'manifest': 1, u'Spinal': 1, u'unstable': 1, u'mathematical': 1, u'Little': 1, u'Vintage': 1, u'urgent': 1, u'sight': 1, u'obtuse': 1, u'Confidential': 1, u'Sufficient': 1, u'proficient': 1, u'bogus': 1, u'intial': 1, u'phenological': 1, u'fed': 1, u'overland': 1, u'deliteful': 1, u'hawkish': 1, u'stricken': 1, u'FRIENDLY': 1, u'youthful': 1, u'credible': 1, u'prideful': 1, u'integral': 1, u'calming': 1, u'custom': 1, u'infected': 1, u'worht': 1, u'conceivable': 1, u'pro-same': 1, u'Indoor': 1, u'autonomous': 1, u'skittish': 1, u'associated': 1, u'unsociable': 1, u'diverse': 1, u'organizational': 1, u'graceful': 1, u'extrcurricular': 1, u'tentative': 1, u'FUCKING': 1, u'Mormon': 1, u'cohesive': 1, u'Single': 1, u'semiautomatic': 1, u'cramped': 1, u'bear': 1, u'energetic': 1, u'Metro': 1, u'favourite': 1, u'sided': 1, u'wetter': 1, u'entertaining': 1, u'reasoned': 1, u'amused': 1, u'impatient': 1, u'TERRIFIED': 1, u'fussy': 1, u'intentional': 1, u'gant': 1, u'Bolivar': 1, u'broader': 1, u'freakin': 1, u'Overpriced': 1, u'compact': 1, u'vacuous': 1, u'quarterly': 1, u'antique': 1, u'putting': 1, u'pre-fabricated': 1, u'cellular': 1, u'populist': 1, u'anxious': 1, u'ONLY': 1, u'busier': 1, u'phoenix': 1, u'Cheapest': 1, u'Select': 1, u'Dry': 1, u'lightest': 1, u'Long': 1, u'picked': 1, u'hourly': 1, u'delicous': 1, u'rotten': 1, u'3d': 1, u'combative': 1, u'anti-shipping': 1, u'50th': 1, u'upsetting': 1, u'Light': 1, u'nonexistent': 1, u'focused': 1, u'talent': 1, u'uneasy': 1, u'anti-India': 1, u'Operational': 1, u'surley': 1, u'causal': 1, u'standing': 1, u'unneccesary': 1, u'use': 1, u'crap': 1, u'hippie': 1, u'belittling': 1, u'worn': 1, u'noisy': 1, u'oily': 1, u'undeclared': 1, u'inclined': 1, u'Honest': 1, u'mythical': 1, u'meek': 1, u'rampant': 1, u'DECENT': 1, u'Taiwanese': 1, u'bent': 1, u'spruce': 1, u'Australian': 1, u'united': 1, u'varied': 1, u'defective': 1, u'lame': 1, u'ENJOYABLE': 1, u'pleasing': 1, u'undersized': 1, u'intelligent': 1, u'circular': 1, u'watery': 1, u'abrasive': 1, u'NECESSARY': 1, u'singular': 1, u'Technical': 1, u'Dumbest': 1, u'unforgivable': 1, u'umbilical': 1, u'friendlier': 1, u'22nd': 1, u'SAME': 1, u'encyclopedic': 1, u'furious': 1, u'respectable': 1, u'unpalatable': 1, u'knowledgable': 1, u'Quick': 1, u'Scientific': 1, u'lo': 1, u'Unfriendly': 1, u'orange': 1, u'derivative': 1, u'Chineese': 1, u'defining': 1, u'pending': 1, u'unavoidable': 1, u'descriptive': 1, u'bolder': 1, u'material': 1, u'innermost': 1, u'untouchable': 1, u'genuine': 1, u'transparent': 1, u'pre-war': 1, u'virulent': 1, u'bicuspid': 1, u'uninteresting': 1, u'Weekly': 1, u'TRANSPARENT': 1, u'whitish': 1, u'Ambitious': 1, u'maternal': 1, u'INTegrated': 1, u'out': 1, u'unlawful': 1, u'islamist': 1, u'uncontaminated': 1, u'scriptural': 1, u'trashy': 1, u'Older': 1, u'Substantive': 1, u'GREEDY': 1, u'transferable': 1, u'Sketchy': 1, u'mortal': 1, u'REFUNDABLE': 1, u'finest': 1, u'anti-democratic': 1, u'embarrassed': 1, u'Belgian': 1, u'unspecified': 1, u'detectable': 1, u'inalienable': 1, u'Aryan': 1, u'touristy': 1, u'Actual': 1, u'craziest': 1, u'shallow': 1, u'approachable': 1, u'Democratic': 1, u'Outstanding': 1, u'FABULOUS': 1, u'bare': 1, u'bisexual': 1, u'disturbing': 1, u'vested': 1, u'mid': 1, u'pivotal': 1, u'tactic': 1, u'Glad': 1, u'HOLY': 1, u'delayed': 1, u'liturgical': 1, u'expired': 1, u'neoconservative': 1, u'undeniable': 1, u'Fellow': 1, u'ENOUGH': 1, u'prickly': 1, u'anti-American': 1, u'please': 1, u'indoor': 1, u'Shakespearean': 1, u'darkest': 1, u'trivial': 1, u'FORMAL': 1, u'inspiring': 1, u'based': 1, u'pro-Palestinian': 1, u'communist': 1, u'Strong': 1, u'optinal': 1, u'QUIETEST': 1, u'legitimate': 1, u'Gold': 1, u'shy': 1, u'AWESOME': 1, u'crippled': 1, u'tasteful': 1, u'Impossible': 1, u'solicitous': 1, u'fixed': 1, u'Sr.': 1, u'freeze': 1, u'packed': 1, u'literate': 1, u'disgruntled': 1, u'comparable': 1, u'opening': 1, u'neonatal': 1, u'Delightful': 1, u'probing': 1, u'precious': 1, u'legit': 1, u'diligent': 1, u'admin': 1, u'Confused': 1, u'insidious': 1, u'fabolous': 1, u'inflammatory': 1, u'worldly': 1, u'Slowest': 1, u'Smart': 1, u'immense': 1, u'genetic': 1, u'hellish': 1, u'treat': 1, u'Careful': 1, u'filthy': 1, u'homosexual': 1, u'harshest': 1, u'unapologetic': 1, u'FREE': 1, u'covered': 1, u'vanilla': 1, u'homey': 1, u'harder': 1, u'irate': 1, u'General': 1, u'concerted': 1, u'respected': 1, u'URGENT': 1, u'watchful': 1, u'riddled': 1, u'adverse': 1, u'another': 1, u'Real': 1, u'RUDE': 1, u'WHOLESALE': 1, u'bald': 1, u'outcast': 1, u'discouraged': 1, u'WORTH': 1, u'tighter': 1, u'surest': 1, u'Faithful': 1, u'underlying': 1, u'distant': 1, u'rest': 1, u'wee': 1, u'Turkish': 1, u'demographic': 1, u'battery': 1, u'unparalleled': 1, u'mannered': 1, u'definitive': 1, u'punctual': 1, u'nomenal': 1, u'thicker': 1, u'particlular': 1, u'CLEAN': 1, u'INTERNATIONAL': 1, u'condescending': 1, u'prominent': 1, u'EXPERIENCED': 1, u'lost': 1, u'safest': 1, u'profound': 1, u'repressed': 1, u'audible': 1, u'inexperienced': 1, u'awash': 1, u'classical': 1, u'alive': 1, u'majestic': 1, u'supportive': 1, u'Disatisfied': 1, u'blonde': 1, u'anti-trust': 1, u'lean': 1, u'14th': 1, u'blowing': 1, u'Kindly': 1, u'stellar': 1, u'poignant': 1, u'worthy': 1, u'fluorescent': 1, u'imaginary': 1, u'simpler': 1, u'inconsiderate': 1, u'sectarian': 1, u'Previous': 1, u'cocked': 1, u'unfavourable': 1, u'pointless': 1, u'agonizing': 1, u'Secular': 1, u'FAST': 1, u'badder': 1, u'troubling': 1, u'Easiest': 1, u'unconcious': 1, u'abnormal': 1, u'Phat': 1, u'hierarchical': 1, u'Silly': 1, u'automated': 1, u'technician': 1, u'instructive': 1, u'converted': 1, u'Holistic': 1, u'intimidating': 1, u'lopsided': 1, u'deadly': 1, u'Younger': 1, u'repeat': 1, u'ideological': 1, u'earthly': 1, u'progressive': 1, u'Private': 1, u'bereaved': 1})})\n"
     ]
    }
   ],
   "source": [
    "theta_nb_fixed = naive_bayes.estimate_nb_tagger(counters,.01)\n",
    "print counters"
   ]
  },
  {
   "cell_type": "code",
   "execution_count": 29,
   "metadata": {
    "collapsed": false
   },
   "outputs": [
    {
     "name": "stdout",
     "output_type": "stream",
     "text": [
      "1.0\n"
     ]
    }
   ],
   "source": [
    "# emission weights still sum to one \n",
    "print sum(np.exp(theta_nb_fixed[('ADJ',word)]) for word in vocab)"
   ]
  },
  {
   "cell_type": "code",
   "execution_count": 30,
   "metadata": {
    "collapsed": false
   },
   "outputs": [
    {
     "name": "stdout",
     "output_type": "stream",
     "text": [
      "-7.36649959838 -7.36649959838\n"
     ]
    }
   ],
   "source": [
    "# emission weights are identical to theta_nb\n",
    "print nb_weights[('ADJ','okay')],theta_nb_fixed[('ADJ','okay')]"
   ]
  },
  {
   "cell_type": "code",
   "execution_count": 31,
   "metadata": {
    "collapsed": false
   },
   "outputs": [
    {
     "name": "stdout",
     "output_type": "stream",
     "text": [
      "-2.00636615185\n",
      "-2.96505215649\n",
      "-2.39906416857\n"
     ]
    }
   ],
   "source": [
    "# but the offsets are now correct\n",
    "print theta_nb_fixed[('VERB'),constants.OFFSET]\n",
    "print theta_nb_fixed[('ADV'),constants.OFFSET]\n",
    "print theta_nb_fixed[('PRON'),constants.OFFSET]"
   ]
  },
  {
   "cell_type": "markdown",
   "metadata": {},
   "source": [
    "Offsets should correspond to log-probabilities $\\log P(y)$ such that $\\sum_y P(y) = 1$."
   ]
  },
  {
   "cell_type": "code",
   "execution_count": 32,
   "metadata": {
    "collapsed": false
   },
   "outputs": [
    {
     "data": {
      "text/plain": [
       "0.99999999999999944"
      ]
     },
     "execution_count": 32,
     "metadata": {},
     "output_type": "execute_result"
    }
   ],
   "source": [
    "sum(np.exp(theta_nb_fixed[(tag,constants.OFFSET)]) for tag in all_tags)"
   ]
  },
  {
   "cell_type": "markdown",
   "metadata": {},
   "source": [
    "Now let's apply the tagger"
   ]
  },
  {
   "cell_type": "code",
   "execution_count": 33,
   "metadata": {
    "collapsed": false
   },
   "outputs": [
    {
     "name": "stdout",
     "output_type": "stream",
     "text": [
      "0.847025608398\n"
     ]
    }
   ],
   "source": [
    "confusion = tagger_base.eval_tagger(tagger_base.make_classifier_tagger(theta_nb_fixed),\n",
    "                                    'nb-fixed.preds')\n",
    "dev_acc = scorer.accuracy(confusion)\n",
    "print dev_acc"
   ]
  },
  {
   "cell_type": "markdown",
   "metadata": {},
   "source": [
    "Just as good as the heuristic tagger from above."
   ]
  },
  {
   "cell_type": "markdown",
   "metadata": {},
   "source": [
    "# 3. Viterbi Algorithm\n",
    "\n",
    "In this section you will implement the Viterbi algorithm. To get warmed up, let's work out an example by hand. For simplicity, there are only two tags, **N**OUN and **V**ERB. Here are the parameters:\n",
    "\n",
    "| | Value |\n",
    "| ------------- |:-------------:|\n",
    "| $\\log P_E(\\cdot|N)$ | they: -1, can: -3, fish: -3 |\n",
    "| $\\log P_E(\\cdot|V)$ | they: -11, can: -2, fish: -4 |\n",
    "| $\\log P_T(\\cdot|N)$ | N: -5, V: -2, END: -2 |\n",
    "| $\\log P_T(\\cdot|V)$ | N: -1, V: -3, END: -3 |\n",
    "| $\\log P_T(\\cdot|\\text{START})$ | N :-1, V :-2 |\n",
    "\n",
    "where $P_E(\\cdot|\\cdot)$ is the emission probability and $P_T(\\cdot|\\cdot)$ is the transition probability.\n",
    " \n",
    " \n",
    "In class we discuss the sentence *They can fish*. Now work out a more complicated example: \"*They can can fish*\", where the second \"*can*\" refers to the verb of putting things into cans.\n",
    " \n",
    "** Deliverable 3.1 ** Work out the trellis by hand, and fill in the table in the file ```text-answers.md``` (*0.5 points*)"
   ]
  },
  {
   "cell_type": "markdown",
   "metadata": {},
   "source": [
    "## Implementing Viterbi ##\n",
    "\n",
    "Here are some predefined weights, corresponding to the weights from the problem 3.1."
   ]
  },
  {
   "cell_type": "code",
   "execution_count": 34,
   "metadata": {
    "collapsed": false
   },
   "outputs": [],
   "source": [
    "START_TAG = constants.START_TAG\n",
    "TRANS = constants.TRANS\n",
    "END_TAG = constants.END_TAG\n",
    "EMIT = constants.EMIT\n",
    "\n",
    "hand_weights = {('NOUN','they',EMIT):-1,\\\n",
    "                ('NOUN','can',EMIT):-3,\\\n",
    "                ('NOUN','fish',EMIT):-3,\\\n",
    "                ('VERB','they',EMIT):-11,\\\n",
    "                ('VERB','can',EMIT):-2,\\\n",
    "                ('VERB','fish',EMIT):-4,\\\n",
    "                ('NOUN','NOUN',TRANS):-5,\\\n",
    "                ('VERB','NOUN',TRANS):-2,\\\n",
    "                (END_TAG,'NOUN',TRANS):-2,\\\n",
    "                ('NOUN','VERB',TRANS):-1,\\\n",
    "                ('VERB','VERB',TRANS):-3,\\\n",
    "                (END_TAG,'VERB',TRANS):-3,\\\n",
    "                ('NOUN',START_TAG,TRANS):-1,\\\n",
    "                ('VERB',START_TAG,TRANS):-2}"
   ]
  },
  {
   "cell_type": "markdown",
   "metadata": {},
   "source": [
    "**Deliverable 3.2** Building HMM features. (*0.5 points*)\n",
    "\n",
    "Implement `hmm_features` in `hmm.py` to compute the HMM features for the function $\\mathbf{f}(\\mathbf{x},y_m,y_{m-1},m)$. \n",
    "\n",
    "Expected behavior is shown below. Note how `constants.EMIT` and `constants.TRANS` are used to distinguish emission and transition features."
   ]
  },
  {
   "cell_type": "code",
   "execution_count": 35,
   "metadata": {
    "collapsed": true
   },
   "outputs": [],
   "source": [
    "reload(hmm);"
   ]
  },
  {
   "cell_type": "code",
   "execution_count": 36,
   "metadata": {
    "collapsed": false
   },
   "outputs": [
    {
     "name": "stdout",
     "output_type": "stream",
     "text": [
      "['they', 'can', 'can', 'fish']\n"
     ]
    }
   ],
   "source": [
    "sentence = \"they can can fish\".split()\n",
    "print sentence"
   ]
  },
  {
   "cell_type": "code",
   "execution_count": 37,
   "metadata": {
    "collapsed": false
   },
   "outputs": [
    {
     "name": "stdout",
     "output_type": "stream",
     "text": [
      "{('Noun', 'can', '--EMISSION--'): 1, ('Noun', 'Verb', '--TRANS--'): 1}\n",
      "{('Noun', 'they', '--EMISSION--'): 1, ('Noun', '--START--', '--TRANS--'): 1}\n",
      "{('--END--', 'Verb', '--TRANS--'): 1}\n"
     ]
    }
   ],
   "source": [
    "print hmm.hmm_features(sentence,'Noun','Verb',2)\n",
    "print hmm.hmm_features(sentence,'Noun',START_TAG,0)\n",
    "print hmm.hmm_features(sentence,END_TAG,'Verb',4)"
   ]
  },
  {
   "cell_type": "markdown",
   "metadata": {},
   "source": [
    "**Deliverable 3.3** The Viterbi recurrence. (*1 point*)\n",
    "\n",
    "Implement `viterbi_step` in `gtnlplib/viterbi.py`. This is the method that will compute the best path score and corresponding back pointer for a given tag and word, which you will call from the main viterbi routine.\n",
    "\n",
    "- **Input 1**: A tag to calculate the best path for\n",
    "- **Input 2**: An index of the word to calculate the best path for\n",
    "- **Input 3**: A list of words to tag\n",
    "- **Input 4**: A feature function, like hmm_feats\n",
    "- **Input 5**: A dict of weights\n",
    "- **Input 6**: A list of all possible tags\n",
    "- **Input 7**: A list of dicts representing the best scores for the previous trellis layer\n",
    "- **Output 1**: The score of the best-scoring sequence\n",
    "- **Output 2**: The feature in the previous trellis layer corresponding to the best score\n",
    "\n",
    "There are a lot of inputs, but the code itself will not be very complex. Make sure you understand what each input represents before starting to write a solution."
   ]
  },
  {
   "cell_type": "markdown",
   "metadata": {},
   "source": [
    "You can run your viterbi step on the example in 3.1, by building on the code below."
   ]
  },
  {
   "cell_type": "code",
   "execution_count": 38,
   "metadata": {
    "collapsed": false
   },
   "outputs": [],
   "source": [
    "reload(viterbi);"
   ]
  },
  {
   "cell_type": "code",
   "execution_count": 39,
   "metadata": {
    "collapsed": false
   },
   "outputs": [
    {
     "name": "stdout",
     "output_type": "stream",
     "text": [
      "(-2, '--START--')\n",
      "(-13, '--START--')\n"
     ]
    }
   ],
   "source": [
    "print viterbi.viterbi_step('NOUN',0,sentence,hmm.hmm_features,hand_weights,{START_TAG:0})\n",
    "print viterbi.viterbi_step('VERB',0,sentence,hmm.hmm_features,hand_weights,{START_TAG:0})"
   ]
  },
  {
   "cell_type": "code",
   "execution_count": 40,
   "metadata": {
    "collapsed": false
   },
   "outputs": [
    {
     "name": "stdout",
     "output_type": "stream",
     "text": [
      "(-10, 'NOUN')\n",
      "(-6, 'NOUN')\n"
     ]
    }
   ],
   "source": [
    "print viterbi.viterbi_step('NOUN',1,sentence,\n",
    "                           hmm.hmm_features,\n",
    "                           hand_weights,\n",
    "                           {'NOUN':-2,'VERB':-13})\n",
    "print viterbi.viterbi_step('VERB',1,sentence,\n",
    "                           hmm.hmm_features,\n",
    "                           hand_weights,\n",
    "                           {'NOUN':-2,'VERB':-13})"
   ]
  },
  {
   "cell_type": "markdown",
   "metadata": {},
   "source": [
    "**Deliverable 3.4** Build the Viterbi trellis. (*0.5 points*)\n",
    "\n",
    "Use `viterbi_step` to implement `build_trellis` in `viterbi.py`\n",
    "\n",
    "This function should take:\n",
    "\n",
    "- A list of tokens to be tagged\n",
    "- A feature function\n",
    "- A defaultdict of weights\n",
    "- A tag set\n",
    "\n",
    "It should output a list of dicts. In each dict should be key-value pairs of the form `tag:(score,prev_tag)`. See the example output below."
   ]
  },
  {
   "cell_type": "code",
   "execution_count": 41,
   "metadata": {
    "collapsed": false
   },
   "outputs": [],
   "source": [
    "reload(viterbi);"
   ]
  },
  {
   "cell_type": "code",
   "execution_count": 42,
   "metadata": {
    "collapsed": true
   },
   "outputs": [],
   "source": [
    "all_tags = ['NOUN','VERB']"
   ]
  },
  {
   "cell_type": "code",
   "execution_count": 43,
   "metadata": {
    "collapsed": false
   },
   "outputs": [],
   "source": [
    "# let's change the weights a little\n",
    "hand_weights['NOUN','they',EMIT] = -2\n",
    "hand_weights['VERB','fish',EMIT] = -5\n",
    "hand_weights['VERB','VERB',TRANS] = -2"
   ]
  },
  {
   "cell_type": "code",
   "execution_count": null,
   "metadata": {
    "collapsed": false
   },
   "outputs": [],
   "source": []
  },
  {
   "cell_type": "code",
   "execution_count": 44,
   "metadata": {
    "collapsed": false
   },
   "outputs": [],
   "source": [
    "trellis = viterbi.build_trellis(sentence,hmm.hmm_features,hand_weights,all_tags)"
   ]
  },
  {
   "cell_type": "code",
   "execution_count": 45,
   "metadata": {
    "collapsed": false
   },
   "outputs": [
    {
     "name": "stdout",
     "output_type": "stream",
     "text": [
      "{'VERB': (-13, '--START--'), 'NOUN': (-3, '--START--')}\n",
      "{'VERB': (-7, 'NOUN'), 'NOUN': (-11, 'NOUN')}\n",
      "{'VERB': (-11, 'VERB'), 'NOUN': (-11, 'VERB')}\n",
      "{'VERB': (-18, 'VERB'), 'NOUN': (-15, 'VERB')}\n"
     ]
    }
   ],
   "source": [
    "for line in trellis:\n",
    "    print line"
   ]
  },
  {
   "cell_type": "markdown",
   "metadata": {},
   "source": [
    "**Deliverable 3.5** Implement the Viterbi algorithm. (*0.5 points*)\n",
    "\n",
    "Specifically, use `build_trellis` to implement `viterbi_tagger` in `viterbi.py`.\n",
    "\n",
    "Your first task will be to figure out the score of the best path, and the final node in the trellis. Use a transition feature involving `constants.END_TAG` to compute this.\n",
    "\n",
    "Then iterate backwards through the trellis to construct the best path.\n",
    "\n",
    "Inputs:\n",
    "\n",
    "- A list of tokens to be tagged\n",
    "- A feature function\n",
    "- A defaultdict of weights\n",
    "- A tag set\n",
    "\n",
    "Outputs:\n",
    "\n",
    "- Best-scoring tag sequence\n",
    "- Score of best-scoring tag sequence"
   ]
  },
  {
   "cell_type": "code",
   "execution_count": 46,
   "metadata": {
    "collapsed": false
   },
   "outputs": [],
   "source": [
    "reload(viterbi);"
   ]
  },
  {
   "cell_type": "code",
   "execution_count": 47,
   "metadata": {
    "collapsed": false
   },
   "outputs": [
    {
     "data": {
      "text/plain": [
       "(['NOUN', 'VERB', 'VERB', 'NOUN'], -17)"
      ]
     },
     "execution_count": 47,
     "metadata": {},
     "output_type": "execute_result"
    }
   ],
   "source": [
    "viterbi.viterbi_tagger(sentence,hmm.hmm_features,hand_weights,all_tags)"
   ]
  },
  {
   "cell_type": "code",
   "execution_count": 48,
   "metadata": {
    "collapsed": false
   },
   "outputs": [
    {
     "data": {
      "text/plain": [
       "(['NOUN', 'VERB', 'VERB', 'VERB', 'VERB', 'VERB', 'NOUN'], -29)"
      ]
     },
     "execution_count": 48,
     "metadata": {},
     "output_type": "execute_result"
    }
   ],
   "source": [
    "viterbi.viterbi_tagger(['they','can','can','can','can','can','fish'],\n",
    "                       hmm.hmm_features,hand_weights,all_tags)"
   ]
  },
  {
   "cell_type": "markdown",
   "metadata": {},
   "source": [
    "# 4. Hidden Markov Model: Estimation\n",
    "\n",
    "You will now implement the estimatation for a hidden Markov model.\n",
    "\n",
    "We'll start with the tag transitions.\n",
    "\n",
    "The following function, which we provide, computes the tag transitions counts."
   ]
  },
  {
   "cell_type": "code",
   "execution_count": 49,
   "metadata": {
    "collapsed": false
   },
   "outputs": [],
   "source": [
    "tag_trans_counts = most_common.get_tag_trans_counts(TRAIN_FILE)"
   ]
  },
  {
   "cell_type": "markdown",
   "metadata": {},
   "source": [
    "This function returns a dict of counters, where the keys are tags.\n",
    "\n",
    "Each counter is the frequency of tags following a given tag, e.g.:"
   ]
  },
  {
   "cell_type": "code",
   "execution_count": 50,
   "metadata": {
    "collapsed": false
   },
   "outputs": [
    {
     "name": "stdout",
     "output_type": "stream",
     "text": [
      "0\n"
     ]
    }
   ],
   "source": [
    "# print tag_trans_counts['DET']\n",
    "print tag_trans_counts['VERB'][START_TAG]"
   ]
  },
  {
   "cell_type": "raw",
   "metadata": {},
   "source": []
  },
  {
   "cell_type": "code",
   "execution_count": 51,
   "metadata": {
    "collapsed": false
   },
   "outputs": [],
   "source": [
    "# print tag_trans_counts"
   ]
  },
  {
   "cell_type": "markdown",
   "metadata": {},
   "source": [
    "**Deliverable 4.1** Estimate transition log-probabilities for an HMM. (*0.5 points*)\n",
    "\n",
    "Implement `compute_transition_weights` in `hmm.py`.\n",
    "\n",
    "You should use the function `get_tag_trans_counts` in `most_common.py`\n",
    "\n",
    "Inputs\n",
    "\n",
    "- Transition counts (from `get_tag_trans_counts`)\n",
    "- Smoothing\n",
    "\n",
    "Outputs\n",
    "\n",
    "- Defaultdict with weights for transition features, in the form $[y_m, y_{m-1}, \\text{TRANS}]$\n",
    "\n",
    "Hints: \n",
    "\n",
    "- Don't forget to assign smoothed probabilities to transitions which do not appear in the counts. \n",
    "- Do not assign probabilities for transitions to the start tag, which can only come first. This will also affect your computation of the denominator, since you are not smoothing the probability of transitions to the start tag.\n",
    "- Don't forget to assign probabilities to transitions to the end tag; this too will affect your denominator.\n",
    "- As always, probabilities should sum to one (this time conditioned on the previous tag)"
   ]
  },
  {
   "cell_type": "code",
   "execution_count": 52,
   "metadata": {
    "collapsed": false
   },
   "outputs": [],
   "source": [
    "reload(hmm);"
   ]
  },
  {
   "cell_type": "code",
   "execution_count": 53,
   "metadata": {
    "collapsed": false
   },
   "outputs": [],
   "source": [
    "hmm_trans_weights = hmm.compute_transition_weights(tag_trans_counts,.001)"
   ]
  },
  {
   "cell_type": "code",
   "execution_count": 54,
   "metadata": {
    "collapsed": false
   },
   "outputs": [
    {
     "name": "stdout",
     "output_type": "stream",
     "text": [
      "789 -2.76615186681\n",
      "826 -2.72032347091\n",
      "323 -3.92034540383\n",
      "0 -16.605756102\n",
      "9676 -0.520596847943\n",
      "0 -inf\n",
      "0.0\n"
     ]
    }
   ],
   "source": [
    "print tag_trans_counts[START_TAG]['NOUN'], hmm_trans_weights[('NOUN',START_TAG,TRANS)]\n",
    "print tag_trans_counts[START_TAG]['VERB'], hmm_trans_weights[('VERB',START_TAG,TRANS)]\n",
    "print tag_trans_counts['DET']['VERB'], hmm_trans_weights[('VERB','DET',TRANS)]\n",
    "print tag_trans_counts['DET']['INTJ'], hmm_trans_weights[('INTJ','DET',TRANS)]\n",
    "# print (hmm_trans_weights)\n",
    "print tag_trans_counts['DET']['NOUN'], hmm_trans_weights[('NOUN','DET',TRANS)]\n",
    "print tag_trans_counts['VERB'][START_TAG], hmm_trans_weights[(START_TAG,'VERB',TRANS)]\n",
    "# print tag_trans_counts[END_TAG]['VERB'] # will throw key error\n",
    "print hmm_trans_weights[('VERB',END_TAG,TRANS)]"
   ]
  },
  {
   "cell_type": "markdown",
   "metadata": {},
   "source": [
    "These log-probabilities should normalize to when summing over $y_m$"
   ]
  },
  {
   "cell_type": "code",
   "execution_count": 55,
   "metadata": {
    "collapsed": false
   },
   "outputs": [
    {
     "name": "stdout",
     "output_type": "stream",
     "text": [
      "1.0\n",
      "1.0\n"
     ]
    }
   ],
   "source": [
    "all_tags = tag_trans_counts.keys() + [END_TAG]\n",
    "# print len(hmm_trans_weights)\n",
    "# print np.exp(np.log(hmm_trans_weights[(END_TAG,'NOUN',TRANS)]))\n",
    "# for tag in all_tags:\n",
    "#     print tag\n",
    "#     print np.exp(hmm_trans_weights[(tag,'NOUN',TRANS)])\n",
    "print sum(np.exp(hmm_trans_weights[(tag,'NOUN',TRANS)]) for tag in all_tags)\n",
    "print sum(np.exp(hmm_trans_weights[(tag,'SYM',TRANS)]) for tag in all_tags)"
   ]
  },
  {
   "cell_type": "markdown",
   "metadata": {},
   "source": [
    "** Deliverable 4.2** (*1 point 4650; 0.5 points 7650*)\n",
    "\n",
    "Now implement `compute_HMM_weights` in `hmm.py`. You should use two functions:\n",
    "\n",
    "- `compute_transition_weights`, which you just implemented\n",
    "- `naive_bayes.estimate_nb`, which you used in part 2 to compute the emission log-probabilities, $\\log P(w \\mid y)$.\n",
    "\n",
    "Inputs:\n",
    "\n",
    "- trainfile\n",
    "- smoothing\n",
    "\n",
    "Output:\n",
    "\n",
    "- defaultdict of hidden Markov model weights\n",
    "\n",
    "A tricky issue is how to handle unseen words and illegal tag-tag transitions. We will have to handle these cases slightly differently:\n",
    "\n",
    "- For illegal transitions, we need to assign zero probability, which is $-\\infty$ log-probability. You can use `-np.inf` for these weights.\n",
    "- For unseen words, we **don't** want to assign zero probability, since unseen words are likely to appear in the test set. Use a defaultdict for this, with log-probability = 0, but don't include this in the normalizer. We'll talk more about whether this is a good solution later."
   ]
  },
  {
   "cell_type": "code",
   "execution_count": 56,
   "metadata": {
    "collapsed": false
   },
   "outputs": [],
   "source": [
    "reload(hmm);"
   ]
  },
  {
   "cell_type": "code",
   "execution_count": 57,
   "metadata": {
    "collapsed": false
   },
   "outputs": [
    {
     "name": "stdout",
     "output_type": "stream",
     "text": [
      "data/en-ud-train.conllu\n"
     ]
    }
   ],
   "source": [
    "print TRAIN_FILE"
   ]
  },
  {
   "cell_type": "code",
   "execution_count": 58,
   "metadata": {
    "collapsed": false
   },
   "outputs": [],
   "source": [
    "\n",
    "theta_hmm,_ = hmm.compute_HMM_weights(TRAIN_FILE,.01)"
   ]
  },
  {
   "cell_type": "code",
   "execution_count": 59,
   "metadata": {
    "collapsed": false
   },
   "outputs": [
    {
     "name": "stdout",
     "output_type": "stream",
     "text": [
      "-7.41746204765 -5.33071419765\n",
      "-4.5722924085 -14.3151646115\n",
      "0.0\n"
     ]
    }
   ],
   "source": [
    "print theta_hmm['NOUN','right',EMIT], theta_hmm['ADV','right',EMIT]\n",
    "print theta_hmm['PRON','she',EMIT], theta_hmm['DET','she',EMIT]\n",
    "print theta_hmm['NOUN','notarealword',EMIT]"
   ]
  },
  {
   "cell_type": "code",
   "execution_count": 60,
   "metadata": {
    "collapsed": false
   },
   "outputs": [
    {
     "data": {
      "text/plain": [
       "334429"
      ]
     },
     "execution_count": 60,
     "metadata": {},
     "output_type": "execute_result"
    }
   ],
   "source": [
    "len(theta_hmm)"
   ]
  },
  {
   "cell_type": "code",
   "execution_count": 61,
   "metadata": {
    "collapsed": false
   },
   "outputs": [
    {
     "name": "stdout",
     "output_type": "stream",
     "text": [
      "1.0\n",
      "1.0\n"
     ]
    }
   ],
   "source": [
    "print sum(np.exp(theta_hmm['NOUN',word,EMIT]) for word in vocab)\n",
    "print sum(np.exp(theta_hmm['DET',word,EMIT]) for word in vocab)"
   ]
  },
  {
   "cell_type": "markdown",
   "metadata": {},
   "source": [
    "**Deliverable 4.3** (*0.5 points*)\n",
    "\n",
    "We can now combine Viterbi and the HMM weights to compute the tag sequence for the example sentence. Make sure your implementation passes the test for this deliverable, and **explain (in `text-answers.md`) whether you think these predicted tags are correct**, based on your understanding of the universal part-of-speech tag set."
   ]
  },
  {
   "cell_type": "code",
   "execution_count": 62,
   "metadata": {
    "collapsed": false
   },
   "outputs": [
    {
     "data": {
      "text/plain": [
       "([u'PRON', u'AUX', u'AUX', u'NOUN'], -31.294333658962991)"
      ]
     },
     "execution_count": 62,
     "metadata": {},
     "output_type": "execute_result"
    }
   ],
   "source": [
    "reload(viterbi)\n",
    "viterbi.viterbi_tagger(['they', 'can', 'can', 'fish'],hmm.hmm_features,theta_hmm,all_tags)"
   ]
  },
  {
   "cell_type": "markdown",
   "metadata": {},
   "source": [
    "**Deliverable 4.4** (*0.5 points*)\n",
    "\n",
    "As shown in the cell below, the HMM weights include a weight of zero for the emission of unseen words. In `text-answers.md`, please explain:\n",
    "\n",
    "- why this is a violation of the HMM probability model explained in the notes;\n",
    "- How, if at all, this will affect the overall tagging."
   ]
  },
  {
   "cell_type": "code",
   "execution_count": 63,
   "metadata": {
    "collapsed": false
   },
   "outputs": [
    {
     "name": "stdout",
     "output_type": "stream",
     "text": [
      "-7.41746204765 -5.33071419765\n",
      "-4.5722924085 -14.3151646115\n",
      "0.0\n"
     ]
    }
   ],
   "source": [
    "print theta_hmm['NOUN','right',EMIT], theta_hmm['ADV','right',EMIT]\n",
    "print theta_hmm['PRON','she',EMIT], theta_hmm['DET','she',EMIT]\n",
    "print theta_hmm['ADJ','thisworddoesnotappear',EMIT]"
   ]
  },
  {
   "cell_type": "markdown",
   "metadata": {},
   "source": [
    "**Deliverable 4.5** (*0.5 points*)\n",
    "\n",
    "- Run your HMM tagger on the dev data and test data, using the code blocks below."
   ]
  },
  {
   "cell_type": "code",
   "execution_count": 64,
   "metadata": {
    "collapsed": false
   },
   "outputs": [
    {
     "name": "stdout",
     "output_type": "stream",
     "text": [
      "0 From/ADP the/DET AP/NOUN comes/VERB this/DET story/NOUN :/PUNCT\n",
      "1 President/PROPN Bush/PROPN on/PROPN Tuesday/PROPN nominated/PUNCT two/NUM individuals/NOUN to/PART replace/VERB retiring/VERB jurists/PUNCT on/ADV federal/ADJ courts/NOUN in/ADP the/DET Washington/PROPN area/NOUN ./PUNCT\n",
      "2 Bush/PROPN nominated/PUNCT Jennifer/PROPN M./PROPN Anderson/PROPN for/ADP a/DET 15/NUM -/PUNCT year/NOUN term/NOUN as/ADV associate/NOUN judge/NOUN of/ADP the/DET Superior/PROPN Court/PROPN of/ADP the/DET District/PROPN of/ADP Columbia/PROPN ,/PUNCT replacing/VERB Steffen/PUNCT W./PROPN Graae/PUNCT ./PUNCT\n"
     ]
    }
   ],
   "source": [
    "# this is just for fun\n",
    "for i,(words,_) in enumerate(preproc.conll_seq_generator(DEV_FILE)):\n",
    "    print i, \n",
    "    pred_tags = viterbi.viterbi_tagger(words,hmm.hmm_features,theta_hmm,all_tags)[0]\n",
    "    for word,pred_tag in zip(words,pred_tags):\n",
    "        print \"%s/%s\"%(word,pred_tag),\n",
    "    print\n",
    "    if i >= 2: break"
   ]
  },
  {
   "cell_type": "code",
   "execution_count": 65,
   "metadata": {
    "collapsed": false
   },
   "outputs": [],
   "source": [
    "tagger = lambda words, all_tags : viterbi.viterbi_tagger(words,\n",
    "                                                         hmm.hmm_features,\n",
    "                                                         theta_hmm,\n",
    "                                                         all_tags)[0]\n",
    "confusion = tagger_base.eval_tagger(tagger,'hmm-dev-en.preds')"
   ]
  },
  {
   "cell_type": "code",
   "execution_count": 66,
   "metadata": {
    "collapsed": false
   },
   "outputs": [
    {
     "name": "stdout",
     "output_type": "stream",
     "text": [
      "0.876093526324\n"
     ]
    }
   ],
   "source": [
    "print scorer.accuracy(confusion)"
   ]
  },
  {
   "cell_type": "code",
   "execution_count": 67,
   "metadata": {
    "collapsed": false
   },
   "outputs": [],
   "source": [
    "tagger_base.apply_tagger(tagger,'hmm-te-en.preds',testfile=constants.TEST_FILE_UNLABELED)"
   ]
  },
  {
   "cell_type": "code",
   "execution_count": 68,
   "metadata": {
    "collapsed": false
   },
   "outputs": [
    {
     "ename": "IOError",
     "evalue": "[Errno 2] No such file or directory: 'data/en-ud-test.conllu'",
     "output_type": "error",
     "traceback": [
      "\u001b[0;31m---------------------------------------------------------------------------\u001b[0m",
      "\u001b[0;31mIOError\u001b[0m                                   Traceback (most recent call last)",
      "\u001b[0;32m<ipython-input-68-ffdd2b23185b>\u001b[0m in \u001b[0;36m<module>\u001b[0;34m()\u001b[0m\n\u001b[1;32m      1\u001b[0m \u001b[0;31m# you don't have en-ud-test.conllu, so you can't run this\u001b[0m\u001b[0;34m\u001b[0m\u001b[0;34m\u001b[0m\u001b[0m\n\u001b[0;32m----> 2\u001b[0;31m \u001b[0mte_confusion\u001b[0m \u001b[0;34m=\u001b[0m \u001b[0mscorer\u001b[0m\u001b[0;34m.\u001b[0m\u001b[0mget_confusion\u001b[0m\u001b[0;34m(\u001b[0m\u001b[0;34m'data/en-ud-test.conllu'\u001b[0m\u001b[0;34m,\u001b[0m\u001b[0;34m'hmm-te-en.preds'\u001b[0m\u001b[0;34m)\u001b[0m\u001b[0;34m\u001b[0m\u001b[0m\n\u001b[0m\u001b[1;32m      3\u001b[0m \u001b[0;32mprint\u001b[0m \u001b[0mscorer\u001b[0m\u001b[0;34m.\u001b[0m\u001b[0maccuracy\u001b[0m\u001b[0;34m(\u001b[0m\u001b[0mte_confusion\u001b[0m\u001b[0;34m)\u001b[0m\u001b[0;34m\u001b[0m\u001b[0m\n",
      "\u001b[0;32m/Users/sylviachan/Downloads/gt-nlp-class-master_6/psets/ps2/gtnlplib/scorer.pyc\u001b[0m in \u001b[0;36mget_confusion\u001b[0;34m(keyfilename, responsefilename)\u001b[0m\n\u001b[1;32m     24\u001b[0m     \"\"\"\n\u001b[1;32m     25\u001b[0m     \u001b[0mcounts\u001b[0m \u001b[0;34m=\u001b[0m \u001b[0mdefaultdict\u001b[0m\u001b[0;34m(\u001b[0m\u001b[0mint\u001b[0m\u001b[0;34m)\u001b[0m\u001b[0;34m\u001b[0m\u001b[0m\n\u001b[0;32m---> 26\u001b[0;31m     \u001b[0;32mwith\u001b[0m \u001b[0mcodecs\u001b[0m\u001b[0;34m.\u001b[0m\u001b[0mopen\u001b[0m\u001b[0;34m(\u001b[0m\u001b[0mkeyfilename\u001b[0m\u001b[0;34m,\u001b[0m\u001b[0mencoding\u001b[0m\u001b[0;34m=\u001b[0m\u001b[0;34m'utf8'\u001b[0m\u001b[0;34m)\u001b[0m \u001b[0;32mas\u001b[0m \u001b[0mkeyfile\u001b[0m\u001b[0;34m:\u001b[0m\u001b[0;34m\u001b[0m\u001b[0m\n\u001b[0m\u001b[1;32m     27\u001b[0m         \u001b[0;32mwith\u001b[0m \u001b[0mopen\u001b[0m\u001b[0;34m(\u001b[0m\u001b[0mresponsefilename\u001b[0m\u001b[0;34m,\u001b[0m\u001b[0;34m'r'\u001b[0m\u001b[0;34m)\u001b[0m \u001b[0;32mas\u001b[0m \u001b[0mresfile\u001b[0m\u001b[0;34m:\u001b[0m\u001b[0;34m\u001b[0m\u001b[0m\n\u001b[1;32m     28\u001b[0m             \u001b[0;32mfor\u001b[0m \u001b[0mkey_line\u001b[0m \u001b[0;32min\u001b[0m \u001b[0mkeyfile\u001b[0m\u001b[0;34m:\u001b[0m\u001b[0;34m\u001b[0m\u001b[0m\n",
      "\u001b[0;32m/Users/sylviachan/anaconda/lib/python2.7/codecs.pyc\u001b[0m in \u001b[0;36mopen\u001b[0;34m(filename, mode, encoding, errors, buffering)\u001b[0m\n\u001b[1;32m    894\u001b[0m             \u001b[0;31m# Force opening of the file in binary mode\u001b[0m\u001b[0;34m\u001b[0m\u001b[0;34m\u001b[0m\u001b[0m\n\u001b[1;32m    895\u001b[0m             \u001b[0mmode\u001b[0m \u001b[0;34m=\u001b[0m \u001b[0mmode\u001b[0m \u001b[0;34m+\u001b[0m \u001b[0;34m'b'\u001b[0m\u001b[0;34m\u001b[0m\u001b[0m\n\u001b[0;32m--> 896\u001b[0;31m     \u001b[0mfile\u001b[0m \u001b[0;34m=\u001b[0m \u001b[0m__builtin__\u001b[0m\u001b[0;34m.\u001b[0m\u001b[0mopen\u001b[0m\u001b[0;34m(\u001b[0m\u001b[0mfilename\u001b[0m\u001b[0;34m,\u001b[0m \u001b[0mmode\u001b[0m\u001b[0;34m,\u001b[0m \u001b[0mbuffering\u001b[0m\u001b[0;34m)\u001b[0m\u001b[0;34m\u001b[0m\u001b[0m\n\u001b[0m\u001b[1;32m    897\u001b[0m     \u001b[0;32mif\u001b[0m \u001b[0mencoding\u001b[0m \u001b[0;32mis\u001b[0m \u001b[0mNone\u001b[0m\u001b[0;34m:\u001b[0m\u001b[0;34m\u001b[0m\u001b[0m\n\u001b[1;32m    898\u001b[0m         \u001b[0;32mreturn\u001b[0m \u001b[0mfile\u001b[0m\u001b[0;34m\u001b[0m\u001b[0m\n",
      "\u001b[0;31mIOError\u001b[0m: [Errno 2] No such file or directory: 'data/en-ud-test.conllu'"
     ]
    }
   ],
   "source": [
    "# you don't have en-ud-test.conllu, so you can't run this\n",
    "te_confusion = scorer.get_confusion('data/en-ud-test.conllu','hmm-te-en.preds')\n",
    "print scorer.accuracy(te_confusion)"
   ]
  },
  {
   "cell_type": "markdown",
   "metadata": {},
   "source": [
    "# 5. Part of Speech tagging in Japanese\n",
    "\n",
    "Now you will evaluate the tagger you just implemented on a Japanese dataset that uses the same set of part-of-speech tags.\n",
    "\n",
    "**Deliverable 5.1** (*1 point 4650, 0.5 points 7650*)\n",
    "\n",
    "First, let's compare the tag distributions between Japanese and English. Using your `get_tag_trans_counts`, identify the top three tags that are most likely to follow VERBS and NOUNS in each language. \n",
    "\n",
    "List these tags in `text-answers.md`, and try to explain some of the differences you see. You may want to do a little research about Japanese on [wikipedia](https://en.wikipedia.org/wiki/Japanese_language). (If you really want to dig in, check out this research paper, which describes the annotation of the Japanese dataset that we are using: http://www.lrec-conf.org/proceedings/lrec2016/pdf/122_Paper.pdf)"
   ]
  },
  {
   "cell_type": "code",
   "execution_count": null,
   "metadata": {
    "collapsed": false
   },
   "outputs": [],
   "source": [
    "from gtnlplib.constants import JA_TRAIN_FILE, JA_DEV_FILE, JA_TEST_FILE_HIDDEN, JA_TEST_FILE\n",
    "from gtnlplib.constants import TRAIN_FILE, START_TAG, END_TAG"
   ]
  },
  {
   "cell_type": "code",
   "execution_count": null,
   "metadata": {
    "collapsed": true
   },
   "outputs": [],
   "source": [
    "tag_trans_counts_en = most_common.get_tag_trans_counts(TRAIN_FILE)"
   ]
  },
  {
   "cell_type": "code",
   "execution_count": null,
   "metadata": {
    "collapsed": true
   },
   "outputs": [],
   "source": [
    "tag_trans_counts_ja = most_common.get_tag_trans_counts(JA_TRAIN_FILE)"
   ]
  },
  {
   "cell_type": "code",
   "execution_count": null,
   "metadata": {
    "collapsed": false
   },
   "outputs": [],
   "source": [
    "print tag_trans_counts_en['VERB'].most_common(3)\n",
    "print tag_trans_counts_ja['VERB'].most_common(3)\n",
    "print\n",
    "print tag_trans_counts_en['NOUN'].most_common(3)\n",
    "print tag_trans_counts_ja['NOUN'].most_common(3)"
   ]
  },
  {
   "cell_type": "markdown",
   "metadata": {},
   "source": [
    "**Deliverable 5.2** (*0.5 points*)\n",
    "\n",
    "Now, run the code below to calculate the HMM weights for Japanese, and evaluate a viterbi tagger on the Japanese dev set and test set."
   ]
  },
  {
   "cell_type": "code",
   "execution_count": null,
   "metadata": {
    "collapsed": false
   },
   "outputs": [],
   "source": [
    "theta_hmm_ja, all_tags_ja = hmm.compute_HMM_weights(JA_TRAIN_FILE,.01)"
   ]
  },
  {
   "cell_type": "code",
   "execution_count": null,
   "metadata": {
    "collapsed": true
   },
   "outputs": [],
   "source": [
    "tagger = lambda words, all_tags : viterbi.viterbi_tagger(words,\n",
    "                                                         hmm.hmm_features,\n",
    "                                                         theta_hmm_ja,\n",
    "                                                         all_tags_ja)[0]"
   ]
  },
  {
   "cell_type": "code",
   "execution_count": null,
   "metadata": {
    "collapsed": true
   },
   "outputs": [],
   "source": [
    "confusion = tagger_base.eval_tagger(tagger,'hmm-dev-ja.preds',testfile=JA_DEV_FILE)"
   ]
  },
  {
   "cell_type": "code",
   "execution_count": null,
   "metadata": {
    "collapsed": false
   },
   "outputs": [],
   "source": [
    "print scorer.accuracy(confusion)"
   ]
  },
  {
   "cell_type": "code",
   "execution_count": null,
   "metadata": {
    "collapsed": false
   },
   "outputs": [],
   "source": [
    "tagger_base.apply_tagger(tagger,'hmm-test-ja.preds',testfile=JA_TEST_FILE_HIDDEN)"
   ]
  },
  {
   "cell_type": "code",
   "execution_count": null,
   "metadata": {
    "collapsed": false
   },
   "outputs": [],
   "source": [
    "# you don't have the test file, so you can't run this\n",
    "confusion_te_ja = scorer.get_confusion(JA_TEST_FILE,'hmm-test-ja.preds')\n",
    "print scorer.accuracy(confusion_te_ja)"
   ]
  },
  {
   "cell_type": "markdown",
   "metadata": {
    "collapsed": true
   },
   "source": [
    "# 6. 7650 \"only\"\n",
    "\n",
    "**Deliverable 6** Research question (*1 point*)\n",
    "\n",
    "Find an example of sequence labeling for a task other than part-of-speech tagging, in a paper at ACL, NAACL, EMNLP, EACL, or TACL, within the last five years (2012-2017). Put your response in `text-answers.md`.\n",
    "\n",
    "List:\n",
    "\n",
    "- The title, authors, and venue of the paper.\n",
    "- What is the task they are trying to solve?\n",
    "- What methods do they use? HMM, CRF, max-margin markov network, something else?\n",
    "- Which features do they use?\n",
    "- What methods and features are most effective?\n",
    "\n",
    "As before, students in 4650 may optionally submit an answer to this question; if you do, you will be graded on the 7650 rubric."
   ]
  }
 ],
 "metadata": {
  "anaconda-cloud": {},
  "kernelspec": {
   "display_name": "Python [default]",
   "language": "python",
   "name": "python2"
  },
  "language_info": {
   "codemirror_mode": {
    "name": "ipython",
    "version": 2
   },
   "file_extension": ".py",
   "mimetype": "text/x-python",
   "name": "python",
   "nbconvert_exporter": "python",
   "pygments_lexer": "ipython2",
   "version": "2.7.12"
  }
 },
 "nbformat": 4,
 "nbformat_minor": 0
}
