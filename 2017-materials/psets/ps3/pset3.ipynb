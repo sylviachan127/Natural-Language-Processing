{
 "cells": [
  {
   "cell_type": "markdown",
   "metadata": {},
   "source": [
    "Problem Set 3: Structured Perceptron\n",
    "====================\n",
    "\n",
    "In this problem set, you will implement a sequence labeling algorithm that is near state-of-the-art: structured perceptron. To do this, you will use several functions that you have written earlier, especially Viterbi and averaged perceptron.\n",
    "\n",
    "The problem set is designed to highlight the connection between structured perceptron and classification-based tagging. You will first write most of the pieces that you need while working in the framework of classification-based tagging. Your implementation will take various tagging algorithms as arguments, including both one-word-at-a-time classification based tagging, and Viterbi sequence labeling.\n",
    "\n",
    "One of the main reasons to prefer perceptron over hidden Markov models is the ability to use rich, overlapping features. You will design several feature functions throughout the assignment.\n",
    "\n",
    "Because structure perceptron is slower to train than the hidden Markov model, we will use smaller datasets in this assignment, focusing on sentences that contain the most common POS tags in English and Japanese."
   ]
  },
  {
   "cell_type": "code",
   "execution_count": 1,
   "metadata": {
    "collapsed": false
   },
   "outputs": [
    {
     "name": "stderr",
     "output_type": "stream",
     "text": [
      "/Users/sylviachan/anaconda/lib/python2.7/site-packages/matplotlib/font_manager.py:273: UserWarning: Matplotlib is building the font cache using fc-list. This may take a moment.\n",
      "  warnings.warn('Matplotlib is building the font cache using fc-list. This may take a moment.')\n"
     ]
    }
   ],
   "source": [
    "from gtnlplib import preproc, tagger_base, scorer \n",
    "from gtnlplib import features, viterbi, constants, structure_perceptron, kaggle\n",
    "\n",
    "import os\n",
    "import matplotlib.pyplot as plt\n",
    "from collections import defaultdict\n",
    "%matplotlib inline"
   ]
  },
  {
   "cell_type": "code",
   "execution_count": 2,
   "metadata": {
    "collapsed": false
   },
   "outputs": [
    {
     "name": "stdout",
     "output_type": "stream",
     "text": [
      "English tags: set([u'ADV', u'NOUN', u'ADP', u'PRON', u'PROPN', u'DET', u'PUNCT', u'VERB', u'AUX', u'ADJ'])\n",
      "Japanese tags: set([u'ADV', u'NOUN', u'PRON', u'DET', u'PUNCT', u'VERB', u'NUM', u'ADJ'])\n"
     ]
    }
   ],
   "source": [
    "## Demo\n",
    "## NOTE! These datafiles are different than in pset2. Don't copy over constants.py from that pset.\n",
    "all_tags = set()\n",
    "for i,(words, tags) in enumerate(preproc.conll_seq_generator(constants.TRAIN_FILE,max_insts=100000)):\n",
    "    for tag in tags:\n",
    "        all_tags.add(tag)\n",
    "print(\"English tags: {}\".format(all_tags))\n",
    "\n",
    "all_tags_ja = set()\n",
    "for i,(words, tags) in enumerate(preproc.conll_seq_generator(constants.JA_TRAIN_FILE,max_insts=100000)):\n",
    "    for tag in tags:\n",
    "        all_tags_ja.add(tag)\n",
    "print(\"Japanese tags: {}\".format(all_tags_ja))"
   ]
  },
  {
   "cell_type": "markdown",
   "metadata": {},
   "source": [
    "# 1. Tagging as discriminative classification\n",
    "\n",
    "In pset 2, you performed part-of-speech tagging as generative classification, using Naive Bayes. Now you will perform discriminative classification, using average perceptron.\n",
    "\n",
    "In this section, we are only doing classification-based tagging, but we will write the code in a way that generalizes to Viterbi-based structure prediction. This means that all features are of the form $f(\\boldsymbol{w},y_m,y_{m-1},m)$."
   ]
  },
  {
   "cell_type": "markdown",
   "metadata": {},
   "source": [
    "**Deliverable 1.1** Implement `features.word_feats` to output features that are tuples `(y,constants.CURR_WORD_FEAT,w[m])` and `(y,constants.OFFSET)`.\n",
    "\n",
    "(*0.7 points*)"
   ]
  },
  {
   "cell_type": "code",
   "execution_count": 3,
   "metadata": {
    "collapsed": false
   },
   "outputs": [],
   "source": [
    "reload(features);"
   ]
  },
  {
   "cell_type": "code",
   "execution_count": 4,
   "metadata": {
    "collapsed": false
   },
   "outputs": [
    {
     "name": "stdout",
     "output_type": "stream",
     "text": [
      "{('NOUN', '**OFFSET**'): 1, ('NOUN', '--CURR-WORD--', 'man'): 1}\n",
      "{('VERB', '--CURR-WORD--', 'the'): 1, ('VERB', '**OFFSET**'): 1}\n",
      "{('NOUN', '**OFFSET**'): 1}\n"
     ]
    }
   ],
   "source": [
    "print(features.word_feats(['The','old','man','the','boat'],'NOUN','ADJ',2))\n",
    "print(features.word_feats(['The','old','man','the','boat'],'VERB','NOUN',3))\n",
    "# note that we may need to handle m >= len(tokens)\n",
    "print(features.word_feats(['The','old','man','the','boat'],'NOUN','ADJ',5))"
   ]
  },
  {
   "cell_type": "markdown",
   "metadata": {},
   "source": [
    "**Deliverable 1.2** Reimplement `tagger_base.classifier_tagger` as follows:\n",
    "\n",
    "Inputs:\n",
    "\n",
    "- List of tokens to tag\n",
    "- Feature function, of the form $f(\\boldsymbol{w},y_m,y_{m-1},m)$\n",
    "- Defaultdict of weights\n",
    "- List of all candidate tags\n",
    "\n",
    "Outputs:\n",
    "\n",
    "- List of predicted tags\n",
    "- Score of predicted tag sequence $\\theta \\cdot f(\\boldsymbol{w},\\boldsymbol{y})$\n",
    "\n",
    "(*0.7 points*)"
   ]
  },
  {
   "cell_type": "code",
   "execution_count": 5,
   "metadata": {
    "collapsed": false
   },
   "outputs": [],
   "source": [
    "theta_clf_hand = defaultdict(float,\n",
    "                             {('NOUN',constants.OFFSET):0.1,\n",
    "                              ('PRON',constants.CURR_WORD_FEAT,'They'):1,\n",
    "                              ('PRON',constants.CURR_WORD_FEAT,'can'):-1,\n",
    "                              ('NOUN',constants.CURR_WORD_FEAT,'fish'):1,\n",
    "                              ('VERB',constants.CURR_WORD_FEAT,'fish'):0.5})"
   ]
  },
  {
   "cell_type": "code",
   "execution_count": 6,
   "metadata": {
    "collapsed": false
   },
   "outputs": [
    {
     "name": "stdout",
     "output_type": "stream",
     "text": [
      "['They', 'can', 'fish']\n"
     ]
    }
   ],
   "source": [
    "w = 'They can fish'.split()\n",
    "print(w)"
   ]
  },
  {
   "cell_type": "code",
   "execution_count": 7,
   "metadata": {
    "collapsed": true
   },
   "outputs": [],
   "source": [
    "reload(tagger_base);"
   ]
  },
  {
   "cell_type": "code",
   "execution_count": 8,
   "metadata": {
    "collapsed": false
   },
   "outputs": [
    {
     "data": {
      "text/plain": [
       "([u'PRON', u'NOUN', u'NOUN'], 2.2)"
      ]
     },
     "execution_count": 8,
     "metadata": {},
     "output_type": "execute_result"
    }
   ],
   "source": [
    "tagger_base.classifier_tagger(w,features.word_feats,theta_clf_hand,all_tags)"
   ]
  },
  {
   "cell_type": "markdown",
   "metadata": {},
   "source": [
    "**Deliverable 1.3** The perceptron update requires computing the difference\n",
    "\n",
    "\\begin{align}\n",
    "& f(\\boldsymbol{w},\\boldsymbol{y}) - f(\\boldsymbol{w},\\hat{\\boldsymbol{y}})\\\\\n",
    "= & \\sum_{m=1}^M f(\\boldsymbol{w},y_m,y_{m-1},m) - f(\\boldsymbol{w},\\hat{y}_m,\\hat{y}_{m-1},m)\n",
    "\\end{align}\n",
    "\n",
    "Implement `tagger_base.compute_features` to compute $f(\\boldsymbol{w},\\boldsymbol{y})$, with the following arguments:\n",
    "\n",
    "- A list of words\n",
    "- A list of tags\n",
    "- A feature function, of the form $f(\\boldsymbol{w},y_m,y_{m-1},m)$.\n",
    "\n",
    "The output should be a dict of features and counts.\n",
    "\n",
    "*Boundary cases*: \n",
    "\n",
    "- When $m=0$, use the special case $y_{-1} = \\text{START}$, using `constants.START_TAG`. *Your current feature function will not test this, because it ignores $y_{m-1}$, but we will test it later*.\n",
    "- When $m=M$, use the special case $y_M = \\text{STOP}$, using `constants.END_TAG`. \n",
    "\n",
    "These boundary cases will be important when you incorporate Viterbi tagging.\n",
    "\n",
    "(*0.7 points*)"
   ]
  },
  {
   "cell_type": "code",
   "execution_count": 9,
   "metadata": {
    "collapsed": true
   },
   "outputs": [],
   "source": [
    "reload(tagger_base);"
   ]
  },
  {
   "cell_type": "code",
   "execution_count": 10,
   "metadata": {
    "collapsed": false
   },
   "outputs": [
    {
     "data": {
      "text/plain": [
       "defaultdict(float,\n",
       "            {('--END--', '**OFFSET**'): 1.0,\n",
       "             ('DET', '**OFFSET**'): 2.0,\n",
       "             ('DET', '--CURR-WORD--', 'the'): 2.0,\n",
       "             ('NOUN', '**OFFSET**'): 2.0,\n",
       "             ('NOUN', '--CURR-WORD--', 'boat'): 1.0,\n",
       "             ('NOUN', '--CURR-WORD--', 'old'): 1.0,\n",
       "             ('VERB', '**OFFSET**'): 1.0,\n",
       "             ('VERB', '--CURR-WORD--', 'man'): 1.0})"
      ]
     },
     "execution_count": 10,
     "metadata": {},
     "output_type": "execute_result"
    }
   ],
   "source": [
    "tagger_base.compute_features('the old man the boat'.split(),\n",
    "                            ['DET','NOUN','VERB','DET','NOUN'],\n",
    "                            features.word_feats)"
   ]
  },
  {
   "cell_type": "markdown",
   "metadata": {},
   "source": [
    "**Deliverable 1.4**\n",
    "\n",
    "Now you can implement the function `structure_perceptron.sp_update`. \n",
    "\n",
    "This will be very similar to your implementation of `perceptron.perceptron_update` in pset 1, but instead of calling `clf_base.predict`, you should call a function `tagger` which is passed in as an argument.\n",
    "\n",
    "(*0.7 points*)"
   ]
  },
  {
   "cell_type": "code",
   "execution_count": 11,
   "metadata": {
    "collapsed": false
   },
   "outputs": [],
   "source": [
    "reload(structure_perceptron);"
   ]
  },
  {
   "cell_type": "code",
   "execution_count": 12,
   "metadata": {
    "collapsed": false
   },
   "outputs": [
    {
     "data": {
      "text/plain": [
       "([u'PRON', u'NOUN', u'NOUN'], 2.2)"
      ]
     },
     "execution_count": 12,
     "metadata": {},
     "output_type": "execute_result"
    }
   ],
   "source": [
    "tagger_base.classifier_tagger('They can fish'.split(),\n",
    "                             features.word_feats,\n",
    "                             theta_clf_hand,\n",
    "                             all_tags)"
   ]
  },
  {
   "cell_type": "code",
   "execution_count": 13,
   "metadata": {
    "collapsed": false
   },
   "outputs": [],
   "source": [
    "update = structure_perceptron.sp_update('They can fish'.split(),\n",
    "                               ['PRON','AUX','VERB'],\n",
    "                               theta_clf_hand,\n",
    "                               features.word_feats,\n",
    "                               tagger_base.classifier_tagger,\n",
    "                               all_tags)"
   ]
  },
  {
   "cell_type": "code",
   "execution_count": 14,
   "metadata": {
    "collapsed": false
   },
   "outputs": [
    {
     "name": "stdout",
     "output_type": "stream",
     "text": [
      "((u'NOUN', '--CURR-WORD--', 'fish'), -1.0)\n",
      "((u'NOUN', '**OFFSET**'), -2.0)\n",
      "(('AUX', '--CURR-WORD--', 'can'), 1.0)\n",
      "(('VERB', '--CURR-WORD--', 'fish'), 1.0)\n",
      "(('VERB', '**OFFSET**'), 1.0)\n",
      "((u'NOUN', '--CURR-WORD--', 'can'), -1.0)\n",
      "(('AUX', '**OFFSET**'), 1.0)\n"
     ]
    }
   ],
   "source": [
    "for key,val in update.iteritems():\n",
    "    if val != 0:\n",
    "        print(key,val)"
   ]
  },
  {
   "cell_type": "markdown",
   "metadata": {},
   "source": [
    "**Deliverable 1.5**\n",
    "\n",
    "You are now ready to implement `structure_perceptron.estimate_perceptron`.\n",
    "\n",
    "Your implementation will be nearly identical to `perceptron.estimate_perceptron`, except for two things:\n",
    "\n",
    "- The input is now a list of (token-list, tag-list) tuples\n",
    "- Instead of calling `perceptron.perceptron_update`, you will call `structure_perceptron.sp_update`.\n",
    "\n",
    "Other aspects of the implementation, such as weight averaging, should be identical.\n",
    "\n",
    "(*0.7 points*)"
   ]
  },
  {
   "cell_type": "code",
   "execution_count": 15,
   "metadata": {
    "collapsed": false
   },
   "outputs": [],
   "source": [
    "reload(features)\n",
    "reload(tagger_base)\n",
    "reload(structure_perceptron);"
   ]
  },
  {
   "cell_type": "code",
   "execution_count": 16,
   "metadata": {
    "collapsed": true
   },
   "outputs": [],
   "source": [
    "toy_data = [('They can fish'.split(),['PRON','AUX','VERB']),\n",
    "            ('the old man the boat'.split(),['DET','NOUN','VERB','DET','NOUN'])]"
   ]
  },
  {
   "cell_type": "code",
   "execution_count": 17,
   "metadata": {
    "collapsed": false
   },
   "outputs": [],
   "source": [
    "theta_toy_one_inst,_ = structure_perceptron.estimate_perceptron(toy_data[:1],\n",
    "                                                                features.word_feats,\n",
    "                                                                tagger_base.classifier_tagger,\n",
    "                                                                1,\n",
    "                                                                all_tags)"
   ]
  },
  {
   "cell_type": "code",
   "execution_count": 18,
   "metadata": {
    "collapsed": false
   },
   "outputs": [
    {
     "data": {
      "text/plain": [
       "{('NOUN', '**OFFSET**'): 1, ('NOUN', '--CURR-WORD--', 'They'): 1}"
      ]
     },
     "execution_count": 18,
     "metadata": {},
     "output_type": "execute_result"
    }
   ],
   "source": [
    "features.word_feats(toy_data[0][0],'NOUN','IGNORE',0)"
   ]
  },
  {
   "cell_type": "code",
   "execution_count": 19,
   "metadata": {
    "collapsed": false
   },
   "outputs": [
    {
     "name": "stdout",
     "output_type": "stream",
     "text": [
      "((u'PRON', '**OFFSET**'), 1.0)\n",
      "((u'NOUN', '--CURR-WORD--', 'can'), -1.0)\n",
      "((u'AUX', '--CURR-WORD--', 'can'), 1.0)\n",
      "((u'VERB', '--CURR-WORD--', 'fish'), 1.0)\n",
      "((u'VERB', '**OFFSET**'), 1.0)\n",
      "(('NOUN', '**OFFSET**'), -2.999)\n",
      "((u'NOUN', '--CURR-WORD--', 'They'), -1.0)\n",
      "((u'AUX', '**OFFSET**'), 1.0)\n",
      "((u'NOUN', '--CURR-WORD--', 'fish'), -1.0)\n",
      "((u'PRON', '--CURR-WORD--', 'They'), 1.0)\n"
     ]
    }
   ],
   "source": [
    "for feat,weight in theta_toy_one_inst.iteritems():\n",
    "    if weight != 0:\n",
    "        print(feat,weight)"
   ]
  },
  {
   "cell_type": "code",
   "execution_count": 20,
   "metadata": {
    "collapsed": false
   },
   "outputs": [],
   "source": [
    "theta_toy_one_inst,_ = structure_perceptron.estimate_perceptron(toy_data[:1],\n",
    "                                                                features.word_feats,\n",
    "                                                                tagger_base.classifier_tagger,\n",
    "                                                                10,\n",
    "                                                                all_tags)"
   ]
  },
  {
   "cell_type": "code",
   "execution_count": 21,
   "metadata": {
    "collapsed": false
   },
   "outputs": [
    {
     "name": "stdout",
     "output_type": "stream",
     "text": [
      "((u'PRON', '**OFFSET**'), 1.0)\n",
      "((u'NOUN', '--CURR-WORD--', 'can'), -1.0)\n",
      "((u'AUX', '--CURR-WORD--', 'can'), 1.0)\n",
      "((u'VERB', '--CURR-WORD--', 'fish'), 1.0)\n",
      "((u'VERB', '**OFFSET**'), 1.0)\n",
      "(('NOUN', '**OFFSET**'), -2.999)\n",
      "((u'NOUN', '--CURR-WORD--', 'They'), -1.0)\n",
      "((u'AUX', '**OFFSET**'), 1.0)\n",
      "((u'NOUN', '--CURR-WORD--', 'fish'), -1.0)\n",
      "((u'PRON', '--CURR-WORD--', 'They'), 1.0)\n"
     ]
    }
   ],
   "source": [
    "for feat,weight in theta_toy_one_inst.iteritems():\n",
    "    if weight != 0:\n",
    "        print(feat,weight)"
   ]
  },
  {
   "cell_type": "code",
   "execution_count": 22,
   "metadata": {
    "collapsed": false
   },
   "outputs": [],
   "source": [
    "theta_toy,_ = structure_perceptron.estimate_perceptron(toy_data,\n",
    "                                                     features.word_feats,\n",
    "                                                     tagger_base.classifier_tagger,\n",
    "                                                     1, all_tags)"
   ]
  },
  {
   "cell_type": "code",
   "execution_count": 23,
   "metadata": {
    "collapsed": false
   },
   "outputs": [
    {
     "name": "stdout",
     "output_type": "stream",
     "text": [
      "((u'PRON', '--CURR-WORD--', 'man'), -0.5)\n",
      "((u'PRON', '**OFFSET**'), -1.5)\n",
      "((u'NOUN', '--CURR-WORD--', 'can'), -1.0)\n",
      "((u'PRON', '--CURR-WORD--', 'old'), -0.5)\n",
      "((u'PRON', '--CURR-WORD--', 'the'), -1.0)\n",
      "((u'VERB', '--CURR-WORD--', 'man'), 0.5)\n",
      "((u'AUX', '--CURR-WORD--', 'can'), 1.0)\n",
      "((u'VERB', '--CURR-WORD--', 'fish'), 1.0)\n",
      "((u'VERB', '**OFFSET**'), 1.5)\n",
      "((u'PRON', '--CURR-WORD--', 'boat'), -0.5)\n",
      "((u'PRON', '--CURR-WORD--', 'They'), 1.0)\n",
      "(('NOUN', '**OFFSET**'), -1.999)\n",
      "((u'NOUN', '--CURR-WORD--', 'old'), 0.5)\n",
      "((u'NOUN', '--CURR-WORD--', 'They'), -1.0)\n",
      "((u'AUX', '**OFFSET**'), 1.0)\n",
      "((u'NOUN', '--CURR-WORD--', 'fish'), -1.0)\n",
      "((u'NOUN', '--CURR-WORD--', 'boat'), 0.5)\n",
      "((u'DET', '**OFFSET**'), 1.0)\n",
      "((u'DET', '--CURR-WORD--', 'the'), 1.0)\n"
     ]
    }
   ],
   "source": [
    "for feat,weight in theta_toy.iteritems():\n",
    "    if weight != 0:\n",
    "        print(feat,weight)"
   ]
  },
  {
   "cell_type": "markdown",
   "metadata": {},
   "source": [
    "** Deliverable 1.6 ** Let's train this tagger and evaluate it.\n",
    "\n",
    "(*0.5 points*)"
   ]
  },
  {
   "cell_type": "code",
   "execution_count": 24,
   "metadata": {
    "collapsed": false
   },
   "outputs": [],
   "source": [
    "training_set = [inst for inst in preproc.conll_seq_generator(constants.TRAIN_FILE)]"
   ]
  },
  {
   "cell_type": "code",
   "execution_count": 25,
   "metadata": {
    "collapsed": false
   },
   "outputs": [
    {
     "data": {
      "text/plain": [
       "3531"
      ]
     },
     "execution_count": 25,
     "metadata": {},
     "output_type": "execute_result"
    }
   ],
   "source": [
    "len(training_set)"
   ]
  },
  {
   "cell_type": "markdown",
   "metadata": {},
   "source": [
    "The cell below takes 30 seconds to run on my laptop."
   ]
  },
  {
   "cell_type": "code",
   "execution_count": 26,
   "metadata": {
    "collapsed": false
   },
   "outputs": [],
   "source": [
    "theta_avp,theta_hist = structure_perceptron.estimate_perceptron(training_set,\n",
    "                                                       features.word_feats,\n",
    "                                                       tagger_base.classifier_tagger,\n",
    "                                                       20,\n",
    "                                                       all_tags)"
   ]
  },
  {
   "cell_type": "code",
   "execution_count": 27,
   "metadata": {
    "collapsed": false
   },
   "outputs": [
    {
     "data": {
      "text/plain": [
       "0.8129496402877698"
      ]
     },
     "execution_count": 27,
     "metadata": {},
     "output_type": "execute_result"
    }
   ],
   "source": [
    "tagger_base.eval_tagging_model(constants.DEV_FILE,\n",
    "                               tagger_base.classifier_tagger,\n",
    "                               features.word_feats,\n",
    "                               theta_avp,\n",
    "                               all_tags,\n",
    "                               'avp-words.preds')"
   ]
  },
  {
   "cell_type": "code",
   "execution_count": 28,
   "metadata": {
    "collapsed": true
   },
   "outputs": [],
   "source": [
    "tagger_base.apply_tagging_model(constants.TEST_FILE_HIDDEN,\n",
    "                               tagger_base.classifier_tagger,\n",
    "                               features.word_feats,\n",
    "                               theta_avp,\n",
    "                               all_tags,\n",
    "                               'avp-words-te.preds')"
   ]
  },
  {
   "cell_type": "code",
   "execution_count": 29,
   "metadata": {
    "collapsed": false
   },
   "outputs": [
    {
     "ename": "IOError",
     "evalue": "[Errno 2] No such file or directory: 'data/en-ud-simpler-test.conllu'",
     "output_type": "error",
     "traceback": [
      "\u001b[0;31m---------------------------------------------------------------------------\u001b[0m",
      "\u001b[0;31mIOError\u001b[0m                                   Traceback (most recent call last)",
      "\u001b[0;32m<ipython-input-29-020d7712d1a5>\u001b[0m in \u001b[0;36m<module>\u001b[0;34m()\u001b[0m\n\u001b[1;32m      1\u001b[0m \u001b[0;31m# you can't run this line\u001b[0m\u001b[0;34m\u001b[0m\u001b[0;34m\u001b[0m\u001b[0m\n\u001b[0;32m----> 2\u001b[0;31m \u001b[0mscorer\u001b[0m\u001b[0;34m.\u001b[0m\u001b[0maccuracy\u001b[0m\u001b[0;34m(\u001b[0m\u001b[0mscorer\u001b[0m\u001b[0;34m.\u001b[0m\u001b[0mget_confusion\u001b[0m\u001b[0;34m(\u001b[0m\u001b[0mconstants\u001b[0m\u001b[0;34m.\u001b[0m\u001b[0mTEST_FILE\u001b[0m\u001b[0;34m,\u001b[0m\u001b[0;34m'avp-words-te.preds'\u001b[0m\u001b[0;34m)\u001b[0m\u001b[0;34m)\u001b[0m\u001b[0;34m\u001b[0m\u001b[0m\n\u001b[0m",
      "\u001b[0;32m/Users/sylviachan/Downloads/ps3_kaggle/psets/ps3_kaggle/gtnlplib/scorer.py\u001b[0m in \u001b[0;36mget_confusion\u001b[0;34m(keyfilename, responsefilename)\u001b[0m\n\u001b[1;32m     29\u001b[0m     \"\"\"\n\u001b[1;32m     30\u001b[0m     \u001b[0mcounts\u001b[0m \u001b[0;34m=\u001b[0m \u001b[0mdefaultdict\u001b[0m\u001b[0;34m(\u001b[0m\u001b[0mint\u001b[0m\u001b[0;34m)\u001b[0m\u001b[0;34m\u001b[0m\u001b[0m\n\u001b[0;32m---> 31\u001b[0;31m     \u001b[0;32mwith\u001b[0m \u001b[0mcodecs\u001b[0m\u001b[0;34m.\u001b[0m\u001b[0mopen\u001b[0m\u001b[0;34m(\u001b[0m\u001b[0mkeyfilename\u001b[0m\u001b[0;34m,\u001b[0m\u001b[0mencoding\u001b[0m\u001b[0;34m=\u001b[0m\u001b[0;34m'utf8'\u001b[0m\u001b[0;34m)\u001b[0m \u001b[0;32mas\u001b[0m \u001b[0mkeyfile\u001b[0m\u001b[0;34m:\u001b[0m\u001b[0;34m\u001b[0m\u001b[0m\n\u001b[0m\u001b[1;32m     32\u001b[0m         \u001b[0;32mwith\u001b[0m \u001b[0mopen\u001b[0m\u001b[0;34m(\u001b[0m\u001b[0mresponsefilename\u001b[0m\u001b[0;34m,\u001b[0m\u001b[0;34m'r'\u001b[0m\u001b[0;34m)\u001b[0m \u001b[0;32mas\u001b[0m \u001b[0mresfile\u001b[0m\u001b[0;34m:\u001b[0m\u001b[0;34m\u001b[0m\u001b[0m\n\u001b[1;32m     33\u001b[0m             \u001b[0;32mfor\u001b[0m \u001b[0mkey_line\u001b[0m \u001b[0;32min\u001b[0m \u001b[0mkeyfile\u001b[0m\u001b[0;34m:\u001b[0m\u001b[0;34m\u001b[0m\u001b[0m\n",
      "\u001b[0;32m/Users/sylviachan/anaconda/lib/python2.7/codecs.pyc\u001b[0m in \u001b[0;36mopen\u001b[0;34m(filename, mode, encoding, errors, buffering)\u001b[0m\n\u001b[1;32m    894\u001b[0m             \u001b[0;31m# Force opening of the file in binary mode\u001b[0m\u001b[0;34m\u001b[0m\u001b[0;34m\u001b[0m\u001b[0m\n\u001b[1;32m    895\u001b[0m             \u001b[0mmode\u001b[0m \u001b[0;34m=\u001b[0m \u001b[0mmode\u001b[0m \u001b[0;34m+\u001b[0m \u001b[0;34m'b'\u001b[0m\u001b[0;34m\u001b[0m\u001b[0m\n\u001b[0;32m--> 896\u001b[0;31m     \u001b[0mfile\u001b[0m \u001b[0;34m=\u001b[0m \u001b[0m__builtin__\u001b[0m\u001b[0;34m.\u001b[0m\u001b[0mopen\u001b[0m\u001b[0;34m(\u001b[0m\u001b[0mfilename\u001b[0m\u001b[0;34m,\u001b[0m \u001b[0mmode\u001b[0m\u001b[0;34m,\u001b[0m \u001b[0mbuffering\u001b[0m\u001b[0;34m)\u001b[0m\u001b[0;34m\u001b[0m\u001b[0m\n\u001b[0m\u001b[1;32m    897\u001b[0m     \u001b[0;32mif\u001b[0m \u001b[0mencoding\u001b[0m \u001b[0;32mis\u001b[0m \u001b[0mNone\u001b[0m\u001b[0;34m:\u001b[0m\u001b[0;34m\u001b[0m\u001b[0m\n\u001b[1;32m    898\u001b[0m         \u001b[0;32mreturn\u001b[0m \u001b[0mfile\u001b[0m\u001b[0;34m\u001b[0m\u001b[0m\n",
      "\u001b[0;31mIOError\u001b[0m: [Errno 2] No such file or directory: 'data/en-ud-simpler-test.conllu'"
     ]
    }
   ],
   "source": [
    "# you can't run this line\n",
    "scorer.accuracy(scorer.get_confusion(constants.TEST_FILE,'avp-words-te.preds'))"
   ]
  },
  {
   "cell_type": "markdown",
   "metadata": {},
   "source": [
    "Now let's see how accuracy improved over training. \n",
    "You can use this function elsewhere in the notebook if you'd like to see the progress of your classifier."
   ]
  },
  {
   "cell_type": "code",
   "execution_count": 30,
   "metadata": {
    "collapsed": false
   },
   "outputs": [
    {
     "data": {
      "image/png": "[encoded data removed]",
      "text/plain": [
       "<matplotlib.figure.Figure at 0x112966a90>"
      ]
     },
     "metadata": {},
     "output_type": "display_data"
    }
   ],
   "source": [
    "tagger_base.plot_learning_curve(constants.DEV_FILE,\n",
    "                               tagger_base.classifier_tagger,\n",
    "                               features.word_feats,\n",
    "                               theta_hist,\n",
    "                               all_tags);"
   ]
  },
  {
   "cell_type": "markdown",
   "metadata": {},
   "source": [
    "These accuracies are not directly comparable with your HMM accuracies from pset2, since we are using a different dataset.\n",
    "\n",
    "Let's see how many features are active."
   ]
  },
  {
   "cell_type": "code",
   "execution_count": 31,
   "metadata": {
    "collapsed": false
   },
   "outputs": [
    {
     "name": "stdout",
     "output_type": "stream",
     "text": [
      "Number of active features: 19265\n"
     ]
    }
   ],
   "source": [
    "print(\"Number of active features: %d\"%len([val for val in theta_avp.values() if val != 0]))"
   ]
  },
  {
   "cell_type": "markdown",
   "metadata": {},
   "source": [
    "**Deliverable 1.7** Now try it on Japanese. \n",
    "\n",
    "(*0.5 points for 4650 / 0.25 points for 7650*)\n",
    "\n",
    "As before, 4650 students can opt in to 7650 grading by doing the 7650 problems.\n",
    "\n",
    "Please set the `GRADING` variable in `constants.py` to the appropriate grading scheme. Note that CS7650 students must be graded by the CS7650 rubric."
   ]
  },
  {
   "cell_type": "code",
   "execution_count": 32,
   "metadata": {
    "collapsed": true
   },
   "outputs": [],
   "source": [
    "training_set_ja = [inst for inst in preproc.conll_seq_generator(constants.JA_TRAIN_FILE)]"
   ]
  },
  {
   "cell_type": "markdown",
   "metadata": {},
   "source": [
    "The cell below takes approximately 40 seconds to run on my laptop."
   ]
  },
  {
   "cell_type": "code",
   "execution_count": 33,
   "metadata": {
    "collapsed": false
   },
   "outputs": [],
   "source": [
    "theta_avp_ja,theta_hist_ja =\\\n",
    "structure_perceptron.estimate_perceptron(training_set_ja,\n",
    "                                         features.word_feats,\n",
    "                                         tagger_base.classifier_tagger,\n",
    "                                         20,\n",
    "                                         all_tags_ja)"
   ]
  },
  {
   "cell_type": "code",
   "execution_count": 34,
   "metadata": {
    "collapsed": false
   },
   "outputs": [
    {
     "data": {
      "text/plain": [
       "0.790288213524728"
      ]
     },
     "execution_count": 34,
     "metadata": {},
     "output_type": "execute_result"
    }
   ],
   "source": [
    "tagger_base.eval_tagging_model(constants.JA_DEV_FILE,\n",
    "                               tagger_base.classifier_tagger,\n",
    "                               features.word_feats,\n",
    "                               theta_avp_ja,\n",
    "                               all_tags_ja,\n",
    "                               'avp-words.ja.preds')"
   ]
  },
  {
   "cell_type": "code",
   "execution_count": 35,
   "metadata": {
    "collapsed": false
   },
   "outputs": [],
   "source": [
    "tagger_base.apply_tagging_model(constants.JA_TEST_FILE_HIDDEN,\n",
    "                               tagger_base.classifier_tagger,\n",
    "                               features.word_feats,\n",
    "                               theta_avp_ja,\n",
    "                               all_tags_ja,\n",
    "                               'avp-words-te.ja.preds')"
   ]
  },
  {
   "cell_type": "code",
   "execution_count": 39,
   "metadata": {
    "collapsed": false
   },
   "outputs": [
    {
     "data": {
      "text/plain": [
       "0.7513812154696132"
      ]
     },
     "execution_count": 39,
     "metadata": {},
     "output_type": "execute_result"
    }
   ],
   "source": [
    "# you can't run this\n",
    "scorer.accuracy(scorer.get_confusion(constants.JA_TEST_FILE,'avp-words-te.ja.preds'))"
   ]
  },
  {
   "cell_type": "markdown",
   "metadata": {},
   "source": [
    "**Deliverable 1.8 (for 7650)** As you can see from the cells here, this tagging model is less accurate for Japanese than it is for English. Why might that be? (I'm looking for an explanation that is based on quantitative facts about the datasets.) Put your answer in `text-answers.md`.\n",
    "\n",
    "(*0.5 points for 7650, optional for 4650*)"
   ]
  },
  {
   "cell_type": "markdown",
   "metadata": {},
   "source": [
    "# Part 2. Better features\n",
    "\n",
    "One simple way to improve tagging is to add better features to the classification-based tagger. \n",
    "\n",
    "**Deliverable 2.1** Let's start by adding features that include the final two characters of each word as an additional, suffix feature. Do this by implementing `word_suff_features` in `features.py`.\n",
    "\n",
    "(*0.5 points*)"
   ]
  },
  {
   "cell_type": "code",
   "execution_count": 36,
   "metadata": {
    "collapsed": true
   },
   "outputs": [],
   "source": [
    "reload(constants)\n",
    "reload(features);"
   ]
  },
  {
   "cell_type": "code",
   "execution_count": 37,
   "metadata": {
    "collapsed": false
   },
   "outputs": [
    {
     "name": "stdout",
     "output_type": "stream",
     "text": [
      "{('DET', '--CURR-WORD--', 'The'): 1, ('DET', '**OFFSET**'): 1, ('DET', '--SUFFIX--', 'he'): 1}\n",
      "{('NOUN', '--SUFFIX--', 'ld'): 1, ('NOUN', '**OFFSET**'): 1, ('NOUN', '--CURR-WORD--', 'old'): 1}\n",
      "{('NOUN', '**OFFSET**'): 1, ('NOUN', '--SUFFIX--', 'a'): 1, ('NOUN', '--CURR-WORD--', 'a'): 1}\n"
     ]
    }
   ],
   "source": [
    "print(features.word_suff_feats(['The','old','man','a','boat'],'DET','ADJ',0))\n",
    "print(features.word_suff_feats(['The','old','man','a','boat'],'NOUN','DET',1))\n",
    "print(features.word_suff_feats(['The','old','man','a','boat'],'NOUN','ADJ',3))"
   ]
  },
  {
   "cell_type": "markdown",
   "metadata": {},
   "source": [
    "**Deliverable 2.2** Let's see whether this improves accuracy.\n",
    "\n",
    "(*0.5 points for 4650, 0.25 points for 7650. Includes both English and Japanese evaluations.*)"
   ]
  },
  {
   "cell_type": "code",
   "execution_count": 38,
   "metadata": {
    "collapsed": true
   },
   "outputs": [],
   "source": [
    "reload(features);"
   ]
  },
  {
   "cell_type": "markdown",
   "metadata": {},
   "source": [
    "The cell below takes 50 seconds to run on my laptop."
   ]
  },
  {
   "cell_type": "code",
   "execution_count": 39,
   "metadata": {
    "collapsed": false
   },
   "outputs": [],
   "source": [
    "theta_suff_avp,_ =\\\n",
    "structure_perceptron.estimate_perceptron(training_set,\n",
    "                                         features.word_suff_feats,\n",
    "                                         tagger_base.classifier_tagger,\n",
    "                                         20,\n",
    "                                         all_tags)"
   ]
  },
  {
   "cell_type": "code",
   "execution_count": 40,
   "metadata": {
    "collapsed": false
   },
   "outputs": [
    {
     "name": "stdout",
     "output_type": "stream",
     "text": [
      "EN dev set\n"
     ]
    },
    {
     "data": {
      "text/plain": [
       "0.8439248601119105"
      ]
     },
     "execution_count": 40,
     "metadata": {},
     "output_type": "execute_result"
    }
   ],
   "source": [
    "print('EN dev set')\n",
    "tagger_base.eval_tagging_model(constants.DEV_FILE,\n",
    "                               tagger_base.classifier_tagger,\n",
    "                               features.word_suff_feats,\n",
    "                               theta_suff_avp,\n",
    "                               all_tags,\n",
    "                               'avp-words-suff.preds')"
   ]
  },
  {
   "cell_type": "code",
   "execution_count": 41,
   "metadata": {
    "collapsed": true
   },
   "outputs": [],
   "source": [
    "tagger_base.apply_tagging_model(constants.TEST_FILE_HIDDEN,\n",
    "                               tagger_base.classifier_tagger,\n",
    "                               features.word_suff_feats,\n",
    "                               theta_suff_avp,\n",
    "                               all_tags,\n",
    "                               'avp-words-suff-te.preds')"
   ]
  },
  {
   "cell_type": "code",
   "execution_count": 42,
   "metadata": {
    "collapsed": false
   },
   "outputs": [
    {
     "ename": "IOError",
     "evalue": "[Errno 2] No such file or directory: 'data/en-ud-simpler-test.conllu'",
     "output_type": "error",
     "traceback": [
      "\u001b[0;31m---------------------------------------------------------------------------\u001b[0m",
      "\u001b[0;31mIOError\u001b[0m                                   Traceback (most recent call last)",
      "\u001b[0;32m<ipython-input-42-0c0f5fa3ae5b>\u001b[0m in \u001b[0;36m<module>\u001b[0;34m()\u001b[0m\n\u001b[1;32m      1\u001b[0m \u001b[0;31m# you cannot run this\u001b[0m\u001b[0;34m\u001b[0m\u001b[0;34m\u001b[0m\u001b[0m\n\u001b[0;32m----> 2\u001b[0;31m \u001b[0mscorer\u001b[0m\u001b[0;34m.\u001b[0m\u001b[0maccuracy\u001b[0m\u001b[0;34m(\u001b[0m\u001b[0mscorer\u001b[0m\u001b[0;34m.\u001b[0m\u001b[0mget_confusion\u001b[0m\u001b[0;34m(\u001b[0m\u001b[0mconstants\u001b[0m\u001b[0;34m.\u001b[0m\u001b[0mTEST_FILE\u001b[0m\u001b[0;34m,\u001b[0m\u001b[0;34m'avp-words-suff-te.preds'\u001b[0m\u001b[0;34m)\u001b[0m\u001b[0;34m)\u001b[0m\u001b[0;34m\u001b[0m\u001b[0m\n\u001b[0m",
      "\u001b[0;32m/Users/sylviachan/Downloads/ps3_kaggle/psets/ps3_kaggle/gtnlplib/scorer.py\u001b[0m in \u001b[0;36mget_confusion\u001b[0;34m(keyfilename, responsefilename)\u001b[0m\n\u001b[1;32m     29\u001b[0m     \"\"\"\n\u001b[1;32m     30\u001b[0m     \u001b[0mcounts\u001b[0m \u001b[0;34m=\u001b[0m \u001b[0mdefaultdict\u001b[0m\u001b[0;34m(\u001b[0m\u001b[0mint\u001b[0m\u001b[0;34m)\u001b[0m\u001b[0;34m\u001b[0m\u001b[0m\n\u001b[0;32m---> 31\u001b[0;31m     \u001b[0;32mwith\u001b[0m \u001b[0mcodecs\u001b[0m\u001b[0;34m.\u001b[0m\u001b[0mopen\u001b[0m\u001b[0;34m(\u001b[0m\u001b[0mkeyfilename\u001b[0m\u001b[0;34m,\u001b[0m\u001b[0mencoding\u001b[0m\u001b[0;34m=\u001b[0m\u001b[0;34m'utf8'\u001b[0m\u001b[0;34m)\u001b[0m \u001b[0;32mas\u001b[0m \u001b[0mkeyfile\u001b[0m\u001b[0;34m:\u001b[0m\u001b[0;34m\u001b[0m\u001b[0m\n\u001b[0m\u001b[1;32m     32\u001b[0m         \u001b[0;32mwith\u001b[0m \u001b[0mopen\u001b[0m\u001b[0;34m(\u001b[0m\u001b[0mresponsefilename\u001b[0m\u001b[0;34m,\u001b[0m\u001b[0;34m'r'\u001b[0m\u001b[0;34m)\u001b[0m \u001b[0;32mas\u001b[0m \u001b[0mresfile\u001b[0m\u001b[0;34m:\u001b[0m\u001b[0;34m\u001b[0m\u001b[0m\n\u001b[1;32m     33\u001b[0m             \u001b[0;32mfor\u001b[0m \u001b[0mkey_line\u001b[0m \u001b[0;32min\u001b[0m \u001b[0mkeyfile\u001b[0m\u001b[0;34m:\u001b[0m\u001b[0;34m\u001b[0m\u001b[0m\n",
      "\u001b[0;32m/Users/sylviachan/anaconda/lib/python2.7/codecs.pyc\u001b[0m in \u001b[0;36mopen\u001b[0;34m(filename, mode, encoding, errors, buffering)\u001b[0m\n\u001b[1;32m    894\u001b[0m             \u001b[0;31m# Force opening of the file in binary mode\u001b[0m\u001b[0;34m\u001b[0m\u001b[0;34m\u001b[0m\u001b[0m\n\u001b[1;32m    895\u001b[0m             \u001b[0mmode\u001b[0m \u001b[0;34m=\u001b[0m \u001b[0mmode\u001b[0m \u001b[0;34m+\u001b[0m \u001b[0;34m'b'\u001b[0m\u001b[0;34m\u001b[0m\u001b[0m\n\u001b[0;32m--> 896\u001b[0;31m     \u001b[0mfile\u001b[0m \u001b[0;34m=\u001b[0m \u001b[0m__builtin__\u001b[0m\u001b[0;34m.\u001b[0m\u001b[0mopen\u001b[0m\u001b[0;34m(\u001b[0m\u001b[0mfilename\u001b[0m\u001b[0;34m,\u001b[0m \u001b[0mmode\u001b[0m\u001b[0;34m,\u001b[0m \u001b[0mbuffering\u001b[0m\u001b[0;34m)\u001b[0m\u001b[0;34m\u001b[0m\u001b[0m\n\u001b[0m\u001b[1;32m    897\u001b[0m     \u001b[0;32mif\u001b[0m \u001b[0mencoding\u001b[0m \u001b[0;32mis\u001b[0m \u001b[0mNone\u001b[0m\u001b[0;34m:\u001b[0m\u001b[0;34m\u001b[0m\u001b[0m\n\u001b[1;32m    898\u001b[0m         \u001b[0;32mreturn\u001b[0m \u001b[0mfile\u001b[0m\u001b[0;34m\u001b[0m\u001b[0m\n",
      "\u001b[0;31mIOError\u001b[0m: [Errno 2] No such file or directory: 'data/en-ud-simpler-test.conllu'"
     ]
    }
   ],
   "source": [
    "# you cannot run this\n",
    "scorer.accuracy(scorer.get_confusion(constants.TEST_FILE,'avp-words-suff-te.preds'))"
   ]
  },
  {
   "cell_type": "markdown",
   "metadata": {},
   "source": [
    "This is 3% better than the word-only feature set! That's pretty good for adding a single feature template. Now let's try Japanese. \n",
    "\n",
    "The cell below takes 45 seconds to execute on my laptop."
   ]
  },
  {
   "cell_type": "code",
   "execution_count": 43,
   "metadata": {
    "collapsed": false
   },
   "outputs": [],
   "source": [
    "theta_suff_avp_ja,_ =\\\n",
    "structure_perceptron.estimate_perceptron(training_set_ja,\n",
    "                                         features.word_suff_feats,\n",
    "                                         tagger_base.classifier_tagger,\n",
    "                                         20,\n",
    "                                         all_tags_ja)"
   ]
  },
  {
   "cell_type": "code",
   "execution_count": 44,
   "metadata": {
    "collapsed": false
   },
   "outputs": [
    {
     "name": "stdout",
     "output_type": "stream",
     "text": [
      "JA dev set\n"
     ]
    },
    {
     "data": {
      "text/plain": [
       "0.8816866659190311"
      ]
     },
     "execution_count": 44,
     "metadata": {},
     "output_type": "execute_result"
    }
   ],
   "source": [
    "print('JA dev set')\n",
    "tagger_base.eval_tagging_model(constants.JA_DEV_FILE,\n",
    "                               tagger_base.classifier_tagger,\n",
    "                               features.word_suff_feats,\n",
    "                               theta_suff_avp_ja,\n",
    "                               all_tags_ja,\n",
    "                               'avp-words-suff.ja.preds')"
   ]
  },
  {
   "cell_type": "markdown",
   "metadata": {},
   "source": [
    "10% better on Japanese! Why might that be?"
   ]
  },
  {
   "cell_type": "code",
   "execution_count": 45,
   "metadata": {
    "collapsed": true
   },
   "outputs": [],
   "source": [
    "tagger_base.apply_tagging_model(constants.JA_TEST_FILE_HIDDEN,\n",
    "                               tagger_base.classifier_tagger,\n",
    "                               features.word_suff_feats,\n",
    "                               theta_suff_avp_ja,\n",
    "                               all_tags,\n",
    "                               'avp-words-suff-te.ja.preds')"
   ]
  },
  {
   "cell_type": "code",
   "execution_count": 54,
   "metadata": {
    "collapsed": false
   },
   "outputs": [
    {
     "data": {
      "text/plain": [
       "0.8445672191528545"
      ]
     },
     "execution_count": 54,
     "metadata": {},
     "output_type": "execute_result"
    }
   ],
   "source": [
    "# you can't run this\n",
    "scorer.accuracy(scorer.get_confusion(constants.JA_TEST_FILE,'avp-words-suff-te.ja.preds'))"
   ]
  },
  {
   "cell_type": "markdown",
   "metadata": {},
   "source": [
    "**Deliverable 2.3 (7650)** Briefly explain why you think suffix features are so helpful in Japanese. No prior Japanese knowledge is assumed! You may want to look at the raw data, and consult some resources about Japanese that you can find from a quick Google search. Put your answer in `text-answers.md`.\n",
    "\n",
    "(*0.5 points for 7650, optional for 4650*)"
   ]
  },
  {
   "cell_type": "markdown",
   "metadata": {},
   "source": [
    "**Deliverable 2.4** Now implement word neighbor features. These are features that should link a given tag to the words than come before and after it. Implement this function in `features.word_neighbor_feats`, and make sure it gives the same results as in the example cell below. Pay attention to the boundary case at the end. See `constants.PRE_START_TOKEN` and `constants.POST_END_TOKEN`.\n",
    "\n",
    "(*0.5 points*)"
   ]
  },
  {
   "cell_type": "code",
   "execution_count": 46,
   "metadata": {
    "collapsed": false
   },
   "outputs": [],
   "source": [
    "reload(constants)\n",
    "reload(features);"
   ]
  },
  {
   "cell_type": "code",
   "execution_count": 47,
   "metadata": {
    "collapsed": false
   },
   "outputs": [
    {
     "name": "stdout",
     "output_type": "stream",
     "text": [
      "('TAG', '--CURR-WORD--', 'The'): 1\n",
      "('TAG', '**OFFSET**'): 1\n",
      "('TAG', '--PREV-WORD--', '[[START]]'): 1\n",
      "('TAG', '--NEXT-WORD--', 'old'): 1\n",
      "\n",
      "('TAG', '**OFFSET**'): 1\n",
      "('TAG', '--NEXT-WORD--', 'man'): 1\n",
      "('TAG', '--PREV-WORD--', 'The'): 1\n",
      "('TAG', '--CURR-WORD--', 'old'): 1\n",
      "\n",
      "('TAG', '**OFFSET**'): 1\n",
      "('TAG', '--NEXT-WORD--', 'a'): 1\n",
      "('TAG', '--CURR-WORD--', 'man'): 1\n",
      "('TAG', '--PREV-WORD--', 'old'): 1\n",
      "\n",
      "('TAG', '**OFFSET**'): 1\n",
      "('TAG', '--CURR-WORD--', 'a'): 1\n",
      "('TAG', '--PREV-WORD--', 'man'): 1\n",
      "('TAG', '--NEXT-WORD--', 'boat'): 1\n",
      "\n",
      "('TAG', '**OFFSET**'): 1\n",
      "('TAG', '--NEXT-WORD--', '[[END]]'): 1\n",
      "('TAG', '--PREV-WORD--', 'a'): 1\n",
      "('TAG', '--CURR-WORD--', 'boat'): 1\n",
      "\n",
      "('TAG', '**OFFSET**'): 1\n",
      "('TAG', '--PREV-WORD--', 'boat'): 1\n",
      "\n"
     ]
    }
   ],
   "source": [
    "for m in xrange(6):\n",
    "    feats = features.word_neighbor_feats(['The','old','man','a','boat'],'TAG','IGNORE',m)\n",
    "    for feat,count in feats.iteritems():\n",
    "        print('{}: {}'.format(feat,count))\n",
    "    print "
   ]
  },
  {
   "cell_type": "markdown",
   "metadata": {},
   "source": [
    "**Deliverable 2.5** Let's try it, in both English and Japanese.\n",
    "\n",
    "(*0.5 points for 4650, 0.25 points for 7650*)\n",
    "\n",
    "The code below takes 60 seconds to run on my laptop."
   ]
  },
  {
   "cell_type": "code",
   "execution_count": 48,
   "metadata": {
    "collapsed": false
   },
   "outputs": [],
   "source": [
    "theta_neighbor_avp,_ =\\\n",
    "structure_perceptron.estimate_perceptron(training_set,\n",
    "                                         features.word_neighbor_feats,\n",
    "                                         tagger_base.classifier_tagger,\n",
    "                                         20,\n",
    "                                         all_tags)"
   ]
  },
  {
   "cell_type": "code",
   "execution_count": 49,
   "metadata": {
    "collapsed": false
   },
   "outputs": [
    {
     "name": "stdout",
     "output_type": "stream",
     "text": [
      "EN dev set\n"
     ]
    },
    {
     "data": {
      "text/plain": [
       "0.8577138289368506"
      ]
     },
     "execution_count": 49,
     "metadata": {},
     "output_type": "execute_result"
    }
   ],
   "source": [
    "print('EN dev set')\n",
    "tagger_base.eval_tagging_model(constants.DEV_FILE,\n",
    "                               tagger_base.classifier_tagger,\n",
    "                               features.word_neighbor_feats,\n",
    "                               theta_neighbor_avp,\n",
    "                               all_tags,\n",
    "                               'avp-words-neighbor.preds')"
   ]
  },
  {
   "cell_type": "markdown",
   "metadata": {},
   "source": [
    "Even better for English than the suffix features! Let's try Japanese.\n",
    "\n",
    "The code below takes 60 seconds to run on my laptop."
   ]
  },
  {
   "cell_type": "code",
   "execution_count": 50,
   "metadata": {
    "collapsed": false
   },
   "outputs": [],
   "source": [
    "theta_neighbor_avp_ja,_ =\\\n",
    "structure_perceptron.estimate_perceptron(training_set_ja,\n",
    "                                         features.word_neighbor_feats,\n",
    "                                         tagger_base.classifier_tagger,\n",
    "                                         20,\n",
    "                                         all_tags_ja)"
   ]
  },
  {
   "cell_type": "code",
   "execution_count": 51,
   "metadata": {
    "collapsed": false
   },
   "outputs": [
    {
     "name": "stdout",
     "output_type": "stream",
     "text": [
      "JA dev set\n"
     ]
    },
    {
     "data": {
      "text/plain": [
       "0.8020634742626443"
      ]
     },
     "execution_count": 51,
     "metadata": {},
     "output_type": "execute_result"
    }
   ],
   "source": [
    "print('JA dev set')\n",
    "tagger_base.eval_tagging_model(constants.JA_DEV_FILE,\n",
    "                               tagger_base.classifier_tagger,\n",
    "                               features.word_neighbor_feats,\n",
    "                               theta_neighbor_avp_ja,\n",
    "                               all_tags_ja,\n",
    "                               'avp-words-neighbor.ja.preds')"
   ]
  },
  {
   "cell_type": "markdown",
   "metadata": {},
   "source": [
    "The neighbor features don't help nearly as much in Japanese, compared to the impact they make in English."
   ]
  },
  {
   "cell_type": "markdown",
   "metadata": {},
   "source": [
    "## BAKEOFF #1\n",
    "\n",
    "**Deliverable 2.6** Implement the best features that you can for English and Japanese.\n",
    "You can use the same features for each, or you can use different features.\n",
    "You can also train the model longer, if you think that will help.\n",
    "\n",
    "Make sure to save the output in the following files:\n",
    "\n",
    "- **English dev**: `avp-best.preds`\n",
    "- **English test**: `avp-best-te.preds`\n",
    "- **Japanese dev**: `avp-best.ja.preds`\n",
    "- **Japanese test**: `avp-best-te.ja.preds`\n",
    "\n",
    "Grading:\n",
    "- Full credit (0.5 pts) for **88%** accuracy on English dev set, half credit (0.25 pts) for **87%** dev set accuracy.\n",
    "- Full credit (0.5 pts) for **90%** accuracy on Japanese dev set, half credit (0.25 pts) for **89%** dev set accuracy.\n",
    "- +0.1 for beating my test set score on English\n",
    "- +0.1 for beating my test set score on Japanese\n",
    "- +0.2 for top English score in 4650\n",
    "- +0.2 for top English score in 7650\n",
    "- +0.2 for top Japanese score in 4650\n",
    "- +0.2 for top Japanese score in 7650\n",
    "\n",
    "If you want to use an external library that is not standard with Python, please ask. For this part of the assignment, we will be more open to the use of 3rd party code, as long as it can be incorporated into your feature function. Libraries that include models that were trained on POS-labeled data will not be allowed. **We must be able to run your code to regenerate your outputs.**"
   ]
  },
  {
   "cell_type": "markdown",
   "metadata": {},
   "source": [
    "### Getting Started With Kaggle\n",
    "In this bakeoff and the one at the end of this problem set, you will submit your results on the test data to Kaggle, which will keep an updated leaderboard of the best taggers in the class.\n",
    "\n",
    "Above each code snippet that outputs a file that you need to submit to Kaggle will be a link inviting you to the competition.  *NOTE THERE ARE 4 SEPARATE COMPETITIONS*, one for each combo of English and Japanese with AVP and Structure Prediction.  Make sure to submit the correct file to the correct competition.\n",
    "\n",
    "Your Kaggle account needs to be registered with an @gatech.edu email to join.  Also, please make your display name your real name.\n",
    "\n",
    "The public leaderboard shows how your taggers compare to your classmates on 50% of the test data.  The final standings on 100% of the test data will be released after the competition is over."
   ]
  },
  {
   "cell_type": "markdown",
   "metadata": {},
   "source": [
    "### English"
   ]
  },
  {
   "cell_type": "code",
   "execution_count": 52,
   "metadata": {
    "collapsed": true
   },
   "outputs": [],
   "source": [
    "reload(features);"
   ]
  },
  {
   "cell_type": "code",
   "execution_count": 53,
   "metadata": {
    "collapsed": false
   },
   "outputs": [],
   "source": [
    "# for my best classification-based tagger, I trained the model for 30 iterations\n",
    "# this took a few minutes\n",
    "theta_best_avp,theta_best_avp_hist =\\\n",
    "structure_perceptron.estimate_perceptron(training_set,\n",
    "                                         features.word_feats_competitive_en,\n",
    "                                         tagger_base.classifier_tagger,\n",
    "                                         30,\n",
    "                                         all_tags)"
   ]
  },
  {
   "cell_type": "code",
   "execution_count": 54,
   "metadata": {
    "collapsed": false
   },
   "outputs": [
    {
     "name": "stdout",
     "output_type": "stream",
     "text": [
      "EN dev set\n",
      "0.893685051958\n"
     ]
    }
   ],
   "source": [
    "print('EN dev set')\n",
    "dev_results = tagger_base.eval_tagging_model(constants.DEV_FILE,\n",
    "                               tagger_base.classifier_tagger,\n",
    "                               features.word_feats_competitive_en,\n",
    "                               theta_best_avp,\n",
    "                               all_tags,\n",
    "                               'avp-words-best.preds')\n",
    "print(dev_results)\n",
    "tagger_base.apply_tagging_model(constants.TEST_FILE_HIDDEN,\n",
    "                               tagger_base.classifier_tagger,\n",
    "                               features.word_feats_competitive_en,\n",
    "                               theta_best_avp,\n",
    "                               all_tags,\n",
    "                               'avp-words-best-te.preds')\n",
    "\n",
    "# SUBMIT KAGGLE-avp-bakeoff1-en-test.csv TO https://kaggle.com/join/gtclassificationtaggingen\n",
    "kaggle.kaggle_output(constants.TEST_FILE_HIDDEN,\n",
    "                                tagger_base.classifier_tagger,\n",
    "                                features.word_feats_competitive_en,\n",
    "                                theta_best_avp,\n",
    "                                all_tags,\n",
    "                                'KAGGLE-avp-bakeoff1-en-test.csv')"
   ]
  },
  {
   "cell_type": "code",
   "execution_count": 53,
   "metadata": {
    "collapsed": false
   },
   "outputs": [
    {
     "data": {
      "text/plain": [
       "0.8873505349276274"
      ]
     },
     "execution_count": 53,
     "metadata": {},
     "output_type": "execute_result"
    }
   ],
   "source": [
    "# you can't run this\n",
    "scorer.accuracy(scorer.get_confusion(constants.TEST_FILE,'avp-words-best-te.preds'))"
   ]
  },
  {
   "cell_type": "markdown",
   "metadata": {},
   "source": [
    "### Japanese"
   ]
  },
  {
   "cell_type": "code",
   "execution_count": 55,
   "metadata": {
    "collapsed": true
   },
   "outputs": [],
   "source": [
    "reload(features);"
   ]
  },
  {
   "cell_type": "code",
   "execution_count": 56,
   "metadata": {
    "collapsed": false
   },
   "outputs": [],
   "source": [
    "theta_best_avp_ja,theta_best_avp_hist_ja =\\\n",
    "structure_perceptron.estimate_perceptron(training_set_ja,\n",
    "                                         features.word_feats_competitive_ja,\n",
    "                                         tagger_base.classifier_tagger,\n",
    "                                         30,\n",
    "                                         all_tags_ja)"
   ]
  },
  {
   "cell_type": "code",
   "execution_count": 57,
   "metadata": {
    "collapsed": false
   },
   "outputs": [
    {
     "data": {
      "image/png": "[encoded data removed]",
      "text/plain": [
       "<matplotlib.figure.Figure at 0x105188ad0>"
      ]
     },
     "metadata": {},
     "output_type": "display_data"
    }
   ],
   "source": [
    "# as you can see, in this case there was little advantage to training past ten iterations\n",
    "tagger_base.plot_learning_curve(constants.JA_DEV_FILE,\n",
    "                               tagger_base.classifier_tagger,\n",
    "                               features.word_feats_competitive_ja,\n",
    "                               theta_best_avp_hist_ja,\n",
    "                               all_tags_ja);"
   ]
  },
  {
   "cell_type": "code",
   "execution_count": null,
   "metadata": {
    "collapsed": true
   },
   "outputs": [],
   "source": []
  },
  {
   "cell_type": "code",
   "execution_count": 58,
   "metadata": {
    "collapsed": false
   },
   "outputs": [
    {
     "name": "stdout",
     "output_type": "stream",
     "text": [
      "JA dev set\n",
      "0.917909610856\n"
     ]
    }
   ],
   "source": [
    "print('JA dev set')\n",
    "dev_results = tagger_base.eval_tagging_model(constants.JA_DEV_FILE,\n",
    "                               tagger_base.classifier_tagger,\n",
    "                               features.word_feats_competitive_ja,\n",
    "                               theta_best_avp_ja,\n",
    "                               all_tags_ja,\n",
    "                               'avp-words-best.ja.preds')\n",
    "print(dev_results)\n",
    "tagger_base.apply_tagging_model(constants.JA_TEST_FILE_HIDDEN,\n",
    "                               tagger_base.classifier_tagger,\n",
    "                               features.word_feats_competitive_ja,\n",
    "                               theta_best_avp_ja,\n",
    "                               all_tags_ja,\n",
    "                               'avp-words-best-te.ja.preds')\n",
    "\n",
    "# SUBMIT KAGGLE-avp-bakeoff1-ja-test.csv TO: https://kaggle.com/join/gtclassificationtaggingja\n",
    "kaggle.kaggle_output(constants.JA_TEST_FILE_HIDDEN,\n",
    "                                tagger_base.classifier_tagger,\n",
    "                                features.word_feats_competitive_ja,\n",
    "                                theta_best_avp_ja,\n",
    "                                all_tags_ja,\n",
    "                                'KAGGLE-avp-bakeoff1-ja-test.csv')"
   ]
  },
  {
   "cell_type": "code",
   "execution_count": 58,
   "metadata": {
    "collapsed": false
   },
   "outputs": [
    {
     "data": {
      "text/plain": [
       "0.8788213627992634"
      ]
     },
     "execution_count": 58,
     "metadata": {},
     "output_type": "execute_result"
    }
   ],
   "source": [
    "# you can't run this\n",
    "scorer.accuracy(scorer.get_confusion(constants.JA_TEST_FILE,'avp-words-best-te.ja.preds'))"
   ]
  },
  {
   "cell_type": "markdown",
   "metadata": {},
   "source": [
    "# 3. Structure prediction\n",
    "\n",
    "We now want to incorporate the Viterbi algorithm into the part of speech tagger.\n",
    "\n",
    "If you completed problem set 2, you can do this directly: just replace `tagger_base.classifier_tagger` with `viterbi.viterbi_tagger`. If the feature sets don't use any tag-transition features, then the outputs should be exactly the same.\n",
    "\n",
    "**Deliverable 3.1** Verify that this works, using `features.word_feats`. If your code from pset2 was written correctly, you don't actually have to do anything here. The test `test_viterbi_is_same_d3_1` will test this.\n",
    "\n",
    "(*0.5 points*)"
   ]
  },
  {
   "cell_type": "code",
   "execution_count": 255,
   "metadata": {
    "collapsed": true
   },
   "outputs": [],
   "source": [
    "reload(viterbi); # just in case you need to modify it\n",
    "reload(structure_perceptron);"
   ]
  },
  {
   "cell_type": "code",
   "execution_count": 256,
   "metadata": {
    "collapsed": false
   },
   "outputs": [],
   "source": [
    "theta_toy_one_inst_classifier,_ = structure_perceptron.estimate_perceptron(toy_data,\n",
    "                                                                features.word_feats,\n",
    "                                                                tagger_base.classifier_tagger,\n",
    "                                                                3,\n",
    "                                                                all_tags)"
   ]
  },
  {
   "cell_type": "code",
   "execution_count": 257,
   "metadata": {
    "collapsed": false
   },
   "outputs": [],
   "source": [
    "theta_toy_one_inst_viterbi,_ = structure_perceptron.estimate_perceptron(toy_data,\n",
    "                                                                features.word_feats,\n",
    "                                                                viterbi.viterbi_tagger,\n",
    "                                                                3,\n",
    "                                                                all_tags)"
   ]
  },
  {
   "cell_type": "code",
   "execution_count": 258,
   "metadata": {
    "collapsed": false
   },
   "outputs": [
    {
     "data": {
      "text/plain": [
       "True"
      ]
     },
     "execution_count": 258,
     "metadata": {},
     "output_type": "execute_result"
    }
   ],
   "source": [
    "theta_toy_one_inst_classifier == theta_toy_one_inst_viterbi"
   ]
  },
  {
   "cell_type": "markdown",
   "metadata": {},
   "source": [
    "The main advantage of using the Viterbi algorithm for structure prediction is that you can use features that look at more than one tag at a time. \n",
    "\n",
    "**Deliverable 3.2** Implement `features.hmm_feats`. This will be very similar to `hmm.hmm_features` from problem set 2, we've only changed some of the constants.\n",
    "(*0.5 points*)"
   ]
  },
  {
   "cell_type": "code",
   "execution_count": 248,
   "metadata": {
    "collapsed": true
   },
   "outputs": [],
   "source": [
    "reload(features);"
   ]
  },
  {
   "cell_type": "code",
   "execution_count": 249,
   "metadata": {
    "collapsed": false
   },
   "outputs": [
    {
     "data": {
      "text/plain": [
       "[(['They', 'can', 'fish'], ['PRON', 'AUX', 'VERB']),\n",
       " (['the', 'old', 'man', 'the', 'boat'],\n",
       "  ['DET', 'NOUN', 'VERB', 'DET', 'NOUN'])]"
      ]
     },
     "execution_count": 249,
     "metadata": {},
     "output_type": "execute_result"
    }
   ],
   "source": [
    "toy_data"
   ]
  },
  {
   "cell_type": "code",
   "execution_count": 250,
   "metadata": {
    "collapsed": false
   },
   "outputs": [
    {
     "name": "stdout",
     "output_type": "stream",
     "text": [
      "{('PRON', '--CURR-WORD--', 'They'): 1, ('PRON', '--PREV-TAG--', '--START--'): 1}\n",
      "{('AUX', '--CURR-WORD--', 'can'): 1, ('AUX', '--PREV-TAG--', 'PRON'): 1}\n",
      "{('VERB', '--CURR-WORD--', 'fish'): 1, ('VERB', '--PREV-TAG--', 'AUX'): 1}\n",
      "{('--END--', '--PREV-TAG--', 'VERB'): 1}\n"
     ]
    }
   ],
   "source": [
    "print(features.hmm_feats(toy_data[0][0],'PRON',constants.START_TAG,0))\n",
    "print(features.hmm_feats(toy_data[0][0],'AUX','PRON',1))\n",
    "print(features.hmm_feats(toy_data[0][0],'VERB','AUX',2))\n",
    "print(features.hmm_feats(toy_data[0][0],constants.END_TAG,'VERB',3))"
   ]
  },
  {
   "cell_type": "markdown",
   "metadata": {},
   "source": [
    "**Deliverable 3.3** Evaluate the performance of this structured perceptron on the dev data.\n",
    "\n",
    "This will be slower than the perceptrons that you have trained in the earlier parts of this assignment.\n",
    "\n",
    "(*0.5 points for 4650, 0.25 points for 7650*)\n",
    "\n",
    "This cell takes three minutes to execute on my laptop."
   ]
  },
  {
   "cell_type": "code",
   "execution_count": 251,
   "metadata": {
    "collapsed": false
   },
   "outputs": [],
   "source": [
    "#English\n",
    "theta_hmm_sp,_ =\\\n",
    "structure_perceptron.estimate_perceptron(training_set,\n",
    "                                         features.hmm_feats,\n",
    "                                         viterbi.viterbi_tagger,\n",
    "                                         15,\n",
    "                                         all_tags)\n"
   ]
  },
  {
   "cell_type": "code",
   "execution_count": null,
   "metadata": {
    "collapsed": true
   },
   "outputs": [],
   "source": []
  },
  {
   "cell_type": "code",
   "execution_count": 252,
   "metadata": {
    "collapsed": false
   },
   "outputs": [
    {
     "name": "stdout",
     "output_type": "stream",
     "text": [
      "EN dev set\n",
      "0.870303756994\n"
     ]
    }
   ],
   "source": [
    "print('EN dev set')\n",
    "dev_results = tagger_base.eval_tagging_model(constants.DEV_FILE,\n",
    "                               viterbi.viterbi_tagger,\n",
    "                               features.hmm_feats,\n",
    "                               theta_hmm_sp,\n",
    "                               all_tags,\n",
    "                               'sp-hmm.preds')\n",
    "print(dev_results)"
   ]
  },
  {
   "cell_type": "markdown",
   "metadata": {},
   "source": [
    "This is better than many of the fancier feature sets that we tried using the classification-based tagger. \n",
    "\n",
    "That's the power of structured prediction!\n",
    "\n",
    "Now let's try Japanese. This cell takes a little more than two minutes to run on my laptop."
   ]
  },
  {
   "cell_type": "code",
   "execution_count": 253,
   "metadata": {
    "collapsed": false
   },
   "outputs": [],
   "source": [
    "#Japanese\n",
    "theta_hmm_sp_ja,_ =\\\n",
    "structure_perceptron.estimate_perceptron(training_set_ja,\n",
    "                                         features.hmm_feats,\n",
    "                                         viterbi.viterbi_tagger,\n",
    "                                         15,\n",
    "                                         all_tags_ja)"
   ]
  },
  {
   "cell_type": "code",
   "execution_count": 254,
   "metadata": {
    "collapsed": false
   },
   "outputs": [
    {
     "name": "stdout",
     "output_type": "stream",
     "text": [
      "JA dev set\n",
      "0.803745654368\n"
     ]
    }
   ],
   "source": [
    "print('JA dev set')\n",
    "dev_results = tagger_base.eval_tagging_model(constants.JA_DEV_FILE,\n",
    "                               viterbi.viterbi_tagger,\n",
    "                               features.hmm_feats,\n",
    "                               theta_hmm_sp_ja,\n",
    "                               all_tags_ja,\n",
    "                               'sp-hmm.ja.preds')\n",
    "print(dev_results)"
   ]
  },
  {
   "cell_type": "markdown",
   "metadata": {},
   "source": [
    "The improvement for Japanese is much more limited."
   ]
  },
  {
   "cell_type": "markdown",
   "metadata": {},
   "source": [
    "# Bakeoff #2\n",
    "\n",
    "**Deliverable 3.4** Implement the best features that you can for English and Japanese, this time using structured prediction with viterbi tagging.\n",
    "\n",
    "Make sure to save the output in the following files:\n",
    "\n",
    "- **English dev**: `sp-best.preds`\n",
    "- **English test**: `sp-best-te.preds`\n",
    "- **Japanese dev**: `sp-best.ja.preds`\n",
    "- **Japanese test**: `sp-best-te.ja.preds`\n",
    "\n",
    "Grading:\n",
    "- Full credit (0.5 points) for **89.5%** accuracy on English dev set, half credit (0.25 points) for **88.5%** accuracy.\n",
    "- Full credit (0.5 points) for **91%** accuracy on Japanese dev set, half credit (0.25 points) for **90%** accuracy.\n",
    "- +0.1 for beating my test set score on English\n",
    "- +0.1 for beating my test set score on Japanese\n",
    "- +0.2 for top English test set score in 4650\n",
    "- +0.2 for top English test set score in 7650\n",
    "- +0.2 for top Japanese test set score in 4650\n",
    "- +0.2 for top Japanese test set score in 7650\n"
   ]
  },
  {
   "cell_type": "markdown",
   "metadata": {},
   "source": [
    "### Kaggle Notes\n",
    "Refer back to the Kaggle note under Bakeoff #1 if you need a reminder what to do.\n",
    "If you would like to implement a better tagger such as Conditional Random Fields in order to compete in the competition, you may do that.  If you just want to feature engineer structured perceptron, that is fine.\n",
    "You may *NOT* use outside libraries like Scikit-Learn or TensorFlow if you decide to create an alternate tagger"
   ]
  },
  {
   "cell_type": "code",
   "execution_count": 263,
   "metadata": {
    "collapsed": true
   },
   "outputs": [],
   "source": [
    "reload(features);"
   ]
  },
  {
   "cell_type": "code",
   "execution_count": null,
   "metadata": {
    "collapsed": false
   },
   "outputs": [],
   "source": [
    "theta_best_sp,theta_best_sp_hist =\\\n",
    "structure_perceptron.estimate_perceptron(training_set,\n",
    "                                         features.hmm_feats_competitive_en,\n",
    "                                         viterbi.viterbi_tagger,\n",
    "                                         30,\n",
    "                                         all_tags)"
   ]
  },
  {
   "cell_type": "code",
   "execution_count": 261,
   "metadata": {
    "collapsed": false
   },
   "outputs": [
    {
     "data": {
      "text/plain": [
       "37163"
      ]
     },
     "execution_count": 261,
     "metadata": {},
     "output_type": "execute_result"
    }
   ],
   "source": [
    "len([val for val in theta_best_sp.values() if val != 0])"
   ]
  },
  {
   "cell_type": "code",
   "execution_count": 262,
   "metadata": {
    "collapsed": false
   },
   "outputs": [
    {
     "name": "stdout",
     "output_type": "stream",
     "text": [
      "EN dev set\n",
      "0.872901678657\n"
     ]
    }
   ],
   "source": [
    "print('EN dev set')\n",
    "dev_results = tagger_base.eval_tagging_model(constants.DEV_FILE,\n",
    "                               viterbi.viterbi_tagger,\n",
    "                               features.hmm_feats_competitive_en,\n",
    "                               theta_best_sp,\n",
    "                               all_tags,\n",
    "                               'sp-best.preds')\n",
    "print(dev_results)"
   ]
  },
  {
   "cell_type": "code",
   "execution_count": 64,
   "metadata": {
    "collapsed": true
   },
   "outputs": [],
   "source": [
    "tagger_base.apply_tagging_model(constants.TEST_FILE_HIDDEN,\n",
    "                                viterbi.viterbi_tagger,\n",
    "                                features.hmm_feats_competitive_en,\n",
    "                                theta_best_sp,\n",
    "                                all_tags,\n",
    "                                'sp-best-te.preds')\n",
    "\n",
    "# SUBMIT KAGGLE-sp-bakeoff2-en-test.csv to https://kaggle.com/join/gt46507650spenpset3\n",
    "kaggle.kaggle_output(constants.TEST_FILE_HIDDEN,\n",
    "                                viterbi.viterbi_tagger,\n",
    "                                features.hmm_feats_competitive_en,\n",
    "                                theta_best_sp,\n",
    "                                all_tags,\n",
    "                                'KAGGLE-sp-bakeoff2-en-test.csv')"
   ]
  },
  {
   "cell_type": "code",
   "execution_count": 65,
   "metadata": {
    "collapsed": false
   },
   "outputs": [
    {
     "data": {
      "text/plain": [
       "0.8873505349276274"
      ]
     },
     "execution_count": 65,
     "metadata": {},
     "output_type": "execute_result"
    }
   ],
   "source": [
    "# you can't run this\n",
    "scorer.accuracy(scorer.get_confusion(constants.TEST_FILE,'sp-best-te.preds'))"
   ]
  },
  {
   "cell_type": "code",
   "execution_count": 70,
   "metadata": {
    "collapsed": false
   },
   "outputs": [
    {
     "data": {
      "text/plain": [
       "43028"
      ]
     },
     "execution_count": 70,
     "metadata": {},
     "output_type": "execute_result"
    }
   ],
   "source": [
    "len([val for val in theta_best_sp.values() if val != 0])"
   ]
  },
  {
   "cell_type": "markdown",
   "metadata": {},
   "source": [
    "## Japanese"
   ]
  },
  {
   "cell_type": "code",
   "execution_count": 71,
   "metadata": {
    "collapsed": false
   },
   "outputs": [
    {
     "name": "stdout",
     "output_type": "stream",
     "text": [
      "0 1 2 3 4 5 6 7 8 9 10 11 12 13 14 15 16 17 18 19 20 21 22 23 24 25 26 27 28 29\n"
     ]
    }
   ],
   "source": [
    "theta_best_sp_ja,_ =\\\n",
    "structure_perceptron.estimate_perceptron(training_set_ja,\n",
    "                                         features.hmm_feats_competitive_ja,\n",
    "                                         viterbi.viterbi_tagger,\n",
    "                                         30,\n",
    "                                         all_tags_ja)"
   ]
  },
  {
   "cell_type": "code",
   "execution_count": 72,
   "metadata": {
    "collapsed": false
   },
   "outputs": [
    {
     "data": {
      "text/plain": [
       "67002"
      ]
     },
     "execution_count": 72,
     "metadata": {},
     "output_type": "execute_result"
    }
   ],
   "source": [
    "# number of features\n",
    "len([val for val in theta_best_sp_ja.values() if val != 0])"
   ]
  },
  {
   "cell_type": "code",
   "execution_count": 75,
   "metadata": {
    "collapsed": false
   },
   "outputs": [
    {
     "name": "stdout",
     "output_type": "stream",
     "text": [
      "JA dev set\n",
      "0.921273971067\n"
     ]
    }
   ],
   "source": [
    "print('JA dev set')\n",
    "dev_results = tagger_base.eval_tagging_model(constants.JA_DEV_FILE,\n",
    "                               viterbi.viterbi_tagger,\n",
    "                               features.hmm_feats_competitive_ja,\n",
    "                               theta_best_sp_ja,\n",
    "                               all_tags_ja,\n",
    "                               'sp-best.ja.preds')\n",
    "print(dev_results)\n",
    "tagger_base.apply_tagging_model(constants.JA_TEST_FILE_HIDDEN,\n",
    "                                viterbi.viterbi_tagger,\n",
    "                                features.hmm_feats_competitive_ja,\n",
    "                                theta_best_sp_ja,\n",
    "                                all_tags_ja,\n",
    "                                'sp-best-te.ja.preds')\n",
    "\n",
    "# SUBMIT KAGGLE-sp-bakeoff2-ja-test.csv to https://kaggle.com/join/gtcs46507650pset3ja\n",
    "kaggle.kaggle_output(constants.JA_TEST_FILE_HIDDEN,\n",
    "                                viterbi.viterbi_tagger,\n",
    "                                features.hmm_feats_competitive_ja,\n",
    "                                theta_best_sp_ja,\n",
    "                                all_tags_ja,\n",
    "                                'KAGGLE-sp-bakeoff2-ja-test.csv')"
   ]
  },
  {
   "cell_type": "code",
   "execution_count": 76,
   "metadata": {
    "collapsed": false
   },
   "outputs": [
    {
     "data": {
      "text/plain": [
       "0.879926335174954"
      ]
     },
     "execution_count": 76,
     "metadata": {},
     "output_type": "execute_result"
    }
   ],
   "source": [
    "# you can't run this\n",
    "scorer.accuracy(scorer.get_confusion(constants.JA_TEST_FILE,'sp-best-te.ja.preds'))"
   ]
  }
 ],
 "metadata": {
  "anaconda-cloud": {},
  "kernelspec": {
   "display_name": "Python [default]",
   "language": "python",
   "name": "python2"
  },
  "language_info": {
   "codemirror_mode": {
    "name": "ipython",
    "version": 2
   },
   "file_extension": ".py",
   "mimetype": "text/x-python",
   "name": "python",
   "nbconvert_exporter": "python",
   "pygments_lexer": "ipython2",
   "version": "2.7.12"
  }
 },
 "nbformat": 4,
 "nbformat_minor": 1
}
